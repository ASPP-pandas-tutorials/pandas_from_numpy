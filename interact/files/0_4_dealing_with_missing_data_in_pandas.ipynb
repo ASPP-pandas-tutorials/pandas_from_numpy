{
 "cells": [
  {
   "cell_type": "markdown",
   "id": "0e328edb",
   "metadata": {},
   "source": [
    "# Dealing with NaNs\n",
    "\n",
    "<!---\n",
    "📝 NOTE:\n",
    "Covered on this page/structure of this page:\n",
    "\n",
    "* Make an array and series containing NaNs and show how pandas and numpy treat them differently\n",
    "\n",
    "* Populating the region column? E.g. replacing the missing data?\n",
    "\n",
    "``\n",
    "# drop NaNs gives the same mean\n",
    "df['Fertility Rate'].loc['ZWE'].dropna().mean()\n",
    "``\n",
    "\n",
    "* NaNs are interpreted as missing data and ignored in most operations\n",
    "* Pandas uses NaN as a flag, not as an indication of a failed floating point\n",
    "  operation\n",
    "* Numpy does not have a concept of a missing value, NaNs propagate.\n",
    "* In Pandas NaN is an indication of missing data - Pandas will by default\n",
    "  drop nans from most operations).s\n",
    "-->\n",
    "\n",
    "This page will compare how NaNs (Not a Number) values differ between Numpy and\n",
    "Pandas. You are probably aware that Numpy will produce NaNs from invalid\n",
    "floating point operations, such as `np.inf / np.inf`. In Pandas, NaNs are more\n",
    "commonly a flag to indicate the absence of data, for floating point and other\n",
    "data types.\n",
    "\n",
    "We will also look at how to handle NaNs safely in Pandas.\n",
    "\n",
    "First, let's remind ourselves how NaNs work in Numpy..."
   ]
  },
  {
   "cell_type": "markdown",
   "id": "8b42af88",
   "metadata": {},
   "source": [
    "## NaNs in Numpy\n",
    "\n",
    "As mentioned above, NaNs in Numpy result from floating point errors. Numpy floating-point errors occur due to limitations in how computers represent and process numbers. They can result, for instance, from overflow and underflow - when a computer is dealing with numbers too large or too small to be represented within a floating point range. Likewise, invalid operations, doing something mathematically illegal/nonsensical will create NaN values in Numpy."
   ]
  },
  {
   "cell_type": "code",
   "execution_count": null,
   "id": "95fd3eb9",
   "metadata": {},
   "outputs": [],
   "source": [
    "# import libraries\n",
    "import numpy as np\n",
    "import pandas as pd\n",
    "\n",
    "# an array containing NaN values resulting from an invalid operation\n",
    "array_with_nans = np.array([0, 0]) / np.array([0, 0])\n",
    "array_with_nans"
   ]
  },
  {
   "cell_type": "markdown",
   "id": "ac8db095",
   "metadata": {},
   "source": [
    "There are many oddities and potential pitfalls when dealing with NaN data, to which we will now turn our attention.\n",
    "\n",
    "Let's look at a single NaN value from the array we just made."
   ]
  },
  {
   "cell_type": "code",
   "execution_count": null,
   "id": "6c89bbb1",
   "metadata": {},
   "outputs": [],
   "source": [
    "# use direct indexing to get a single NaN value\n",
    "array_with_nans[0]"
   ]
  },
  {
   "cell_type": "markdown",
   "id": "586e23ec",
   "metadata": {},
   "source": [
    "Let's inspect this value with the `type()` function, surely the type will also be NaN?"
   ]
  },
  {
   "cell_type": "code",
   "execution_count": null,
   "id": "3b2ed2b9",
   "metadata": {},
   "outputs": [],
   "source": [
    "# show the type of the NaN value\n",
    "type(array_with_nans[0])"
   ]
  },
  {
   "cell_type": "markdown",
   "id": "0e44c8cc",
   "metadata": {},
   "source": [
    "Hmmm, as we have seen previously, `float64` is a numerical datatype, and therefore perhaps not what we would expect here? The reason for this is that NaNs are represented in the same (in this case 64) bit sequence used to represent other numbers. The specific representation they use *means* undefined number however, rather than representing a *specific* number.\n",
    "\n",
    "Because of this feature (though perhaps somewhat bizarrely) NaN values do not behave nicely with the equality operator:"
   ]
  },
  {
   "cell_type": "code",
   "execution_count": null,
   "id": "37d3ecef",
   "metadata": {},
   "outputs": [],
   "source": [
    "# a (potentially) unexpected False\n",
    "array_with_nans[0] == np.nan"
   ]
  },
  {
   "cell_type": "markdown",
   "id": "f5e9ce25",
   "metadata": {},
   "source": [
    "We might surmise that this strange result is due to one NaN being retrieved from an array. This is not the case however, because we get the same result from:"
   ]
  },
  {
   "cell_type": "code",
   "execution_count": null,
   "id": "3853ee03",
   "metadata": {},
   "outputs": [],
   "source": [
    "# another strange result with the equality operator\n",
    "np.nan == np.nan"
   ]
  },
  {
   "cell_type": "markdown",
   "id": "ffa0c3b4",
   "metadata": {},
   "source": [
    "The last two cells above both return a `False` value because NaN value is treated (essentially) like an undefined number. The equality operator will return `True` where two values are the *same* value. For a NaN, a value is *undefined* and *has no value*, so it cannot be compared with a specific number and checked for equality; therefore, the equality operator returns `False`.\n",
    "\n",
    "To get the expected result (e.g. a NaN value returning `True` when we ask Python \"is this a NaN?\"), we can use the `np.isnan()` function:"
   ]
  },
  {
   "cell_type": "code",
   "execution_count": null,
   "id": "a563893b",
   "metadata": {},
   "outputs": [],
   "source": [
    "# the expected result\n",
    "np.isnan(array_with_nans[0])"
   ]
  },
  {
   "cell_type": "markdown",
   "id": "27a5675d",
   "metadata": {},
   "source": [
    "The same principles apply when we are dealing with NaN values in an array:"
   ]
  },
  {
   "cell_type": "code",
   "execution_count": null,
   "id": "74bfd33d",
   "metadata": {},
   "outputs": [],
   "source": [
    "# a new array with NaN and non-NaN values\n",
    "arr = np.array([np.nan, np.nan, 1, 3])\n",
    "\n",
    "arr"
   ]
  },
  {
   "cell_type": "markdown",
   "id": "de78d827",
   "metadata": {},
   "source": [
    "We might want to instruct Python: \"show me which elements of this array are NaN values\".\n",
    "\n",
    "We might try something like:"
   ]
  },
  {
   "cell_type": "code",
   "execution_count": null,
   "id": "6646f6d1",
   "metadata": {},
   "outputs": [],
   "source": [
    "# uh-oh\n",
    "arr == np.nan"
   ]
  },
  {
   "cell_type": "markdown",
   "id": "5e7ecd45",
   "metadata": {},
   "source": [
    "This has failed to identify the NaN elements, for the reason mentioned above: the equality operator does not 'work' with NaN values, because they are *undefined*, rather than being a specific value that something else can be equal to. \n",
    "\n",
    "Clearly, this output of the cell above is not what we want, and will very likely lead to errors.\n",
    "\n",
    "Once again `np.isnan()` can save us her, and will give the expected results (e.g. the resulting array will be `True` only for elements where the original array contained a NaN value):"
   ]
  },
  {
   "cell_type": "code",
   "execution_count": null,
   "id": "81f11e07",
   "metadata": {},
   "outputs": [],
   "source": [
    "# what we want\n",
    "np.isnan(arr)"
   ]
  },
  {
   "cell_type": "markdown",
   "id": "47ade239",
   "metadata": {},
   "source": [
    "Because NaN values are like undefined numbers, any mathematical operations involving them will also return NaN values:"
   ]
  },
  {
   "cell_type": "code",
   "execution_count": null,
   "id": "ac816c34",
   "metadata": {},
   "outputs": [],
   "source": [
    "# multiplying NaNs\n",
    "array_with_nans * 2"
   ]
  },
  {
   "cell_type": "code",
   "execution_count": null,
   "id": "03a525b4",
   "metadata": {},
   "outputs": [],
   "source": [
    "# dividing NaNs\n",
    "array_with_nans/2"
   ]
  },
  {
   "cell_type": "markdown",
   "id": "5dd87fe2",
   "metadata": {},
   "source": [
    "OK, so the TLDR here is that in Numpy NaNs signal a failed or illegal operation has taken place.\n",
    "\n",
    "Let's compare this to the function of NaNs in Pandas..."
   ]
  },
  {
   "cell_type": "markdown",
   "id": "27c312b4",
   "metadata": {},
   "source": [
    "## NaNs in Pandas\n",
    "\n",
    "We have seen that NaN values in Numpy are undefined values that occur through overflow/underflow and invalid operations, amongst other possible causes.\n",
    "\n",
    "The function of NaN values in Pandas is somewhat different.\n",
    "\n",
    "Essentially, NaN values in Pandas are *flags for missing data*. The values themselves possess the same properties and pitfalls that we showed in the last section. However the *cause* of NaNs in Pandas is most often that *data was missing* rather than numerical over/underflow or invalid operations being performed on the data.\n",
    "\n",
    "Let's explore these concepts further by importing a dataset. We will use the full version of the [Human Development Index](https://ourworldindata.org/grapher/children-per-woman-vs-human-development-index) dataset, which contains values for every year, rather than just the subset of data from the year 2000, which we have looked at on previous pages:"
   ]
  },
  {
   "cell_type": "code",
   "execution_count": null,
   "id": "4b684291",
   "metadata": {},
   "outputs": [],
   "source": [
    "# import data\n",
    "df = pd.read_csv(\"data/children-per-woman-vs-human-development-index.csv\")\n",
    "\n",
    "# set the index\n",
    "df = df.set_index('Code')\n",
    "\n",
    "df"
   ]
  },
  {
   "cell_type": "markdown",
   "id": "296d670a",
   "metadata": {},
   "source": [
    "It is immediately apparent that this dataset contains more NaNs than a retirement village.\n",
    "\n",
    "Look at the `Human Development Index` column:"
   ]
  },
  {
   "cell_type": "code",
   "execution_count": null,
   "id": "7d209a77",
   "metadata": {},
   "outputs": [],
   "source": [
    "# a column with lots of NaN values\n",
    "df['Human Development Index']"
   ]
  },
  {
   "cell_type": "markdown",
   "id": "464c4861",
   "metadata": {},
   "source": [
    "Let's take a closer look at the value in the first row of this column:"
   ]
  },
  {
   "cell_type": "code",
   "execution_count": null,
   "id": "12e64057",
   "metadata": {},
   "outputs": [],
   "source": [
    "# show a nan value\n",
    "df['Human Development Index'].iloc[0]"
   ]
  },
  {
   "cell_type": "markdown",
   "id": "f63712cd",
   "metadata": {},
   "source": [
    "Sure enough, it's a nan. It also has the expected `float64` data type that we saw above:"
   ]
  },
  {
   "cell_type": "code",
   "execution_count": null,
   "id": "04e595e2",
   "metadata": {},
   "outputs": [],
   "source": [
    "# what type of data is `nan`?\n",
    "df['Human Development Index'].iloc[0].dtype"
   ]
  },
  {
   "cell_type": "markdown",
   "id": "6ec7f0cb",
   "metadata": {},
   "source": [
    "We can use `np.isnan()` to get a Boolean confirmed we are in the presence of a true NaN:"
   ]
  },
  {
   "cell_type": "code",
   "execution_count": null,
   "id": "224dfb52",
   "metadata": {},
   "outputs": [],
   "source": [
    "# using the `np.isnan()` function\n",
    "np.isnan(df['Human Development Index'].iloc[0])"
   ]
  },
  {
   "cell_type": "markdown",
   "id": "bf6b049b",
   "metadata": {},
   "source": [
    "Missing data - fancifully referred to as *missingness* - is common in the vast majority of datasets encountered in the wild.\n",
    "\n",
    "We will always want to know *how much* of a given dataset is missing, as we will need to factor this in as a limitation of our data analysis (especially if there are correlations between the observations that are missing e.g. they are not \"missing at random\").\n",
    "\n",
    "Pandas supplies us some useful methods for checking missingness.\n",
    "\n",
    "For instance, we can use `.count()` to show us the number of non-NaN elements in each column:"
   ]
  },
  {
   "cell_type": "code",
   "execution_count": null,
   "id": "1dc56596",
   "metadata": {},
   "outputs": [],
   "source": [
    "# count non-NaN cells\n",
    "df.count()"
   ]
  },
  {
   "cell_type": "markdown",
   "id": "5c93a278",
   "metadata": {},
   "source": [
    "A useful trick here is to divide the output of the `.count()` method by the `len()` of the Data Frame. This provides a handy summary of the *proportion* of NaNs in each column of the Data Frame:"
   ]
  },
  {
   "cell_type": "code",
   "execution_count": null,
   "id": "6d8da140",
   "metadata": {},
   "outputs": [],
   "source": [
    "# show the proportion of missing values, in each column\n",
    "df.count()/len(df)"
   ]
  },
  {
   "cell_type": "markdown",
   "id": "4ace62db",
   "metadata": {},
   "source": [
    "If we want to use brute force, we can use the `.dropna()` method to remove rows which have a single NaN value:"
   ]
  },
  {
   "cell_type": "code",
   "execution_count": null,
   "id": "ca68b787",
   "metadata": {},
   "outputs": [],
   "source": [
    "# remove the NaN values\n",
    "df_no_NaN = df.dropna()\n",
    "\n",
    "df_no_NaN"
   ]
  },
  {
   "cell_type": "markdown",
   "id": "08efd228",
   "metadata": {},
   "source": [
    "It turns out in this dataset, every row has at least one NaN value so dropping every row with a NaN has dropped *everything*...(we did say this method was brute force)!"
   ]
  },
  {
   "cell_type": "markdown",
   "id": "a768ad5c",
   "metadata": {},
   "source": [
    "**By far the most important thing to know about missing data in Pandas** is that **by default NaN values will be *ignored* in numerical operations**.\n",
    "\n",
    "Let's look at the `Fertility Rate` column, which contains numerical data:"
   ]
  },
  {
   "cell_type": "code",
   "execution_count": null,
   "id": "fe60c1e8",
   "metadata": {},
   "outputs": [],
   "source": [
    "# show the column\n",
    "df['Fertility Rate']"
   ]
  },
  {
   "cell_type": "markdown",
   "id": "68e7416c",
   "metadata": {},
   "source": [
    "Because we are dealing with just one column, we can safely use `.dropna()` without losing every row (because not every row of the *Series* contains a NaN value):"
   ]
  },
  {
   "cell_type": "code",
   "execution_count": null,
   "id": "9a4e4f59",
   "metadata": {},
   "outputs": [],
   "source": [
    "# show the column\n",
    "df['Fertility Rate'].dropna()"
   ]
  },
  {
   "cell_type": "markdown",
   "id": "73db9d9c",
   "metadata": {},
   "source": [
    "Let's compare computing a statistic (the mean) when we drop the NaN values from this Series versus when we leave them in.\n",
    "\n",
    "When we use the `.mean()` method on just this column, we get the following value:"
   ]
  },
  {
   "cell_type": "code",
   "execution_count": null,
   "id": "77372762",
   "metadata": {},
   "outputs": [],
   "source": [
    "# calculate a mean with NaN data included (will be ignored)\n",
    "df['Fertility Rate'].loc['ZWE'].mean()"
   ]
  },
  {
   "cell_type": "markdown",
   "id": "b7764f1f",
   "metadata": {},
   "source": [
    "Using `.dropna()` on this column returns *exactly the same value* - because by default Pandas will ignore NaNs in numerical operations:"
   ]
  },
  {
   "cell_type": "code",
   "execution_count": null,
   "id": "d7526413",
   "metadata": {},
   "outputs": [],
   "source": [
    "# drop NaNs gives the same mean \n",
    "df['Fertility Rate'].loc['ZWE'].dropna().mean()"
   ]
  },
  {
   "cell_type": "markdown",
   "id": "3a8b1ef8",
   "metadata": {},
   "source": [
    "## Summary\n",
    "\n",
    "On this page we have seen how NaN values indicate different things in Numpy and Pandas.\n",
    "\n",
    "In Numpy, NaN values typically result from computational issues/errors (like under/overflow and invalid operations like dividing by zero).\n",
    "\n",
    "In Pandas, NaN values are most commonly flags for missing data. By default, these NaN values will be ignored when Pandas' methods are called on a Series from the Data Frame."
   ]
  }
 ],
 "metadata": {
  "jupytext": {
   "formats": "ipynb,Rmd"
  },
  "kernelspec": {
   "display_name": "Python (Pyodide)",
   "name": "python"
  }
 },
 "nbformat": 4,
 "nbformat_minor": 5
}
