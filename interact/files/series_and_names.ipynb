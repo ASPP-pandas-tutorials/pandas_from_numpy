{
 "cells": [
  {
   "cell_type": "markdown",
   "id": "e66039b2",
   "metadata": {},
   "source": [
    "# Default names for Data Frame columns"
   ]
  },
  {
   "cell_type": "code",
   "execution_count": null,
   "id": "31c920bf",
   "metadata": {},
   "outputs": [],
   "source": [
    "import numpy as np\n",
    "import pandas as pd"
   ]
  },
  {
   "cell_type": "code",
   "execution_count": null,
   "id": "9562a093",
   "metadata": {},
   "outputs": [],
   "source": [
    "# Three letter codes for each country\n",
    "country_codes_array = np.array(['AUS', 'BRA', 'CAN',\n",
    "                                'CHN', 'DEU', 'ESP',\n",
    "                                'FRA', 'GBR', 'IND',\n",
    "                                'ITA', 'JPN', 'KOR',\n",
    "                                'MEX', 'RUS', 'USA'])\n",
    "\n",
    "# Human Development Index Scores for each country\n",
    "hdis_array = np.array([0.896, 0.668, 0.89,\n",
    "                       0.586, 0.89,  0.828,\n",
    "                       0.844, 0.863, 0.49,\n",
    "                       0.842, 0.883, 0.824,\n",
    "                       0.709, 0.733, 0.894])"
   ]
  },
  {
   "cell_type": "markdown",
   "id": "fcadaa24",
   "metadata": {},
   "source": [
    "Remember, a Data Frame is a dictionary-like collection of Series.\n",
    "\n",
    "We may create Data Frames with an actual dictionary of Series, or with single\n",
    "Series.\n",
    "\n",
    "When we build Data Frames from Series, it becomes eminently sensible to specify\n",
    "a `name` attribute for each Series.\n",
    "\n",
    "Pandas will not *force* us to do this, but it leads to some error-prone\n",
    "consequences if we do not. In fact, the default `RangeIndex` crops up again\n",
    "here, and can create confusion in similar ways to the ones we have seen in the\n",
    "last section.\n",
    "\n",
    "Let us reconstruct a Series with a specified Index, but no `.name`:"
   ]
  },
  {
   "cell_type": "code",
   "execution_count": null,
   "id": "4ddeb488",
   "metadata": {},
   "outputs": [],
   "source": [
    "hdi_series =  pd.Series(hdis_array, index=country_codes_array)\n",
    "hdi_series"
   ]
  },
  {
   "cell_type": "markdown",
   "id": "105e5f6c",
   "metadata": {},
   "source": [
    "Our `hdi_series` got the default value for its `.name` attribute: `None`."
   ]
  },
  {
   "cell_type": "code",
   "execution_count": null,
   "id": "bd8557f6",
   "metadata": {},
   "outputs": [],
   "source": [
    "hdi_series.name is None"
   ]
  },
  {
   "cell_type": "markdown",
   "id": "01ff596d",
   "metadata": {},
   "source": [
    "Let's pass this Series to the `pd.DataFrame()` constructor, to see the\n",
    "consequence of a `.name`less Series in this context.  We will call the resulting\n",
    "Data Frame `no_name_df`:"
   ]
  },
  {
   "cell_type": "code",
   "execution_count": null,
   "id": "cd52b88d",
   "metadata": {},
   "outputs": [],
   "source": [
    "# A Data Frame made of a Series with `name` attribute of None.\n",
    "no_name_df = pd.DataFrame(hdi_series)\n",
    "no_name_df"
   ]
  },
  {
   "cell_type": "markdown",
   "id": "2a5606ca",
   "metadata": {},
   "source": [
    "Ok, so in the absence of a `name` attribute Pandas has labelled the column with a `0`. If we inspect more deeply, we find that actually Pandas, in the absence of being instructed otherwise, has created a `RangeIndex`, but this time for the `columns` (e.g. the column names) of the Data Frame. If you look at the Data Frame above, you can see that the `index` attribute is the three-letter country codes. However, the `.columns` are a `RangeIndex`:"
   ]
  },
  {
   "cell_type": "code",
   "execution_count": null,
   "id": "d0432d5d",
   "metadata": {},
   "outputs": [],
   "source": [
    "# Look at the column names via the `.columns` attribute\n",
    "no_name_df.columns"
   ]
  },
  {
   "cell_type": "markdown",
   "id": "feb9f050",
   "metadata": {},
   "source": [
    "Sure enough, if we check the `type` of the fist element in this `RangeIndex`\n",
    "it is an `int` — we can think of it not as a column *name* but a number\n",
    "standing in for a column name:"
   ]
  },
  {
   "cell_type": "code",
   "execution_count": null,
   "id": "4febf945",
   "metadata": {},
   "outputs": [],
   "source": [
    "# Check the type of the first element in the `.columns` attribute\n",
    "type(no_name_df.columns[0])"
   ]
  },
  {
   "cell_type": "markdown",
   "id": "edfadaa7",
   "metadata": {},
   "source": [
    "It may be obvious why this naming convention for Data Frame columns can lead\n",
    "to errors for reasons of low interpretability. We typically want our column\n",
    "names to be descriptive of the data in the column, to ourselves and to other\n",
    "people reading our code. If we do not specify a `name` attribute for our\n",
    "Series when creating Data Frames, the default numerical column names supplied\n",
    "by Pandas are hard to interpret, and it is easy to misinterpret, or to forget\n",
    "what data is in that column, leading to human errors.\n",
    "\n",
    "They can also lead to indexing errors, similar to those we saw in the previous\n",
    "section. To demonstrate this, let's compare the `name`less Data Frame above to\n",
    "a Data Frame created from a Series with a `name`.\n",
    "\n",
    "Now let us create a Series with index and not-default name:"
   ]
  },
  {
   "cell_type": "code",
   "execution_count": null,
   "id": "ce54b2dc",
   "metadata": {},
   "outputs": [],
   "source": [
    "hdi_series_named = pd.Series(\n",
    "    hdis_array,\n",
    "    index=country_codes_array,\n",
    "    name='Human Development Index')\n",
    "hdi_series_named"
   ]
  },
  {
   "cell_type": "markdown",
   "id": "18f966d0",
   "metadata": {},
   "source": [
    "Our aptly named `hdi_series_named` has a `name` attribute — (look at the\n",
    "last line of the output from the cell below, the `Name: Human Development\n",
    "Index`):\n",
    "\n",
    "Let's call the `pd.DataFrame()` constructor on this Series - we'll call the\n",
    "resultant Data Frame `named_df`:"
   ]
  },
  {
   "cell_type": "code",
   "execution_count": null,
   "id": "01d14512",
   "metadata": {},
   "outputs": [],
   "source": [
    "# Create a new Data Frame, with a sensible name for the column\n",
    "named_df = pd.DataFrame(hdi_series_named)\n",
    "named_df"
   ]
  },
  {
   "cell_type": "markdown",
   "id": "ee6d3885",
   "metadata": {},
   "source": [
    "We see that Pandas has automatically used the `name` attribute as the column\n",
    "name, greatly increasing the interpretability of the resulting Data Frame.\n",
    "\n",
    "We can see the `name` in the `.columns` attribute of the new  `named_df` Data\n",
    "Frame:"
   ]
  },
  {
   "cell_type": "code",
   "execution_count": null,
   "id": "47e58df7",
   "metadata": {},
   "outputs": [],
   "source": [
    "# Show the column names from the `named_df` Data Frame\n",
    "named_df.columns"
   ]
  },
  {
   "cell_type": "markdown",
   "id": "e6181183",
   "metadata": {},
   "source": [
    "Now, let's try using direct indexing with each Data Frame, using the column names.\n",
    "\n",
    "Direct indexing with a column name is very straightforward for the `named_df`:"
   ]
  },
  {
   "cell_type": "code",
   "execution_count": null,
   "id": "8fa617fe",
   "metadata": {},
   "outputs": [],
   "source": [
    "# Direct indexing to retrieve a column by name (label).\n",
    "named_df['Human Development Index']"
   ]
  },
  {
   "cell_type": "markdown",
   "id": "44e802d6",
   "metadata": {},
   "source": [
    "What about for `no_name_df`? Well, the column name there is `0`, of `int`\n",
    "type.\n",
    "\n",
    "What happens if use direct indexing? We are hoping we see something like the\n",
    "output of the cell above, albeit with a `0` for the `name`, rather than `Human\n",
    "Development Index`:"
   ]
  },
  {
   "cell_type": "code",
   "execution_count": null,
   "id": "0b540811",
   "metadata": {},
   "outputs": [],
   "source": [
    "# Direct indexing with no `name` attribute\n",
    "no_name_df[0]"
   ]
  },
  {
   "cell_type": "markdown",
   "id": "8ed616ac",
   "metadata": {},
   "source": [
    "Sure enough that is what we see. But the operation we have used looks very\n",
    "much like *integer* indexing on a Series, which will return a single value:"
   ]
  },
  {
   "cell_type": "code",
   "execution_count": null,
   "id": "46a0839c",
   "metadata": {},
   "outputs": [],
   "source": [
    "# Integer indexing a Series (without using `.iloc`)\n",
    "hdi_series[0]"
   ]
  },
  {
   "cell_type": "markdown",
   "id": "3ca8b696",
   "metadata": {},
   "source": [
    "This can be confusing.\n",
    "\n",
    "The numerical label can also be confusing if we introduce more columns,\n",
    "especially if we mix in columns which do have `name` attributes that we\n",
    "specify.\n",
    "\n",
    "For instance, if we add in the full name of each country:"
   ]
  },
  {
   "cell_type": "code",
   "execution_count": null,
   "id": "a7695783",
   "metadata": {},
   "outputs": [],
   "source": [
    "# Country names array\n",
    "country_names_array = np.array(['Australia', 'Brazil', 'Canada',\n",
    "                                'China', 'Germany', 'Spain',\n",
    "                                'France', 'United Kingdom', 'India',\n",
    "                                'Italy', 'Japan', 'South Korea',\n",
    "                                'Mexico', 'Russia', 'United States'])\n",
    "country_names_array"
   ]
  },
  {
   "cell_type": "markdown",
   "id": "7294a124",
   "metadata": {},
   "source": [
    "Let's add this into the `no_name_df`, using the `name` `'Country Names'`:"
   ]
  },
  {
   "cell_type": "code",
   "execution_count": null,
   "id": "669538e8",
   "metadata": {},
   "outputs": [],
   "source": [
    "no_name_df['Country Names'] = country_names_array\n",
    "no_name_df"
   ]
  },
  {
   "cell_type": "markdown",
   "id": "cacc0178",
   "metadata": {},
   "source": [
    "We now have one column that has an `int` as its column name, and another with\n",
    "a string.\n",
    "\n",
    "In the same way as for a numerical `index`, this situation can become\n",
    "confusing if the numerical labels become misaligned with their integer\n",
    "location in the `.columns` attribute.\n",
    "\n",
    "For instance, we could reverse the order of the columns, by using *direct indexing* in the Data Frame to request the columns in reverse order by column label:"
   ]
  },
  {
   "cell_type": "code",
   "execution_count": null,
   "id": "c518ddd2",
   "metadata": {},
   "outputs": [],
   "source": [
    "# Re-arrange the columns\n",
    "# Specify the order of columns we want.\n",
    "cols = ['Country Names', 0]\n",
    "# Use direct indexing to select columns in given order.\n",
    "reversed_col_df = no_name_df[cols]\n",
    "reversed_col_df"
   ]
  },
  {
   "cell_type": "markdown",
   "id": "a4c31d45",
   "metadata": {},
   "source": [
    "We now have a column with the `name` `0` (an int) that is not at the 0-th location of the `.columns` attribute:"
   ]
  },
  {
   "cell_type": "code",
   "execution_count": null,
   "id": "642bcec4",
   "metadata": {},
   "outputs": [],
   "source": [
    "# Show the 0-th element of the `.columns` attribute\n",
    "reversed_col_df.columns[0]"
   ]
  },
  {
   "cell_type": "markdown",
   "id": "7a31a71b",
   "metadata": {},
   "source": [
    "We are in the precarious situation of using a `int` `0` both as a *label* and\n",
    "as a *location*. In the cell above, it is a location, it the cell below it\n",
    "serves as a label:"
   ]
  },
  {
   "cell_type": "code",
   "execution_count": null,
   "id": "cfa5bb5e",
   "metadata": {},
   "outputs": [],
   "source": [
    "# Direct index the `0` column\n",
    "reversed_col_df[0]"
   ]
  },
  {
   "cell_type": "markdown",
   "id": "c3fcccd8",
   "metadata": {},
   "source": [
    "Ideally, we would like a clear separation between integer indexes (like `0`)\n",
    "and *column names*.\n",
    "\n",
    "This confusing situation can be completely avoided in the case of `named_df`. Let's add the country names to this Data Frame, that thus far only has a single column, containing the \"Human Development Index\" values."
   ]
  },
  {
   "cell_type": "code",
   "execution_count": null,
   "id": "fdf4c479",
   "metadata": {},
   "outputs": [],
   "source": [
    "# Show the Data Frame thus far\n",
    "named_df"
   ]
  },
  {
   "cell_type": "code",
   "execution_count": null,
   "id": "9c3827db",
   "metadata": {},
   "outputs": [],
   "source": [
    "# Add the country names\n",
    "named_df['Country Names'] = country_names_array\n",
    "named_df"
   ]
  },
  {
   "cell_type": "markdown",
   "id": "ae449030",
   "metadata": {},
   "source": [
    "We don't introduce any confusion or add propensity to error by re-arranging\n",
    "these columns which have sensible string names:"
   ]
  },
  {
   "cell_type": "code",
   "execution_count": null,
   "id": "a110c432",
   "metadata": {},
   "outputs": [],
   "source": [
    "# Re-arrange the columns\n",
    "reversed_named_df = named_df[['Country Names', 'Human Development Index']]\n",
    "reversed_named_df"
   ]
  },
  {
   "cell_type": "markdown",
   "id": "43761a1b",
   "metadata": {},
   "source": [
    "In fact, now if we want to use integer indexing, we are forced to use `.iloc`,\n",
    "as we will otherwise get an error:"
   ]
  },
  {
   "cell_type": "code",
   "execution_count": null,
   "id": "8b248718",
   "metadata": {
    "tags": [
     "raises-exception"
    ]
   },
   "outputs": [],
   "source": [
    "# This will not work if each column has a `name` string\n",
    "reversed_named_df[0]"
   ]
  },
  {
   "cell_type": "markdown",
   "id": "78d37e74",
   "metadata": {},
   "source": [
    "This compels us to stick to the good practice maxim **use `.loc` and `iloc`\n",
    "unless there is a good reason not to!**.\n",
    "\n",
    "Giving every column a sensible string as a `name` is one situation where\n",
    "direct indexing (e.g. in the present context using `named_df['Human\n",
    "Development Index']` etc.) is safe and not error prone. As we have seen,\n",
    "issues can arise if we do not specify `name` attributes, and let Pandas\n",
    "automatically generate numeric labels for our Data Frame columns..."
   ]
  }
 ],
 "metadata": {
  "jupytext": {
   "formats": "ipynb,Rmd",
   "notebook_metadata_filter": "all,-language_info",
   "split_at_heading": true
  },
  "kernelspec": {
   "display_name": "Python (Pyodide)",
   "name": "python"
  },
  "orphan": true
 },
 "nbformat": 4,
 "nbformat_minor": 5
}
