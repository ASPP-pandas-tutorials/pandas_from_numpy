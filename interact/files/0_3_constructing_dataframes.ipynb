{
 "cells": [
  {
   "cell_type": "markdown",
   "id": "ae5dee4b",
   "metadata": {},
   "source": [
    "<!---\n",
    "📝 NOTE: this page will show important ways/considerations when constructing\n",
    "DataFrames via different pathways (e.g pd.concat() on named Series); and will\n",
    "further explain the DataFrame constructor. This page is just to to re-iterate\n",
    "the \"DataFrames are just dictionary-like collections of Series\"\n",
    "-->\n",
    "\n",
    "# Let There Be Data : Creating Data Frames\n",
    "\n",
    "In [the](0_0_pandas_intro.Rmd) [previous](0_1_to_loc_or_iloc.Rmd) [tutorials](0_2_pandas_dataframes_attributes_methods.Rmd) we showed how the Pandas class objects (Series and Data Frames) are constructed from Numpy objects (arrays) and other attributes (`name` and `index`).\n",
    "\n",
    "We focused on the maxims:\n",
    "\n",
    "- *\"a Pandas Series is a numpy array, plus a `name` attribute and an array-like `index`\"* \n",
    "\n",
    "...and...\n",
    "\n",
    "- \"a Pandas DataFrame is just a *dictionary-like collection of Series*\".\n",
    "\n",
    "This page will look at several different ways of constructing Data Frames. All of these use the `pd.DataFrame()` constructor but  supply it with different \"ingredients\". This influences the specific collection of attributes that the resulant Data Frame will have."
   ]
  },
  {
   "cell_type": "code",
   "execution_count": null,
   "id": "79980dae",
   "metadata": {},
   "outputs": [],
   "source": [
    "# import libraries\n",
    "import numpy as np\n",
    "import pandas as pd"
   ]
  },
  {
   "cell_type": "markdown",
   "id": "f1b8f1d2",
   "metadata": {},
   "source": [
    "## 0: Reading in data from a file\n",
    "\n",
    "The simplest, probably most common, and easiest way to create a Data Frame is to use a `pd.read` function to import data from a file.\n",
    "\n",
    "`.csv` files are common way of storing data, and (as we have seen) can be imported using the creatively named `pd.read_csv()` function:"
   ]
  },
  {
   "cell_type": "code",
   "execution_count": null,
   "id": "76a7c9cc",
   "metadata": {},
   "outputs": [],
   "source": [
    "# read in data the boring way\n",
    "df_from_file = pd.read_csv('data/airline_passengers.csv')\n",
    "\n",
    "df_from_file"
   ]
  },
  {
   "cell_type": "markdown",
   "id": "dc55bbe0",
   "metadata": {},
   "source": [
    "Pandas, as a major Python data science library, has a large array of `read_` functions, for importing data stored in different formats. The following are taken from the output of `dir(pd)`:\n",
    "\n",
    "```\n",
    "'read_clipboard',\n",
    "'read_csv',\n",
    "'read_excel',\n",
    "'read_feather',\n",
    "'read_fwf',\n",
    "'read_gbq',\n",
    "'read_hdf',\n",
    "'read_html',\n",
    "'read_json',\n",
    "'read_orc',\n",
    "'read_parquet',\n",
    "'read_pickle',\n",
    "'read_sas',\n",
    "'read_spss',\n",
    "'read_sql',\n",
    "'read_sql_query',\n",
    "'read_sql_table',\n",
    "'read_stata',\n",
    "'read_table',\n",
    "'read_xml',\n",
    "```\n",
    "\n",
    "In other situations, and to deepend our understanding of Data Frame construction, let's look at more elaborate, artisanal ways of creating Data Frames... "
   ]
  },
  {
   "cell_type": "markdown",
   "id": "65f1ed88",
   "metadata": {},
   "source": [
    "## 1: Creating a blank Data Frame\n",
    "\n",
    "The second simplest way to create a Data Frame is by using the `pd.DataFrame()` constructor with no arguments:"
   ]
  },
  {
   "cell_type": "code",
   "execution_count": null,
   "id": "bb6a15b4",
   "metadata": {},
   "outputs": [],
   "source": [
    "# calling the constructor with no arguments\n",
    "df = pd.DataFrame()\n",
    "\n",
    "df"
   ]
  },
  {
   "cell_type": "markdown",
   "id": "2a39934c",
   "metadata": {},
   "source": [
    "Perhaps unsurprisingly, this returns a strange, blank output.\n",
    "\n",
    "Again, unsurprisingly, many of the attributes of the Data Frame are also blank.\n",
    "\n",
    "For instance, the index:"
   ]
  },
  {
   "cell_type": "code",
   "execution_count": null,
   "id": "59fd9909",
   "metadata": {},
   "outputs": [],
   "source": [
    "# show the blank index\n",
    "df.index"
   ]
  },
  {
   "cell_type": "markdown",
   "id": "aefd606c",
   "metadata": {},
   "source": [
    "Ditto for the columns attribute:"
   ]
  },
  {
   "cell_type": "code",
   "execution_count": null,
   "id": "b87b4e36",
   "metadata": {},
   "outputs": [],
   "source": [
    "# show the blank columns\n",
    "df.columns"
   ]
  },
  {
   "cell_type": "markdown",
   "id": "20278f52",
   "metadata": {},
   "source": [
    "We can add new columns (e.g. new Pandas Series) into this black Data Frame by using direct indexing. E.g.\n",
    "\n",
    "`df['name_of_column'] = np.array([])`\n"
   ]
  },
  {
   "cell_type": "code",
   "execution_count": null,
   "id": "e4b23b60",
   "metadata": {},
   "outputs": [],
   "source": [
    "# create a new column in the Data Frame\n",
    "df['new_column'] = np.array([1, 2, 3])\n",
    "\n",
    "df"
   ]
  },
  {
   "cell_type": "markdown",
   "id": "1c18fb50",
   "metadata": {},
   "source": [
    "We used a Numpy array to construct this new column, however, as we know, Data Frames are a dictionary-like collection of Series, so Pandas has automatically added the array into a Pandas Series:"
   ]
  },
  {
   "cell_type": "code",
   "execution_count": null,
   "id": "3fede763",
   "metadata": {},
   "outputs": [],
   "source": [
    "# show the type of df['new_column']\n",
    "type(df['new_column'])"
   ]
  },
  {
   "cell_type": "markdown",
   "id": "674f0376",
   "metadata": {},
   "source": [
    "The string which we used as the column name (`new_column`) has become the `name` attribute of this Series:"
   ]
  },
  {
   "cell_type": "code",
   "execution_count": null,
   "id": "2a525074",
   "metadata": {},
   "outputs": [],
   "source": [
    "# show the `name` of the column\n",
    "df['new_column'].name"
   ]
  },
  {
   "cell_type": "markdown",
   "id": "273e1021",
   "metadata": {},
   "source": [
    "...and the numpy array we supplied has become the `.values` of the Series:"
   ]
  },
  {
   "cell_type": "code",
   "execution_count": null,
   "id": "efed02b0",
   "metadata": {},
   "outputs": [],
   "source": [
    "# show the `values` in the column\n",
    "df['new_column'].values"
   ]
  },
  {
   "cell_type": "markdown",
   "id": "8f6bc0fe",
   "metadata": {},
   "source": [
    "Pandas has also automatically created a default `RangeIndex` for this column, because we did not specify what it should use as an index:"
   ]
  },
  {
   "cell_type": "code",
   "execution_count": null,
   "id": "b56a29d1",
   "metadata": {},
   "outputs": [],
   "source": [
    "# show the index of df[`new_column`]\n",
    "df['new_column'].index"
   ]
  },
  {
   "cell_type": "markdown",
   "id": "033056bf",
   "metadata": {},
   "source": [
    "In fact - and importantly - **all columns in a Data Frame must share the same index**. So Pandas has made this default `RangeIndex` the index of the whole Data Frame, as well as for `df['new_column']`:"
   ]
  },
  {
   "cell_type": "code",
   "execution_count": null,
   "id": "5200fed7",
   "metadata": {},
   "outputs": [],
   "source": [
    "# show the index of the whole Data Frame\n",
    "df.index"
   ]
  },
  {
   "cell_type": "markdown",
   "id": "5b9a320e",
   "metadata": {},
   "source": [
    "If we construct Data Frames using this method (\"create a blank Data Frame, add the data later\"), then any new columns we add must have equal numbers of elements (in order that they can share an index):"
   ]
  },
  {
   "cell_type": "code",
   "execution_count": null,
   "id": "83e463e3",
   "metadata": {},
   "outputs": [],
   "source": [
    "# add another new column\n",
    "df['another_new_column'] = np.array(['A', 'B', 'C'])\n",
    "\n",
    "df"
   ]
  },
  {
   "cell_type": "markdown",
   "id": "69a04a75",
   "metadata": {},
   "source": [
    "If the number of elements differs, then Pandas will throw an error:"
   ]
  },
  {
   "cell_type": "code",
   "execution_count": null,
   "id": "43d2d55c",
   "metadata": {
    "tags": [
     "raises-exception"
    ]
   },
   "outputs": [],
   "source": [
    "# ValueError from wrong number of elements on RHS\n",
    "df['a_further_new_column'] = np.array([4, 5 , 6, 7])"
   ]
  },
  {
   "cell_type": "markdown",
   "id": "f00f8ebc",
   "metadata": {},
   "source": [
    "Notice the text of this error: `ValueError: Length of values (4) does not match length of index (3)`. The error is caused because all columns must share an index, to facilitate the label-based indexing (via `.loc`) that we have seen on previous pages.\n",
    "\n",
    "If we want to avoid the [pitfalls](0_1_to_loc_or_iloc.Rmd) of the `RangeIndex` (e.g. misalignment between the integer location of data, and the numerical index label of that data) then we can specify an index manually:"
   ]
  },
  {
   "cell_type": "code",
   "execution_count": null,
   "id": "a28ad086",
   "metadata": {},
   "outputs": [],
   "source": [
    "# set the index\n",
    "df.index = ['Person_1', 'Person_2', 'Person_3']\n",
    "\n",
    "df"
   ]
  },
  {
   "cell_type": "markdown",
   "id": "60f70c8a",
   "metadata": {},
   "source": [
    "This can also be done when we make the \"blank\" Data Frame:"
   ]
  },
  {
   "cell_type": "code",
   "execution_count": null,
   "id": "01d38ffa",
   "metadata": {},
   "outputs": [],
   "source": [
    "df_again = pd.DataFrame(index=['Person_1', 'Person_2', 'Person_3'])\n",
    "\n",
    "df_again"
   ]
  },
  {
   "cell_type": "markdown",
   "id": "a1a73a31",
   "metadata": {},
   "source": [
    "This creates a Data Frame with only an index, which data can then be added to:"
   ]
  },
  {
   "cell_type": "code",
   "execution_count": null,
   "id": "2b58692f",
   "metadata": {},
   "outputs": [],
   "source": [
    "df_again['new_column'] = np.array([1, 2, 3])\n",
    "\n",
    "df_again"
   ]
  },
  {
   "cell_type": "markdown",
   "id": "317f0fea",
   "metadata": {},
   "source": [
    "Because all Series/columns in the Data Frame must share an `index`, Pandas will predictably throw an error if try to use something that is the wrong length/shape to be a valid `index`:"
   ]
  },
  {
   "cell_type": "code",
   "execution_count": null,
   "id": "e419b1af",
   "metadata": {
    "tags": [
     "raises-exception"
    ]
   },
   "outputs": [],
   "source": [
    "# ValueError because we have specified the wrong number of index elements.\n",
    "df.index = ['Person_1', 'Person_2', 'Person_3', 'Person_4']"
   ]
  },
  {
   "cell_type": "markdown",
   "id": "5bba63af",
   "metadata": {},
   "source": [
    "## 2: Constructing a Data Frame from a dictionary (using Numpy arrays)\n",
    "\n",
    "Another common way to construct Data Frames is to use a dictionary.\n",
    "\n",
    "When we do this, the keys of the dictionary become the column names (and therefore the `name` attribute of the Series that constitutes a given column); and the values of the dictionary become the `values` attribute of a given column.\n",
    "\n",
    "First, let's make a dictionary:"
   ]
  },
  {
   "cell_type": "code",
   "execution_count": null,
   "id": "fa0ce8bb",
   "metadata": {},
   "outputs": [],
   "source": [
    "dictionary = {'A': np.array([1, 2, 3, 4]),\n",
    "              'B': np.array([5, 6, 7, 8])}\n",
    "\n",
    "dictionary"
   ]
  },
  {
   "cell_type": "markdown",
   "id": "58f06e72",
   "metadata": {},
   "source": [
    "Here are the keys and values of the dictionary, containing this toy data:"
   ]
  },
  {
   "cell_type": "code",
   "execution_count": null,
   "id": "227c8aed",
   "metadata": {},
   "outputs": [],
   "source": [
    "# show the keys of the dictionary\n",
    "dictionary.keys()"
   ]
  },
  {
   "cell_type": "code",
   "execution_count": null,
   "id": "6419bc3c",
   "metadata": {},
   "outputs": [],
   "source": [
    "# show the values of the dictionary\n",
    "dictionary.values()"
   ]
  },
  {
   "cell_type": "markdown",
   "id": "388e0d5d",
   "metadata": {},
   "source": [
    "We can pass this dictionary to the `pd.DataFrame()` constructor. As notes above, the keys will become the `name` attribute of each column (where each column is a Pandas Series). The values will become the `.values` attribute of each column:"
   ]
  },
  {
   "cell_type": "code",
   "execution_count": null,
   "id": "02712df7",
   "metadata": {},
   "outputs": [],
   "source": [
    "# construction from a dictionary\n",
    "df3 = pd.DataFrame(dictionary)\n",
    "\n",
    "df3"
   ]
  },
  {
   "cell_type": "markdown",
   "id": "1091a89f",
   "metadata": {},
   "source": [
    "As we know, the Data Frame itself is just a dictionary-like collection of Series:"
   ]
  },
  {
   "cell_type": "code",
   "execution_count": null,
   "id": "ddd2383f",
   "metadata": {},
   "outputs": [],
   "source": [
    "# show one column/Series\n",
    "df3['A']"
   ]
  },
  {
   "cell_type": "markdown",
   "id": "b44051b8",
   "metadata": {},
   "source": [
    "Each Series inherits it's `name` attribute from its *key* in the original dictionary:"
   ]
  },
  {
   "cell_type": "code",
   "execution_count": null,
   "id": "3d90813a",
   "metadata": {},
   "outputs": [],
   "source": [
    "df3['A'].name"
   ]
  },
  {
   "cell_type": "markdown",
   "id": "34202c41",
   "metadata": {},
   "source": [
    "...and it's `.values` attribute from the *values* in the original dictionary:"
   ]
  },
  {
   "cell_type": "code",
   "execution_count": null,
   "id": "932730df",
   "metadata": {},
   "outputs": [],
   "source": [
    "df3['A'].values"
   ]
  },
  {
   "cell_type": "markdown",
   "id": "6c8abd64",
   "metadata": {},
   "source": [
    "## 3: Constructing a Data Frame from a dictionary (using Pandas series)\n",
    "\n",
    "We can also use Pandas Series as the values in a dictionary, in order to build a Data Frame. Because Pandas Series contain a Numpy array plus additional attributes, like an `index`, we need to be aware of this when using them to create Data Frames, as it can lead to errors.\n",
    "\n",
    "Let's build a Series with the familiar three-letter country codes, the country names, and the [HDI data](https://ourworldindata.org/grapher/children-per-woman-vs-human-development-index):"
   ]
  },
  {
   "cell_type": "code",
   "execution_count": null,
   "id": "1788637f",
   "metadata": {},
   "outputs": [],
   "source": [
    "# make an array containing the country codes\n",
    "country_codes_array = np.array(['AUS', 'BRA', 'CAN',\n",
    "                          'CHN', 'DEU', 'ESP',\n",
    "                          'FRA', 'GBR', 'IND',\n",
    "                          'ITA', 'JPN', 'KOR',\n",
    "                          'MEX', 'RUS', 'USA'])\n",
    "country_codes_array"
   ]
  },
  {
   "cell_type": "code",
   "execution_count": null,
   "id": "604856aa",
   "metadata": {},
   "outputs": [],
   "source": [
    "# make an array containing the country names\n",
    "country_names_array = np.array(['Australia', 'Brazil', 'Canada',\n",
    "                          'China', 'Germany', 'Spain',\n",
    "                          'France', 'United Kingdom', 'India',\n",
    "                          'Italy', 'Japan', 'South Korea',\n",
    "                          'Mexico', 'Russia', 'United States'])\n",
    "country_names_array"
   ]
  },
  {
   "cell_type": "markdown",
   "id": "79e8c808",
   "metadata": {},
   "source": [
    "As previously, we will use the country codes as an `index`:"
   ]
  },
  {
   "cell_type": "code",
   "execution_count": null,
   "id": "a3ca213b",
   "metadata": {},
   "outputs": [],
   "source": [
    "# build a Series of the country names\n",
    "country_names_series = pd.Series(country_names_array,\n",
    "                                index=country_codes_array)\n",
    "\n",
    "country_names_series"
   ]
  },
  {
   "cell_type": "markdown",
   "id": "9c1be3c2",
   "metadata": {},
   "source": [
    "Now, let's do the same for the HDI scores:"
   ]
  },
  {
   "cell_type": "code",
   "execution_count": null,
   "id": "1bef3198",
   "metadata": {},
   "outputs": [],
   "source": [
    "# Human Development Index Scores for each country\n",
    "hdis_array = np.array([0.896, 0.668, 0.89 , 0.586, \n",
    "                 0.844, 0.89 , 0.49 , 0.842, \n",
    "                 0.883, 0.709, 0.733, 0.824,\n",
    "                 0.828, 0.863, 0.894])\n",
    "\n",
    "hdis_array"
   ]
  },
  {
   "cell_type": "markdown",
   "id": "25608ef7",
   "metadata": {},
   "source": [
    "Here also we will use the country codes as the index:"
   ]
  },
  {
   "cell_type": "code",
   "execution_count": null,
   "id": "37dcbdf6",
   "metadata": {},
   "outputs": [],
   "source": [
    "hdi_series = pd.Series(hdis_array,\n",
    "                      index=country_codes_array)\n",
    "\n",
    "hdi_series"
   ]
  },
  {
   "cell_type": "markdown",
   "id": "eb3bb618",
   "metadata": {},
   "source": [
    "We can then create the Data Frame by using the Series as values in a dictionary, and passing that dictionary to the `pd.DataFrame()` constructor:"
   ]
  },
  {
   "cell_type": "code",
   "execution_count": null,
   "id": "c8a8cac4",
   "metadata": {},
   "outputs": [],
   "source": [
    "df4 = pd.DataFrame({'country_names': country_names_series,\n",
    "                    'HDI': hdi_series})\n",
    "\n",
    "df4"
   ]
  },
  {
   "cell_type": "markdown",
   "id": "229a3f8d",
   "metadata": {},
   "source": [
    "It is, however, very important when using this method to ensure that all the Series share an index.\n",
    "\n",
    "Strange things can happen if they do not.\n",
    "\n",
    "Let's adjust the `hdi_series` index so that it has a numerical index:"
   ]
  },
  {
   "cell_type": "code",
   "execution_count": null,
   "id": "e4a4bab0",
   "metadata": {},
   "outputs": [],
   "source": [
    "# adjust the `hdi_series` to have a numerical index\n",
    "hdi_series.index = np.arange(len(hdi_series))\n",
    "\n",
    "hdi_series"
   ]
  },
  {
   "cell_type": "markdown",
   "id": "68e46856",
   "metadata": {},
   "source": [
    "For the latest Pandas (2.2.3 at time of writing), Pandas will give an error if we try to construct a Data Frame from a dictionary with these two Series as the values:"
   ]
  },
  {
   "cell_type": "code",
   "execution_count": null,
   "id": "e35e015f",
   "metadata": {
    "tags": [
     "raises-exception"
    ]
   },
   "outputs": [],
   "source": [
    "# TypeError if we construct a Data Frame using Series without matching indexes\n",
    "df5 = pd.DataFrame({'country_names': country_names_series,\n",
    "                    'HDI': hdi_series})"
   ]
  },
  {
   "cell_type": "markdown",
   "id": "25a246e1",
   "metadata": {},
   "source": [
    "Remember each index label is a unique identifier for each row of the Data Frame. Pandas is trying to compare the indices of the two series in order to match corresponding rows, and failing, because it cannot compare the string index of `country_names_series` to the (newly set) integer series of `hdi_series`.\n",
    "\n",
    "[Later on](0_4_dealing_with_missing_data_in_pandas.Rmd) we will see further signs that Pandas is trying to match rows between series by using the `index`."
   ]
  },
  {
   "cell_type": "markdown",
   "id": "79e2b8d9",
   "metadata": {},
   "source": [
    "## Summary\n",
    "\n",
    "This page has looked at different methods of constructing Data Frames, and how these affect different attributes of the Pandas Series that constitute each Data Frame. "
   ]
  }
 ],
 "metadata": {
  "jupytext": {
   "formats": "ipynb,Rmd"
  },
  "kernelspec": {
   "display_name": "Python (Pyodide)",
   "name": "python"
  }
 },
 "nbformat": 4,
 "nbformat_minor": 5
}
