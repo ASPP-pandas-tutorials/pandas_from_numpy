{
 "cells": [
  {
   "cell_type": "markdown",
   "id": "940abe52",
   "metadata": {},
   "source": [
    "<!---\n",
    "📝 NOTE: this page will show important ways/considerations when constructing\n",
    "DataFrames via different pathways (e.g pd.concat() on named Series); and will\n",
    "further explain the DataFrame constructor. This page is just to to re-iterate\n",
    "the \"DataFrames are just dictionary-like collections of Series\"\n",
    "-->\n",
    "\n",
    "# Let There Be Data : Creating Data Frames\n",
    "\n",
    "In [the](0_0_pandas_intro.Rmd) [previous](0_1_to_loc_or_iloc.Rmd) [tutorials](0_2_pandas_dataframes_attributes_methods.Rmd) we showed how the Pandas class objects (Series and Data Frames) are constructed from Numpy objects (arrays) and other attributes.\n",
    "\n",
    "We focused on the maxims:\n",
    "\n",
    "- *\"a Pandas Series is a numpy array, plus a `name` attribute and an array-like `index`\"* \n",
    "\n",
    "...and...\n",
    "\n",
    "- \"a Pandas DataFrame is just a *dictionary-like collection of Series*\".\n",
    "\n",
    "This page will look at several different ways of constructing Data Frames. All of these use the `pd.DataFrame()` constructor but  supply it with different \"ingredients\". This influences the specific collection of attributes that the resultant Data Frame will have."
   ]
  },
  {
   "cell_type": "code",
   "execution_count": null,
   "id": "c40f719b",
   "metadata": {},
   "outputs": [],
   "source": [
    "# import libraries\n",
    "import numpy as np\n",
    "import pandas as pd"
   ]
  },
  {
   "cell_type": "markdown",
   "id": "67eb5c29",
   "metadata": {},
   "source": [
    "## 0: Reading in data from a file\n",
    "\n",
    "The simplest, probably most common, and easiest way to create a Data Frame is to use a `pd.read_*` functions to import data from a file.\n",
    "\n",
    "`.csv` files are common way of storing data, and (as we have seen) can be imported using the creatively named `pd.read_csv()` function:"
   ]
  },
  {
   "cell_type": "code",
   "execution_count": null,
   "id": "f5411e43",
   "metadata": {},
   "outputs": [],
   "source": [
    "# read in data the boring way\n",
    "df_from_file = pd.read_csv('data/airline_passengers.csv')\n",
    "df_from_file"
   ]
  },
  {
   "cell_type": "markdown",
   "id": "4054fa71",
   "metadata": {},
   "source": [
    "Pandas, as a major Python data science library, has a large array of `read_*` functions, for importing data stored in different formats. The following are taken from the output of `dir(pd)`:\n",
    "\n",
    "```\n",
    "'read_clipboard',\n",
    "'read_csv',\n",
    "'read_excel',\n",
    "'read_feather',\n",
    "'read_fwf',\n",
    "'read_gbq',\n",
    "'read_hdf',\n",
    "'read_html',\n",
    "'read_json',\n",
    "'read_orc',\n",
    "'read_parquet',\n",
    "'read_pickle',\n",
    "'read_sas',\n",
    "'read_spss',\n",
    "'read_sql',\n",
    "'read_sql_query',\n",
    "'read_sql_table',\n",
    "'read_stata',\n",
    "'read_table',\n",
    "'read_xml',\n",
    "```\n",
    "\n",
    "In other situations, and to deepend our understanding of Data Frame construction, let's look at more elaborate, artisanal ways of creating Data Frames... "
   ]
  },
  {
   "cell_type": "markdown",
   "id": "3cbdd166",
   "metadata": {},
   "source": [
    "## 1: Creating a blank Data Frame\n",
    "\n",
    "The second simplest way to create a Data Frame is by using the `pd.DataFrame()` constructor with no arguments:"
   ]
  },
  {
   "cell_type": "code",
   "execution_count": null,
   "id": "953b3cfd",
   "metadata": {},
   "outputs": [],
   "source": [
    "# calling the constructor with no arguments\n",
    "df = pd.DataFrame()\n",
    "df"
   ]
  },
  {
   "cell_type": "markdown",
   "id": "2ebb791e",
   "metadata": {},
   "source": [
    "Perhaps unsurprisingly, this returns a strange, blank output.\n",
    "\n",
    "Again, unsurprisingly, many of the attributes of the Data Frame are also blank.\n",
    "\n",
    "For instance, the index:"
   ]
  },
  {
   "cell_type": "code",
   "execution_count": null,
   "id": "325c9a0d",
   "metadata": {},
   "outputs": [],
   "source": [
    "# show the blank index\n",
    "df.index"
   ]
  },
  {
   "cell_type": "markdown",
   "id": "5a2dcc56",
   "metadata": {},
   "source": [
    "Ditto for the columns attribute:"
   ]
  },
  {
   "cell_type": "code",
   "execution_count": null,
   "id": "9103b319",
   "metadata": {},
   "outputs": [],
   "source": [
    "# show the blank columns\n",
    "df.columns"
   ]
  },
  {
   "cell_type": "markdown",
   "id": "4fbedbb6",
   "metadata": {},
   "source": [
    "We can add new columns (e.g. new Pandas Series) into this blank Data Frame by using direct indexing on the left hand side (LHS). E.g."
   ]
  },
  {
   "cell_type": "code",
   "execution_count": null,
   "id": "2c9d0dc7",
   "metadata": {},
   "outputs": [],
   "source": [
    "# create a new column in the Data Frame\n",
    "df['new_column'] = np.array([1, 2, 3])\n",
    "df"
   ]
  },
  {
   "cell_type": "markdown",
   "id": "43af06c2",
   "metadata": {},
   "source": [
    "We used a Numpy array to construct this new column, however, as we know, Data Frames are a dictionary-like collection of Series, so Pandas can represent the data as a Pandas Series:"
   ]
  },
  {
   "cell_type": "code",
   "execution_count": null,
   "id": "33ad8498",
   "metadata": {},
   "outputs": [],
   "source": [
    "# show the type of df['new_column']\n",
    "new_col = df['new_column']\n",
    "type(new_col)"
   ]
  },
  {
   "cell_type": "markdown",
   "id": "35cb80c7",
   "metadata": {},
   "source": [
    "The string which we used as the column name (e.g. `new_column`) has become the `name` attribute of this new Series:"
   ]
  },
  {
   "cell_type": "code",
   "execution_count": null,
   "id": "278b2b18",
   "metadata": {},
   "outputs": [],
   "source": [
    "# show the `name` of the column\n",
    "new_col.name"
   ]
  },
  {
   "cell_type": "markdown",
   "id": "fdd493cf",
   "metadata": {},
   "source": [
    "...and the numpy array we supplied has become the `.values` of the Series:"
   ]
  },
  {
   "cell_type": "code",
   "execution_count": null,
   "id": "4ed783c9",
   "metadata": {},
   "outputs": [],
   "source": [
    "# show the `values` in the column\n",
    "new_col.values"
   ]
  },
  {
   "cell_type": "markdown",
   "id": "57eecf7d",
   "metadata": {},
   "source": [
    "Pandas has also automatically created a default `RangeIndex` for the Data Frame, because we did not specify what it should use as an index:"
   ]
  },
  {
   "cell_type": "code",
   "execution_count": null,
   "id": "ca9f1bc6",
   "metadata": {},
   "outputs": [],
   "source": [
    "# show the index of df[`new_column`]\n",
    "df.index"
   ]
  },
  {
   "cell_type": "markdown",
   "id": "474290d1",
   "metadata": {},
   "source": [
    "As you saw in [The Pandas from Numpy page](0_0_pandas_intro), Series extracted from Data Frames inherit the `.index` of the Data Frame:"
   ]
  },
  {
   "cell_type": "code",
   "execution_count": null,
   "id": "2da2b01d",
   "metadata": {},
   "outputs": [],
   "source": [
    "new_col.index"
   ]
  },
  {
   "cell_type": "markdown",
   "id": "688607b4",
   "metadata": {},
   "source": [
    "If we construct Data Frames using this method (\"create a blank Data Frame, add the data later\"), then any new columns we add must have equal numbers of elements.  This must be so, in order that the new column can share an index with the old."
   ]
  },
  {
   "cell_type": "code",
   "execution_count": null,
   "id": "ed1555a2",
   "metadata": {},
   "outputs": [],
   "source": [
    "# add another new column\n",
    "df['another_new_column'] = np.array(['A', 'B', 'C'])\n",
    "df"
   ]
  },
  {
   "cell_type": "markdown",
   "id": "db5bf6f4",
   "metadata": {},
   "source": [
    "If the number of elements differs, then Pandas will throw an error:"
   ]
  },
  {
   "cell_type": "code",
   "execution_count": null,
   "id": "fdb92659",
   "metadata": {
    "tags": [
     "raises-exception"
    ]
   },
   "outputs": [],
   "source": [
    "# ValueError from wrong number of elements on RHS\n",
    "df['a_further_new_column'] = np.array([4, 5 , 6, 7])"
   ]
  },
  {
   "cell_type": "markdown",
   "id": "1a1d8935",
   "metadata": {},
   "source": [
    "Notice the text of this error: `ValueError: Length of values (4) does not match length of index (3)`. The error is caused because all columns must share an index, to facilitate the label-based indexing (via `.loc`) that we have seen on previous pages.\n",
    "\n",
    "We want to avoid the [pitfalls](0_1_to_loc_or_iloc.Rmd) of integer indices, such as `RangeIndex` (e.g. misalignment between the integer location of data, and the numerical index label of that data). To do this, we can specify a non-integer values for the index, after we have created the Data Frame."
   ]
  },
  {
   "cell_type": "code",
   "execution_count": null,
   "id": "3aff655f",
   "metadata": {},
   "outputs": [],
   "source": [
    "# set the index\n",
    "df.index = ['Person_1', 'Person_2', 'Person_3']\n",
    "df"
   ]
  },
  {
   "cell_type": "markdown",
   "id": "4d6ff7d3",
   "metadata": {},
   "source": [
    "We can also specify the index directly when we make the \"blank\" Data Frame:"
   ]
  },
  {
   "cell_type": "code",
   "execution_count": null,
   "id": "65eadbd2",
   "metadata": {},
   "outputs": [],
   "source": [
    "df_again = pd.DataFrame(index=['Person_1', 'Person_2', 'Person_3'])\n",
    "df_again"
   ]
  },
  {
   "cell_type": "markdown",
   "id": "54fc47cd",
   "metadata": {},
   "source": [
    "This creates a Data Frame with only an index, which data can then be added to:"
   ]
  },
  {
   "cell_type": "code",
   "execution_count": null,
   "id": "7ee88eb2",
   "metadata": {},
   "outputs": [],
   "source": [
    "df_again['new_column'] = np.array([1, 2, 3])\n",
    "df_again"
   ]
  },
  {
   "cell_type": "markdown",
   "id": "62dfab9c",
   "metadata": {},
   "source": [
    "Because all Series/columns in the Data Frame must share an `index`, Pandas will predictably throw an error if try to use something that is the wrong length/shape to be a valid `index`:"
   ]
  },
  {
   "cell_type": "code",
   "execution_count": null,
   "id": "d66dc1ab",
   "metadata": {
    "tags": [
     "raises-exception"
    ]
   },
   "outputs": [],
   "source": [
    "# ValueError because we have specified the wrong number of index elements.\n",
    "df.index = ['Person_1', 'Person_2', 'Person_3', 'Person_4']"
   ]
  },
  {
   "cell_type": "markdown",
   "id": "c552bedc",
   "metadata": {},
   "source": [
    "Again, the error that Pandas gives us here is informative: `ValueError: Length mismatch: Expected axis has 3 elements, new values have 4 elements`. (Unfortunately, this may not be the case with all Pandas errors...)."
   ]
  },
  {
   "cell_type": "markdown",
   "id": "5255218c",
   "metadata": {},
   "source": [
    "## 2: Constructing a Data Frame from a dictionary (using Numpy arrays)\n",
    "\n",
    "Another common way to construct Data Frames is to use a dictionary.\n",
    "\n",
    "When we do this, the keys of the dictionary become the column names (and therefore the `name` attribute of the Series that constitutes a given column); and the values of the dictionary become the `values` attribute of a given column.\n",
    "\n",
    "First, let's make a dictionary:"
   ]
  },
  {
   "cell_type": "code",
   "execution_count": null,
   "id": "b135b6b6",
   "metadata": {},
   "outputs": [],
   "source": [
    "# make a dictionary, using the keys \"A\" and \"B\" and two Numpy arrays for the values\n",
    "dictionary = {'A': np.array([1, 2, 3, 4]),\n",
    "              'B': np.array([5, 6, 7, 8])}\n",
    "dictionary"
   ]
  },
  {
   "cell_type": "markdown",
   "id": "0bd4cc9b",
   "metadata": {},
   "source": [
    "Here are the keys and values of the dictionary, containing this toy data:"
   ]
  },
  {
   "cell_type": "code",
   "execution_count": null,
   "id": "dba76d1b",
   "metadata": {},
   "outputs": [],
   "source": [
    "# show the keys of the dictionary\n",
    "dictionary.keys()"
   ]
  },
  {
   "cell_type": "code",
   "execution_count": null,
   "id": "2a769092",
   "metadata": {},
   "outputs": [],
   "source": [
    "# show the values of the dictionary\n",
    "dictionary.values()"
   ]
  },
  {
   "cell_type": "markdown",
   "id": "fb873a80",
   "metadata": {},
   "source": [
    "We can pass this dictionary to the `pd.DataFrame()` constructor. As noted above, the keys will become the `name` attribute of each column (where each column is a Pandas Series). The values will become the `.values` attribute of each column:"
   ]
  },
  {
   "cell_type": "code",
   "execution_count": null,
   "id": "70850d62",
   "metadata": {},
   "outputs": [],
   "source": [
    "# construction from a dictionary\n",
    "df3 = pd.DataFrame(dictionary)\n",
    "df3"
   ]
  },
  {
   "cell_type": "markdown",
   "id": "57212458",
   "metadata": {},
   "source": [
    "As we know, the Data Frame itself is just a dictionary-like collection of Series:"
   ]
  },
  {
   "cell_type": "code",
   "execution_count": null,
   "id": "aa0740a2",
   "metadata": {},
   "outputs": [],
   "source": [
    "# show one column/Series\n",
    "df3['A']"
   ]
  },
  {
   "cell_type": "markdown",
   "id": "01a9d6f2",
   "metadata": {},
   "source": [
    "Each Series inherits its `name` attribute from its *key* in the original dictionary:"
   ]
  },
  {
   "cell_type": "code",
   "execution_count": null,
   "id": "6dd6ad25",
   "metadata": {},
   "outputs": [],
   "source": [
    "df3['A'].name"
   ]
  },
  {
   "cell_type": "markdown",
   "id": "5c65221f",
   "metadata": {},
   "source": [
    "...and its `.values` attribute from the *values* in the original dictionary:"
   ]
  },
  {
   "cell_type": "code",
   "execution_count": null,
   "id": "d1afba64",
   "metadata": {},
   "outputs": [],
   "source": [
    "df3['A'].values"
   ]
  },
  {
   "cell_type": "markdown",
   "id": "52696602",
   "metadata": {},
   "source": [
    "## 3: Constructing a Data Frame from a dictionary (using Pandas series)\n",
    "\n",
    "We can also use Pandas Series as the values in a dictionary (rather than Numpy arrays), in order to build a Data Frame. Because Pandas Series contain a Numpy array plus additional attributes, like an `index`, we need to be aware of this when using them to create Data Frames, as conflicts between the indexes of different Series can lead to errors.\n",
    "\n",
    "Let's build a Series with the familiar three-letter country codes, the country names, and the [HDI data](https://ourworldindata.org/grapher/children-per-woman-vs-human-development-index):"
   ]
  },
  {
   "cell_type": "code",
   "execution_count": null,
   "id": "27d4cfd1",
   "metadata": {},
   "outputs": [],
   "source": [
    "# make an array containing the country codes\n",
    "country_codes_array = np.array(['AUS', 'BRA', 'CAN',\n",
    "                                'CHN', 'DEU', 'ESP',\n",
    "                                'FRA', 'GBR', 'IND',\n",
    "                                'ITA', 'JPN', 'KOR',\n",
    "                                'MEX', 'RUS', 'USA'])\n",
    "country_codes_array"
   ]
  },
  {
   "cell_type": "code",
   "execution_count": null,
   "id": "bc3c7eea",
   "metadata": {},
   "outputs": [],
   "source": [
    "# make an array containing the country names\n",
    "country_names_array = np.array(['Australia', 'Brazil', 'Canada',\n",
    "                                'China', 'Germany', 'Spain',\n",
    "                                'France', 'United Kingdom', 'India',\n",
    "                                'Italy', 'Japan', 'South Korea',\n",
    "                                'Mexico', 'Russia', 'United States'])\n",
    "country_names_array"
   ]
  },
  {
   "cell_type": "markdown",
   "id": "299afa01",
   "metadata": {},
   "source": [
    "As previously, we will use the country codes as an `index`:"
   ]
  },
  {
   "cell_type": "code",
   "execution_count": null,
   "id": "803565b1",
   "metadata": {},
   "outputs": [],
   "source": [
    "# build a Series of the country names\n",
    "country_names_series = pd.Series(country_names_array,\n",
    "                                index=country_codes_array)\n",
    "\n",
    "country_names_series"
   ]
  },
  {
   "cell_type": "markdown",
   "id": "f4a8e804",
   "metadata": {},
   "source": [
    "Now, let's do the same for the HDI scores:"
   ]
  },
  {
   "cell_type": "code",
   "execution_count": null,
   "id": "67e07409",
   "metadata": {},
   "outputs": [],
   "source": [
    "# Human Development Index Scores for each country\n",
    "hdis_array = np.array([0.896, 0.668, 0.89 , 0.586, \n",
    "                       0.844, 0.89 , 0.49 , 0.842, \n",
    "                       0.883, 0.709, 0.733, 0.824,\n",
    "                       0.828, 0.863, 0.894])\n",
    "hdis_array"
   ]
  },
  {
   "cell_type": "markdown",
   "id": "2a834de5",
   "metadata": {},
   "source": [
    "Here also we will use the country codes as the index:"
   ]
  },
  {
   "cell_type": "code",
   "execution_count": null,
   "id": "abfb0da0",
   "metadata": {},
   "outputs": [],
   "source": [
    "hdi_series = pd.Series(hdis_array, index=country_codes_array)\n",
    "hdi_series"
   ]
  },
  {
   "cell_type": "markdown",
   "id": "669116e8",
   "metadata": {},
   "source": [
    "We can then create the Data Frame by using the Series as values in a dictionary, and passing that dictionary to the `pd.DataFrame()` constructor:"
   ]
  },
  {
   "cell_type": "code",
   "execution_count": null,
   "id": "7eb5c176",
   "metadata": {},
   "outputs": [],
   "source": [
    "df4 = pd.DataFrame({'country_names': country_names_series,\n",
    "                    'HDI': hdi_series})\n",
    "\n",
    "df4"
   ]
  },
  {
   "cell_type": "markdown",
   "id": "deada77d",
   "metadata": {},
   "source": [
    "It is, however, very important when using this method to ensure that all the Series share an index.\n",
    "\n",
    "Strange things can happen if they do not.\n",
    "\n",
    "Let's adjust the `hdi_series` index so that it has a numerical index:"
   ]
  },
  {
   "cell_type": "code",
   "execution_count": null,
   "id": "db5eefe1",
   "metadata": {},
   "outputs": [],
   "source": [
    "# adjust the `hdi_series` to have a numerical index\n",
    "# Copy the Series with the Series `.copy` method.\n",
    "hdi_with_int_index = hdi_series.copy()\n",
    "hdi_with_int_index.index = np.arange(len(hdi_series))\n",
    "hdi_with_int_index"
   ]
  },
  {
   "cell_type": "markdown",
   "id": "24e30553",
   "metadata": {},
   "source": [
    "For the latest Pandas (2.2.3 at time of writing), Pandas will give an error if we try to construct a Data Frame from a dictionary with these two Series as the values:"
   ]
  },
  {
   "cell_type": "code",
   "execution_count": null,
   "id": "505034c9",
   "metadata": {
    "tags": [
     "raises-exception"
    ]
   },
   "outputs": [],
   "source": [
    "# TypeError if we construct a Data Frame using Series without matching indexes\n",
    "df5 = pd.DataFrame({'country_names': country_names_series,\n",
    "                    'HDI': hdi_with_int_index})"
   ]
  },
  {
   "cell_type": "markdown",
   "id": "5f110761",
   "metadata": {},
   "source": [
    "**Start of exercise**\n",
    "\n",
    "In the cell above, at least at time of writing, you get the following error:\n",
    "\n",
    "```\n",
    "TypeError: '<' not supported between instances of 'int' and 'str'\n",
    "```\n",
    "\n",
    "This occurred when we passed one Series with `int`-type Index values, and\n",
    "another with `str`-type Index values.\n",
    "\n",
    "Reflect back on the [first exercise](differing-indices) in the [Pandas from\n",
    "Numpy page](0_0_pandas_intro).  Why do you think Pandas is comparing `int`s to\n",
    "`str`s as it creates the Data Frame?\n",
    "\n",
    "**End of exercise**"
   ]
  },
  {
   "cell_type": "markdown",
   "id": "699688d7",
   "metadata": {},
   "source": [
    "**See the [corresponding page](/pandas_from_numpy/0_3_constructing_dataframes.html) for solution**\n",
    "\n",
    "Remember each index label is a identifier for each row of the Data Frame. Pandas is trying to compare the indices of the two series in order to match corresponding rows, and failing, because it cannot compare the string index of `country_names_series` to the (newly set) integer series of `hdi_series`.\n",
    "\n",
    "[Later on](0_4_dealing_with_missing_data_in_pandas.Rmd) we will see further signs that Pandas is trying to match rows between series by using the `index`."
   ]
  },
  {
   "cell_type": "markdown",
   "id": "73a18b24",
   "metadata": {},
   "source": [
    "## 3: Constructing a Data Frame from a sequence (using Pandas series)"
   ]
  },
  {
   "cell_type": "markdown",
   "id": "f9368b52",
   "metadata": {},
   "source": [
    "Series have an optional `.name` (for which the default is `None`).\n",
    "\n",
    "If we specify a `.name` for each Series, then we can pass a sequence of these named Series to `pd.DataFrame`; Pandas interprets these Series as *rows* in the Data Frame.  For example:"
   ]
  },
  {
   "cell_type": "code",
   "execution_count": null,
   "id": "befa70ec",
   "metadata": {},
   "outputs": [],
   "source": [
    "# Set not-default names for the Series.\n",
    "country_names_series.name = 'country_names'\n",
    "hdi_series.name = 'HDI'\n",
    "df5 = pd.DataFrame([country_names_series, hdi_series])\n",
    "df5"
   ]
  },
  {
   "cell_type": "markdown",
   "id": "7030f54f",
   "metadata": {},
   "source": [
    "Notice the `.names` of the Series become the `.index` values of the Data Frame (the row labels).  The .`index` of the two Series become the column labels.  To get the same effect as we have had, up until now, we can *transpose* the Data Frame, so that the rows become columns, and the columns becom the rows:"
   ]
  },
  {
   "cell_type": "code",
   "execution_count": null,
   "id": "64a5aee7",
   "metadata": {},
   "outputs": [],
   "source": [
    "# .T is the transpose attribute of the Data Frame.  It returns a new, transposed Data Frame.\n",
    "df6 = df5.T\n",
    "df6"
   ]
  },
  {
   "cell_type": "markdown",
   "id": "95a4a559",
   "metadata": {},
   "source": [
    "<!--- Fuse with stuff from Strange and nameless Data Frame columns in 0_1_ ... -->"
   ]
  },
  {
   "cell_type": "markdown",
   "id": "23524473",
   "metadata": {},
   "source": [
    "## Summary\n",
    "\n",
    "This page has looked at different methods of constructing Data Frames, and how these affect different attributes of the Pandas Series that constitute each Data Frame. "
   ]
  }
 ],
 "metadata": {
  "jupytext": {
   "formats": "ipynb,Rmd"
  },
  "kernelspec": {
   "display_name": "Python (Pyodide)",
   "name": "python"
  }
 },
 "nbformat": 4,
 "nbformat_minor": 5
}
