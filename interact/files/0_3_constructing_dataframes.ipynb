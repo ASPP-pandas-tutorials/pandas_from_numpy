{
 "cells": [
  {
   "cell_type": "markdown",
   "id": "9ab7dcfa",
   "metadata": {},
   "source": [
    "# Let There Be Data (Frames)\n",
    "\n",
    "In [the](0_0_pandas_intro.Rmd) [previous](0_1_to_loc_or_iloc.Rmd)\n",
    "[tutorials](0_2_pandas_dataframes_attributes_methods.Rmd) we showed how the\n",
    "Pandas class objects (Series and Data Frames) are constructed from Numpy\n",
    "objects (arrays) and other attributes.\n",
    "\n",
    "We focused on the maxims:\n",
    "\n",
    "- *\"a Pandas Series is a numpy array, plus a `name` attribute and an array-like `index`\"*\n",
    "\n",
    "...and...\n",
    "\n",
    "- \"a Pandas DataFrame is just a *dictionary-like collection of Series*\".\n",
    "\n",
    "This page will look at several different ways of constructing Data Frames. All\n",
    "of these use the `pd.DataFrame()` constructor but supply it with different\n",
    "\"ingredients\". This influences the specific collection of attributes that the\n",
    "resultant Data Frame will have."
   ]
  },
  {
   "cell_type": "code",
   "execution_count": null,
   "id": "27c21d9f",
   "metadata": {},
   "outputs": [],
   "source": [
    "# Import libraries\n",
    "import numpy as np\n",
    "import pandas as pd"
   ]
  },
  {
   "cell_type": "markdown",
   "id": "64c645e0",
   "metadata": {},
   "source": [
    "## Reading in data from a file\n",
    "\n",
    "The simplest, probably most common, and easiest way to create a Data Frame is to use a `pd.read_*` functions to import data from a file.\n",
    "\n",
    "`.csv` files are common way of storing data, and (as we have seen) can be imported using the creatively named `pd.read_csv()` function:"
   ]
  },
  {
   "cell_type": "code",
   "execution_count": null,
   "id": "3d11bb3d",
   "metadata": {},
   "outputs": [],
   "source": [
    "# Read in data the boring way\n",
    "df_from_file = pd.read_csv('data/airline_passengers.csv')\n",
    "df_from_file"
   ]
  },
  {
   "cell_type": "markdown",
   "id": "e018bd37",
   "metadata": {},
   "source": [
    "Pandas, as a major Python data science library, has a large array of `read_*` functions, for importing data stored in different formats."
   ]
  },
  {
   "cell_type": "code",
   "execution_count": null,
   "id": "d3684ec6",
   "metadata": {},
   "outputs": [],
   "source": [
    "# Names in Pandas module starting with \"read_\"\n",
    "[k for k in dir(pd) if k.startswith('read_')]"
   ]
  },
  {
   "cell_type": "markdown",
   "id": "a60a3f28",
   "metadata": {},
   "source": [
    "In other situations, and to deepen our understanding of Data Frame\n",
    "construction, let's look at more elaborate, artisanal ways of creating Data\n",
    "Frames..."
   ]
  },
  {
   "cell_type": "markdown",
   "id": "fb086b6d",
   "metadata": {},
   "source": [
    "## Creating a blank Data Frame\n",
    "\n",
    "Another very simple way to create a Data Frame is by using the\n",
    "`pd.DataFrame()` constructor with no arguments:"
   ]
  },
  {
   "cell_type": "code",
   "execution_count": null,
   "id": "9d11b264",
   "metadata": {},
   "outputs": [],
   "source": [
    "# Calling the constructor with no arguments\n",
    "df = pd.DataFrame()\n",
    "df"
   ]
  },
  {
   "cell_type": "markdown",
   "id": "ada43008",
   "metadata": {},
   "source": [
    "Perhaps unsurprisingly, this returns a strange, blank output.\n",
    "\n",
    "Again, unsurprisingly, many of the attributes of the Data Frame are also blank.\n",
    "\n",
    "For instance, the index:"
   ]
  },
  {
   "cell_type": "code",
   "execution_count": null,
   "id": "ca64fa06",
   "metadata": {},
   "outputs": [],
   "source": [
    "# Show the blank index\n",
    "df.index"
   ]
  },
  {
   "cell_type": "markdown",
   "id": "2c2b3dbb",
   "metadata": {},
   "source": [
    "Ditto for the columns attribute:"
   ]
  },
  {
   "cell_type": "code",
   "execution_count": null,
   "id": "f58a2389",
   "metadata": {},
   "outputs": [],
   "source": [
    "# Show the blank columns.\n",
    "df.columns"
   ]
  },
  {
   "cell_type": "markdown",
   "id": "6725186b",
   "metadata": {},
   "source": [
    "We can add new columns (e.g. new Pandas Series) into this blank Data Frame by using direct indexing on the left hand side (LHS). E.g."
   ]
  },
  {
   "cell_type": "code",
   "execution_count": null,
   "id": "25c8d893",
   "metadata": {},
   "outputs": [],
   "source": [
    "# Create a new column in the Data Frame.\n",
    "df['new_column'] = np.array([1, 2, 3])\n",
    "df"
   ]
  },
  {
   "cell_type": "markdown",
   "id": "843a1e3c",
   "metadata": {},
   "source": [
    "We used a Numpy array to construct this new column, however, as we know, Data Frames are a dictionary-like collection of Series, so Pandas can represent the data as a Pandas Series:"
   ]
  },
  {
   "cell_type": "code",
   "execution_count": null,
   "id": "5dc1e916",
   "metadata": {},
   "outputs": [],
   "source": [
    "# Show the type of df['new_column'].\n",
    "new_col = df['new_column']\n",
    "type(new_col)"
   ]
  },
  {
   "cell_type": "markdown",
   "id": "42a9829d",
   "metadata": {},
   "source": [
    "The string which we used as the column name (e.g. `new_column`) has become the `name` attribute of this new Series:"
   ]
  },
  {
   "cell_type": "code",
   "execution_count": null,
   "id": "fc6ef9fc",
   "metadata": {},
   "outputs": [],
   "source": [
    "# Show the `name` of the column.\n",
    "new_col.name"
   ]
  },
  {
   "cell_type": "markdown",
   "id": "1a343884",
   "metadata": {},
   "source": [
    "...and the numpy array we supplied has become the `.values` of the Series:"
   ]
  },
  {
   "cell_type": "code",
   "execution_count": null,
   "id": "6e2d95f7",
   "metadata": {},
   "outputs": [],
   "source": [
    "# Show the `values` in the column.\n",
    "new_col.values"
   ]
  },
  {
   "cell_type": "markdown",
   "id": "15072209",
   "metadata": {},
   "source": [
    "Pandas has also automatically created a default `RangeIndex` for the Data Frame, because we did not specify what it should use as an index:"
   ]
  },
  {
   "cell_type": "code",
   "execution_count": null,
   "id": "ef92017a",
   "metadata": {},
   "outputs": [],
   "source": [
    "# Show the index of df.\n",
    "df.index"
   ]
  },
  {
   "cell_type": "markdown",
   "id": "d1059320",
   "metadata": {},
   "source": [
    "As you saw in [The Pandas from Numpy page](0_0_pandas_intro), Series extracted from Data Frames inherit the `.index` of the Data Frame:"
   ]
  },
  {
   "cell_type": "code",
   "execution_count": null,
   "id": "779d7b56",
   "metadata": {},
   "outputs": [],
   "source": [
    "new_col.index"
   ]
  },
  {
   "cell_type": "markdown",
   "id": "6b26e615",
   "metadata": {},
   "source": [
    "If we construct Data Frames using this method (\"create a blank Data Frame, add the data later\"), then any new columns we add must have equal numbers of elements.  This must be so, in order that the new column can share an index with the old."
   ]
  },
  {
   "cell_type": "code",
   "execution_count": null,
   "id": "310dfec5",
   "metadata": {},
   "outputs": [],
   "source": [
    "# Add another new column with correct number of elements.\n",
    "df['another_new_column'] = np.array(['A', 'B', 'C'])\n",
    "df"
   ]
  },
  {
   "cell_type": "markdown",
   "id": "36d4071b",
   "metadata": {},
   "source": [
    "If the number of elements differs, then Pandas will throw an error:"
   ]
  },
  {
   "cell_type": "code",
   "execution_count": null,
   "id": "379246aa",
   "metadata": {
    "tags": [
     "raises-exception"
    ]
   },
   "outputs": [],
   "source": [
    "# ValueError from wrong number of elements on RHS.\n",
    "df['a_further_new_column'] = np.array([4, 5 , 6, 7])"
   ]
  },
  {
   "cell_type": "markdown",
   "id": "200a3ff0",
   "metadata": {},
   "source": [
    "Notice the text of this error: `ValueError: Length of values (4) does not match length of index (3)`. The error is caused because all columns must share an index, to facilitate the label-based indexing (via `.loc`) that we have seen on previous pages.\n",
    "\n",
    "We want to avoid the [pitfalls](0_1_to_loc_or_iloc.Rmd) of integer indices, such as `RangeIndex` (e.g. misalignment between the integer location of data, and the numerical index label of that data). To do this, we can specify a non-integer values for the index, after we have created the Data Frame."
   ]
  },
  {
   "cell_type": "code",
   "execution_count": null,
   "id": "7d8cac7a",
   "metadata": {},
   "outputs": [],
   "source": [
    "# Set the index\n",
    "df.index = ['Person_1', 'Person_2', 'Person_3']\n",
    "df"
   ]
  },
  {
   "cell_type": "markdown",
   "id": "4fdc5596",
   "metadata": {},
   "source": [
    "We can also specify the index directly when we make the \"blank\" Data Frame:"
   ]
  },
  {
   "cell_type": "code",
   "execution_count": null,
   "id": "43ee7480",
   "metadata": {},
   "outputs": [],
   "source": [
    "df_again = pd.DataFrame(index=['Person_1', 'Person_2', 'Person_3'])\n",
    "df_again"
   ]
  },
  {
   "cell_type": "markdown",
   "id": "e9af4f15",
   "metadata": {},
   "source": [
    "This creates a Data Frame with only an index, which data can then be added to:"
   ]
  },
  {
   "cell_type": "code",
   "execution_count": null,
   "id": "d0d8e0bd",
   "metadata": {},
   "outputs": [],
   "source": [
    "df_again['new_column'] = np.array([1, 2, 3])\n",
    "df_again"
   ]
  },
  {
   "cell_type": "markdown",
   "id": "5432ae74",
   "metadata": {},
   "source": [
    "Because all Series/columns in the Data Frame must share an `index`, Pandas will predictably throw an error if try to use something that is the wrong length/shape to be a valid `index`:"
   ]
  },
  {
   "cell_type": "code",
   "execution_count": null,
   "id": "1c2f354d",
   "metadata": {
    "tags": [
     "raises-exception"
    ]
   },
   "outputs": [],
   "source": [
    "# ValueError because we have specified the wrong number of index elements.\n",
    "df.index = ['Person_1', 'Person_2', 'Person_3', 'Person_4']"
   ]
  },
  {
   "cell_type": "markdown",
   "id": "e7854cc0",
   "metadata": {},
   "source": [
    "Again, the error that Pandas gives us here is informative: `ValueError: Length mismatch: Expected axis has 3 elements, new values have 4 elements`. (Unfortunately, not all Pandas errors are as obvious as this one)."
   ]
  },
  {
   "cell_type": "markdown",
   "id": "a4c705c8",
   "metadata": {},
   "source": [
    "## Constructing a Data Frame from a dictionary of Numpy arrays\n",
    "\n",
    "Another common way to construct Data Frames is to use a dictionary.\n",
    "\n",
    "When we do this, the keys of the dictionary become the column names (and therefore the `name` attribute of the Series that constitutes a given column); and the values of the dictionary become the `values` attribute of a given column.\n",
    "\n",
    "First, let's make a dictionary:"
   ]
  },
  {
   "cell_type": "code",
   "execution_count": null,
   "id": "fd5970fd",
   "metadata": {},
   "outputs": [],
   "source": [
    "# Make a dictionary, using the keys \"A\" and \"B\" and two Numpy arrays for the values\n",
    "dictionary = {'A': np.array([1, 2, 3, 4]),\n",
    "              'B': np.array([5, 6, 7, 8])}\n",
    "dictionary"
   ]
  },
  {
   "cell_type": "markdown",
   "id": "cfc25e5d",
   "metadata": {},
   "source": [
    "Here are the keys and values of the dictionary, containing this toy data:"
   ]
  },
  {
   "cell_type": "code",
   "execution_count": null,
   "id": "d4a252db",
   "metadata": {},
   "outputs": [],
   "source": [
    "# Show the keys of the dictionary\n",
    "dictionary.keys()"
   ]
  },
  {
   "cell_type": "code",
   "execution_count": null,
   "id": "96c6ae3e",
   "metadata": {},
   "outputs": [],
   "source": [
    "# Show the values of the dictionary\n",
    "dictionary.values()"
   ]
  },
  {
   "cell_type": "markdown",
   "id": "1bcff28b",
   "metadata": {},
   "source": [
    "We can pass this dictionary to the `pd.DataFrame()` constructor. As noted above, the keys will become the `name` attribute of each column (where each column is a Pandas Series). The values will become the `.values` attribute of each column:"
   ]
  },
  {
   "cell_type": "code",
   "execution_count": null,
   "id": "80d37cfb",
   "metadata": {},
   "outputs": [],
   "source": [
    "# Construction from a dictionary\n",
    "df3 = pd.DataFrame(dictionary)\n",
    "df3"
   ]
  },
  {
   "cell_type": "markdown",
   "id": "11f674ec",
   "metadata": {},
   "source": [
    "As we know, the Data Frame itself is just a dictionary-like collection of Series:"
   ]
  },
  {
   "cell_type": "code",
   "execution_count": null,
   "id": "9cf38f2e",
   "metadata": {},
   "outputs": [],
   "source": [
    "# Show one column/Series\n",
    "df3['A']"
   ]
  },
  {
   "cell_type": "markdown",
   "id": "7b9983f0",
   "metadata": {},
   "source": [
    "Each Series inherits its `name` attribute from its *key* in the original dictionary:"
   ]
  },
  {
   "cell_type": "code",
   "execution_count": null,
   "id": "98e17dbe",
   "metadata": {},
   "outputs": [],
   "source": [
    "df3['A'].name"
   ]
  },
  {
   "cell_type": "markdown",
   "id": "7996d1d0",
   "metadata": {},
   "source": [
    "...and its `.values` attribute from the *values* in the original dictionary:"
   ]
  },
  {
   "cell_type": "code",
   "execution_count": null,
   "id": "e74aed0b",
   "metadata": {},
   "outputs": [],
   "source": [
    "df3['A'].values"
   ]
  },
  {
   "cell_type": "markdown",
   "id": "85f232ce",
   "metadata": {},
   "source": [
    "## Constructing a Data Frame from a dictionary of Pandas series\n",
    "\n",
    "We can also use Pandas Series as the values in a dictionary (rather than Numpy\n",
    "arrays), in order to build a Data Frame. Because Pandas Series contain a Numpy\n",
    "array plus additional attributes, like an `index`, we need to be aware of this\n",
    "when using them to create Data Frames, as conflicts between the indexes of\n",
    "different Series can lead to errors.\n",
    "\n",
    "Let's build a Series with the familiar three-letter country codes, the country names, and the [HDI data](https://ourworldindata.org/grapher/children-per-woman-vs-human-development-index):"
   ]
  },
  {
   "cell_type": "code",
   "execution_count": null,
   "id": "de7cd4d2",
   "metadata": {},
   "outputs": [],
   "source": [
    "# Make an array containing the country codes\n",
    "country_codes_array = np.array(['AUS', 'BRA', 'CAN',\n",
    "                                'CHN', 'DEU', 'ESP',\n",
    "                                'FRA', 'GBR', 'IND',\n",
    "                                'ITA', 'JPN', 'KOR',\n",
    "                                'MEX', 'RUS', 'USA'])"
   ]
  },
  {
   "cell_type": "code",
   "execution_count": null,
   "id": "e9be9b50",
   "metadata": {},
   "outputs": [],
   "source": [
    "# Make an array containing the country names\n",
    "country_names_array = np.array(['Australia', 'Brazil', 'Canada',\n",
    "                                'China', 'Germany', 'Spain',\n",
    "                                'France', 'United Kingdom', 'India',\n",
    "                                'Italy', 'Japan', 'South Korea',\n",
    "                                'Mexico', 'Russia', 'United States'])"
   ]
  },
  {
   "cell_type": "markdown",
   "id": "cf8163e6",
   "metadata": {},
   "source": [
    "As previously, we will use the country codes as an `index`:"
   ]
  },
  {
   "cell_type": "code",
   "execution_count": null,
   "id": "b1a19c3e",
   "metadata": {},
   "outputs": [],
   "source": [
    "# Build a Series of the country names\n",
    "country_names_series = pd.Series(country_names_array,\n",
    "                                index=country_codes_array)\n",
    "country_names_series"
   ]
  },
  {
   "cell_type": "markdown",
   "id": "1193fb0c",
   "metadata": {},
   "source": [
    "Now, let's do the same for the HDI scores:"
   ]
  },
  {
   "cell_type": "code",
   "execution_count": null,
   "id": "77d6b202",
   "metadata": {},
   "outputs": [],
   "source": [
    "# Human Development Index Scores for each country\n",
    "hdis_array = np.array([0.896, 0.668, 0.89 , 0.586,\n",
    "                       0.844, 0.89 , 0.49 , 0.842,\n",
    "                       0.883, 0.709, 0.733, 0.824,\n",
    "                       0.828, 0.863, 0.894])"
   ]
  },
  {
   "cell_type": "markdown",
   "id": "14c13a5f",
   "metadata": {},
   "source": [
    "Here also we will use the country codes as the index:"
   ]
  },
  {
   "cell_type": "code",
   "execution_count": null,
   "id": "8359d9a8",
   "metadata": {},
   "outputs": [],
   "source": [
    "hdi_series = pd.Series(hdis_array, index=country_codes_array)\n",
    "hdi_series"
   ]
  },
  {
   "cell_type": "markdown",
   "id": "254a44bc",
   "metadata": {},
   "source": [
    "We can then create the Data Frame by using the Series as values in a dictionary, and passing that dictionary to the `pd.DataFrame()` constructor:"
   ]
  },
  {
   "cell_type": "code",
   "execution_count": null,
   "id": "e9278d05",
   "metadata": {},
   "outputs": [],
   "source": [
    "df4 = pd.DataFrame({'country_names': country_names_series,\n",
    "                    'HDI': hdi_series})\n",
    "df4"
   ]
  },
  {
   "cell_type": "markdown",
   "id": "2fcf5936",
   "metadata": {},
   "source": [
    "However, it is very important when using this method to ensure that all the\n",
    "Series share an index.\n",
    "\n",
    "Strange things can happen if they do not.\n",
    "\n",
    "Let's adjust the `hdi_series` to give it a numerical index:"
   ]
  },
  {
   "cell_type": "code",
   "execution_count": null,
   "id": "ab37be1e",
   "metadata": {},
   "outputs": [],
   "source": [
    "# Adjust the `hdi_series` to have a numerical index\n",
    "# Copy the Series with the Series `.copy` method.\n",
    "hdi_with_int_index = hdi_series.copy()\n",
    "hdi_with_int_index.index = np.arange(len(hdi_series))\n",
    "hdi_with_int_index"
   ]
  },
  {
   "cell_type": "markdown",
   "id": "e5ce8c1a",
   "metadata": {},
   "source": [
    "For the latest Pandas (2.2.3 at time of writing), Pandas will give an error if\n",
    "we try to construct a Data Frame from a dictionary with these two Series as\n",
    "the values:"
   ]
  },
  {
   "cell_type": "code",
   "execution_count": null,
   "id": "c7c8fc1e",
   "metadata": {
    "tags": [
     "raises-exception"
    ]
   },
   "outputs": [],
   "source": [
    "# TypeError if we construct a Data Frame using Series without matching indexes\n",
    "df5 = pd.DataFrame({'country_names': country_names_series,\n",
    "                    'HDI': hdi_with_int_index})"
   ]
  },
  {
   "cell_type": "markdown",
   "id": "6a18bdf5",
   "metadata": {},
   "source": [
    "**Start of exercise**\n",
    "\n",
    "In the cell above, at least at time of writing, you get the following error:\n",
    "\n",
    "```\n",
    "TypeError: '<' not supported between instances of 'int' and 'str'\n",
    "```\n",
    "\n",
    "This occurred when we passed one Series with `int`-type Index values, and\n",
    "another with `str`-type Index values.\n",
    "\n",
    "Reflect back on the [first exercise](differing-indices) in the [Pandas from\n",
    "Numpy page](0_0_pandas_intro).  Why do you think Pandas is comparing `int`s to\n",
    "`str`s as it creates the Data Frame?\n",
    "\n",
    "**End of exercise**"
   ]
  },
  {
   "cell_type": "markdown",
   "id": "ba0e0c85",
   "metadata": {},
   "source": [
    "**See the [corresponding page](/pandas_from_numpy/0_3_constructing_dataframes.html) for solution**\n",
    "\n",
    "Remember each index label is a identifier for each row of the Data Frame. Pandas is trying to compare the indices of the two series in order to match corresponding rows, and failing, because it cannot compare the string index of `country_names_series` to the (newly set) integer series of `hdi_series`.\n",
    "\n",
    "[Later on](0_4_dealing_with_missing_data_in_pandas.Rmd) we will see further signs that Pandas is trying to match rows between series by using the `index`."
   ]
  },
  {
   "cell_type": "markdown",
   "id": "0e3d56de",
   "metadata": {},
   "source": [
    "## Constructing a Data Frame from a single Pandas series\n",
    "\n",
    "`pd.DataFrame` has a special case in which you pass a single Series as the data argument."
   ]
  },
  {
   "cell_type": "code",
   "execution_count": null,
   "id": "be3bd246",
   "metadata": {},
   "outputs": [],
   "source": [
    "df_single = pd.DataFrame(hdi_series)\n",
    "df_single"
   ]
  },
  {
   "cell_type": "markdown",
   "id": "d081da8f",
   "metadata": {},
   "source": [
    "**Be careful** - as you will see below, if you pass a *sequence* of Series, then the Series become the *rows*.  Here, the single Series becomes a single column in the Data Frame.\n",
    "\n",
    "The column name comes from the Series name:"
   ]
  },
  {
   "cell_type": "code",
   "execution_count": null,
   "id": "5fa71461",
   "metadata": {},
   "outputs": [],
   "source": [
    "hdi_series.name"
   ]
  },
  {
   "cell_type": "markdown",
   "id": "fb9a0a52",
   "metadata": {},
   "source": [
    "As you remember, Series have an optional `.name` (for which the default is `None`).  For example:"
   ]
  },
  {
   "cell_type": "code",
   "execution_count": null,
   "id": "4e75624f",
   "metadata": {},
   "outputs": [],
   "source": [
    "hdi_series_no_name = pd.Series(hdis_array, index=country_codes_array)\n",
    "hdi_series_no_name.name is None"
   ]
  },
  {
   "cell_type": "markdown",
   "id": "d9624209",
   "metadata": {},
   "source": [
    "If you pass a Series with no `.name` (`.name == None`) then Panda must make a default column name.  It uses the same default for column names as it does for row names, that is, a `RangeIndex` containing integers, where, in this case, it only contains the integer value `0`:"
   ]
  },
  {
   "cell_type": "code",
   "execution_count": null,
   "id": "8daf2a36",
   "metadata": {},
   "outputs": [],
   "source": [
    "df_single_no_name = pd.DataFrame(hdi_series_no_name)\n",
    "df_single_no_name"
   ]
  },
  {
   "cell_type": "code",
   "execution_count": null,
   "id": "be2c05cc",
   "metadata": {},
   "outputs": [],
   "source": [
    "df_single_no_name.columns"
   ]
  },
  {
   "cell_type": "markdown",
   "id": "e2477e59",
   "metadata": {},
   "source": [
    "Indexing for this column, with an integer label, is likely to become confusing:"
   ]
  },
  {
   "cell_type": "code",
   "execution_count": null,
   "id": "e8908e08",
   "metadata": {},
   "outputs": [],
   "source": [
    "# Getting the column by label.\n",
    "df_single_no_name.loc[:, 0]"
   ]
  },
  {
   "cell_type": "markdown",
   "id": "6755811e",
   "metadata": {},
   "source": [
    "Or even this (which is very confusing - direct indexing with column name):"
   ]
  },
  {
   "cell_type": "code",
   "execution_count": null,
   "id": "e0d000f8",
   "metadata": {},
   "outputs": [],
   "source": [
    "# Direct indexing using column name, where name is integer 0\n",
    "df_single_no_name[0]"
   ]
  },
  {
   "cell_type": "markdown",
   "id": "a938ce7f",
   "metadata": {},
   "source": [
    "It's usually advisable to either - set the Series name when constructing the Series, or later, with (e.g.) `hdi_series.name = 'Human Development Index'` - or set the name explicitly to `pd.DataFrame` using the `columns=` argument:"
   ]
  },
  {
   "cell_type": "code",
   "execution_count": null,
   "id": "e5e40e37",
   "metadata": {},
   "outputs": [],
   "source": [
    "# Setting the column name or names on constructing the Data Frame.\n",
    "df_single_now_named = pd.DataFrame(hdi_series_no_name,\n",
    "                                   columns=['My HDI'])\n",
    "df_single_now_named"
   ]
  },
  {
   "cell_type": "markdown",
   "id": "ee702a5b",
   "metadata": {},
   "source": [
    "## Constructing a Data Frame from a sequence of Pandas series"
   ]
  },
  {
   "cell_type": "markdown",
   "id": "59edc07f",
   "metadata": {},
   "source": [
    "Series have an optional `.name` (for which the default is `None`).\n",
    "\n",
    "If we specify a `.name` for each Series, then we can pass a sequence of these named Series to `pd.DataFrame`; Pandas interprets these Series as *rows* in the Data Frame.  For example:"
   ]
  },
  {
   "cell_type": "code",
   "execution_count": null,
   "id": "51224bf7",
   "metadata": {},
   "outputs": [],
   "source": [
    "# Set not-default names for the Series.\n",
    "country_names_series.name = 'country_names'\n",
    "hdi_series.name = 'HDI'\n",
    "df5 = pd.DataFrame([country_names_series, hdi_series])\n",
    "df5"
   ]
  },
  {
   "cell_type": "markdown",
   "id": "26a4279e",
   "metadata": {},
   "source": [
    "Notice the `.names` of the Series become the `.index` values of the Data Frame\n",
    "(the row labels).  The .`index` of the two Series become the column labels. To\n",
    "get the same effect as we have had, up until now, we can *transpose* the Data\n",
    "Frame, so that the rows become columns, and the columns become the rows:"
   ]
  },
  {
   "cell_type": "code",
   "execution_count": null,
   "id": "8c383715",
   "metadata": {},
   "outputs": [],
   "source": [
    "# .T is the transpose attribute of the Data Frame.  It returns a new, transposed Data Frame.\n",
    "df6 = df5.T\n",
    "df6"
   ]
  },
  {
   "cell_type": "markdown",
   "id": "e9ef8afe",
   "metadata": {},
   "source": [
    "<!--- Fuse with stuff from Strange and nameless Data Frame columns in 0_1_ ... -->"
   ]
  },
  {
   "cell_type": "markdown",
   "id": "d12578cc",
   "metadata": {},
   "source": [
    "## Summary\n",
    "\n",
    "This page has looked at different methods of constructing Data Frames, and how these affect different attributes of the Pandas Series that constitute each Data Frame. "
   ]
  }
 ],
 "metadata": {
  "jupytext": {
   "formats": "ipynb,Rmd"
  },
  "kernelspec": {
   "display_name": "Python (Pyodide)",
   "name": "python"
  }
 },
 "nbformat": 4,
 "nbformat_minor": 5
}
