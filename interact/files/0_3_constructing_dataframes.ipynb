{
 "cells": [
  {
   "cell_type": "markdown",
   "id": "c1d3fe77",
   "metadata": {},
   "source": [
    "# Let There Be Data (Frames)\n",
    "\n",
    "In [the](0_0_pandas_intro.Rmd) [previous](0_1_to_loc_or_iloc.Rmd)\n",
    "[tutorials](0_2_pandas_dataframes_attributes_methods.Rmd) we showed how the\n",
    "Pandas class objects (Series and Data Frames) are constructed from Numpy\n",
    "objects (arrays) and other attributes.\n",
    "\n",
    "We focused on the maxims:\n",
    "\n",
    "- *\"a Pandas Series is a numpy array, plus a `name` attribute and an array-like `index`\"*\n",
    "\n",
    "...and...\n",
    "\n",
    "- \"a Pandas DataFrame is just a *dictionary-like collection of Series*\".\n",
    "\n",
    "This page will look at several different ways of constructing Data Frames. All\n",
    "of these use the `pd.DataFrame()` constructor but supply it with different\n",
    "\"ingredients\". This influences the specific collection of attributes that the\n",
    "resultant Data Frame will have."
   ]
  },
  {
   "cell_type": "code",
   "execution_count": null,
   "id": "03eeff25",
   "metadata": {},
   "outputs": [],
   "source": [
    "# Import libraries\n",
    "import numpy as np\n",
    "import pandas as pd"
   ]
  },
  {
   "cell_type": "markdown",
   "id": "29f490c6",
   "metadata": {},
   "source": [
    "## Reading in data from a file\n",
    "\n",
    "The simplest, probably most common, and easiest way to create a Data Frame is to use a `pd.read_*` function to import data from a file.\n",
    "\n",
    "`.csv` files are common way of storing data, and (as we have seen) can be imported using the creatively named `pd.read_csv()` function:"
   ]
  },
  {
   "cell_type": "code",
   "execution_count": null,
   "id": "2ea89582",
   "metadata": {},
   "outputs": [],
   "source": [
    "# Read in data the boring way\n",
    "df_from_file = pd.read_csv('data/airline_passengers.csv')\n",
    "df_from_file"
   ]
  },
  {
   "cell_type": "markdown",
   "id": "894029dc",
   "metadata": {},
   "source": [
    "Pandas, as a major Python data science library, has a large array of `read_*` functions, for importing data stored in different formats."
   ]
  },
  {
   "cell_type": "code",
   "execution_count": null,
   "id": "6a8aa108",
   "metadata": {},
   "outputs": [],
   "source": [
    "# Names in Pandas module starting with \"read_\"\n",
    "[k for k in dir(pd) if k.startswith('read_')]"
   ]
  },
  {
   "cell_type": "markdown",
   "id": "b9b6ce57",
   "metadata": {},
   "source": [
    "In other situations, and to deepen our understanding of Data Frame\n",
    "construction, let's look at more elaborate, artisanal ways of creating Data\n",
    "Frames..."
   ]
  },
  {
   "cell_type": "markdown",
   "id": "512d54eb",
   "metadata": {},
   "source": [
    "## Creating a blank Data Frame\n",
    "\n",
    "Another very simple way to create a Data Frame is by using the\n",
    "`pd.DataFrame()` constructor with no arguments:"
   ]
  },
  {
   "cell_type": "code",
   "execution_count": null,
   "id": "2e480b14",
   "metadata": {},
   "outputs": [],
   "source": [
    "# Calling the constructor with no arguments\n",
    "blank_df = pd.DataFrame()\n",
    "blank_df"
   ]
  },
  {
   "cell_type": "markdown",
   "id": "a9757fc7",
   "metadata": {},
   "source": [
    "Perhaps unsurprisingly, this returns a strange, blank output.\n",
    "\n",
    "Again, unsurprisingly, many of the attributes of the Data Frame are also blank.\n",
    "\n",
    "For instance, the index:"
   ]
  },
  {
   "cell_type": "code",
   "execution_count": null,
   "id": "53054cd3",
   "metadata": {},
   "outputs": [],
   "source": [
    "# Show the blank index\n",
    "blank_df.index"
   ]
  },
  {
   "cell_type": "markdown",
   "id": "e9aa955b",
   "metadata": {},
   "source": [
    "Ditto for the columns attribute:"
   ]
  },
  {
   "cell_type": "code",
   "execution_count": null,
   "id": "d925efda",
   "metadata": {},
   "outputs": [],
   "source": [
    "# Show the blank columns.\n",
    "blank_df.columns"
   ]
  },
  {
   "cell_type": "markdown",
   "id": "af26fb73",
   "metadata": {},
   "source": [
    "We can add new columns (e.g. new Pandas Series) into this blank Data Frame by using direct indexing on the left hand side (LHS). E.g."
   ]
  },
  {
   "cell_type": "code",
   "execution_count": null,
   "id": "b4b151b7",
   "metadata": {},
   "outputs": [],
   "source": [
    "# Create a new column in the Data Frame.\n",
    "blank_df['new_column'] = np.array([1, 2, 3])\n",
    "blank_df"
   ]
  },
  {
   "cell_type": "markdown",
   "id": "0020dc35",
   "metadata": {},
   "source": [
    "We used a Numpy array to construct this new column, however, as we know, Data Frames are a dictionary-like collection of Series, so Pandas can represent the data as a Pandas Series:"
   ]
  },
  {
   "cell_type": "code",
   "execution_count": null,
   "id": "a89fcfd1",
   "metadata": {},
   "outputs": [],
   "source": [
    "# Show the type of df['new_column'].\n",
    "new_col = blank_df['new_column']\n",
    "type(new_col)"
   ]
  },
  {
   "cell_type": "markdown",
   "id": "99fb4916",
   "metadata": {},
   "source": [
    "The string which we used as the column name (e.g. `new_column`) has become the `name` attribute of this new Series:"
   ]
  },
  {
   "cell_type": "code",
   "execution_count": null,
   "id": "ac3999f4",
   "metadata": {},
   "outputs": [],
   "source": [
    "# Show the `name` of the column.\n",
    "new_col.name"
   ]
  },
  {
   "cell_type": "markdown",
   "id": "69df9d11",
   "metadata": {},
   "source": [
    "...and the numpy array we supplied has become the `.values` of the Series:"
   ]
  },
  {
   "cell_type": "code",
   "execution_count": null,
   "id": "d92cb043",
   "metadata": {},
   "outputs": [],
   "source": [
    "# Show the `values` in the column.\n",
    "new_col.values"
   ]
  },
  {
   "cell_type": "markdown",
   "id": "25fb3a40",
   "metadata": {},
   "source": [
    "Pandas has also automatically created a default `RangeIndex` for the Data Frame, because we did not specify what it should use as an index:"
   ]
  },
  {
   "cell_type": "code",
   "execution_count": null,
   "id": "47fe7fb2",
   "metadata": {},
   "outputs": [],
   "source": [
    "blank_df.index"
   ]
  },
  {
   "cell_type": "markdown",
   "id": "2035763a",
   "metadata": {},
   "source": [
    "As you saw in [The Pandas from Numpy page](0_0_pandas_intro), Series extracted from Data Frames inherit the `.index` of the Data Frame:"
   ]
  },
  {
   "cell_type": "code",
   "execution_count": null,
   "id": "a79554e6",
   "metadata": {},
   "outputs": [],
   "source": [
    "new_col.index"
   ]
  },
  {
   "cell_type": "markdown",
   "id": "9aa6d80d",
   "metadata": {},
   "source": [
    "If we construct Data Frames using this method (\"create a blank Data Frame, add the data later\"), then any new columns we add must have equal numbers of elements.  This must be so, in order that the new column can share an index with the old."
   ]
  },
  {
   "cell_type": "code",
   "execution_count": null,
   "id": "50480d8f",
   "metadata": {},
   "outputs": [],
   "source": [
    "# Add another new column with correct number of elements.\n",
    "blank_df['another_new_column'] = np.array(['A', 'B', 'C'])\n",
    "blank_df"
   ]
  },
  {
   "cell_type": "markdown",
   "id": "6dcffd72",
   "metadata": {},
   "source": [
    "If the number of elements differs, then Pandas will throw an error:"
   ]
  },
  {
   "cell_type": "code",
   "execution_count": null,
   "id": "d447a605",
   "metadata": {
    "tags": [
     "raises-exception"
    ]
   },
   "outputs": [],
   "source": [
    "# ValueError from wrong number of elements on RHS.\n",
    "blank_df['a_further_new_column'] = np.array([4, 5 , 6, 7])"
   ]
  },
  {
   "cell_type": "markdown",
   "id": "8b686c28",
   "metadata": {},
   "source": [
    "Notice the text of this error: `ValueError: Length of values (4) does not match length of index (3)`. The error is caused because all columns must share an index, to facilitate the label-based indexing (via `.loc`) that we have seen on previous pages.\n",
    "\n",
    "We want to avoid the [pitfalls](0_1_to_loc_or_iloc.Rmd) of integer indices, such as `RangeIndex` (e.g. misalignment between the integer location of data, and the numerical index label of that data). To do this, we can specify a non-integer values for the index, after we have created the Data Frame."
   ]
  },
  {
   "cell_type": "code",
   "execution_count": null,
   "id": "fc55d4e2",
   "metadata": {},
   "outputs": [],
   "source": [
    "# Set the index\n",
    "blank_df.index = ['Person_1', 'Person_2', 'Person_3']\n",
    "blank_df"
   ]
  },
  {
   "cell_type": "markdown",
   "id": "01338e9e",
   "metadata": {},
   "source": [
    "We can also specify the index directly when we make the \"blank\" Data Frame:"
   ]
  },
  {
   "cell_type": "code",
   "execution_count": null,
   "id": "d8a0545d",
   "metadata": {},
   "outputs": [],
   "source": [
    "df_again = pd.DataFrame(index=['Person_1', 'Person_2', 'Person_3'])\n",
    "df_again"
   ]
  },
  {
   "cell_type": "markdown",
   "id": "54525023",
   "metadata": {},
   "source": [
    "This creates a Data Frame with only an index, which data can then be added to:"
   ]
  },
  {
   "cell_type": "code",
   "execution_count": null,
   "id": "aebfc6b0",
   "metadata": {},
   "outputs": [],
   "source": [
    "df_again['new_column'] = np.array([1, 2, 3])\n",
    "df_again"
   ]
  },
  {
   "cell_type": "markdown",
   "id": "f4f79eb3",
   "metadata": {},
   "source": [
    "Because all Series/columns in the Data Frame must share an `index`, Pandas will predictably throw an error if try to use something that is the wrong length/shape to be a valid `index`:"
   ]
  },
  {
   "cell_type": "code",
   "execution_count": null,
   "id": "6b1ff486",
   "metadata": {
    "tags": [
     "raises-exception"
    ]
   },
   "outputs": [],
   "source": [
    "# ValueError because we have specified the wrong number of index elements.\n",
    "blank_df.index = ['Person_1', 'Person_2', 'Person_3', 'Person_4']"
   ]
  },
  {
   "cell_type": "markdown",
   "id": "6803d2a7",
   "metadata": {},
   "source": [
    "Again, the error that Pandas gives us here is informative: `ValueError: Length mismatch: Expected axis has 3 elements, new values have 4 elements`. (Unfortunately, not all Pandas errors are as obvious as this one)."
   ]
  },
  {
   "cell_type": "markdown",
   "id": "8e93ca9a",
   "metadata": {},
   "source": [
    "## Constructing a Data Frame from an array"
   ]
  },
  {
   "cell_type": "markdown",
   "id": "0b084e7b",
   "metadata": {},
   "source": [
    "Remember (from [](loc-iloc-df)) that a Pandas Data Frame can be considered a view onto a two-dimensional array.\n",
    "\n",
    "For example, the `.values` attribute of a Data Frame returns a two-dimensional Numpy array with a copy of the underlying data"
   ]
  },
  {
   "cell_type": "code",
   "execution_count": null,
   "id": "d729e9ae",
   "metadata": {},
   "outputs": [],
   "source": [
    "# Select the first 10 rows of the loaded Data Frame for brevity\n",
    "early_passengers_df = df_from_file.head(10)\n",
    "# Show this as a 2D array.\n",
    "early_passengers_df.values"
   ]
  },
  {
   "cell_type": "markdown",
   "id": "707993e6",
   "metadata": {},
   "source": [
    "In a similar way, if you pass a Numpy array as the first argument to the Data Frame constructor, Pandas will assume you are passing this underlying 2D data array."
   ]
  },
  {
   "cell_type": "code",
   "execution_count": null,
   "id": "3bedd0a5",
   "metadata": {},
   "outputs": [],
   "source": [
    "two_d_arr = np.array([[1, 2, 3], [11, 21, 31], [101, 102, 103]])\n",
    "two_d_arr"
   ]
  },
  {
   "cell_type": "code",
   "execution_count": null,
   "id": "a901b7d8",
   "metadata": {},
   "outputs": [],
   "source": [
    "# Construct Data Frame from data in two dimensional array.\n",
    "default_df = pd.DataFrame(two_d_arr)\n",
    "default_df"
   ]
  },
  {
   "cell_type": "markdown",
   "id": "0780c08b",
   "metadata": {},
   "source": [
    "Notice that Pandas constructed a default Index (integer row labels), because we did not pass one, *and* a default and corresponding set of column labels.  In fact these default column labels are also integers, of which more soon.  For now, let us make this Data Frame more standard by giving string column labels using the `columns=` argument to the constructor:"
   ]
  },
  {
   "cell_type": "code",
   "execution_count": null,
   "id": "8d076e2b",
   "metadata": {},
   "outputs": [],
   "source": [
    "# Naming the columns when constructing from 2D array.\n",
    "pd.DataFrame(two_d_arr, columns=['First', 'Second', 'Third'])"
   ]
  },
  {
   "cell_type": "markdown",
   "id": "bdeeec65",
   "metadata": {},
   "source": [
    "Better still, we can add meaningful row labels by using the `index=` argument:"
   ]
  },
  {
   "cell_type": "code",
   "execution_count": null,
   "id": "59ebd2a2",
   "metadata": {},
   "outputs": [],
   "source": [
    "# Naming the columns and rows when constructing from 2D array.\n",
    "pd.DataFrame(two_d_arr,\n",
    "             columns=['First', 'Second', 'Third'],\n",
    "             index=['Row 1', 'Row 2', 'Row 3'])"
   ]
  },
  {
   "cell_type": "markdown",
   "id": "c7386158",
   "metadata": {},
   "source": [
    "If you pass a 1D array to the constructor, it assumes you mean this as one column of a 2D array:"
   ]
  },
  {
   "cell_type": "code",
   "execution_count": null,
   "id": "303e7b9a",
   "metadata": {},
   "outputs": [],
   "source": [
    "pd.DataFrame([10, 20, 20])"
   ]
  },
  {
   "cell_type": "markdown",
   "id": "329c0c47",
   "metadata": {},
   "source": [
    "## Constructing a Data Frame from a dictionary of Numpy arrays\n",
    "\n",
    "Another common way to construct Data Frames is to use a dictionary.\n",
    "\n",
    "When we do this, the keys of the dictionary become the column names (and therefore the `name` attribute of the Series that constitutes a given column); and the values of the dictionary become the `values` attribute of a given column.\n",
    "\n",
    "First, let's make a dictionary:"
   ]
  },
  {
   "cell_type": "code",
   "execution_count": null,
   "id": "ba48336a",
   "metadata": {},
   "outputs": [],
   "source": [
    "# Make a dictionary, using the keys \"A\" and \"B\" and two Numpy arrays for the values\n",
    "dictionary = {'A': np.array([1, 2, 3, 4]),\n",
    "              'B': np.array([5, 6, 7, 8])}\n",
    "dictionary"
   ]
  },
  {
   "cell_type": "markdown",
   "id": "c07e9e8e",
   "metadata": {},
   "source": [
    "Here are the keys and values of the dictionary, containing this toy data:"
   ]
  },
  {
   "cell_type": "code",
   "execution_count": null,
   "id": "5d95e53d",
   "metadata": {},
   "outputs": [],
   "source": [
    "# Show the keys of the dictionary\n",
    "dictionary.keys()"
   ]
  },
  {
   "cell_type": "code",
   "execution_count": null,
   "id": "91e67ca6",
   "metadata": {},
   "outputs": [],
   "source": [
    "# Show the values of the dictionary\n",
    "dictionary.values()"
   ]
  },
  {
   "cell_type": "markdown",
   "id": "3a79bbfa",
   "metadata": {},
   "source": [
    "We can pass this dictionary to the `pd.DataFrame()` constructor. As noted above, the keys will become the `name` attribute of each column (where each column is a Pandas Series). The values will become the `.values` attribute of each column:"
   ]
  },
  {
   "cell_type": "code",
   "execution_count": null,
   "id": "9cc80965",
   "metadata": {},
   "outputs": [],
   "source": [
    "# Construction from a dictionary\n",
    "df3 = pd.DataFrame(dictionary)\n",
    "df3"
   ]
  },
  {
   "cell_type": "markdown",
   "id": "3f848ad4",
   "metadata": {},
   "source": [
    "As we know, the Data Frame itself is just a dictionary-like collection of Series:"
   ]
  },
  {
   "cell_type": "code",
   "execution_count": null,
   "id": "2c377bd2",
   "metadata": {},
   "outputs": [],
   "source": [
    "# Show one column/Series\n",
    "df3['A']"
   ]
  },
  {
   "cell_type": "markdown",
   "id": "ee8bcd7e",
   "metadata": {},
   "source": [
    "Each Series inherits its `name` attribute from its *key* in the original dictionary:"
   ]
  },
  {
   "cell_type": "code",
   "execution_count": null,
   "id": "172ba0bb",
   "metadata": {},
   "outputs": [],
   "source": [
    "df3['A'].name"
   ]
  },
  {
   "cell_type": "markdown",
   "id": "da2562e8",
   "metadata": {},
   "source": [
    "...and its `.values` attribute from the *values* in the original dictionary:"
   ]
  },
  {
   "cell_type": "code",
   "execution_count": null,
   "id": "c7d8ff4b",
   "metadata": {},
   "outputs": [],
   "source": [
    "df3['A'].values"
   ]
  },
  {
   "cell_type": "markdown",
   "id": "4167475a",
   "metadata": {},
   "source": [
    "## Constructing a Data Frame from a dictionary of Pandas series\n",
    "\n",
    "We can also use Pandas Series as the values in a dictionary (rather than Numpy\n",
    "arrays), in order to build a Data Frame. Because Pandas Series contain a Numpy\n",
    "array plus additional attributes, like an `index`, we need to be aware of this\n",
    "when using them to create Data Frames, as conflicts between the indexes of\n",
    "different Series can lead to errors.\n",
    "\n",
    "Let's build a Series with the familiar three-letter country codes, the country names, and the [HDI data](https://ourworldindata.org/grapher/children-per-woman-vs-human-development-index):"
   ]
  },
  {
   "cell_type": "code",
   "execution_count": null,
   "id": "bde449b1",
   "metadata": {},
   "outputs": [],
   "source": [
    "# Make an array containing the country codes\n",
    "country_codes_array = np.array(['AUS', 'BRA', 'CAN',\n",
    "                                'CHN', 'DEU', 'ESP',\n",
    "                                'FRA', 'GBR', 'IND',\n",
    "                                'ITA', 'JPN', 'KOR',\n",
    "                                'MEX', 'RUS', 'USA'])"
   ]
  },
  {
   "cell_type": "code",
   "execution_count": null,
   "id": "bd76a936",
   "metadata": {},
   "outputs": [],
   "source": [
    "# Make an array containing the country names\n",
    "country_names_array = np.array(['Australia', 'Brazil', 'Canada',\n",
    "                                'China', 'Germany', 'Spain',\n",
    "                                'France', 'United Kingdom', 'India',\n",
    "                                'Italy', 'Japan', 'South Korea',\n",
    "                                'Mexico', 'Russia', 'United States'])"
   ]
  },
  {
   "cell_type": "markdown",
   "id": "602e9f4b",
   "metadata": {},
   "source": [
    "As previously, we will use the country codes as an `index`:"
   ]
  },
  {
   "cell_type": "code",
   "execution_count": null,
   "id": "ecfc0fce",
   "metadata": {},
   "outputs": [],
   "source": [
    "# Build a Series of the country names\n",
    "country_names_series = pd.Series(country_names_array,\n",
    "                                index=country_codes_array)\n",
    "country_names_series"
   ]
  },
  {
   "cell_type": "markdown",
   "id": "fd8bc95b",
   "metadata": {},
   "source": [
    "Now, let's do the same for the HDI scores:"
   ]
  },
  {
   "cell_type": "code",
   "execution_count": null,
   "id": "7314c6b8",
   "metadata": {},
   "outputs": [],
   "source": [
    "# Human Development Index Scores for each country\n",
    "hdis_array = np.array([0.896, 0.668, 0.89 , 0.586,\n",
    "                       0.844, 0.89 , 0.49 , 0.842,\n",
    "                       0.883, 0.709, 0.733, 0.824,\n",
    "                       0.828, 0.863, 0.894])"
   ]
  },
  {
   "cell_type": "markdown",
   "id": "89889472",
   "metadata": {},
   "source": [
    "Here also we will use the country codes as the index:"
   ]
  },
  {
   "cell_type": "code",
   "execution_count": null,
   "id": "b3f84b1b",
   "metadata": {},
   "outputs": [],
   "source": [
    "hdi_series = pd.Series(hdis_array, index=country_codes_array)\n",
    "hdi_series"
   ]
  },
  {
   "cell_type": "markdown",
   "id": "a19c5ea6",
   "metadata": {},
   "source": [
    "We can then create the Data Frame by using the Series as values in a dictionary, and passing that dictionary to the `pd.DataFrame()` constructor:"
   ]
  },
  {
   "cell_type": "code",
   "execution_count": null,
   "id": "23101a90",
   "metadata": {},
   "outputs": [],
   "source": [
    "df4 = pd.DataFrame({'country_names': country_names_series,\n",
    "                    'HDI': hdi_series})\n",
    "df4"
   ]
  },
  {
   "cell_type": "markdown",
   "id": "b3d89458",
   "metadata": {},
   "source": [
    "However, it is very important when using this method to ensure that all the\n",
    "Series share an index.\n",
    "\n",
    "Strange things can happen if they do not.\n",
    "\n",
    "Let's adjust the `hdi_series` to give it a numerical index:"
   ]
  },
  {
   "cell_type": "code",
   "execution_count": null,
   "id": "9b290b23",
   "metadata": {},
   "outputs": [],
   "source": [
    "# Adjust the `hdi_series` to have a numerical index\n",
    "# Copy the Series with the Series `.copy` method.\n",
    "hdi_with_int_index = hdi_series.copy()\n",
    "hdi_with_int_index.index = np.arange(len(hdi_series))\n",
    "hdi_with_int_index"
   ]
  },
  {
   "cell_type": "markdown",
   "id": "e2c8ea17",
   "metadata": {},
   "source": [
    "For the latest Pandas (2.2.3 at time of writing), Pandas will give an error if\n",
    "we try to construct a Data Frame from a dictionary with these two Series as\n",
    "the values:"
   ]
  },
  {
   "cell_type": "code",
   "execution_count": null,
   "id": "cb6cb298",
   "metadata": {
    "tags": [
     "raises-exception"
    ]
   },
   "outputs": [],
   "source": [
    "# TypeError if we construct a Data Frame using Series without matching indexes\n",
    "df5 = pd.DataFrame({'country_names': country_names_series,\n",
    "                    'HDI': hdi_with_int_index})"
   ]
  },
  {
   "cell_type": "markdown",
   "id": "54dd9068",
   "metadata": {},
   "source": [
    "**Start of exercise**\n",
    "\n",
    "In the cell above, at least at time of writing, you get the following error:\n",
    "\n",
    "```\n",
    "TypeError: '<' not supported between instances of 'int' and 'str'\n",
    "```\n",
    "\n",
    "This occurred when we passed one Series with `int`-type Index values, and\n",
    "another with `str`-type Index values.\n",
    "\n",
    "Reflect back on the [first exercise](differing-indices) in the [Pandas from\n",
    "Numpy page](0_0_pandas_intro).  Why do you think Pandas is comparing `int`s to\n",
    "`str`s as it creates the Data Frame?\n",
    "\n",
    "**End of exercise**"
   ]
  },
  {
   "cell_type": "markdown",
   "id": "545c0756",
   "metadata": {},
   "source": [
    "**See the [corresponding page](/pandas_from_numpy/0_3_constructing_dataframes.html) for solution**\n",
    "\n",
    "Remember each index label is a identifier for each row of the Data Frame. Pandas is trying to compare the indices of the two series in order to match corresponding rows, and failing, because it cannot compare the string index of `country_names_series` to the (newly set) integer series of `hdi_series`.\n",
    "\n",
    "[Later on](0_4_dealing_with_missing_data_in_pandas.Rmd) we will see further signs that Pandas is trying to match rows between series by using the `index`."
   ]
  },
  {
   "cell_type": "markdown",
   "id": "e85c75b7",
   "metadata": {},
   "source": [
    "## Constructing a Data Frame from a single Pandas series\n",
    "\n",
    "`pd.DataFrame` has a special case in which you pass a single Series as the data argument."
   ]
  },
  {
   "cell_type": "code",
   "execution_count": null,
   "id": "424cca1c",
   "metadata": {},
   "outputs": [],
   "source": [
    "df_single = pd.DataFrame(hdi_series)\n",
    "df_single"
   ]
  },
  {
   "cell_type": "markdown",
   "id": "998cf00a",
   "metadata": {},
   "source": [
    "**Be careful** - as you will see below, if you pass a *sequence* of Series, then the Series become the *rows*.  Here, the single Series becomes a single column in the Data Frame.\n",
    "\n",
    "The column name comes from the Series name:"
   ]
  },
  {
   "cell_type": "code",
   "execution_count": null,
   "id": "42279526",
   "metadata": {},
   "outputs": [],
   "source": [
    "hdi_series.name"
   ]
  },
  {
   "cell_type": "markdown",
   "id": "59931763",
   "metadata": {},
   "source": [
    "As you remember, Series have an optional `.name` (for which the default is `None`).  For example:"
   ]
  },
  {
   "cell_type": "code",
   "execution_count": null,
   "id": "a7cca0a1",
   "metadata": {},
   "outputs": [],
   "source": [
    "hdi_series_no_name = pd.Series(hdis_array, index=country_codes_array)\n",
    "hdi_series_no_name.name is None"
   ]
  },
  {
   "cell_type": "markdown",
   "id": "9a1994ce",
   "metadata": {},
   "source": [
    "If you pass a Series with no `.name` (`.name == None`) then Panda must make a default column name.  It uses the same default for column names as it does for row names, that is, a `RangeIndex` containing integers, where, in this case, it only contains the integer value `0`:"
   ]
  },
  {
   "cell_type": "code",
   "execution_count": null,
   "id": "b9845e02",
   "metadata": {},
   "outputs": [],
   "source": [
    "df_single_no_name = pd.DataFrame(hdi_series_no_name)\n",
    "df_single_no_name"
   ]
  },
  {
   "cell_type": "code",
   "execution_count": null,
   "id": "e1757e25",
   "metadata": {},
   "outputs": [],
   "source": [
    "df_single_no_name.columns"
   ]
  },
  {
   "cell_type": "markdown",
   "id": "95429a78",
   "metadata": {},
   "source": [
    "Indexing for this column, with an integer label, is likely to become confusing:"
   ]
  },
  {
   "cell_type": "code",
   "execution_count": null,
   "id": "412b66d6",
   "metadata": {},
   "outputs": [],
   "source": [
    "# Getting the column by label.\n",
    "df_single_no_name.loc[:, 0]"
   ]
  },
  {
   "cell_type": "markdown",
   "id": "38cfc49f",
   "metadata": {},
   "source": [
    "Or even this (which is very confusing - direct indexing with column name):"
   ]
  },
  {
   "cell_type": "code",
   "execution_count": null,
   "id": "dd79ddab",
   "metadata": {},
   "outputs": [],
   "source": [
    "# Direct indexing using column name, where name is integer 0\n",
    "df_single_no_name[0]"
   ]
  },
  {
   "cell_type": "markdown",
   "id": "b102e334",
   "metadata": {},
   "source": [
    "It's usually advisable to either - set the Series name when constructing the Series, or later, with (e.g.) `hdi_series.name = 'Human Development Index'` - or set the name explicitly to `pd.DataFrame` using the `columns=` argument:"
   ]
  },
  {
   "cell_type": "code",
   "execution_count": null,
   "id": "9c777490",
   "metadata": {},
   "outputs": [],
   "source": [
    "# Setting the column name or names on constructing the Data Frame.\n",
    "df_single_now_named = pd.DataFrame(hdi_series_no_name,\n",
    "                                   columns=['My HDI'])\n",
    "df_single_now_named"
   ]
  },
  {
   "cell_type": "markdown",
   "id": "55ac4791",
   "metadata": {},
   "source": [
    "## Constructing a Data Frame from a sequence of Pandas series"
   ]
  },
  {
   "cell_type": "markdown",
   "id": "3e39b2b8",
   "metadata": {},
   "source": [
    "Series have an optional `.name` (for which the default is `None`).\n",
    "\n",
    "If we specify a `.name` for each Series, then we can pass a sequence of these named Series to `pd.DataFrame`; Pandas interprets these Series as *rows* in the Data Frame.  For example:"
   ]
  },
  {
   "cell_type": "code",
   "execution_count": null,
   "id": "e3ad9992",
   "metadata": {},
   "outputs": [],
   "source": [
    "# Set not-default names for the Series.\n",
    "country_names_series.name = 'country_names'\n",
    "hdi_series.name = 'HDI'\n",
    "df5 = pd.DataFrame([country_names_series, hdi_series])\n",
    "df5"
   ]
  },
  {
   "cell_type": "markdown",
   "id": "4ddb8bbd",
   "metadata": {},
   "source": [
    "Notice the `.names` of the Series become the `.index` values of the Data Frame\n",
    "(the row labels).  The .`index` of the two Series become the column labels. To\n",
    "get the same effect as we have had, up until now, we can *transpose* the Data\n",
    "Frame, so that the rows become columns, and the columns become the rows:"
   ]
  },
  {
   "cell_type": "code",
   "execution_count": null,
   "id": "30daf2fe",
   "metadata": {},
   "outputs": [],
   "source": [
    "# .T is the transpose attribute of the Data Frame.  It returns a new, transposed Data Frame.\n",
    "df6 = df5.T\n",
    "df6"
   ]
  },
  {
   "cell_type": "markdown",
   "id": "fc398090",
   "metadata": {},
   "source": [
    "<!--- Fuse with stuff from Strange and nameless Data Frame columns in 0_1_ ... -->"
   ]
  },
  {
   "cell_type": "markdown",
   "id": "298c58e7",
   "metadata": {},
   "source": [
    "## Summary\n",
    "\n",
    "This page has looked at different methods of constructing Data Frames, and how these affect different attributes of the Pandas Series that constitute each Data Frame. "
   ]
  }
 ],
 "metadata": {
  "jupytext": {
   "formats": "ipynb,Rmd"
  },
  "kernelspec": {
   "display_name": "Python (Pyodide)",
   "name": "python"
  }
 },
 "nbformat": 4,
 "nbformat_minor": 5
}
