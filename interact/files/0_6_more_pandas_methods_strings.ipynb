{
 "cells": [
  {
   "cell_type": "markdown",
   "id": "44efbb56",
   "metadata": {},
   "source": [
    "# Working with strings\n",
    "\n",
    "\n",
    "String/text data is often used to represent categorical variables, and commonly appears in a variety of data analysis contexts. When dealing with string/text data we will frequently find that we need to alter the strings to correct errors, improve clarity, make formatting uniform, or for a host of other reasons.\n",
    "\n",
    "String methods are inherent to Python, and these methods or variants of them can all be used on Numpy arrays and Pandas Series/Data Frames. However, Numpy and Pandas use different interfaces for interacting with strings. To understand the differences between Numpy and Pandas with respect to strings, let's begin at the foundation, the in-built string methods of Python. The cell below contains a simple string."
   ]
  },
  {
   "cell_type": "code",
   "execution_count": null,
   "id": "e801227e",
   "metadata": {},
   "outputs": [],
   "source": [
    "# A string\n",
    "my_string = \"a few words\"\n",
    "my_string"
   ]
  },
  {
   "cell_type": "markdown",
   "id": "62e7a03c",
   "metadata": {},
   "source": [
    "Here are the not-private methods and attributes of a standard Python `str`:"
   ]
  },
  {
   "cell_type": "code",
   "execution_count": null,
   "id": "65be013e",
   "metadata": {},
   "outputs": [],
   "source": [
    "# Attributes and methods not starting with `_` (or `__`):\n",
    "[k for k in dir(my_string) if not k.startswith('_')]"
   ]
  },
  {
   "cell_type": "markdown",
   "id": "82b26d23",
   "metadata": {},
   "source": [
    "Remember that *a method is a function attached to an object*. In this case our object is a string. \n",
    "\n",
    "Let's say we like reading values in our data as if they are being spoken in a loud voice. If this is the case we can alter the format of the string to make all letters uppercase, using the `.upper()` method:"
   ]
  },
  {
   "cell_type": "code",
   "execution_count": null,
   "id": "d5a15c75",
   "metadata": {},
   "outputs": [],
   "source": [
    "# The `.upper()` method of `str`.\n",
    "my_string.upper()"
   ]
  },
  {
   "cell_type": "markdown",
   "id": "2e67b33a",
   "metadata": {},
   "source": [
    "We can replace characters in the string using the aptly named `.replace()` method. Here we supply two strings to the method, first the string we want to replace, and then second, the string we want to replace it with. In this case, let's `.replace()` the underscores with a blank space:"
   ]
  },
  {
   "cell_type": "code",
   "execution_count": null,
   "id": "153eb236",
   "metadata": {},
   "outputs": [],
   "source": [
    "# The `.replace()` method.\n",
    "my_string.replace(' ', '_')"
   ]
  },
  {
   "cell_type": "markdown",
   "id": "a989d132",
   "metadata": {},
   "source": [
    "Fancier formatting methods will let us adjust strings, for instance, in title case (`.title()`):"
   ]
  },
  {
   "cell_type": "code",
   "execution_count": null,
   "id": "b27ea5d1",
   "metadata": {},
   "outputs": [],
   "source": [
    "# A more elaborate string method.\n",
    "my_string.title()"
   ]
  },
  {
   "cell_type": "markdown",
   "id": "85813946",
   "metadata": {},
   "source": [
    "In Python, strings are collections of characters, and so we can slice them as we would a list or array, using integer indexes and the `:` symbol:"
   ]
  },
  {
   "cell_type": "code",
   "execution_count": null,
   "id": "bb8fe893",
   "metadata": {},
   "outputs": [],
   "source": [
    "# Slicing with strings.\n",
    "my_string[0:1]"
   ]
  },
  {
   "cell_type": "code",
   "execution_count": null,
   "id": "fe373790",
   "metadata": {},
   "outputs": [],
   "source": [
    "my_string[0:2]"
   ]
  },
  {
   "cell_type": "code",
   "execution_count": null,
   "id": "ced8c16c",
   "metadata": {},
   "outputs": [],
   "source": [
    "my_string[0:7]"
   ]
  },
  {
   "cell_type": "markdown",
   "id": "43a0f573",
   "metadata": {},
   "source": [
    "You can visit [this page](https://www.w3schools.com/python/python_ref_string.asp) to see the variety of string methods available in base Python."
   ]
  },
  {
   "cell_type": "markdown",
   "id": "a775e28b",
   "metadata": {},
   "source": [
    "## String methods with Numpy arrays\n",
    "\n",
    "So, strings in base Python have a large number of in-built methods - what about strings in Numpy?\n",
    "\n",
    "Numpy arrays themselves do not have specific string methods, but the in-built Python string methods can be called on individual string values in a Numpy array. Alternatively, we can use functions from the `np.char.` module to operate on all the strings in the array in one go.\n",
    "\n",
    "To investigate how string data is handled in Numpy, let's make some arrays containing strings from now (very) familiar [HDI dataset](data/data_notes)."
   ]
  },
  {
   "cell_type": "code",
   "execution_count": null,
   "id": "559c7fe1",
   "metadata": {},
   "outputs": [],
   "source": [
    "# Import libraries (no imports were needed prior to this point as string methods are part of base python)\n",
    "import numpy as np\n",
    "import pandas as pd"
   ]
  },
  {
   "cell_type": "code",
   "execution_count": null,
   "id": "708198b2",
   "metadata": {},
   "outputs": [],
   "source": [
    "# A custom function to generate a Series to check exercise solutions.\n",
    "import clean_gender_df_names"
   ]
  },
  {
   "cell_type": "code",
   "execution_count": null,
   "id": "879dfdcc",
   "metadata": {},
   "outputs": [],
   "source": [
    "# Calculate answer to exercise (see below).\n",
    "answer_clean_series = clean_gender_df_names.get_cleaned(\n",
    "    pd.read_csv(\"data/gender_stats.csv\")['country_name'])"
   ]
  },
  {
   "cell_type": "code",
   "execution_count": null,
   "id": "17deba07",
   "metadata": {},
   "outputs": [],
   "source": [
    "# Standard three-letter code for each country.\n",
    "country_codes_array = np.array(['AUS', 'BRA', 'CAN',\n",
    "                                'CHN', 'DEU', 'ESP',\n",
    "                                'FRA', 'GBR', 'IND',\n",
    "                                'ITA', 'JPN', 'KOR',\n",
    "                                'MEX', 'RUS', 'USA'])"
   ]
  },
  {
   "cell_type": "code",
   "execution_count": null,
   "id": "5d7c4f3d",
   "metadata": {},
   "outputs": [],
   "source": [
    "# Country names.\n",
    "country_names_array = np.array(['Australia', 'Brazil', 'Canada',\n",
    "                                'China', 'Germany', 'Spain',\n",
    "                                'France', 'United Kingdom', 'India',\n",
    "                                'Italy', 'Japan', 'South Korea',\n",
    "                                'Mexico', 'Russia', 'United States'])"
   ]
  },
  {
   "cell_type": "markdown",
   "id": "57bccdf0",
   "metadata": {},
   "source": [
    "For comparison, let's make an array containing the numerical HDI scores:"
   ]
  },
  {
   "cell_type": "code",
   "execution_count": null,
   "id": "6ed242d4",
   "metadata": {},
   "outputs": [],
   "source": [
    "# Human Development Index Scores for each country\n",
    "hdis_array = np.array([0.896, 0.668, 0.89 , 0.586, \n",
    "                       0.844, 0.89 , 0.49 , 0.842, \n",
    "                       0.883, 0.709, 0.733, 0.824,\n",
    "                       0.828, 0.863, 0.894])"
   ]
  },
  {
   "cell_type": "markdown",
   "id": "6b9e6ec6",
   "metadata": {},
   "source": [
    "The `dtype` attribute of the first two arrays begins with `<U`, indicating we are dealing with string data."
   ]
  },
  {
   "cell_type": "code",
   "execution_count": null,
   "id": "4637f95f",
   "metadata": {},
   "outputs": [],
   "source": [
    "# Show the dtype of the country codes array (e.g. string data)\n",
    "country_codes_array.dtype"
   ]
  },
  {
   "cell_type": "markdown",
   "id": "eb011655",
   "metadata": {},
   "source": [
    "`U3` tells us that the array stored Unicode (`U`) strings up  three Unicode characters in length."
   ]
  },
  {
   "cell_type": "code",
   "execution_count": null,
   "id": "abec4af7",
   "metadata": {},
   "outputs": [],
   "source": [
    "# Show the dtype of the country names array (e.g. string data)\n",
    "country_names_array.dtype"
   ]
  },
  {
   "cell_type": "markdown",
   "id": "aed4c5c2",
   "metadata": {},
   "source": [
    "Conversely, the `hdis_array` contains data of a numerical type:"
   ]
  },
  {
   "cell_type": "code",
   "execution_count": null,
   "id": "7b664bb6",
   "metadata": {},
   "outputs": [],
   "source": [
    "# Show the dtype of the hdis array (e.g. numeric data)\n",
    "hdis_array.dtype"
   ]
  },
  {
   "cell_type": "markdown",
   "id": "149464a0",
   "metadata": {},
   "source": [
    "Using indexing, we can use all of the in-built Python string methods on the individual values within a Numpy array:"
   ]
  },
  {
   "cell_type": "code",
   "execution_count": null,
   "id": "118514a3",
   "metadata": {},
   "outputs": [],
   "source": [
    "# Methods on an individual string\n",
    "country_codes_array[0]"
   ]
  },
  {
   "cell_type": "markdown",
   "id": "19770182",
   "metadata": {},
   "source": [
    "For instance, we can change the case of the value:"
   ]
  },
  {
   "cell_type": "code",
   "execution_count": null,
   "id": "b843a2de",
   "metadata": {},
   "outputs": [],
   "source": [
    "# Lowercase\n",
    "country_codes_array[0].lower()"
   ]
  },
  {
   "cell_type": "code",
   "execution_count": null,
   "id": "80b31eb4",
   "metadata": {},
   "outputs": [],
   "source": [
    "# Uppercase\n",
    "country_codes_array[0].upper()"
   ]
  },
  {
   "cell_type": "markdown",
   "id": "b10016cd",
   "metadata": {},
   "source": [
    "We can also replace elements of the string:"
   ]
  },
  {
   "cell_type": "code",
   "execution_count": null,
   "id": "82ff0d5e",
   "metadata": {},
   "outputs": [],
   "source": [
    "country_codes_array[0].replace(\"A\", \"Comparable to the \")"
   ]
  },
  {
   "cell_type": "markdown",
   "id": "7fc33f4d",
   "metadata": {},
   "source": [
    "Understandably, if we try to use any of these string methods on numerical data, we will get an error:"
   ]
  },
  {
   "cell_type": "code",
   "execution_count": null,
   "id": "8c868f38",
   "metadata": {
    "tags": [
     "raises-exception"
    ]
   },
   "outputs": [],
   "source": [
    "# Oh no!\n",
    "hdis_array[0].upper()"
   ]
  },
  {
   "cell_type": "markdown",
   "id": "ed0cf418",
   "metadata": {},
   "source": [
    "All of the string methods used in this section above have been called on single string values from a Numpy array. If we try to use a string method on all values of the array simultaneously, we will also get an error:"
   ]
  },
  {
   "cell_type": "code",
   "execution_count": null,
   "id": "9822658c",
   "metadata": {
    "tags": [
     "raises-exception"
    ]
   },
   "outputs": [],
   "source": [
    "# This does not work\n",
    "country_codes_array.lower()"
   ]
  },
  {
   "cell_type": "markdown",
   "id": "2b44b7e3",
   "metadata": {},
   "source": [
    "String methods in Numpy must be called from the single string values or using the `.char.` module.\n",
    "\n",
    "For example, we can use the `np.char.lower()` function to operate on all values of the Numpy array at once:"
   ]
  },
  {
   "cell_type": "code",
   "execution_count": null,
   "id": "ddad6642",
   "metadata": {},
   "outputs": [],
   "source": [
    "# This DOES work\n",
    "np.char.lower(country_codes_array)"
   ]
  },
  {
   "cell_type": "code",
   "execution_count": null,
   "id": "9bee01b5",
   "metadata": {},
   "outputs": [],
   "source": [
    "# This DOES work too\n",
    "np.char.replace(country_codes_array, 'A', '!')"
   ]
  },
  {
   "cell_type": "markdown",
   "id": "b4f335d5",
   "metadata": {},
   "source": [
    "Pandas deals with string data slightly differently to Numpy. The elements of the `.values` component of a Pandas Series can be operated on altogether by using the `.str.` accessor, to which we will now turn our attention."
   ]
  },
  {
   "cell_type": "markdown",
   "id": "fe55a7a6",
   "metadata": {},
   "source": [
    "## String methods with Pandas Series\n",
    "\n",
    "As mentioned above, Pandas Series have a specialised accessor (`.str.`) which bypasses the need to use `np.char.` when we want to do something to all of the string values in a Series.\n",
    "\n",
    "To see how this works, let's construct a Series from our `country_names` array:"
   ]
  },
  {
   "cell_type": "code",
   "execution_count": null,
   "id": "24cf3705",
   "metadata": {},
   "outputs": [],
   "source": [
    "# Show again from Series\n",
    "names_series =  pd.Series(country_names_array,\n",
    "                          index=country_codes_array)\n",
    "names_series"
   ]
  },
  {
   "cell_type": "markdown",
   "id": "5a38a516",
   "metadata": {},
   "source": [
    "To use the `.str.` accessor, we just place it after our object (e.g. our Series containing our string data). We then can call a variety of string methods, which we be applied to all elements in the `.values` array of the Series:"
   ]
  },
  {
   "cell_type": "code",
   "execution_count": null,
   "id": "7f1ccc55",
   "metadata": {},
   "outputs": [],
   "source": [
    "# String methods on Series\n",
    "names_series.str.upper()"
   ]
  },
  {
   "cell_type": "code",
   "execution_count": null,
   "id": "21f7e04b",
   "metadata": {},
   "outputs": [],
   "source": [
    "# The `.str.lower()` method\n",
    "names_series.str.lower()"
   ]
  },
  {
   "cell_type": "markdown",
   "id": "ab9d2a39",
   "metadata": {},
   "source": [
    "The `.replace()` string method is also available here, it will operate on all the elements in the Series, though in this case (as there is only one `United States`) it will only alter one value:"
   ]
  },
  {
   "cell_type": "code",
   "execution_count": null,
   "id": "328fa4db",
   "metadata": {},
   "outputs": [],
   "source": [
    "# Replacing values in the Series\n",
    "names_series.str.replace(\"United States\", \"USA\")"
   ]
  },
  {
   "cell_type": "markdown",
   "id": "916fe9e0",
   "metadata": {},
   "source": [
    "By default, the **string-specific** `.replace` method (accessed through the `str` accessor - `.str.replace()`) will search for expressions *within* strings, as opposed to searching for exact, whole string matches.  This matches the behavior of the corresponding `.replace` method on strings.\n",
    "\n",
    "This is different to the behaviour of the **non-string-specific** `.replace()` method which we encountered on an [earlier page](0_2_pandas_dataframes_attributes_methods). By default the non-string-specific `.replace()` method will search for *exactly matching whole strings*. Confusion between these two methods is a [common source of error](https://stackoverflow.com/a/50614413/23148902). \n",
    "\n",
    "As such, by using the string-specific `.str.replace()` method we can easily replace substrings in multiple elements in the data at once, even where the whole strings are not the same. For instance:"
   ]
  },
  {
   "cell_type": "code",
   "execution_count": null,
   "id": "effd644c",
   "metadata": {},
   "outputs": [],
   "source": [
    "# Replacing values in the Series\n",
    "names_series.str.replace(\"United\", \"Disunited\")"
   ]
  },
  {
   "cell_type": "markdown",
   "id": "0ff2205b",
   "metadata": {},
   "source": [
    "Here, the substring `'United'` has been replaced with `'Disunited'` in the both\n",
    "the strings `\"United Kingdom\"` and `\"United States\"`. This is a good example of\n",
    "a situation where a specialized accessor (like `.str.`) can change the\n",
    "behavior of other methods, often in a helpful way for dealing with a specific\n",
    "data type.\n",
    "\n",
    "The syntax for slicing strings is the same as for a single value, but it also operates across all elements in the Series at once:"
   ]
  },
  {
   "cell_type": "code",
   "execution_count": null,
   "id": "c9b26c10",
   "metadata": {},
   "outputs": [],
   "source": [
    "# Slicing with strings, in a Series\n",
    "names_series.str[2:4]"
   ]
  },
  {
   "cell_type": "markdown",
   "id": "66d3582a",
   "metadata": {},
   "source": [
    "Using the `.contains()` method, Boolean Series can be generated by searching for specific instances of a substring in each value:"
   ]
  },
  {
   "cell_type": "code",
   "execution_count": null,
   "id": "553f86d8",
   "metadata": {},
   "outputs": [],
   "source": [
    "# Generate a Boolean Series, True where the value contains \"Ind\"\n",
    "names_series.str.contains(\"Ind\")"
   ]
  },
  {
   "cell_type": "markdown",
   "id": "1989c347",
   "metadata": {},
   "source": [
    "These Boolean Series can be used to retrieve specific values from the original Series, via Boolean filtering:"
   ]
  },
  {
   "cell_type": "code",
   "execution_count": null,
   "id": "03c1481f",
   "metadata": {},
   "outputs": [],
   "source": [
    "# Use Boolean filtering to retrieve a specific datapoint\n",
    "names_series[names_series.str.contains(\"Ind\")]"
   ]
  },
  {
   "cell_type": "markdown",
   "id": "d72703a8",
   "metadata": {},
   "source": [
    "## String methods with Pandas DataFrames\n",
    "\n",
    "So, Pandas makes it somewhat easier than Numpy to perform operations on all the string elements at once. \n",
    "\n",
    "Remember that *a DataFrame is a dictionary-like collection of Series*, and so everything we have just seen of strings in Pandas Series applies to the *columns* of a Data Frame.\n",
    "\n",
    "Let's import the [HDI data](https://ourworldindata.org/grapher/children-per-woman-vs-human-development-index) in a Pandas Data Frame:"
   ]
  },
  {
   "cell_type": "code",
   "execution_count": null,
   "id": "065b8551",
   "metadata": {},
   "outputs": [],
   "source": [
    "# Import data\n",
    "df = pd.read_csv(\"data/year_2000_hdi_fert.csv\")\n",
    "# Show the data\n",
    "df"
   ]
  },
  {
   "cell_type": "markdown",
   "id": "2394382e",
   "metadata": {},
   "source": [
    "Because each Data Frame column can be extracted as a Pandas Series, we can use string methods in the same way as we saw in the last section:"
   ]
  },
  {
   "cell_type": "code",
   "execution_count": null,
   "id": "b771df03",
   "metadata": {},
   "outputs": [],
   "source": [
    "# Use the `.replace()` method\n",
    "df['Country Name'].str.replace('I', 'I starts I')"
   ]
  },
  {
   "cell_type": "markdown",
   "id": "c8eb5800",
   "metadata": {},
   "source": [
    "However, Pandas will not let us use string methods on the whole Data Frame at once:"
   ]
  },
  {
   "cell_type": "code",
   "execution_count": null,
   "id": "f8b96c15",
   "metadata": {
    "tags": [
     "raises-exception"
    ]
   },
   "outputs": [],
   "source": [
    "# Cannot use `.str` methods on whole Data Frame.\n",
    "df.str.upper()"
   ]
  },
  {
   "cell_type": "markdown",
   "id": "8566f791",
   "metadata": {},
   "source": [
    "We might think that this is because not all the data in the Data Frame is of\n",
    "the string type, but this is not the case. We also cannot use Pandas string\n",
    "methods on Data Frames with columns only containing string data, as we get the\n",
    "same error:"
   ]
  },
  {
   "cell_type": "code",
   "execution_count": null,
   "id": "0691f741",
   "metadata": {
    "tags": [
     "raises-exception"
    ]
   },
   "outputs": [],
   "source": [
    "# Oops, using `.str` fails even for all-string-dtype columns.\n",
    "df[['Country Name', 'Code']].str.len()"
   ]
  },
  {
   "cell_type": "markdown",
   "id": "891a0f4a",
   "metadata": {},
   "source": [
    "Notice here we did not set `Code` as the index of the Data Frame, we are just treating it as a column containing string data. The cell below sets it as the index, so we can use label-based indexing later in this tutorial:"
   ]
  },
  {
   "cell_type": "code",
   "execution_count": null,
   "id": "c0e89338",
   "metadata": {},
   "outputs": [],
   "source": [
    "# Set the index\n",
    "df.index = df['Code']"
   ]
  },
  {
   "cell_type": "markdown",
   "id": "04f35ebf",
   "metadata": {},
   "source": [
    "So, we cannot apply string methods to multiple columns at once, but if we focus on one column, we can use all of the available string methods:"
   ]
  },
  {
   "cell_type": "code",
   "execution_count": null,
   "id": "3043c973",
   "metadata": {},
   "outputs": [],
   "source": [
    "# The `.lower()` method\n",
    "df['Country Name'].str.lower()"
   ]
  },
  {
   "cell_type": "code",
   "execution_count": null,
   "id": "ff3c5ac9",
   "metadata": {},
   "outputs": [],
   "source": [
    "# The `.upper()` method\n",
    "df['Country Name'].str.upper()"
   ]
  },
  {
   "cell_type": "code",
   "execution_count": null,
   "id": "c5734583",
   "metadata": {},
   "outputs": [],
   "source": [
    "# Using the `str.count()` method\n",
    "df['Country Name'].str.count('a') "
   ]
  },
  {
   "cell_type": "code",
   "execution_count": null,
   "id": "62663380",
   "metadata": {},
   "outputs": [],
   "source": [
    "# The `str.contains()` method\n",
    "df['Country Name'].str.contains('Russia')"
   ]
  },
  {
   "cell_type": "code",
   "execution_count": null,
   "id": "4fa08956",
   "metadata": {},
   "outputs": [],
   "source": [
    "# See if there are any Trues in the Series\n",
    "df['Country Name'].str.contains('Russia').sum()"
   ]
  },
  {
   "cell_type": "code",
   "execution_count": null,
   "id": "b0eaace4",
   "metadata": {},
   "outputs": [],
   "source": [
    "# Filtering data using the `str.contains()` method\n",
    "df[df['Country Name'].str.contains('Russia')]"
   ]
  },
  {
   "cell_type": "markdown",
   "id": "15826d0c",
   "metadata": {},
   "source": [
    "## Uses of string methods in data wrangling\n",
    "\n",
    "As we mentioned earlier, string methods generally useful for cleaning text data. This can be especially useful when combining data from different sources, where different conventions in data entry may lead to similar data being formatted differently.\n",
    "\n",
    "To explore this, let's import a new dataset, which, like the HDI data, contains observations at the country level (e.g. each row is an observarion from a specific country).\n",
    "\n",
    "This dataset is also at the country-level of granularity, and it contains various data about countries, including maternal mortality rates. You can read more about the dataset [here](data/gender_stats)."
   ]
  },
  {
   "cell_type": "code",
   "execution_count": null,
   "id": "fd9238e7",
   "metadata": {},
   "outputs": [],
   "source": [
    "# Import gender statistics dataset\n",
    "gender_df = pd.read_csv(\"data/gender_stats.csv\")\n",
    "gender_df"
   ]
  },
  {
   "cell_type": "code",
   "execution_count": null,
   "id": "b727963e",
   "metadata": {},
   "outputs": [],
   "source": [
    "gender_df[gender_df['country_name'].str.startswith('S')]"
   ]
  },
  {
   "cell_type": "markdown",
   "id": "72a55f64",
   "metadata": {},
   "source": [
    "Let's say we are interested in Russia, but do not know how the name of the country is formatted. We can use the `str.contains()` method to search for likely matches."
   ]
  },
  {
   "cell_type": "code",
   "execution_count": null,
   "id": "8d7cb870",
   "metadata": {},
   "outputs": [],
   "source": [
    "# Hmmm is Russia not in this data?\n",
    "gender_df['country_name'].str.contains('Russia')"
   ]
  },
  {
   "cell_type": "markdown",
   "id": "23422725",
   "metadata": {},
   "source": [
    "That output is pretty opaque, maybe there is a `True` in there somewhere. Because Python treats `True` values as being equal to `1`, we can chain on the `.sum()` method to count the number of `True` values in the above Boolean Series:"
   ]
  },
  {
   "cell_type": "code",
   "execution_count": null,
   "id": "06a73494",
   "metadata": {},
   "outputs": [],
   "source": [
    "# Count the Trues for country names containing \"Russia\" in the `maternal\n",
    "gender_df['country_name'].str.contains('Russia').sum()"
   ]
  },
  {
   "cell_type": "markdown",
   "id": "e9497258",
   "metadata": {},
   "source": [
    "It appears we do have one match. Let's use the Boolean Series we just made to have a look at the row that contains the string \"Russia\" in the `country_name` column:"
   ]
  },
  {
   "cell_type": "code",
   "execution_count": null,
   "id": "b02d0f90",
   "metadata": {},
   "outputs": [],
   "source": [
    "# Use the `str.contains()` method to filter the data\n",
    "gender_df[gender_df['country_name'].str.contains('Russia')]"
   ]
  },
  {
   "cell_type": "markdown",
   "id": "52845747",
   "metadata": {},
   "source": [
    "So, we have found the row for Russia in this new dataset. Let's compare the naming convention to the HDI data, in the `df` Data Frame:"
   ]
  },
  {
   "cell_type": "code",
   "execution_count": null,
   "id": "06c871b6",
   "metadata": {},
   "outputs": [],
   "source": [
    "# Get the data for Russia, from the HDI data\n",
    "df.loc['RUS']"
   ]
  },
  {
   "cell_type": "markdown",
   "id": "20c047f7",
   "metadata": {},
   "source": [
    "In due course, we may want to\n",
    "[merge](https://pandas.pydata.org/docs/reference/api/pandas.DataFrame.merge.html)\n",
    "these datasets. To do that, we need common identifiers linking rows in each\n",
    "dataset which refer to the same observational units (in this case countries).\n",
    "\n",
    "String methods are our friend here. We can use the process just outlined for\n",
    "find data for a specific country, and then use other methods to ensure uniform\n",
    "formatting between the datasets, such that we can merge them:"
   ]
  },
  {
   "cell_type": "code",
   "execution_count": null,
   "id": "218617fb",
   "metadata": {},
   "outputs": [],
   "source": [
    "# Format the maternal mortality data for Russia to use the same country name as the HDI data\n",
    "gender_df['country_name'] = gender_df['country_name'].str.replace('Russian Federation', 'Russia')\n",
    "\n",
    "# Show the newly formatted row\n",
    "gender_df[gender_df['country_name'].str.contains('Russia')]"
   ]
  },
  {
   "cell_type": "markdown",
   "id": "c9bd99bb",
   "metadata": {},
   "source": [
    "We are now ready for a clean and stress-free data merge! (*NB*: we are grossly exaggerating here, merging datasets is almost never stress-free...)"
   ]
  },
  {
   "cell_type": "markdown",
   "id": "ecb0afce",
   "metadata": {},
   "source": [
    "**Start of exercise**\n",
    "\n",
    "The `gender_df['country_name']` Series contains a lot of formatting that is nice to read, but annoying\n",
    "to use in indexing operations (or any time where we need to type them).\n",
    "\n",
    "Entries like `'Virgin Islands (U.S.)'` and `'St. Martin (French part)'` will be a pain to type if we need to use them in `.loc` indexing operations, for instance.\n",
    "\n",
    "We would therefore like to create a new Series containing versions of these names that are easier to type.\n",
    "\n",
    "That is what we have done with some hidden code.   The hidden code:\n",
    "\n",
    "* Processes the `gender_df['country_name']` Series to make a new Series where we have replaced the original names (above) with versions of these names that are easier to type.\n",
    "* Taken this new Series, and run `sorted(new_series.unique())` to show you the new names.\n",
    "\n",
    "Have a careful look at the resulting list below - and work out which Pandas string methods have been used to get from the `gender_df['country_name']` Series to the new Series, to which we have applied `sorted(new_series.unique())`"
   ]
  },
  {
   "cell_type": "code",
   "execution_count": null,
   "id": "a1a5f34e",
   "metadata": {},
   "outputs": [],
   "source": [
    "# This is the answer - don't use it in your solution.\n",
    "sorted(answer_clean_series.unique())"
   ]
  },
  {
   "cell_type": "markdown",
   "id": "fa447faa",
   "metadata": {},
   "source": [
    "Your task now is to make a Series called `my_clean_series` which gives (with `sorted(my_clean_series.unique())`) a list that is *identical* to the list shown above.\n",
    "\n",
    "You can perform the relevant string transformations using Pandas string methods on the `gender_df['country_name']` Series, and then run `sorted(my_clean_names.unique())` to get the final array.\n",
    "\n",
    "There is a cell at the end of the exercise to check your answer.\n",
    "\n",
    "Try to do the string transformation in as few lines of code as possible and **using ONLY Pandas string methods**.\n",
    "\n",
    "**Hint**: There are many ways to do this, but for maximum beauty, you might consider having a look at [Python's str.maketrans function](https://docs.python.org/3.3/library/stdtypes.html?highlight=maketrans#str.maketrans).  And yes, you can use `str.maketrans` as well.  Or you can use some other algorithm of your choice."
   ]
  },
  {
   "cell_type": "code",
   "execution_count": null,
   "id": "0b4d103c",
   "metadata": {},
   "outputs": [],
   "source": [
    "# Your code here to create a new Pandas Series with modified\n",
    "# country names, as above.\n",
    "my_clean_series = pd.Series()  # Edit here to solve the problem.\n",
    "# ...\n",
    "# But don't modify the code below.\n",
    "my_clean_names = sorted(my_clean_series.unique())\n",
    "my_clean_names"
   ]
  },
  {
   "cell_type": "code",
   "execution_count": null,
   "id": "ff6b87fb",
   "metadata": {},
   "outputs": [],
   "source": [
    "# Run this cell to check your answer.\n",
    "# It will return 'Success' if your cleaning worked correctly.\n",
    "\n",
    "def check_names(proposed_solution):\n",
    "    \"\"\" Check resulting names from processed Series `proposed_solution`\n",
    "    \"\"\"\n",
    "    answer_arr = np.array(sorted(answer_clean_series.unique()))\n",
    "    solution_arr = np.array(sorted(proposed_solution.unique()))\n",
    "    if len(answer_arr) != len(solution_arr):\n",
    "        return 'The answer and solution names are of different lengths'\n",
    "    not_matching = answer_arr != solution_arr\n",
    "    if np.any(not_matching):\n",
    "        print('My solution unmatched', solution_arr[not_matching])\n",
    "        print('Desired unmatched', answer_arr[not_matching])\n",
    "        return 'Remaining unmatched values'\n",
    "    return 'Success'\n",
    "    \n",
    "check_names(my_clean_series)"
   ]
  },
  {
   "cell_type": "markdown",
   "id": "0280d9f9",
   "metadata": {},
   "source": [
    "**End of exercise**"
   ]
  },
  {
   "cell_type": "markdown",
   "id": "a544c99d",
   "metadata": {},
   "source": [
    "**See the [corresponding page](/pandas_from_numpy/0_6_more_pandas_methods_strings.html) for solution**\n",
    "\n",
    "## Summary\n",
    "\n",
    "This page looked at string methods in base python, Numpy and Pandas.\n",
    "\n",
    "Numpy and Python inherit their string methods from base python, but apply them in different ways. \n",
    "\n",
    "Numpy does not have a set of methods for applying string methods to every element of an array simultaneously. We need functions from the `np.char` module if we want this.\n",
    "\n",
    "By contrast, Pandas Series - whether in isolation or as columns in a Data Frame - have the `.str.` accessor for easily performing string operations on every element in a Series."
   ]
  }
 ],
 "metadata": {
  "jupytext": {
   "formats": "ipynb,Rmd"
  },
  "kernelspec": {
   "display_name": "Python (Pyodide)",
   "name": "python"
  }
 },
 "nbformat": 4,
 "nbformat_minor": 5
}
