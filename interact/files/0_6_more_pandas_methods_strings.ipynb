{
 "cells": [
  {
   "cell_type": "markdown",
   "id": "82762581",
   "metadata": {},
   "source": [
    "# More Pandas methods\n",
    "\n",
    "<!---\n",
    "📝 NOTE: Covered here:\n",
    "\n",
    "* string operations, ex: df[‘name’].str[2:4], df[‘name’].str.count('a') [For\n",
    "  this, compare different country names between Mat > Mort data and\n",
    "  Dev/Fertility data, e.g. different names for Russia and South Korea])\n",
    "\n",
    "* Strings (and dates) have a special accessor to perform vectorized string (or\n",
    "  date) operations\n",
    "\n",
    "* specialized accessor methods Series.str\n",
    "\n",
    "**Matthew Notes: do everything on a Series first. Series.str follow the pandas\n",
    "from numpy structure**\n",
    "\n",
    "**For any string operations, show different routes to the same outcome e.g. via Boolean indexing and then replace etc.**\n",
    "\n",
    "Structure of this page:\n",
    "\n",
    "* show python string methods/string methods with numpy arrays\n",
    "\n",
    "* build a Series and show Series.str methods\n",
    "\n",
    "* show str methods with a dataframe + how this can be very useful when\n",
    "  cleaning data\n",
    "-->\n",
    "\n",
    "String/text data is often used to represent categorical variables, and commonly appears in a variety of data analysis contexts. When dealing with string/text data we will frequently find that we need to alter the strings to correct errors, improve clarity, make formatting uniform, or for a host of other reasons.\n",
    "\n",
    "String methods are inherent to Python, and these methods or variants of them can all be used on Numpy arrays and Pandas Series/Data Frames. However, Numpy and Pandas use different interfaces for interacting with strings. To understand the differences between Numpy and Pandas with respect to strings, let's begin at the foundation, the in-built string methods of Python. The cell below contains a simple string.\n",
    "\n",
    "*NB*: if you are running this tutorial interactively, and you like messy cell outputs, you may want to use `dir()` again here to see the full complement of available string methods."
   ]
  },
  {
   "cell_type": "code",
   "execution_count": null,
   "id": "a1b44bf2",
   "metadata": {},
   "outputs": [],
   "source": [
    "# A string\n",
    "string = \"string_of_words\"\n",
    "\n",
    "string"
   ]
  },
  {
   "cell_type": "markdown",
   "id": "8cc700fa",
   "metadata": {},
   "source": [
    "Remember that *a method is a function attached to an object*. In this case our object is a string. \n",
    "\n",
    "Let's say we like reading values in our data as if they are being spoken in a loud voice. If this is the case we can alter the format of the string to make all letters uppercase, using the `.upper()` method:"
   ]
  },
  {
   "cell_type": "code",
   "execution_count": null,
   "id": "47adfea6",
   "metadata": {},
   "outputs": [],
   "source": [
    "# The `.upper()` method\n",
    "string.upper()"
   ]
  },
  {
   "cell_type": "markdown",
   "id": "5a789f2c",
   "metadata": {},
   "source": [
    "We can replace characters in the string using the aptly named `.replace()` method. Here we supply two strings to the method, first the string we want to replace, and then second, the string we want to replace it with. In this case, let's `.replace()` the underscores with a blank space:"
   ]
  },
  {
   "cell_type": "code",
   "execution_count": null,
   "id": "dc101d39",
   "metadata": {},
   "outputs": [],
   "source": [
    "# The `.replace()` method\n",
    "string.replace('_', ' ')"
   ]
  },
  {
   "cell_type": "markdown",
   "id": "3e45bffa",
   "metadata": {},
   "source": [
    "Fancier formatting methods will let us adjust strings, for instance, in title case (`.title()`):"
   ]
  },
  {
   "cell_type": "code",
   "execution_count": null,
   "id": "f80d6754",
   "metadata": {},
   "outputs": [],
   "source": [
    "# A more elaborate string method\n",
    "string.title()"
   ]
  },
  {
   "cell_type": "markdown",
   "id": "396a1f44",
   "metadata": {},
   "source": [
    "In Python, strings are collections of characters, and so we can slice them as we would a list or array, using integer indexes and the `:` symbol:"
   ]
  },
  {
   "cell_type": "code",
   "execution_count": null,
   "id": "c1a3a3e2",
   "metadata": {},
   "outputs": [],
   "source": [
    "# Slicing with strings\n",
    "string[0:1]"
   ]
  },
  {
   "cell_type": "code",
   "execution_count": null,
   "id": "7f7bc164",
   "metadata": {},
   "outputs": [],
   "source": [
    "string[0:2]"
   ]
  },
  {
   "cell_type": "code",
   "execution_count": null,
   "id": "b0077904",
   "metadata": {},
   "outputs": [],
   "source": [
    "string[0:7]"
   ]
  },
  {
   "cell_type": "markdown",
   "id": "47ed8738",
   "metadata": {},
   "source": [
    "You can visit [this page](https://www.w3schools.com/python/python_ref_string.asp) to see the variety of string methods available in base Python."
   ]
  },
  {
   "cell_type": "markdown",
   "id": "19905086",
   "metadata": {},
   "source": [
    "## Strings methods with numpy arrays\n",
    "\n",
    "So, strings in base python have a large number of in-built methods - what about strings in Numpy?\n",
    "\n",
    "Numpy arrays themselves do not have specific string methods, but the in-built Python string methods can be called on individual string values in a Numpy array. Alternatively, we can use functions from the `np.char.` module to operate on all the strings in the array concurrently.\n",
    "\n",
    "To investigate how string data is handled in Numpy, let's make some arrays containing strings from now (very) familiar [HDI dataset](https://ourworldindata.org/grapher/children-per-woman-vs-human-development-index):"
   ]
  },
  {
   "cell_type": "code",
   "execution_count": null,
   "id": "05256429",
   "metadata": {},
   "outputs": [],
   "source": [
    "# Import libraries (no imports were needed prior to this point as string methods are part of base python)\n",
    "import numpy as np\n",
    "import pandas as pd\n",
    "\n",
    "# Standard three-letter code for each country\n",
    "country_codes_array = np.array(['AUS', 'BRA', 'CAN',\n",
    "                          'CHN', 'DEU', 'ESP',\n",
    "                          'FRA', 'GBR', 'IND',\n",
    "                          'ITA', 'JPN', 'KOR',\n",
    "                          'MEX', 'RUS', 'USA'])\n",
    "country_codes_array"
   ]
  },
  {
   "cell_type": "code",
   "execution_count": null,
   "id": "f49230f4",
   "metadata": {},
   "outputs": [],
   "source": [
    "# Country names\n",
    "country_names_array = np.array(['Australia', 'Brazil', 'Canada',\n",
    "                          'China', 'Germany', 'Spain',\n",
    "                          'France', 'United Kingdom', 'India',\n",
    "                          'Italy', 'Japan', 'South Korea',\n",
    "                          'Mexico', 'Russia', 'United States'])\n",
    "country_names_array"
   ]
  },
  {
   "cell_type": "markdown",
   "id": "54fdcc01",
   "metadata": {},
   "source": [
    "For comparison, let's make an array containing the numerical HDI scores:"
   ]
  },
  {
   "cell_type": "code",
   "execution_count": null,
   "id": "15a237e8",
   "metadata": {},
   "outputs": [],
   "source": [
    "# Human Development Index Scores for each country\n",
    "hdis_array = np.array([0.896, 0.668, 0.89 , 0.586, \n",
    "                 0.844, 0.89 , 0.49 , 0.842, \n",
    "                 0.883, 0.709, 0.733, 0.824,\n",
    "                 0.828, 0.863, 0.894])\n",
    "\n",
    "hdis_array"
   ]
  },
  {
   "cell_type": "markdown",
   "id": "961ba294",
   "metadata": {},
   "source": [
    "The `dtype` attribute of the first two arrays begins with `<U`, indicating we are dealing with string data:"
   ]
  },
  {
   "cell_type": "code",
   "execution_count": null,
   "id": "c7bfc063",
   "metadata": {},
   "outputs": [],
   "source": [
    "# Show the dtype of the country codes array (e.g. string data)\n",
    "country_codes_array.dtype"
   ]
  },
  {
   "cell_type": "code",
   "execution_count": null,
   "id": "5556f701",
   "metadata": {},
   "outputs": [],
   "source": [
    "# Show the dtype of the country names array (e.g. string data)\n",
    "country_names_array.dtype"
   ]
  },
  {
   "cell_type": "markdown",
   "id": "7161b97a",
   "metadata": {},
   "source": [
    "Conversely, the `hdis_array` contains data of a numerical type:"
   ]
  },
  {
   "cell_type": "code",
   "execution_count": null,
   "id": "1c9a9df2",
   "metadata": {},
   "outputs": [],
   "source": [
    "# Show the dtype of the hdis array (e.g. numeric data)\n",
    "hdis_array.dtype"
   ]
  },
  {
   "cell_type": "markdown",
   "id": "7caccebc",
   "metadata": {},
   "source": [
    "Using direct indexing, we can use all of the in-built Python string methods on the individual values within a Numpy array:"
   ]
  },
  {
   "cell_type": "code",
   "execution_count": null,
   "id": "0bcab912",
   "metadata": {},
   "outputs": [],
   "source": [
    "# Methods on an individual string\n",
    "country_codes_array[0]"
   ]
  },
  {
   "cell_type": "markdown",
   "id": "70e772d4",
   "metadata": {},
   "source": [
    "For instance, we can change the case of the value:"
   ]
  },
  {
   "cell_type": "code",
   "execution_count": null,
   "id": "2387c2a4",
   "metadata": {},
   "outputs": [],
   "source": [
    "# Lowercase\n",
    "country_codes_array[0].lower()"
   ]
  },
  {
   "cell_type": "code",
   "execution_count": null,
   "id": "2330ea96",
   "metadata": {},
   "outputs": [],
   "source": [
    "# Uppercase\n",
    "country_codes_array[0].upper()"
   ]
  },
  {
   "cell_type": "markdown",
   "id": "830094be",
   "metadata": {},
   "source": [
    "We can also replace elements of the string:"
   ]
  },
  {
   "cell_type": "code",
   "execution_count": null,
   "id": "194bb487",
   "metadata": {},
   "outputs": [],
   "source": [
    "country_codes_array[0].replace(\"A\", \"HELLO\")"
   ]
  },
  {
   "cell_type": "markdown",
   "id": "d5c391ea",
   "metadata": {},
   "source": [
    "Understandably, if we try to use any of these string methods on numerical data, we will get an error:"
   ]
  },
  {
   "cell_type": "code",
   "execution_count": null,
   "id": "e217d706",
   "metadata": {
    "tags": [
     "raises-exception"
    ]
   },
   "outputs": [],
   "source": [
    "# Oh no!\n",
    "hdis_array[0].upper()"
   ]
  },
  {
   "cell_type": "markdown",
   "id": "ac5a8fc5",
   "metadata": {},
   "source": [
    "All of the string methods used in this section above have been called on single string values from a Numpy array. If we try to use a string method on all values of the array simultaneously, we will also get an error:"
   ]
  },
  {
   "cell_type": "code",
   "execution_count": null,
   "id": "c178171f",
   "metadata": {
    "tags": [
     "raises-exception"
    ]
   },
   "outputs": [],
   "source": [
    "# This does not work\n",
    "country_codes_array.lower()"
   ]
  },
  {
   "cell_type": "markdown",
   "id": "4549925a",
   "metadata": {},
   "source": [
    "The same error occurs if we try to use a string method on a slice from the array:"
   ]
  },
  {
   "cell_type": "code",
   "execution_count": null,
   "id": "c63eed97",
   "metadata": {
    "tags": [
     "raises-exception"
    ]
   },
   "outputs": [],
   "source": [
    "# This also does not work\n",
    "country_codes_array[0:2].lower()"
   ]
  },
  {
   "cell_type": "markdown",
   "id": "b64a648c",
   "metadata": {},
   "source": [
    "String methods in Numpy must be called from the single string values or using the `.char.` module.\n",
    "\n",
    "For example, we can use the `np.char.lower()` function to operate on all values of the Numpy array at once:"
   ]
  },
  {
   "cell_type": "code",
   "execution_count": null,
   "id": "1aa8e9f0",
   "metadata": {},
   "outputs": [],
   "source": [
    "# This DOES work\n",
    "np.char.lower(country_codes_array)"
   ]
  },
  {
   "cell_type": "code",
   "execution_count": null,
   "id": "598c84a8",
   "metadata": {},
   "outputs": [],
   "source": [
    "# This DOES work too\n",
    "np.char.replace(country_codes_array, 'A', '!')"
   ]
  },
  {
   "cell_type": "markdown",
   "id": "28d45b2a",
   "metadata": {},
   "source": [
    "Pandas deals with string data slightly differently to Numpy. The elements of the `.values` component of a Pandas Series can be operated on altogether by using the `.str.` accessor, to which we will now turn our attention."
   ]
  },
  {
   "cell_type": "markdown",
   "id": "e2636418",
   "metadata": {},
   "source": [
    "## String methods with Pandas Series\n",
    "\n",
    "As mentioned above, Pandas Series have a specialised accessor (`.str.`) which bypasses the need to use `np.char.` when we want to do something to all of the string values in a Series.\n",
    "\n",
    "To see how this works, let's construct a Series from our `country_names` array:"
   ]
  },
  {
   "cell_type": "code",
   "execution_count": null,
   "id": "d62ebdf5",
   "metadata": {},
   "outputs": [],
   "source": [
    "# Show again from Series\n",
    "names_series =  pd.Series(country_names_array,\n",
    "                          index=country_codes_array)\n",
    "\n",
    "names_series"
   ]
  },
  {
   "cell_type": "markdown",
   "id": "9b43c411",
   "metadata": {},
   "source": [
    "To use the `.str.` accessor, we just place it after our object (e.g. our Series containing our string data). We then can call a variety of string methods, which we be applied to all elements in the `.values` array of the Series:"
   ]
  },
  {
   "cell_type": "code",
   "execution_count": null,
   "id": "f376440f",
   "metadata": {},
   "outputs": [],
   "source": [
    "# String methods on Series\n",
    "names_series.str.upper()"
   ]
  },
  {
   "cell_type": "code",
   "execution_count": null,
   "id": "99e661b1",
   "metadata": {},
   "outputs": [],
   "source": [
    "# The `.str.lower()` method\n",
    "names_series.str.lower()"
   ]
  },
  {
   "cell_type": "markdown",
   "id": "47974db6",
   "metadata": {},
   "source": [
    "The `.replace()` method is also available here, it will operate on all the elements in the Series, though in this case (as there is only one `United States`!) it will only alter one value:"
   ]
  },
  {
   "cell_type": "code",
   "execution_count": null,
   "id": "d047fa1b",
   "metadata": {},
   "outputs": [],
   "source": [
    "# Replacing values in the Series\n",
    "names_series.str.replace(\"United States\", \"USA\")"
   ]
  },
  {
   "cell_type": "markdown",
   "id": "473f25d9",
   "metadata": {},
   "source": [
    "The syntax for slicing strings is the same as for a single value, but it also operates across all elements in the Series at once:"
   ]
  },
  {
   "cell_type": "code",
   "execution_count": null,
   "id": "901919c0",
   "metadata": {},
   "outputs": [],
   "source": [
    "# Slicing with strings, in a Series\n",
    "names_series.str[2:4]"
   ]
  },
  {
   "cell_type": "markdown",
   "id": "fb90830a",
   "metadata": {},
   "source": [
    "In contrast to the behaviour of Numpy arrays, string methods used via the `.str.` accessor can be used when slicing the Series. Be careful to use `.iloc` or `loc` here, for the [aforementioned reasons](0_1_to_loc_or_iloc.Rmd)."
   ]
  },
  {
   "cell_type": "code",
   "execution_count": null,
   "id": "a05deec6",
   "metadata": {},
   "outputs": [],
   "source": [
    "# Slicing with Series and string methods\n",
    "names_series.iloc[0:3].str.replace('a', '!')"
   ]
  },
  {
   "cell_type": "markdown",
   "id": "3d07192a",
   "metadata": {},
   "source": [
    "Using the `.contains()` method, Boolean Series can be generated by searching for specific instances of a substring in each value:"
   ]
  },
  {
   "cell_type": "code",
   "execution_count": null,
   "id": "578c3725",
   "metadata": {},
   "outputs": [],
   "source": [
    "# Generate a Boolean Series, True where the value contains \"Ind\"\n",
    "names_series.str.contains(\"Ind\")"
   ]
  },
  {
   "cell_type": "markdown",
   "id": "75bee138",
   "metadata": {},
   "source": [
    "These Boolean Series can be used to retrieve specific values from the original Series, via Boolean filtering:"
   ]
  },
  {
   "cell_type": "code",
   "execution_count": null,
   "id": "6a17c1f1",
   "metadata": {},
   "outputs": [],
   "source": [
    "# Use Boolean filtering to retrieve a specific datapoint\n",
    "names_series[names_series.str.contains(\"Ind\")]"
   ]
  },
  {
   "cell_type": "markdown",
   "id": "786c0678",
   "metadata": {},
   "source": [
    "## String methods with Pandas DataFrames\n",
    "\n",
    "So, Pandas makes it somewhat easier than Numpy to perform operations on all the string elements at once. \n",
    "\n",
    "Remember that *a DataFrame is a dictionary-like collection of Series*, and so everything we have just seen of strings in Pandas Series applies to the *columns* of a Data Frame.\n",
    "\n",
    "Let's import the [HDI data](https://ourworldindata.org/grapher/children-per-woman-vs-human-development-index) in a Pandas Data Frame:"
   ]
  },
  {
   "cell_type": "code",
   "execution_count": null,
   "id": "1828508d",
   "metadata": {},
   "outputs": [],
   "source": [
    "# Import data\n",
    "df = pd.read_csv(\"data/year_2000_hdi_fert.csv\")\n",
    "\n",
    "# Show the data\n",
    "df"
   ]
  },
  {
   "cell_type": "markdown",
   "id": "33921b8e",
   "metadata": {},
   "source": [
    "Because each Data Frame column is nothing other than a Pandas Series, we can use string methods in the same way as we saw in the last section:"
   ]
  },
  {
   "cell_type": "code",
   "execution_count": null,
   "id": "4544ca11",
   "metadata": {},
   "outputs": [],
   "source": [
    "# Use the `.replace()` method\n",
    "df['Country Name'].str.replace('I', 'HELLO')"
   ]
  },
  {
   "cell_type": "markdown",
   "id": "871db70e",
   "metadata": {},
   "source": [
    "However, Pandas will not let us use string methods on the whole Data Frame at once:"
   ]
  },
  {
   "cell_type": "code",
   "execution_count": null,
   "id": "e19765ed",
   "metadata": {
    "tags": [
     "raises-exception"
    ]
   },
   "outputs": [],
   "source": [
    "# Cannot use `.str` methods on whole Data Frame.\n",
    "df.str.upper()"
   ]
  },
  {
   "cell_type": "markdown",
   "id": "3038eb7a",
   "metadata": {},
   "source": [
    "We might think that this is because not all the data in the Data Frame is of\n",
    "the string type, but this is not the case. We also cannot use Pandas string\n",
    "methods on Data Frames with columns only containing string data, as we get the\n",
    "same error:"
   ]
  },
  {
   "cell_type": "code",
   "execution_count": null,
   "id": "e8dcff69",
   "metadata": {
    "tags": [
     "raises-exception"
    ]
   },
   "outputs": [],
   "source": [
    "# Oops, using `.str` fails even for all-string-dtype columns.\n",
    "df[['Country Name', 'Code']].str.len()"
   ]
  },
  {
   "cell_type": "markdown",
   "id": "06d1b4ee",
   "metadata": {},
   "source": [
    "Notice here we did not set `Code` as the index of the Data Frame, we are just treating it as a column containing string data. The cell below sets it as the index, so we can use label-based indexing later in this tutorial:"
   ]
  },
  {
   "cell_type": "code",
   "execution_count": null,
   "id": "232921f9",
   "metadata": {},
   "outputs": [],
   "source": [
    "# Set the index\n",
    "df.index = df['Code']"
   ]
  },
  {
   "cell_type": "markdown",
   "id": "640fc692",
   "metadata": {},
   "source": [
    "So, we cannot apply string methods to multiple columns at once, but if we focus on one column, we can use all of the available string methods:"
   ]
  },
  {
   "cell_type": "code",
   "execution_count": null,
   "id": "8f8237e3",
   "metadata": {},
   "outputs": [],
   "source": [
    "# The `.lower()` method\n",
    "df['Country Name'].str.lower()"
   ]
  },
  {
   "cell_type": "code",
   "execution_count": null,
   "id": "e713d0a1",
   "metadata": {},
   "outputs": [],
   "source": [
    "# The `.upper()` method\n",
    "df['Country Name'].str.upper()"
   ]
  },
  {
   "cell_type": "code",
   "execution_count": null,
   "id": "3bc9c061",
   "metadata": {},
   "outputs": [],
   "source": [
    "# Using the `str.count()` method\n",
    "df['Country Name'].str.count('a') "
   ]
  },
  {
   "cell_type": "code",
   "execution_count": null,
   "id": "3e8bc1f7",
   "metadata": {},
   "outputs": [],
   "source": [
    "# The `str.contains()` method\n",
    "df['Country Name'].str.contains('Russia')"
   ]
  },
  {
   "cell_type": "code",
   "execution_count": null,
   "id": "64df8e0a",
   "metadata": {},
   "outputs": [],
   "source": [
    "# See if there are any Trues in the Series\n",
    "df['Country Name'].str.contains('Russia').sum()/len(df)"
   ]
  },
  {
   "cell_type": "code",
   "execution_count": null,
   "id": "93b8541a",
   "metadata": {},
   "outputs": [],
   "source": [
    "# Filtering data using the `str.contains()` method\n",
    "df[df['Country Name'].str.contains('Russia')]"
   ]
  },
  {
   "cell_type": "markdown",
   "id": "38f7006a",
   "metadata": {},
   "source": [
    "## Uses of string methods in data wrangling\n",
    "\n",
    "As we mentioned earlier, string methods generally useful for cleaning text data. This can be especially useful when combining data from different sources, where different conventions in data entry may lead to similar data being formatted differently.\n",
    "\n",
    "To explore this, let's import a new dataset, which, like the HDI data, contains observations at the country level (e.g. each row is an observarion from a specific country).\n",
    "\n",
    "This dataset is also at the country-level of granularity, and it contains information about maternal mortality rates. You can read more about the dataset [here](https://github.com/odsti/datasets/tree/main/gender_stats)."
   ]
  },
  {
   "cell_type": "code",
   "execution_count": null,
   "id": "00c4412e",
   "metadata": {},
   "outputs": [],
   "source": [
    "# Import maternal mortality dataset\n",
    "maternal_mort = pd.read_csv(\"data/gender_stats.csv\")\n",
    "\n",
    "maternal_mort"
   ]
  },
  {
   "cell_type": "markdown",
   "id": "4a4c7271",
   "metadata": {},
   "source": [
    "Let's say we are interested in Russia, but do not know how the name of the country is formatted. We can use the `str.contains()` method to search for likely matches."
   ]
  },
  {
   "cell_type": "code",
   "execution_count": null,
   "id": "dede0b10",
   "metadata": {},
   "outputs": [],
   "source": [
    "# Hmmm is Russia not in this data?\n",
    "maternal_mort['country_name'].str.contains('Russia')"
   ]
  },
  {
   "cell_type": "markdown",
   "id": "369ebed2",
   "metadata": {},
   "source": [
    "That output is pretty opaque, maybe there is a `True` in there somewhere. Because Python treats `True` values as being equal to `1`, we can chain on the `.sum()` method to count the number of `True` values in the above Boolean Series:"
   ]
  },
  {
   "cell_type": "code",
   "execution_count": null,
   "id": "7f62ccf7",
   "metadata": {},
   "outputs": [],
   "source": [
    "# Count the Trues for country names containing \"Russia\" in the `maternal\n",
    "maternal_mort['country_name'].str.contains('Russia').sum()"
   ]
  },
  {
   "cell_type": "markdown",
   "id": "f59fbfc6",
   "metadata": {},
   "source": [
    "It appears we do have one match. Let's use the Boolean Series we just made to have a look at the row that contains the string \"Russia\" in the `country_name` column:"
   ]
  },
  {
   "cell_type": "code",
   "execution_count": null,
   "id": "dc755b93",
   "metadata": {},
   "outputs": [],
   "source": [
    "# Use the `str.contains()` method to filter the data\n",
    "maternal_mort[maternal_mort['country_name'].str.contains('Russia')]"
   ]
  },
  {
   "cell_type": "markdown",
   "id": "2886eefa",
   "metadata": {},
   "source": [
    "So, we have found the row for Russia in this new dataset. Let's compare the naming convention to the HDI data, in the `df` Data Frame:"
   ]
  },
  {
   "cell_type": "code",
   "execution_count": null,
   "id": "5b2d4d34",
   "metadata": {},
   "outputs": [],
   "source": [
    "# Get the data for Russia, from the HDI data\n",
    "df.loc['RUS']"
   ]
  },
  {
   "cell_type": "markdown",
   "id": "9166f712",
   "metadata": {},
   "source": [
    "We may want to [merge](https://pandas.pydata.org/docs/reference/api/pandas.DataFrame.merge.html) these datasets. To do that, we need common identifiers linking rows in each dataset which refer to the same observational units (in this case countries). \n",
    "\n",
    "String methods are our friend here. We can use the process just outlined for find data for a specific country, and then use other methods to ensure uniform formatting between the datasets, such that we can merge them:"
   ]
  },
  {
   "cell_type": "code",
   "execution_count": null,
   "id": "6529582c",
   "metadata": {},
   "outputs": [],
   "source": [
    "# Format the maternal mortality data for Russia to use the same country name as the HDI data\n",
    "maternal_mort['country_name'] = maternal_mort['country_name'].str.replace('Russian Federation', 'Russia')\n",
    "\n",
    "# Show the newly formatted row\n",
    "maternal_mort[maternal_mort['country_name'].str.contains('Russia')]"
   ]
  },
  {
   "cell_type": "markdown",
   "id": "98a0759a",
   "metadata": {},
   "source": [
    "We are now ready for a clean and stress-free data merge! (*NB*: we are lying here, merging datasets is almost never stress-free...)"
   ]
  },
  {
   "cell_type": "markdown",
   "id": "8cbdd4a8",
   "metadata": {},
   "source": [
    "## Summary\n",
    "\n",
    "This page looked at string methods in base python, Numpy and Pandas.\n",
    "\n",
    "Numpy and Python inherit their string methods from base python, but apply them in different ways. \n",
    "\n",
    "Numpy does not have a set of methods for applying string methods to every element of an array simultaneously. We need functions from the `np.char` module if we want this.\n",
    "\n",
    "By contrast, Pandas Series - whether in isolation or as columns in a Data Frame - have the `.str.` accessor for easily performing string operations on every element in a Series."
   ]
  }
 ],
 "metadata": {
  "jupytext": {
   "formats": "ipynb,Rmd"
  },
  "kernelspec": {
   "display_name": "Python (Pyodide)",
   "name": "python"
  }
 },
 "nbformat": 4,
 "nbformat_minor": 5
}
