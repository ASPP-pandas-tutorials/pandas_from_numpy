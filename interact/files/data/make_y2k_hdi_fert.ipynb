{
 "cells": [
  {
   "cell_type": "markdown",
   "id": "0f0c8647",
   "metadata": {},
   "source": [
    "# Create year 2000 dataset from input data"
   ]
  },
  {
   "cell_type": "code",
   "execution_count": null,
   "id": "fb0b6de9",
   "metadata": {},
   "outputs": [],
   "source": [
    "import numpy as np\n",
    "import pandas as pd\n",
    "pd.set_option('copy_on_write', True)"
   ]
  },
  {
   "cell_type": "code",
   "execution_count": null,
   "id": "60c55374",
   "metadata": {},
   "outputs": [],
   "source": [
    "df = pd.read_csv('children-per-woman-vs-human-development-index.csv')\n",
    "df.head()"
   ]
  },
  {
   "cell_type": "code",
   "execution_count": null,
   "id": "0eb6c8d4",
   "metadata": {},
   "outputs": [],
   "source": [
    "y2k_df = (df[(df['Year'] == 2000) & ~df['Code'].isna()]\n",
    "          .drop(columns='Region')\n",
    "          .rename(columns={'Entity': 'Country Name'})\n",
    "          .dropna()\n",
    "          [['Code', 'Human Development Index', 'Fertility Rate', 'Population', 'Country Name']]\n",
    "         )\n",
    "y2k_df"
   ]
  },
  {
   "cell_type": "code",
   "execution_count": null,
   "id": "65f965a7",
   "metadata": {},
   "outputs": [],
   "source": [
    "# Get selected country codes.  These were from sorting the Gender Stats Data Frame by GDP.\n",
    "wealthy_codes = (pd.read_csv('gender_stats.csv')\n",
    "                 .sort_values('gdp_us_billion', ascending=False)\n",
    "                 .head(15)\n",
    "                 ['country_code']\n",
    "                 .sort_values()\n",
    "                )\n",
    "wealthy_codes"
   ]
  },
  {
   "cell_type": "code",
   "execution_count": null,
   "id": "7d0ae2f7",
   "metadata": {},
   "outputs": [],
   "source": [
    "y2k_out = (y2k_df[y2k_df['Code'].isin(wealthy_codes)]\n",
    "           .reset_index(drop=True)\n",
    "           .sort_values('Code'))\n",
    "y2k_out"
   ]
  },
  {
   "cell_type": "code",
   "execution_count": null,
   "id": "5d988e26",
   "metadata": {},
   "outputs": [],
   "source": [
    "# Population in millions, rounded to 4 DP.\n",
    "y2k_out['Population'] = (y2k_out['Population'] / 1_000_000).round(4)\n",
    "y2k_out"
   ]
  },
  {
   "cell_type": "code",
   "execution_count": null,
   "id": "387c1eac",
   "metadata": {},
   "outputs": [],
   "source": [
    "out_fname = 'year_2000_hdi_fert.csv'\n",
    "y2k_out.to_csv(out_fname, index=None)\n",
    "pd.read_csv(out_fname)"
   ]
  }
 ],
 "metadata": {
  "kernelspec": {
   "display_name": "Python (Pyodide)",
   "name": "python"
  },
  "orphan": true
 },
 "nbformat": 4,
 "nbformat_minor": 5
}
