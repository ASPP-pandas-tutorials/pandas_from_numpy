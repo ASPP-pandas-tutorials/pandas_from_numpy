{
 "cells": [
  {
   "cell_type": "markdown",
   "id": "6bf5beff",
   "metadata": {},
   "source": [
    "# Indexing by label and position\n",
    "\n",
    "## Indexing into Series\n",
    "\n",
    "From the [What is a Series section](what-is-a-series), remember our maxim:\n",
    "\n",
    "> A *Series* is the association of:\n",
    ">\n",
    "> * An array of values (`.values`)\n",
    "> * A sequence of labels for each value (`.index`)\n",
    "> * A name (which can be `None`).\n",
    "\n",
    "On this page, we think particularly about the Index (row labels) for Series\n",
    "and Data Frames.  We also discuss the Index that Pandas creates if you do not\n",
    "specify one.\n",
    "\n",
    "The default Index that Pandas makes reminds us of the differences between\n",
    "label indexing (using `.loc`) and position (integer) indexing (using `.iloc`).\n",
    "\n",
    "Along the way, we'll often press you never to use direct indexing on Series,\n",
    "as there is still some dangerous ambiguity as to whether you are doing label\n",
    "or position indexing.\n",
    "\n",
    "Because it is easy to get mixed up about position (`.iloc`) and label (`.loc`)\n",
    "indexing, it is often sensible to replace Pandas' default index with a custom\n",
    "index, to avoid accidental errors when indexing.\n",
    "\n",
    "## Getting started"
   ]
  },
  {
   "cell_type": "code",
   "execution_count": null,
   "id": "b86b7246",
   "metadata": {},
   "outputs": [],
   "source": [
    "# import libraries\n",
    "import numpy as np\n",
    "import pandas as pd"
   ]
  },
  {
   "cell_type": "markdown",
   "id": "32a8660c",
   "metadata": {},
   "source": [
    "We'll use the [fertility and Human Development Index data once\n",
    "more](data/data_notes)."
   ]
  },
  {
   "cell_type": "code",
   "execution_count": null,
   "id": "6b1bab0f",
   "metadata": {},
   "outputs": [],
   "source": [
    "# Three letter codes for each country\n",
    "country_codes_array = np.array(['AUS', 'BRA', 'CAN',\n",
    "                                'CHN', 'DEU', 'ESP',\n",
    "                                'FRA', 'GBR', 'IND',\n",
    "                                'ITA', 'JPN', 'KOR',\n",
    "                                'MEX', 'RUS', 'USA'])"
   ]
  },
  {
   "cell_type": "code",
   "execution_count": null,
   "id": "eb457bf1",
   "metadata": {},
   "outputs": [],
   "source": [
    "# Human Development Index Scores for each country\n",
    "hdis_array = np.array([0.896, 0.668, 0.89,\n",
    "                       0.586, 0.89,  0.828,\n",
    "                       0.844, 0.863, 0.49,\n",
    "                       0.842, 0.883, 0.824,\n",
    "                       0.709, 0.733, 0.894])"
   ]
  },
  {
   "cell_type": "markdown",
   "id": "93a4405c",
   "metadata": {},
   "source": [
    "## Slicing Series with `.iloc` and `.loc`"
   ]
  },
  {
   "cell_type": "code",
   "execution_count": null,
   "id": "914c4047",
   "metadata": {},
   "outputs": [],
   "source": [
    "hdi_series = pd.Series(hdis_array, index=country_codes_array)\n",
    "hdi_series"
   ]
  },
  {
   "cell_type": "markdown",
   "id": "5ae11985",
   "metadata": {},
   "source": [
    "There is a fundamental difference between the behaviors of `.iloc` and `.loc`\n",
    "when slicing.\n",
    "\n",
    "Standard slicing in Python uses integers to specify positions, and gives the\n",
    "elements *starting at* the start position, *up to but not including* the stop\n",
    "position."
   ]
  },
  {
   "cell_type": "code",
   "execution_count": null,
   "id": "2486cf1a",
   "metadata": {},
   "outputs": [],
   "source": [
    "my_name = 'Peter Rush'\n",
    "# From character at position 2, up to (not including) position 7.\n",
    "my_name[2:7]"
   ]
  },
  {
   "cell_type": "markdown",
   "id": "6e361dd8",
   "metadata": {},
   "source": [
    "The same rule applies to indexing Python lists, or Numpy arrays:"
   ]
  },
  {
   "cell_type": "code",
   "execution_count": null,
   "id": "e27aed7f",
   "metadata": {},
   "outputs": [],
   "source": [
    "# From element at position 2, up to (not including) position 7.\n",
    "country_codes_array[2:7]"
   ]
  },
  {
   "cell_type": "markdown",
   "id": "1ae2f8e1",
   "metadata": {},
   "source": [
    "`.iloc` is indexing by *position*, so it may not be surprising that it slices using the same rules as by-position indexing in Numpy:"
   ]
  },
  {
   "cell_type": "code",
   "execution_count": null,
   "id": "0e98be6f",
   "metadata": {},
   "outputs": [],
   "source": [
    "# From element at position 2, up to (not including) position 7.\n",
    "hdi_series.iloc[2:7]"
   ]
  },
  {
   "cell_type": "markdown",
   "id": "2a07573d",
   "metadata": {},
   "source": [
    "Now consider slicing by *label*.  The *start* and *stop* values are no longer\n",
    "positions, but labels.   The label at position 2 is `'CAN'`.  The label at\n",
    "position 7 is the until-recently-European country`'GBR'`.\n",
    "\n",
    "Here's what we get from slicing using `.loc`:"
   ]
  },
  {
   "cell_type": "code",
   "execution_count": null,
   "id": "d85d27bb",
   "metadata": {},
   "outputs": [],
   "source": [
    "# From element labeled 'CAN', up to (including) element labeled 'GBR'\n",
    "hdi_series.loc['CAN':'GBR']"
   ]
  },
  {
   "cell_type": "markdown",
   "id": "e191dc36",
   "metadata": {},
   "source": [
    "First notice that label indexing uses values from the Index as start and stop.  Unlike Numpy or `.iloc` indexing, which by definition have integers as start and stop (because these are positions), `.loc` indexing start and stop values must match the values in the Index.  In this case, the Index has `str` values, so the start and stop values are also `str`.\n",
    "\n",
    "Second, notice that we got one more value from `.loc` indexing into the\n",
    "Series, because `.loc` slicing — unlike `.iloc` or Numpy indexing — *includes*\n",
    "the stop value.\n",
    "\n",
    "In the last cell, using `.loc`, `'GBR'` was the stop value, and we got the row corresponding to `'GBR'`.\n",
    "\n",
    "This is a major difference from Numpy and `.iloc` behavior.\n",
    "\n",
    "**Start of note**\n",
    "\n",
    "**Stop and `.loc`**\n",
    "\n",
    "Why does `.loc` slicing return the label corresponding to the stop value, instead of going *up to but not including* the stop value, like Numpy or `.iloc`?\n",
    "\n",
    "We should say that this is absolutely the right choice.  But why?\n",
    "\n",
    "Please consider reflecting before reading on.\n",
    "\n",
    "[Elevator Muzak while you reflect](https://www.youtube.com/watch?v=XlDdrrFY4Ug)\n",
    "\n",
    "Please click the link above to get you into a reflective mood.\n",
    "\n",
    "Back to slicing; let's consider the problem of selecting some rows that you\n",
    "want.  You can see the Index.  In your case you want all the rows from `CAN`\n",
    "through `GBR`.  When the result includes the stop label, then its obvious what\n",
    "to do; you do what you do above: `hdi_series.loc['CAN':'GBR']`.\n",
    "\n",
    "Now consider the alternative — where slicing gives you the rows *up to but not\n",
    "including* the stop value.  Your problem now becomes annoying and error-prone.\n",
    "You have to look at the index, identify the last label for the row you do want\n",
    "(`'GBR'`) and then go one row further, and get the label for the row *after*\n",
    "the one you want (in this case `'IND'`.  In an alternative world, where\n",
    "`.loc` was *up to and not including* the stop value, indexing to get rows\n",
    "`'CAN'` through `'GBR'` would be `hdi_series.loc['CAN':'IND']`.  Now imagine\n",
    "that for some reason I had deleted the `'IND'` row, so the following row label\n",
    "is `'ITA'`. In that case, despite the fact nothing had changed in the rows I'm\n",
    "interested in, I now have to write `hdi_series.loc['CAN':'ITA']` to get the\n",
    "exact same rows.\n",
    "\n",
    "So, yes, it's important to remember this difference, but a little reflection\n",
    "should reveal that this was still the right choice.\n",
    "\n",
    "**End of note**"
   ]
  },
  {
   "cell_type": "markdown",
   "id": "f26aedf5",
   "metadata": {},
   "source": [
    "## Index labels need not be unique\n",
    "\n",
    "We haven't specified so far, but there is no general requirement for Pandas\n",
    "Index values to be unique.  Consider the following Series:"
   ]
  },
  {
   "cell_type": "code",
   "execution_count": null,
   "id": "03cb118b",
   "metadata": {},
   "outputs": [],
   "source": [
    "not_unique_labels = pd.Series(['France', 'Italy', 'UK', 'Great Britain'],\n",
    "                              index=['FRA', 'ITA', 'GBR', 'GBR'])\n",
    "not_unique_labels"
   ]
  },
  {
   "cell_type": "markdown",
   "id": "069a2e6d",
   "metadata": {},
   "source": [
    "Doing `.loc` indexing with a label that only matches one element gives the\n",
    "corresponding value:"
   ]
  },
  {
   "cell_type": "code",
   "execution_count": null,
   "id": "88044a26",
   "metadata": {},
   "outputs": [],
   "source": [
    "not_unique_labels.loc['FRA']"
   ]
  },
  {
   "cell_type": "markdown",
   "id": "f0b5fe00",
   "metadata": {},
   "source": [
    "`.loc` matching a label with more than one row returns a subset of the Series:"
   ]
  },
  {
   "cell_type": "code",
   "execution_count": null,
   "id": "3031f891",
   "metadata": {},
   "outputs": [],
   "source": [
    "not_unique_labels.loc['GBR']"
   ]
  },
  {
   "cell_type": "markdown",
   "id": "fd55052d",
   "metadata": {},
   "source": [
    "This can lead to confusing outputs if you don't keep track of whether the Index values uniquely identify the row."
   ]
  },
  {
   "cell_type": "markdown",
   "id": "e3f983a1",
   "metadata": {},
   "source": [
    "## The default index\n",
    "\n",
    "Thus far, we have specified the Index in building Series:"
   ]
  },
  {
   "cell_type": "code",
   "execution_count": null,
   "id": "72b813d4",
   "metadata": {},
   "outputs": [],
   "source": [
    "hdi_series = pd.Series(hdis_array, index=country_codes_array)\n",
    "hdi_series"
   ]
  },
  {
   "cell_type": "markdown",
   "id": "258ec8a8",
   "metadata": {},
   "source": [
    "Pandas allows us to build a Series without specifying an Index:"
   ]
  },
  {
   "cell_type": "code",
   "execution_count": null,
   "id": "e4dc936c",
   "metadata": {},
   "outputs": [],
   "source": [
    "# Make a Series from `hdis_array`, without specifying `index`.\n",
    "hdi_series_def_index = pd.Series(hdis_array)\n",
    "hdi_series_def_index"
   ]
  },
  {
   "cell_type": "markdown",
   "id": "9d2a2194",
   "metadata": {},
   "source": [
    "Where we did not specify an Index, Pandas has automatically generated one.  As\n",
    "you can see, Pandas displays this default index as a sequence of integers,\n",
    "starting at 0, and going up to the number of rows minus 1."
   ]
  },
  {
   "cell_type": "markdown",
   "id": "c7233383",
   "metadata": {},
   "source": [
    "Let's take a closer look at the default Index:"
   ]
  },
  {
   "cell_type": "code",
   "execution_count": null,
   "id": "fd0e37cc",
   "metadata": {},
   "outputs": [],
   "source": [
    "# The default Pandas index\n",
    "hdi_series_def_index.index"
   ]
  },
  {
   "cell_type": "markdown",
   "id": "42e1af28",
   "metadata": {},
   "source": [
    "`RangeIndex` is similar to Python's `range`; it is a space-saving container\n",
    "that represents a sequence of integers from a start value up to, but not\n",
    "including a stop value, with an optional step size.  Here `RangeIndex`\n",
    "represents the numbers 0 through 14, just as `range` can represent the numbers\n",
    "0 through 14:"
   ]
  },
  {
   "cell_type": "code",
   "execution_count": null,
   "id": "3bfbbc10",
   "metadata": {},
   "outputs": [],
   "source": [
    "zero_through_14 = range(0, 15)\n",
    "zero_through_14"
   ]
  },
  {
   "cell_type": "markdown",
   "id": "ec0a78ec",
   "metadata": {},
   "source": [
    "As for `range` we can ask the `RangeIndex` container to give up these numbers\n",
    "(by iteration) into another container, such as an array or list:"
   ]
  },
  {
   "cell_type": "code",
   "execution_count": null,
   "id": "d80d49ac",
   "metadata": {},
   "outputs": [],
   "source": [
    "# Iterating through `RangeIndex` to give the represented numbers.\n",
    "np.array(hdi_series_def_index.index)"
   ]
  },
  {
   "cell_type": "code",
   "execution_count": null,
   "id": "2df51227",
   "metadata": {},
   "outputs": [],
   "source": [
    "# Iterating through a `range` to give the represented numbers.\n",
    "np.array(zero_through_14)"
   ]
  },
  {
   "cell_type": "markdown",
   "id": "e7ebda3b",
   "metadata": {},
   "source": [
    "As for `range`, one can ask for the implied elements by indexing:"
   ]
  },
  {
   "cell_type": "code",
   "execution_count": null,
   "id": "b80b9131",
   "metadata": {},
   "outputs": [],
   "source": [
    "# View the fifth element of the RangeIndex.\n",
    "fifth_element = hdi_series_def_index.index[4]\n",
    "fifth_element"
   ]
  },
  {
   "cell_type": "markdown",
   "id": "a2ecc11c",
   "metadata": {},
   "source": [
    "Notice that the elements from `RangeIndex` are `int`s:"
   ]
  },
  {
   "cell_type": "code",
   "execution_count": null,
   "id": "ff777ac9",
   "metadata": {},
   "outputs": [],
   "source": [
    "type(fifth_element)"
   ]
  },
  {
   "cell_type": "markdown",
   "id": "30034cb4",
   "metadata": {},
   "source": [
    "For all practical purposes, you can treat this `RangeIndex` as being equivalent\n",
    "to the corresponding sequential Numpy integer array.\n",
    "\n",
    "**Start of exercise**\n",
    "\n",
    "Let's make another Series where we do not specify the index:"
   ]
  },
  {
   "cell_type": "code",
   "execution_count": null,
   "id": "32adb4be",
   "metadata": {},
   "outputs": [],
   "source": [
    "a_series = pd.Series([1000, 999, 101, 199, 99])\n",
    "a_series"
   ]
  },
  {
   "cell_type": "markdown",
   "id": "2bc8cef5",
   "metadata": {},
   "source": [
    "As you have seen, you will have got the default `.index`, a `RangeIndex`:"
   ]
  },
  {
   "cell_type": "code",
   "execution_count": null,
   "id": "034bff8f",
   "metadata": {},
   "outputs": [],
   "source": [
    "a_series.index"
   ]
  },
  {
   "cell_type": "markdown",
   "id": "66c56c9e",
   "metadata": {},
   "source": [
    "What do you expect to see for `list(a_series)`?  Reflect, then uncomment below\n",
    "and try it:"
   ]
  },
  {
   "cell_type": "code",
   "execution_count": null,
   "id": "0fcd3ba8",
   "metadata": {},
   "outputs": [],
   "source": [
    "# list(a_series)"
   ]
  },
  {
   "cell_type": "markdown",
   "id": "49132414",
   "metadata": {},
   "source": [
    "What do you expect to see for `list(a_series.index)`?  Reflect, then try it:"
   ]
  },
  {
   "cell_type": "code",
   "execution_count": null,
   "id": "b542fc60",
   "metadata": {},
   "outputs": [],
   "source": [
    "# list(a_series.index)"
   ]
  },
  {
   "cell_type": "markdown",
   "id": "3eb2f528",
   "metadata": {},
   "source": [
    "The Series method `.sort_values` returns a new Series sorted by the values."
   ]
  },
  {
   "cell_type": "code",
   "execution_count": null,
   "id": "48047d3b",
   "metadata": {},
   "outputs": [],
   "source": [
    "sorted_series = a_series.sort_values()"
   ]
  },
  {
   "cell_type": "markdown",
   "id": "1cb92046",
   "metadata": {},
   "source": [
    "Now what do you expect to see for `list(sorted_series)`?  Reflect, then\n",
    "uncomment below and try it:"
   ]
  },
  {
   "cell_type": "code",
   "execution_count": null,
   "id": "b6d51226",
   "metadata": {},
   "outputs": [],
   "source": [
    "# list(sorted_series)"
   ]
  },
  {
   "cell_type": "markdown",
   "id": "c98ec757",
   "metadata": {},
   "source": [
    "How about `list(sorted_series.index)`?  Reflect, try:"
   ]
  },
  {
   "cell_type": "code",
   "execution_count": null,
   "id": "bfee5792",
   "metadata": {},
   "outputs": [],
   "source": [
    "# list(sorted_series.index)"
   ]
  },
  {
   "cell_type": "markdown",
   "id": "f8223501",
   "metadata": {},
   "source": [
    "What kind of thing do you think the `.index` is now?  Reflect and then:"
   ]
  },
  {
   "cell_type": "code",
   "execution_count": null,
   "id": "3542384a",
   "metadata": {},
   "outputs": [],
   "source": [
    "# type(sorted_series.index)"
   ]
  },
  {
   "cell_type": "markdown",
   "id": "20e53b16",
   "metadata": {},
   "source": [
    "Can you explain the result of the last cell?\n",
    "\n",
    "**End of exercise**"
   ]
  },
  {
   "cell_type": "markdown",
   "id": "ec6332ef",
   "metadata": {},
   "source": [
    "**See the [corresponding page](/pandas_from_numpy/0_1_to_loc_or_iloc.html) for solution**\n",
    "\n",
    "## Why an Index of integers can be confusing\n",
    "\n",
    "To recap: for our first few Series, we've used three-letter country codes as\n",
    "the elements of an `index`. We've just seen what happens if we construct\n",
    "a Data Frame without telling Pandas what to use as an `index` - it will create\n",
    "a default `RangeIndex`. `RangeIndex` represents a series of integers.\n",
    "\n",
    "If you did the exercise, you will have found that Pandas can use `RangeIndex`\n",
    "when the index is a regular sequence of integers, but must otherwise change to\n",
    "having an index with an array containing integers, that are the value labels.\n",
    "\n",
    "What is the advantage of using an index with values that aren't integers\n",
    "— such as strings? Below are some potential pitfalls to be aware of when using\n",
    "the default index, and any other index made up of integers.\n",
    "\n",
    "Let's say we want to access the fifth element of the Series. This is at\n",
    "integer location 4, because we count from 0. At the moment the numerical\n",
    "labels implied by the `RangeIndex` \"line up\" with the integer-based locations:"
   ]
  },
  {
   "cell_type": "code",
   "execution_count": null,
   "id": "e6db39f9",
   "metadata": {},
   "outputs": [],
   "source": [
    "# Show the whole Series\n",
    "hdi_series_def_index"
   ]
  },
  {
   "cell_type": "markdown",
   "id": "95f22a44",
   "metadata": {},
   "source": [
    "If you somehow ask for element `4`, there is no ambiguity about which element\n",
    "you mean, because the value with label `4` is also the element at integer\n",
    "position `4`. Therefore, if we use integer indexing (`.iloc`) we get the same\n",
    "value as if we use label based indexing (`.loc`):"
   ]
  },
  {
   "cell_type": "code",
   "execution_count": null,
   "id": "f347b2f9",
   "metadata": {},
   "outputs": [],
   "source": [
    "# Indexing using integer location\n",
    "hdi_series_def_index.iloc[4]"
   ]
  },
  {
   "cell_type": "code",
   "execution_count": null,
   "id": "fab29079",
   "metadata": {},
   "outputs": [],
   "source": [
    "# Indexing using labels (from the default index)\n",
    "hdi_series_def_index.loc[4]"
   ]
  },
  {
   "cell_type": "markdown",
   "id": "7111c568",
   "metadata": {},
   "source": [
    "**Because of this potential for confusion, we strongly encourage you to index\n",
    "Series with `.loc` and `.iloc`, to be explicit about whether you mean label or\n",
    "position indexing.**\n",
    "\n",
    "## Why you should never use direct indexing on Series\n",
    "\n",
    "[Direct indexing](direct-indirect) occurs where the indexing bracket `[` directly follows the Series value.  Conversely, indirect-indexing is indexing where the indexing bracket `[` follows `.loc` or `.iloc`.\n",
    "\n",
    "Now consider the situation, that we encourage you never to put yourself in, where you use direct indexing on a Series.  You can't specify what type of indexing you mean with direct indexing.  Do you mean label indexing or position indexing?  Pandas will have to make assumptions, and these assumptions may well wrong for what you intend.  Did we mention, you should never use direct indexing on Series?\n",
    "\n",
    "OK, let's imagine that you decided we were wrong, and used direct indexing on the Series above, with (implied) integer Index values."
   ]
  },
  {
   "cell_type": "code",
   "execution_count": null,
   "id": "ecc800a0",
   "metadata": {},
   "outputs": [],
   "source": [
    "# Direct indexing on a Series.  You should never do this.\n",
    "hdi_series_def_index[4]"
   ]
  },
  {
   "cell_type": "markdown",
   "id": "dcdc0190",
   "metadata": {},
   "source": [
    "At the moment, because the positions and integer row labels match up, there is\n",
    "no ambiguity as to what `4` refers to, so it may not be surprising that\n",
    "`.iloc`, `.loc` and direct indexing all give the same result.\n",
    "\n",
    "**But this will not always be the case.** It is extremely common for you to do\n",
    "operations on the Series — such as sorting and filtering — that will mean that\n",
    "the integer labels no longer correspond to positions.\n",
    "\n",
    "For instance let's sort the data in our `hdi_series_def_index` Series in\n",
    "ascending order.  To do this we will use the `.sort_values()` method. We will\n",
    "cover Pandas methods in detail on [later\n",
    "pages](0_2_pandas_dataframes_attributes_methods).  The `.sort_values()` method\n",
    "sorts the values of the Series in ascending order, taking the matching labels\n",
    "in the index with it."
   ]
  },
  {
   "cell_type": "code",
   "execution_count": null,
   "id": "7d5c080e",
   "metadata": {},
   "outputs": [],
   "source": [
    "# Sorting the *values* in ascending order\n",
    "hdi_series_def_index_sorted = hdi_series_def_index.sort_values()\n",
    "hdi_series_def_index_sorted"
   ]
  },
  {
   "cell_type": "markdown",
   "id": "37cc31d8",
   "metadata": {},
   "source": [
    "Look at the left hand side of the display from the cell above — in particular,\n",
    "look at the Index.  The numbers within the Index no longer run sequentially\n",
    "from 0 to 14. This means that the integer position of each element in the\n",
    "Series no longer matches up with the index label. This can be a potential\n",
    "source of errors.\n",
    "\n",
    "**Start of note**\n",
    "\n",
    "**The index type can change if you rearrange elements**\n",
    "\n",
    "If you haven't done the exercise above, please consider doing it.\n",
    "\n",
    "If you have, you will have found already that the sorted Series has a new\n",
    "Index, that is no longer a `RangeIndex` (because the integer labels now cannot\n",
    "be represented as a regular sequence of integers).  Thus\n",
    "`type(hdi_series_def_index_sorted.index)` will be of type `Index`, rather than\n",
    "`RangeIndex`.\n",
    "\n",
    "**End of note**\n",
    "\n",
    "Let's see what happens if we try to access the fifth element of the series\n",
    "using integer based indexing (`.iloc[4]`) location based indexing (`.loc[4]`)\n",
    "and direct indexing (`[4]`) as we did above.\n",
    "\n",
    "(Did we already say — you should never use direct indexing on Series?)\n",
    "\n",
    "As you remember, when we did this on the data before sorting, all these\n",
    "methods returned the same value.  Now, however:"
   ]
  },
  {
   "cell_type": "code",
   "execution_count": null,
   "id": "0a393131",
   "metadata": {},
   "outputs": [],
   "source": [
    "# Integer indexing on the sorted data\n",
    "# This is the fifth element in the Series.\n",
    "hdi_series_def_index_sorted.iloc[4]"
   ]
  },
  {
   "cell_type": "code",
   "execution_count": null,
   "id": "b06d8a1b",
   "metadata": {},
   "outputs": [],
   "source": [
    "# Label indexing on the sorted data\n",
    "# This is the element with the label `4`.\n",
    "hdi_series_def_index_sorted.loc[4]"
   ]
  },
  {
   "cell_type": "code",
   "execution_count": null,
   "id": "41952464",
   "metadata": {},
   "outputs": [],
   "source": [
    "# Direct indexing on the sorted data\n",
    "# Which is this?  Position or label?\n",
    "# By the way - you should never use direct indexing on Series.\n",
    "hdi_series_def_index_sorted[4]"
   ]
  },
  {
   "cell_type": "markdown",
   "id": "24c4dacf",
   "metadata": {},
   "source": [
    "We have used the number 4 with each indexing method, yet have gotten back\n",
    "different values for `.iloc` compared to `.loc` and direct indexing."
   ]
  },
  {
   "cell_type": "markdown",
   "id": "74b3bd51",
   "metadata": {},
   "source": [
    "## Consider specifying a not-default index for Series and Data Frames\n",
    "\n",
    "We saw above that the default index can induce confusion between label and\n",
    "position.\n",
    "\n",
    "If you do avoid using direct indexing, the confusion is less — it will be\n",
    "easier to remember that `.loc` is for labels and `.iloc` is for positions. But\n",
    "still, with a little inattention, or some [sloppy\n",
    "vibe-coding](https://dictionary.cambridge.org/dictionary/english/tautology),\n",
    "it is nevertheless easy to forget which is which. This is a pitfall of using\n",
    "sequential numbers as the index — as generated, for example, by `RangeIndex`\n",
    "— it can lead to confusing results when the position in the sequence and the\n",
    "`int` label of an element of the Series do not match up.\n",
    "\n",
    "Compare this to our `hdi_series` which uses the three-letter country codes as\n",
    "its index:"
   ]
  },
  {
   "cell_type": "code",
   "execution_count": null,
   "id": "16438ff6",
   "metadata": {},
   "outputs": [],
   "source": [
    "# Show the `hdi_series`.\n",
    "hdi_series"
   ]
  },
  {
   "cell_type": "markdown",
   "id": "f7e41a6d",
   "metadata": {},
   "source": [
    "Let's get the fifth element using integer based (`.iloc`) indexing:"
   ]
  },
  {
   "cell_type": "code",
   "execution_count": null,
   "id": "904dfd25",
   "metadata": {},
   "outputs": [],
   "source": [
    "# Integer (position) indexing\n",
    "hdi_series.iloc[4]"
   ]
  },
  {
   "cell_type": "markdown",
   "id": "acae922f",
   "metadata": {},
   "source": [
    "... and let's try to use `.loc[4]` on this Series (this will generate an\n",
    "error):"
   ]
  },
  {
   "cell_type": "code",
   "execution_count": null,
   "id": "41b248d1",
   "metadata": {
    "tags": [
     "raises-exception"
    ]
   },
   "outputs": [],
   "source": [
    "# Label indexing raises a KeyError ...\n",
    "hdi_series.loc[4]"
   ]
  },
  {
   "cell_type": "markdown",
   "id": "76dd8f77",
   "metadata": {},
   "source": [
    "This `KeyError` tells us that there is no index label `4` (which makes sense\n",
    "as the index labels in this Series are three-letter country codes). To use\n",
    "`.loc` with this Series, we must use the three-letter country code strings:"
   ]
  },
  {
   "cell_type": "code",
   "execution_count": null,
   "id": "120cb1cb",
   "metadata": {},
   "outputs": [],
   "source": [
    "# Label based indexing\n",
    "hdi_series.loc['DEU']"
   ]
  },
  {
   "cell_type": "markdown",
   "id": "b05c4b6f",
   "metadata": {},
   "source": [
    "It is much harder to get confused when using integer indices with *indirect\n",
    "indexing* (`.loc` and `.iloc`).  You've specified what you mean (by label or by\n",
    "position) using the name of the method.  However, things can get dangerously\n",
    "confusing if you use an integer index and *direct indexing*.  Which is why you should not use direct indexing with Series.\n",
    "\n",
    "Just to remind you, `hdi_series` has the country codes (strings like `'DEU'`)\n",
    "as the index.\n",
    "\n",
    "Now, consider, what would happen if we used an integer for *direct indexing*?\n",
    "As in something like `hdi_series[4]`?  Because we haven't\n",
    "specified that we want to index with labels (`.loc`) or positions (`.iloc`),\n",
    "Pandas has to make some decision as to how to proceed.\n",
    "\n",
    "**Start of exercise**\n",
    "\n",
    "We assume you've just read the text above the exercise, where we consider what\n",
    "you would expect to happen if:\n",
    "\n",
    "* Your Series has a index of strings.\n",
    "* You use direct indexing on this Series with an integer.\n",
    "\n",
    "As in `hdi_series[4]`. (Don't try it yet).\n",
    "\n",
    "Pause and reflect what decision you would make in this situation, if you were\n",
    "a Pandas developer, deciding what Pandas should do.  What are the options? Why\n",
    "would you chose one option over another?\n",
    "\n",
    "**End of exercise**"
   ]
  },
  {
   "cell_type": "markdown",
   "id": "a576b1c4",
   "metadata": {},
   "source": [
    "**See the [corresponding page](/pandas_from_numpy/0_1_to_loc_or_iloc.html) for solution**\n",
    "\n",
    "You are about to see that direct indexing on a Series, for now, does something\n",
    "frightening, which is to *guess* whether we mean to `.loc` or `.iloc` indexing\n",
    "depending on whether the index values are integers.\n",
    "\n",
    "So, as you have already seen above, if the index consists of integers, and you\n",
    "specify integers in your direct indexing, then Pandas will assume you mean the\n",
    "values to be labels (like `.loc`).\n",
    "\n",
    "If the index does not consist of integers, and you specify integers in your\n",
    "direct indexing, then Pandas will currently assume you mean the values to be\n",
    "positions (like `.iloc`), but (at time of writing) give you a warning that\n",
    "this will soon change."
   ]
  },
  {
   "cell_type": "code",
   "execution_count": null,
   "id": "7794317e",
   "metadata": {},
   "outputs": [],
   "source": [
    "# Direct indexing\n",
    "hdi_series[4]"
   ]
  },
  {
   "cell_type": "markdown",
   "id": "20a059a3",
   "metadata": {},
   "source": [
    "Using a custom non-integer index (e.g. the three-letter country codes) rather\n",
    "than the default `RangeIndex`, or some other integer index, has the advantage\n",
    "of avoiding potential confusion between the integer location of an element,\n",
    "and the index label of that element.\n",
    "\n",
    "To demonstrate this, let's sort our `hdi_series` in ascending order:"
   ]
  },
  {
   "cell_type": "code",
   "execution_count": null,
   "id": "1fae4700",
   "metadata": {},
   "outputs": [],
   "source": [
    "# Sorting the Series in ascending order\n",
    "hdi_series_sorted = hdi_series.sort_values()\n",
    "hdi_series_sorted"
   ]
  },
  {
   "cell_type": "markdown",
   "id": "2048f313",
   "metadata": {},
   "source": [
    "The use of custom string-based labels in the index (e.g. `FRA`, `AUS` etc)\n",
    "avoids confusing misalignment between the default numerical labels and integer\n",
    "location."
   ]
  },
  {
   "cell_type": "markdown",
   "id": "83234506",
   "metadata": {},
   "source": [
    "We've said it before, we say it again here — we suggest you *always* specify\n",
    "`.loc` or `.iloc` when indexing a Series, in order not to confuse Pandas as to\n",
    "whether you mean to index by label or position.   In this case `.loc` means we\n",
    "have to use a string, preventing errors where we use a number and return data\n",
    "we do not expect."
   ]
  },
  {
   "cell_type": "code",
   "execution_count": null,
   "id": "4bc88144",
   "metadata": {},
   "outputs": [],
   "source": [
    "# Label-based indexing\n",
    "hdi_series_sorted.loc['DEU']"
   ]
  },
  {
   "cell_type": "markdown",
   "id": "ed6288f9",
   "metadata": {},
   "source": [
    "**Start of warning**\n",
    "\n",
    "**Direct indexing is not currently consistent**\n",
    "\n",
    "As an extra warning, as Pandas shifts towards more explicit choice of labels\n",
    "over positions in direct indexing, there are still inconsistencies.  These\n",
    "will be resolved over time, so if you want to avoid confusion, skip the rest\n",
    "of this note, and remember *never use direct indexing on a Series*.\n",
    "\n",
    "If you got this far, we admire your courage.  This warning is only to say that\n",
    "Pandas currently treats *slices* in direct indexing differently from\n",
    "individual positions or labels.  Specifically, at the moment, it will always\n",
    "assume integers in slices are positions and not labels.  Try some experiments\n",
    "with `hdi_series[:5]` (string label Series) and `hdi_series_def_index[:5]`\n",
    "(integer label Series).\n",
    "\n",
    "See [this Pandas Github\n",
    "issue](https://github.com/pandas-dev/pandas/issues/49612) for discussion if\n",
    "you're interested.\n",
    "\n",
    "You may be confused after trying the experiments above.  And this behavior\n",
    "will surely change at some point.  Summary — always use `.iloc` and `.loc` to\n",
    "avoid ambiguity.\n",
    "\n",
    "**End of warning**"
   ]
  },
  {
   "cell_type": "markdown",
   "id": "1810444c",
   "metadata": {},
   "source": [
    "## Default names for Data Frame columns\n",
    "\n",
    "Remember, a Data Frame is a dictionary-like collection of Series.\n",
    "\n",
    "We may create Data Frames with an actual dictionary of Series, or with single\n",
    "Series.\n",
    "\n",
    "When we build Data Frames from Series, it becomes eminently sensible to specify\n",
    "a `name` attribute for each Series.\n",
    "\n",
    "Pandas will not *force* us to do this, but it leads to some error-prone\n",
    "consequences if we do not. In fact, the default `RangeIndex` crops up again\n",
    "here, and can create confusion in similar ways to the ones we have seen in the\n",
    "last section.\n",
    "\n",
    "Let us reconstruct a Series with a specified Index, but no `.name`:"
   ]
  },
  {
   "cell_type": "code",
   "execution_count": null,
   "id": "b20c6b40",
   "metadata": {},
   "outputs": [],
   "source": [
    "hdi_series =  pd.Series(hdis_array, index=country_codes_array)\n",
    "hdi_series"
   ]
  },
  {
   "cell_type": "markdown",
   "id": "402dc2bd",
   "metadata": {},
   "source": [
    "Our `hdi_series` got the default value for its `.name` attribute: `None`."
   ]
  },
  {
   "cell_type": "code",
   "execution_count": null,
   "id": "f88e44b4",
   "metadata": {},
   "outputs": [],
   "source": [
    "hdi_series.name is None"
   ]
  },
  {
   "cell_type": "markdown",
   "id": "cf7afa9b",
   "metadata": {},
   "source": [
    "Let's pass this Series to the `pd.DataFrame()` constructor, to see the\n",
    "consequence of a `.name`less Series in this context.  We will call the resulting\n",
    "Data Frame `no_name_df`:"
   ]
  },
  {
   "cell_type": "code",
   "execution_count": null,
   "id": "60e4140d",
   "metadata": {},
   "outputs": [],
   "source": [
    "# A Data Frame made of a Series with `name` attribute of None.\n",
    "no_name_df = pd.DataFrame(hdi_series)\n",
    "no_name_df"
   ]
  },
  {
   "cell_type": "markdown",
   "id": "79916243",
   "metadata": {},
   "source": [
    "Ok, so in the absence of a `name` attribute Pandas has labelled the column with a `0`. If we inspect more deeply, we find that actually Pandas, in the absence of being instructed otherwise, has created a `RangeIndex`, but this time for the `columns` (e.g. the column names) of the Data Frame. If you look at the Data Frame above, you can see that the `index` attribute is the three-letter country codes. However, the `.columns` are a `RangeIndex`:"
   ]
  },
  {
   "cell_type": "code",
   "execution_count": null,
   "id": "7a9b140a",
   "metadata": {},
   "outputs": [],
   "source": [
    "# Look at the column names via the `.columns` attribute\n",
    "no_name_df.columns"
   ]
  },
  {
   "cell_type": "markdown",
   "id": "54797c84",
   "metadata": {},
   "source": [
    "Sure enough, if we check the `type` of the fist element in this `RangeIndex`\n",
    "it is an `int` — we can think of it not as a column *name* but a number\n",
    "standing in for a column name:"
   ]
  },
  {
   "cell_type": "code",
   "execution_count": null,
   "id": "87df45c0",
   "metadata": {},
   "outputs": [],
   "source": [
    "# Check the type of the first element in the `.columns` attribute\n",
    "type(no_name_df.columns[0])"
   ]
  },
  {
   "cell_type": "markdown",
   "id": "e6d2d6fa",
   "metadata": {},
   "source": [
    "It may be obvious why this naming convention for Data Frame columns can lead\n",
    "to errors for reasons of low interpretability. We typically want our column\n",
    "names to be descriptive of the data in the column, to ourselves and to other\n",
    "people reading our code. If we do not specify a `name` attribute for our\n",
    "Series when creating Data Frames, the default numerical column names supplied\n",
    "by Pandas are hard to interpret, and it is easy to misinterpret, or to forget\n",
    "what data is in that column, leading to human errors.\n",
    "\n",
    "They can also lead to indexing errors, similar to those we saw in the previous\n",
    "section. To demonstrate this, let's compare the `name`less Data Frame above to\n",
    "a Data Frame created from a Series with a `name`.\n",
    "\n",
    "Now let us create a Series with index and not-default name:"
   ]
  },
  {
   "cell_type": "code",
   "execution_count": null,
   "id": "d75d616e",
   "metadata": {},
   "outputs": [],
   "source": [
    "hdi_series_named = pd.Series(\n",
    "    hdis_array,\n",
    "    index=country_codes_array,\n",
    "    name='Human Development Index')\n",
    "hdi_series_named"
   ]
  },
  {
   "cell_type": "markdown",
   "id": "e5cd2ee1",
   "metadata": {},
   "source": [
    "Our aptly named `hdi_series_named` has a `name` attribute — (look at the\n",
    "last line of the output from the cell below, the `Name: Human Development\n",
    "Index`):\n",
    "\n",
    "Let's call the `pd.DataFrame()` constructor on this Series - we'll call the\n",
    "resultant Data Frame `named_df`:"
   ]
  },
  {
   "cell_type": "code",
   "execution_count": null,
   "id": "f655fa1b",
   "metadata": {},
   "outputs": [],
   "source": [
    "# Create a new Data Frame, with a sensible name for the column\n",
    "named_df = pd.DataFrame(hdi_series_named)\n",
    "named_df"
   ]
  },
  {
   "cell_type": "markdown",
   "id": "826aeef7",
   "metadata": {},
   "source": [
    "We see that Pandas has automatically used the `name` attribute as the column\n",
    "name, greatly increasing the interpretability of the resulting Data Frame.\n",
    "\n",
    "We can see the `name` in the `.columns` attribute of the new  `named_df` Data\n",
    "Frame:"
   ]
  },
  {
   "cell_type": "code",
   "execution_count": null,
   "id": "3b3a04f8",
   "metadata": {},
   "outputs": [],
   "source": [
    "# Show the column names from the `named_df` Data Frame\n",
    "named_df.columns"
   ]
  },
  {
   "cell_type": "markdown",
   "id": "802b8740",
   "metadata": {},
   "source": [
    "Now, let's try using direct indexing with each Data Frame, using the column names.\n",
    "\n",
    "**Start of note**\n",
    "\n",
    "**Two standard uses of direct indexing on Data Frames**\n",
    "\n",
    "Above we said that you should never use direct indexing on Series.  However, there are two standard uses of direct indexing on Data Frames that you can use without ambiguity.\n",
    "\n",
    "1. *Direct indexing with a column name*, or sequence of column names.  Here the\n",
    "   column name (label) or sequence of column names follows the Data Frame\n",
    "   value and the opening `[` — as in:\n",
    "   * `named_df['Human Development Index']` and\n",
    "   * `named_df[['Human Development Index', 'Some other column']`\n",
    "1. *Direct indexing with a Boolean Series*.  See [the filtering\n",
    "   page](0_5_filtering_data_with_pandas) for much more on Boolean Series and\n",
    "   indexing.  The Boolean Series follows the data frame value and the opening\n",
    "   `[`, and selects rows for which the Boolean Series has True values — as in:\n",
    "   `have_high_hdi = named_df['Human Development Index'] > 0.6; high_df\n",
    "   = named_df[have_high_hdi]`.\n",
    "\n",
    "We strongly suggest that you restrict your use of direct indexing to these\n",
    "cases, and to Data Frames.  We do the same.\n",
    "\n",
    "**End of note**"
   ]
  },
  {
   "cell_type": "markdown",
   "id": "bfb261ed",
   "metadata": {},
   "source": [
    "Direct indexing with a column name is very straightforward for the `named_df`:"
   ]
  },
  {
   "cell_type": "code",
   "execution_count": null,
   "id": "68387648",
   "metadata": {},
   "outputs": [],
   "source": [
    "# Direct indexing to retrieve a column by name (label).\n",
    "named_df['Human Development Index']"
   ]
  },
  {
   "cell_type": "markdown",
   "id": "8fd2ff6d",
   "metadata": {},
   "source": [
    "What about for `no_name_df`? Well, the column name there is `0`, of `int`\n",
    "type.\n",
    "\n",
    "What happens if use direct indexing? We are hoping we see something like the\n",
    "output of the cell above, albeit with a `0` for the `name`, rather than `Human\n",
    "Development Index`:"
   ]
  },
  {
   "cell_type": "code",
   "execution_count": null,
   "id": "295e8ea4",
   "metadata": {},
   "outputs": [],
   "source": [
    "# Direct indexing with no `name` attribute\n",
    "no_name_df[0]"
   ]
  },
  {
   "cell_type": "markdown",
   "id": "42b6e71d",
   "metadata": {},
   "source": [
    "Sure enough that is what we see. But the operation we have used looks very\n",
    "much like *integer* indexing on a Series, which will return a single value:"
   ]
  },
  {
   "cell_type": "code",
   "execution_count": null,
   "id": "6c023624",
   "metadata": {},
   "outputs": [],
   "source": [
    "# Integer indexing a Series (without using `.iloc`)\n",
    "hdi_series[0]"
   ]
  },
  {
   "cell_type": "markdown",
   "id": "da2c83eb",
   "metadata": {},
   "source": [
    "This can be confusing.\n",
    "\n",
    "The numerical label can also be confusing if we introduce more columns,\n",
    "especially if we mix in columns which do have `name` attributes that we\n",
    "specify.\n",
    "\n",
    "For instance, if we add in the full name of each country:"
   ]
  },
  {
   "cell_type": "code",
   "execution_count": null,
   "id": "4338eeb6",
   "metadata": {},
   "outputs": [],
   "source": [
    "# Country names array\n",
    "country_names_array = np.array(['Australia', 'Brazil', 'Canada',\n",
    "                                'China', 'Germany', 'Spain',\n",
    "                                'France', 'United Kingdom', 'India',\n",
    "                                'Italy', 'Japan', 'South Korea',\n",
    "                                'Mexico', 'Russia', 'United States'])\n",
    "country_names_array"
   ]
  },
  {
   "cell_type": "markdown",
   "id": "659c6e10",
   "metadata": {},
   "source": [
    "Let's add this into the `no_name_df`, using the `name` `'Country Names'`:"
   ]
  },
  {
   "cell_type": "code",
   "execution_count": null,
   "id": "b517fc5f",
   "metadata": {},
   "outputs": [],
   "source": [
    "no_name_df['Country Names'] = country_names_array\n",
    "no_name_df"
   ]
  },
  {
   "cell_type": "markdown",
   "id": "761164c9",
   "metadata": {},
   "source": [
    "We now have one column that has an `int` as its column name, and another with\n",
    "a string.\n",
    "\n",
    "In the same way as for a numerical `index`, this situation can become\n",
    "confusing if the numerical labels become misaligned with their integer\n",
    "location in the `.columns` attribute.\n",
    "\n",
    "For instance, we could reverse the order of the columns, by using *direct indexing* in the Data Frame to request the columns in reverse order by column label:"
   ]
  },
  {
   "cell_type": "code",
   "execution_count": null,
   "id": "a1b2d3eb",
   "metadata": {},
   "outputs": [],
   "source": [
    "# Re-arrange the columns\n",
    "# Specify the order of columns we want.\n",
    "cols = ['Country Names', 0]\n",
    "# Use direct indexing to select columns in given order.\n",
    "reversed_col_df = no_name_df[cols]\n",
    "reversed_col_df"
   ]
  },
  {
   "cell_type": "markdown",
   "id": "d03d6e82",
   "metadata": {},
   "source": [
    "We now have a column with the `name` `0` (an int) that is not at the 0-th location of the `.columns` attribute:"
   ]
  },
  {
   "cell_type": "code",
   "execution_count": null,
   "id": "ea1bdbbb",
   "metadata": {},
   "outputs": [],
   "source": [
    "# Show the 0-th element of the `.columns` attribute\n",
    "reversed_col_df.columns[0]"
   ]
  },
  {
   "cell_type": "markdown",
   "id": "811a357c",
   "metadata": {},
   "source": [
    "We are in the precarious situation of using a `int` `0` both as a *label* and\n",
    "as a *location*. In the cell above, it is a location, it the cell below it\n",
    "serves as a label:"
   ]
  },
  {
   "cell_type": "code",
   "execution_count": null,
   "id": "aef72f10",
   "metadata": {},
   "outputs": [],
   "source": [
    "# Direct index the `0` column\n",
    "reversed_col_df[0]"
   ]
  },
  {
   "cell_type": "markdown",
   "id": "0ff0dd95",
   "metadata": {},
   "source": [
    "Ideally, we would like a clear separation between integer indexes (like `0`)\n",
    "and *column names*.\n",
    "\n",
    "This confusing situation can be completely avoided in the case of `named_df`. Let's add the country names to this Data Frame, that thus far only has a single column, containing the \"Human Development Index\" values."
   ]
  },
  {
   "cell_type": "code",
   "execution_count": null,
   "id": "16caef1b",
   "metadata": {},
   "outputs": [],
   "source": [
    "# Show the Data Frame thus far\n",
    "named_df"
   ]
  },
  {
   "cell_type": "code",
   "execution_count": null,
   "id": "a625e1ff",
   "metadata": {},
   "outputs": [],
   "source": [
    "# Add the country names\n",
    "named_df['Country Names'] = country_names_array\n",
    "named_df"
   ]
  },
  {
   "cell_type": "markdown",
   "id": "44256a8b",
   "metadata": {},
   "source": [
    "We don't introduce any confusion or add propensity to error by re-arranging\n",
    "these columns which have sensible string names:"
   ]
  },
  {
   "cell_type": "code",
   "execution_count": null,
   "id": "6167323f",
   "metadata": {},
   "outputs": [],
   "source": [
    "# Re-arrange the columns\n",
    "reversed_named_df = named_df[['Country Names', 'Human Development Index']]\n",
    "reversed_named_df"
   ]
  },
  {
   "cell_type": "markdown",
   "id": "be809017",
   "metadata": {},
   "source": [
    "In fact, now if we want to use integer indexing, we are forced to use `.iloc`,\n",
    "as we will otherwise get an error:"
   ]
  },
  {
   "cell_type": "code",
   "execution_count": null,
   "id": "cd3b4120",
   "metadata": {
    "tags": [
     "raises-exception"
    ]
   },
   "outputs": [],
   "source": [
    "# This will not work if each column has a `name` string\n",
    "reversed_named_df[0]"
   ]
  },
  {
   "cell_type": "markdown",
   "id": "ee7334bb",
   "metadata": {},
   "source": [
    "This compels us to stick to the good practice maxim **use `.loc` and `iloc`\n",
    "unless there is a good reason not to!**.\n",
    "\n",
    "Giving every column a sensible string as a `name` is one situation where\n",
    "direct indexing (e.g. in the present context using `named_df['Human\n",
    "Development Index']` etc.) is safe and not error prone. As we have seen,\n",
    "issues can arise if we do not specify `name` attributes, and let Pandas\n",
    "automatically generate numeric labels for our Data Frame columns..."
   ]
  },
  {
   "cell_type": "markdown",
   "id": "87d88679",
   "metadata": {},
   "source": [
    "## `.loc` and `.iloc` with Data Frames"
   ]
  },
  {
   "cell_type": "markdown",
   "id": "f7d7c7d4",
   "metadata": {},
   "source": [
    "So far we have spent much time with `.loc` and `.iloc` on Series, but less\n",
    "time on `.loc` and `.iloc` for Data Frames.\n",
    "\n",
    "Series are like one-dimensional arrays (with and Index and a Name) - therefore\n",
    "`.loc` and `.iloc` indexing into Series looks like indexing into\n",
    "one-dimensional Numpy arrays.\n",
    "\n",
    "A Data Frame is like a two dimensional array, so `.loc` and `.iloc` indexing\n",
    "looks like indexing into two-dimensional Numpy arrays.\n",
    "\n",
    "Consider the following two-dimensional Numpy array:"
   ]
  },
  {
   "cell_type": "code",
   "execution_count": null,
   "id": "a9d57c40",
   "metadata": {},
   "outputs": [],
   "source": [
    "two_d_arr = np.array([[1, 2, 3], [11, 21, 31], [101, 102, 103]])\n",
    "two_d_arr"
   ]
  },
  {
   "cell_type": "markdown",
   "id": "9a9d747f",
   "metadata": {},
   "source": [
    "If we index with one expression between the indexing brackets, we select\n",
    "*rows*:"
   ]
  },
  {
   "cell_type": "code",
   "execution_count": null,
   "id": "80318c2c",
   "metadata": {},
   "outputs": [],
   "source": [
    "# Select the second row.\n",
    "two_d_arr[1]"
   ]
  },
  {
   "cell_type": "markdown",
   "id": "8b2a75ca",
   "metadata": {},
   "source": [
    "If we want to select columns, we must specify two indexing expressions between\n",
    "the indexing brackets, separated by a comma:"
   ]
  },
  {
   "cell_type": "code",
   "execution_count": null,
   "id": "f61a615f",
   "metadata": {},
   "outputs": [],
   "source": [
    "# Select the second row, third column.\n",
    "two_d_arr[1, 2]"
   ]
  },
  {
   "cell_type": "markdown",
   "id": "0502f3ef",
   "metadata": {},
   "source": [
    "As usual, we can use slices as indexing expressions (e.g. expressions\n",
    "containing colons `:`):"
   ]
  },
  {
   "cell_type": "code",
   "execution_count": null,
   "id": "b4759bf1",
   "metadata": {},
   "outputs": [],
   "source": [
    "# Select first and second rows, second and third columns.\n",
    "two_d_arr[:2, 1:3]"
   ]
  },
  {
   "cell_type": "code",
   "execution_count": null,
   "id": "ab1e72ed",
   "metadata": {},
   "outputs": [],
   "source": [
    "# Select all rows, third column.\n",
    "two_d_arr[:, 2]"
   ]
  },
  {
   "cell_type": "markdown",
   "id": "3db2676a",
   "metadata": {},
   "source": [
    "Because a Data Frame has rows and columns, it corresponds to a two-dimensional\n",
    "array.\n",
    "\n",
    "For example, let us return to a previous Data Frame."
   ]
  },
  {
   "cell_type": "code",
   "execution_count": null,
   "id": "631bca1b",
   "metadata": {},
   "outputs": [],
   "source": [
    "named_df"
   ]
  },
  {
   "cell_type": "markdown",
   "id": "188dff2a",
   "metadata": {},
   "source": [
    "If we ask for the Data Frame `.values`, we get a two-dimensional Numpy array:"
   ]
  },
  {
   "cell_type": "code",
   "execution_count": null,
   "id": "7b724465",
   "metadata": {},
   "outputs": [],
   "source": [
    "named_df.values"
   ]
  },
  {
   "cell_type": "markdown",
   "id": "41d89847",
   "metadata": {},
   "source": [
    "When direct indexing with `.loc` or `.iloc`, we can select rows with a single\n",
    "indexing expression:"
   ]
  },
  {
   "cell_type": "code",
   "execution_count": null,
   "id": "36239a70",
   "metadata": {},
   "outputs": [],
   "source": [
    "# Select row corresponding to label 'RUS'\n",
    "named_df.loc['RUS']"
   ]
  },
  {
   "cell_type": "code",
   "execution_count": null,
   "id": "78bc267e",
   "metadata": {},
   "outputs": [],
   "source": [
    "# Select rows from that labeled 'ITA' to that labeled 'RUS'.\n",
    "# Remember, `.loc` is inclusive of the stop value.\n",
    "named_df.loc['ITA':'RUS']"
   ]
  },
  {
   "cell_type": "code",
   "execution_count": null,
   "id": "593e1fb6",
   "metadata": {},
   "outputs": [],
   "source": [
    "# Select second row by position.\n",
    "named_df.iloc[1]"
   ]
  },
  {
   "cell_type": "code",
   "execution_count": null,
   "id": "4e8be4ff",
   "metadata": {},
   "outputs": [],
   "source": [
    "# Select second through fifth row by position.\n",
    "# As standard for Python integers indexing, this is exclusive of stop position.\n",
    "named_df.iloc[1:5]"
   ]
  },
  {
   "cell_type": "markdown",
   "id": "0d1c0afa",
   "metadata": {},
   "source": [
    "Like the Numpy two-dimension indexing case, if we want to select columns with\n",
    "`.loc` or `.iloc`, we must give two indexing expressions, separated by\n",
    "a comma:"
   ]
  },
  {
   "cell_type": "code",
   "execution_count": null,
   "id": "36af87dd",
   "metadata": {},
   "outputs": [],
   "source": [
    "# Select rows 'ITA' through 'RUS', 'Country Names' column.\n",
    "named_df.loc['ITA':'RUS', 'Country Names']"
   ]
  },
  {
   "cell_type": "code",
   "execution_count": null,
   "id": "b6a419c7",
   "metadata": {},
   "outputs": [],
   "source": [
    "# Row for 'RUS', all columns.\n",
    "named_df.loc['RUS', :]"
   ]
  },
  {
   "cell_type": "code",
   "execution_count": null,
   "id": "732b0e71",
   "metadata": {},
   "outputs": [],
   "source": [
    "# Select second through fifth row by position, first column by position.\n",
    "named_df.iloc[1:5, 0]"
   ]
  },
  {
   "cell_type": "code",
   "execution_count": null,
   "id": "db3521a1",
   "metadata": {},
   "outputs": [],
   "source": [
    "# Second row, all columns.\n",
    "named_df.iloc[1, :]"
   ]
  },
  {
   "cell_type": "markdown",
   "id": "6202aca0",
   "metadata": {},
   "source": [
    "## Summary\n",
    "\n",
    "On this page we have looked at the Pandas Index, and different ways of\n",
    "indexing into Pandas Series.\n",
    "\n",
    "We discussed the default index that Pandas provides, of integer labels, and we\n",
    "showed how to get Series values by label (`.loc`) and by position (`.iloc`).\n",
    "\n",
    "`.loc` differs from `.iloc` and other Python indexing in that slices *include\n",
    "their stop value*.\n",
    "\n",
    "We pressed you to completely avoid using direct indexing on Pandas Series, because of the potent confusion that can arise between label and position indexing.\n",
    "\n",
    "For best results, we should specify both an interpretable `index` and\n",
    "interpretable `name` attributes for our Series, especially when they are part\n",
    "of Data Frames.\n",
    "\n",
    "Direct indexing into Data Frames is common and useful, in two situations:\n",
    "\n",
    "1. Direct indexing using a column name or sequence of names.\n",
    "1. Direct indexing using a Boolean Series (see [filtering\n",
    "   page](0_5_filtering_data_with_pandas)).\n",
    "\n",
    "We can use `.loc` and `.iloc` on Data Frames, remembering that this indexing\n",
    "acts like indexing two-dimensional Numpy arrays; when selecting columns, we\n",
    "first need to specify a selection for rows."
   ]
  }
 ],
 "metadata": {
  "jupytext": {
   "formats": "ipynb,Rmd"
  },
  "kernelspec": {
   "display_name": "Python (Pyodide)",
   "name": "python"
  }
 },
 "nbformat": 4,
 "nbformat_minor": 5
}
