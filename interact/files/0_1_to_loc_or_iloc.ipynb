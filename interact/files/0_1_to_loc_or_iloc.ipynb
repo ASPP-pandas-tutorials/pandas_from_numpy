{
 "cells": [
  {
   "cell_type": "markdown",
   "id": "1476bec8",
   "metadata": {},
   "source": [
    "# To `.loc` or `.iloc` - more on Pandas indexes\n",
    "\n",
    "From the [previous page](0_0_pandas_intro.Rmd), remember our maxims that:\n",
    "\n",
    "- *\"a Pandas Series is a numpy array, plus a `name` attribute and an array-like `index`\"* \n",
    "\n",
    "...and...\n",
    "\n",
    "- *\"a Pandas Data Frame is just a *dictionary-like collection of Series*\"? \n",
    "\n",
    "On this page we will examine differences between Data Frame attributes. We will demonstrate that the `name` attribute is optional - the default `name` is `None` and the `name` attribute can be left unspecified in any given Series with minimal consequences. We will show, however, that it is essential to specify the `name` attribute as a column name when a Series is part of a Pandas Data Frame. \n",
    "\n",
    "In contrast, an `index` is essential - if no `index` is specified then Pandas will create one. However, we will show that it is sensible to replace Pandas' default index with a custom index, to avoid accidental errors when indexing. "
   ]
  },
  {
   "cell_type": "code",
   "execution_count": null,
   "id": "46f5455d",
   "metadata": {},
   "outputs": [],
   "source": [
    "# import libraries\n",
    "import numpy as np\n",
    "import pandas as pd"
   ]
  },
  {
   "cell_type": "markdown",
   "id": "a1aa1a5d",
   "metadata": {},
   "source": [
    "## What's in a `name`?\n",
    "\n",
    "To consider the difference in importance/default behaviour between the `name` attribute and the `index` attribute, let's again build a Pandas Series \"by hand\", using numpy arrays. We'll use the [fertility and Human Development Index data once more](https://ourworldindata.org/grapher/children-per-woman-vs-human-development-index).\n",
    "\n",
    "First, an array containing the three-letter codes for each country:"
   ]
  },
  {
   "cell_type": "code",
   "execution_count": null,
   "id": "0c63cecc",
   "metadata": {},
   "outputs": [],
   "source": [
    "# three letter codes for each country\n",
    "country_codes_array = np.array(['AUS', 'BRA', 'CAN',\n",
    "                          'CHN', 'DEU', 'ESP',\n",
    "                          'FRA', 'GBR', 'IND',\n",
    "                          'ITA', 'JPN', 'KOR',\n",
    "                          'MEX', 'RUS', 'USA'])\n",
    "country_codes_array"
   ]
  },
  {
   "cell_type": "markdown",
   "id": "080e2a35",
   "metadata": {},
   "source": [
    "Second, an array containing the Human Development Index (HDI) scores for each country:"
   ]
  },
  {
   "cell_type": "code",
   "execution_count": null,
   "id": "c2d41cc9",
   "metadata": {},
   "outputs": [],
   "source": [
    "# Human Development Index Scores for each country\n",
    "hdis_array = np.array([0.896, 0.668, 0.89 , 0.586, \n",
    "                       0.844, 0.89 , 0.49 , 0.842, \n",
    "                       0.883, 0.709, 0.733, 0.824,\n",
    "                       0.828, 0.863, 0.894])\n",
    "\n",
    "hdis_array"
   ]
  },
  {
   "cell_type": "markdown",
   "id": "8d6d2ac6",
   "metadata": {},
   "source": [
    "We can make a Series using the `pd.Series()` constructor. Our `.values` array is the HDI scores, and the `index` is the three-letter country codes. As we have seen previously, we specify the `index` using the `index=` argument."
   ]
  },
  {
   "cell_type": "code",
   "execution_count": null,
   "id": "9f7e23a3",
   "metadata": {},
   "outputs": [],
   "source": [
    "# make a series from the `hdis` array\n",
    "hdi_series =  pd.Series(hdis_array, \n",
    "                        index=country_codes_array)\n",
    "\n",
    "hdi_series"
   ]
  },
  {
   "cell_type": "markdown",
   "id": "61e77e4e",
   "metadata": {},
   "source": [
    "Currently, our Series has data (`values`) and and an `index`, but no `name` attribute:"
   ]
  },
  {
   "cell_type": "code",
   "execution_count": null,
   "id": "6cb57af0",
   "metadata": {},
   "outputs": [],
   "source": [
    "# show the `values`\n",
    "hdi_series.values"
   ]
  },
  {
   "cell_type": "code",
   "execution_count": null,
   "id": "2b4ca0d5",
   "metadata": {},
   "outputs": [],
   "source": [
    "# show the `index`\n",
    "hdi_series.index"
   ]
  },
  {
   "cell_type": "code",
   "execution_count": null,
   "id": "0929c7af",
   "metadata": {},
   "outputs": [],
   "source": [
    "# show that `name` is None (e.g. does not exist)\n",
    "hdi_series.name is None"
   ]
  },
  {
   "cell_type": "markdown",
   "id": "10e514b0",
   "metadata": {},
   "source": [
    "The `name` attribute is optional when considering Series which are not part of Data Frames. The default `name` attribute  is `None`. E.g. if we do not specifiy a `name`, Pandas will set `name` to be `None`.\n",
    "\n",
    "However, the name attribute can be useful for tracking what data is inside the `values` array. Let's make a new Series - called `hdi_series_with_name_and_index` - where we **do** specify a `name` attribute when calling the `pd.Series()` constructor. \n",
    "\n",
    "To specify the `name` attribute we use the `name = ` argument inside the `pd.DataFrame()` constructor:"
   ]
  },
  {
   "cell_type": "code",
   "execution_count": null,
   "id": "90f7a5d4",
   "metadata": {},
   "outputs": [],
   "source": [
    "# make a series from the `hdis` array\n",
    "hdi_series_with_name_and_index =  pd.Series(hdis_array, \n",
    "                                  index=country_codes_array,\n",
    "                                  name = 'Human Development Index') # specifying the `name` attribute\n",
    "\n",
    "hdi_series_with_name_and_index"
   ]
  },
  {
   "cell_type": "markdown",
   "id": "24eaeca1",
   "metadata": {},
   "source": [
    "Now, `name` is no longer equal to `None`:"
   ]
  },
  {
   "cell_type": "code",
   "execution_count": null,
   "id": "25087831",
   "metadata": {},
   "outputs": [],
   "source": [
    "# show the `name` attribute\n",
    "hdi_series_with_name_and_index.name"
   ]
  },
  {
   "cell_type": "code",
   "execution_count": null,
   "id": "1e1f5a1d",
   "metadata": {},
   "outputs": [],
   "source": [
    "# `name` is not None\n",
    "hdi_series_with_name_and_index.name is None"
   ]
  },
  {
   "cell_type": "markdown",
   "id": "a094a54c",
   "metadata": {},
   "source": [
    "So far so good, we have seen what happens if we make a Series with no `name` attribute. But what if we make a Series without specifying an `index`? \n",
    "\n",
    "To do this, we simply call the `pd.Series()` constructor without using the `index = ` argument:"
   ]
  },
  {
   "cell_type": "code",
   "execution_count": null,
   "id": "e62c2f94",
   "metadata": {},
   "outputs": [],
   "source": [
    "# make a series from the `hdis` array, with no `name` and no `index` specified\n",
    "hdi_series_no_name_no_index =  pd.Series(hdis_array)\n",
    "\n",
    "hdi_series_no_name_no_index"
   ]
  },
  {
   "cell_type": "markdown",
   "id": "b904055d",
   "metadata": {},
   "source": [
    "Here, you can see that while we did not specify an `index` Pandas has automatically generated an one:"
   ]
  },
  {
   "cell_type": "code",
   "execution_count": null,
   "id": "930bb36c",
   "metadata": {},
   "outputs": [],
   "source": [
    "# view the new Series\n",
    "hdi_series_no_name_no_index"
   ]
  },
  {
   "cell_type": "markdown",
   "id": "1caa7210",
   "metadata": {},
   "source": [
    "Let's take a closer look at this `index` by directly accessing the `.index` attribute:"
   ]
  },
  {
   "cell_type": "code",
   "execution_count": null,
   "id": "06380e62",
   "metadata": {},
   "outputs": [],
   "source": [
    "# the default Pandas index\n",
    "hdi_series_no_name_no_index.index"
   ]
  },
  {
   "cell_type": "markdown",
   "id": "4fc97548",
   "metadata": {},
   "source": [
    "Hmmm, it is quite strange-looking relative to the index of country codes (which visually resembles a numpy array). Let's use to the `type()` function to investigate further:"
   ]
  },
  {
   "cell_type": "code",
   "execution_count": null,
   "id": "0fe51ac8",
   "metadata": {},
   "outputs": [],
   "source": [
    "# so the type of the default index\n",
    "type(hdi_series_no_name_no_index.index)"
   ]
  },
  {
   "cell_type": "markdown",
   "id": "26e87fa0",
   "metadata": {},
   "source": [
    "Ok, so for this Series - where we did not specify an `index` - the index that Pandas has created is a `RangeIndex` object. This is, in fact, the default Pandas index that will be attached to a Series where no other index is specified.\n",
    "\n",
    "The `RangeIndex` looks like a sequence of numbers (and in a sense it is) - but it behaves differently to python list and arrays with regards to indexing.\n",
    "\n",
    "Let's take a look at the shape of the `RangeIndex` and what is in it. To view the shape, we can use the `np.shape()` function:"
   ]
  },
  {
   "cell_type": "code",
   "execution_count": null,
   "id": "802da350",
   "metadata": {},
   "outputs": [],
   "source": [
    "# take a closer look at the \"default\" index\n",
    "np.shape(hdi_series_no_name_no_index.index)"
   ]
  },
  {
   "cell_type": "markdown",
   "id": "f329ed3c",
   "metadata": {},
   "source": [
    "Ok, so the index has 15 elements. Let's view the first one, using direct indexing:"
   ]
  },
  {
   "cell_type": "code",
   "execution_count": null,
   "id": "54e43fff",
   "metadata": {},
   "outputs": [],
   "source": [
    "# view the first element of the RangeIndex\n",
    "hdi_series_no_name_no_index.index[0]"
   ]
  },
  {
   "cell_type": "markdown",
   "id": "e6b700cf",
   "metadata": {},
   "source": [
    "Again, so far, so good. Now let's view the second element:"
   ]
  },
  {
   "cell_type": "code",
   "execution_count": null,
   "id": "01d156c1",
   "metadata": {},
   "outputs": [],
   "source": [
    "# view the second element of the RangeIndex\n",
    "hdi_series_no_name_no_index.index[1]"
   ]
  },
  {
   "cell_type": "markdown",
   "id": "50499fb5",
   "metadata": {},
   "source": [
    "Previously, we used three-letter country codes as the index elements (these were strings).\n",
    "\n",
    "Let's have a look at the `type()` of the numbers in the `RangeIndex`:"
   ]
  },
  {
   "cell_type": "code",
   "execution_count": null,
   "id": "e2467dfb",
   "metadata": {},
   "outputs": [],
   "source": [
    "# what type are the elements of the range index?\n",
    "type(hdi_series_no_name_no_index.index[0])"
   ]
  },
  {
   "cell_type": "markdown",
   "id": "cb859b5d",
   "metadata": {},
   "source": [
    "You might be fooled here into thinking that the `RangeIndex` behaves like a python list. If we try to use slicing, we will see this is not the case:"
   ]
  },
  {
   "cell_type": "code",
   "execution_count": null,
   "id": "894737a6",
   "metadata": {},
   "outputs": [],
   "source": [
    "# slice the RangeIndex\n",
    "hdi_series_no_name_no_index.index[0:-1]"
   ]
  },
  {
   "cell_type": "code",
   "execution_count": null,
   "id": "55ad2c65",
   "metadata": {},
   "outputs": [],
   "source": [
    "# slice the RangeIndex\n",
    "hdi_series_no_name_no_index.index[0:4]"
   ]
  },
  {
   "cell_type": "markdown",
   "id": "af959d09",
   "metadata": {},
   "source": [
    "This might seem like pretty weird behaviour. This is because the `RangeIndex` behaves similarly to the in-built python `range()` function, rather than as a list or numpy array (e.g. we cannot slice it using the familar `start:stop` syntax).\n",
    "\n",
    "To view all the values inside the `RangeIndex` we can loop over it:"
   ]
  },
  {
   "cell_type": "code",
   "execution_count": null,
   "id": "f8e157b2",
   "metadata": {},
   "outputs": [],
   "source": [
    "# loop over the index\n",
    "for el in hdi_series_no_name_no_index.index:\n",
    "    print(el)"
   ]
  },
  {
   "cell_type": "markdown",
   "id": "07bb2565",
   "metadata": {},
   "source": [
    "Or show the values together by converting the index to a python list, using the `list()` function:"
   ]
  },
  {
   "cell_type": "code",
   "execution_count": null,
   "id": "36e392d1",
   "metadata": {},
   "outputs": [],
   "source": [
    "# show the elements in the RangeIndex using list()\n",
    "list(hdi_series_no_name_no_index.index)"
   ]
  },
  {
   "cell_type": "markdown",
   "id": "ba49a5fa",
   "metadata": {},
   "source": [
    "## Why the \"default\" index can be confusing\n",
    "\n",
    "To recap: we've used three-letter country codes as the elements of an `index`, and we've just seen what happens if we construct a Data Frame without telling Pandas what to use as an `index` - it will create a default `RangeIndex`.\n",
    "\n",
    "What is the advantage of using a non-default index? Below are some potential pitfalls to be aware of when using the default index.\n",
    "\n",
    "Let's say we want to access the fifth element of the Series. This is at integer location 4, because we count from 0. At the moment the numerical labels from `RangeIndex` \"line up\" with the integer-based locations:"
   ]
  },
  {
   "cell_type": "code",
   "execution_count": null,
   "id": "db51defb",
   "metadata": {},
   "outputs": [],
   "source": [
    "# show the whole Series\n",
    "hdi_series_no_name_no_index"
   ]
  },
  {
   "cell_type": "markdown",
   "id": "df8736b7",
   "metadata": {},
   "source": [
    "If we use integer indexing (`.iloc`) we get the same value as if we use label based indexing (`.loc`):"
   ]
  },
  {
   "cell_type": "code",
   "execution_count": null,
   "id": "0d1c0423",
   "metadata": {},
   "outputs": [],
   "source": [
    "# indexing using integer location\n",
    "hdi_series_no_name_no_index.iloc[4]"
   ]
  },
  {
   "cell_type": "code",
   "execution_count": null,
   "id": "dd427bd9",
   "metadata": {},
   "outputs": [],
   "source": [
    " # indexing using labels (from the default index)\n",
    "hdi_series_no_name_no_index.loc[4]"
   ]
  },
  {
   "cell_type": "markdown",
   "id": "2cf03eab",
   "metadata": {},
   "source": [
    "What if we don't tell pandas what type of indexing we want to do? E.g. we do not use `.iloc` or `.loc`, we just use the sort of direct indexing we would use on a python list?"
   ]
  },
  {
   "cell_type": "code",
   "execution_count": null,
   "id": "c016d4e9",
   "metadata": {},
   "outputs": [],
   "source": [
    "# direct indexing\n",
    "hdi_series_no_name_no_index[4]"
   ]
  },
  {
   "cell_type": "markdown",
   "id": "ec18dcb8",
   "metadata": {},
   "source": [
    "All of these methods, presently, have returned the same value.\n",
    "\n",
    "**But  this will not always be the case.** Certain functions and methods that we may want to use to sort and organise our data will cause cause misalignment between the `RangeIndex` and the integer location of a given element of the Series.\n",
    "\n",
    "For instance let's sort the data in our `hdi_series_no_name_no_index` Series in ascending order.  To do this we will use the `.sort_values()` method. We will cover Pandas methods in detail on [later pages](0_2_pandas_dataframes_attributes_methods.Rmd)  but for now the `.sort_values()` method just as what it says on the tin it sorts the elements of the Series in ascending order, based on the elements in the `.values` attribute of the Series:"
   ]
  },
  {
   "cell_type": "code",
   "execution_count": null,
   "id": "cca5e1d8",
   "metadata": {},
   "outputs": [],
   "source": [
    "# sorting the values in ascending order\n",
    "hdi_series_no_name_no_index_sorted = hdi_series_no_name_no_index.sort_values()\n",
    "\n",
    "hdi_series_no_name_no_index_sorted"
   ]
  },
  {
   "cell_type": "markdown",
   "id": "65da4d04",
   "metadata": {},
   "source": [
    "Look at the left hand side of the print out from the cell above e.g. look at the `RangeIndex`.  The numbers within the `RangeIndex` no longer run sequentially from 0 to 14. This means that the integer location of each element in the Series no longer matches up with the index label. This can potentially be a source of errors.\n",
    "\n",
    "Let's see what happens if we try to access the fifth element of the series using integer based indexing (`.iloc[4]`) location based indexing (`.loc[4]`) and direct indexing (`[4]`) as we did above.\n",
    "\n",
    "When we did this on the unsorted data all these methods returned the same value:"
   ]
  },
  {
   "cell_type": "code",
   "execution_count": null,
   "id": "a79de300",
   "metadata": {},
   "outputs": [],
   "source": [
    "# integer indexing on the sorted data\n",
    "hdi_series_no_name_no_index_sorted.iloc[4]"
   ]
  },
  {
   "cell_type": "code",
   "execution_count": null,
   "id": "4fbe223a",
   "metadata": {},
   "outputs": [],
   "source": [
    "# label indexing on the sorted data\n",
    "hdi_series_no_name_no_index_sorted.loc[4]"
   ]
  },
  {
   "cell_type": "code",
   "execution_count": null,
   "id": "027fb212",
   "metadata": {},
   "outputs": [],
   "source": [
    "# direct indexing on the sorted data\n",
    "hdi_series_no_name_no_index_sorted[4]"
   ]
  },
  {
   "cell_type": "markdown",
   "id": "a7777273",
   "metadata": {},
   "source": [
    "Oh dear,  we have used the number 4 with each indexing method, yet have gotten back different values. \n",
    "\n",
    "This is a pitfall of using the default `RangeIndex` - it can lead to confusing results when the integer-based location and the `int` label of an element of the Series do not match up. \n",
    "\n",
    "Compare this to our `hdi_series_with_name_and_index` which uses the three-letter country codes as it's index:"
   ]
  },
  {
   "cell_type": "code",
   "execution_count": null,
   "id": "abed8953",
   "metadata": {},
   "outputs": [],
   "source": [
    "# show the `hdi_series_with_name_and_index` Series\n",
    "hdi_series_with_name_and_index"
   ]
  },
  {
   "cell_type": "markdown",
   "id": "7e41714e",
   "metadata": {},
   "source": [
    "Let's get the Fifth Element using integer based (`.iloc`) indexing:"
   ]
  },
  {
   "cell_type": "code",
   "execution_count": null,
   "id": "73df2bec",
   "metadata": {},
   "outputs": [],
   "source": [
    "# integer indexing\n",
    "hdi_series_with_name_and_index.iloc[4]"
   ]
  },
  {
   "cell_type": "markdown",
   "id": "4857b946",
   "metadata": {},
   "source": [
    "...and let's try to use `.loc[4]` on this Series (this will generate an error):"
   ]
  },
  {
   "cell_type": "code",
   "execution_count": null,
   "id": "6e3f1a6d",
   "metadata": {
    "tags": [
     "raises-exception"
    ]
   },
   "outputs": [],
   "source": [
    "# label indexing raises a KeyError ...\n",
    "hdi_series_with_name_and_index.loc[4]"
   ]
  },
  {
   "cell_type": "markdown",
   "id": "cbd65637",
   "metadata": {},
   "source": [
    "This `KeyError` tells us that there is no index label `4` (which makes sense as the index labels in this Series are three-letter country codes). To use `.loc` with this Series, we must use the three-letter country code strings:"
   ]
  },
  {
   "cell_type": "code",
   "execution_count": null,
   "id": "7afa41c8",
   "metadata": {},
   "outputs": [],
   "source": [
    "# label based indexing\n",
    "hdi_series_with_name_and_index.loc['DEU']"
   ]
  },
  {
   "cell_type": "markdown",
   "id": "776db543",
   "metadata": {},
   "source": [
    "Direct indexing here will assume we mean `.iloc` integer-based indexing."
   ]
  },
  {
   "cell_type": "code",
   "execution_count": null,
   "id": "3de8b9e0",
   "metadata": {},
   "outputs": [],
   "source": [
    "# direct indexing\n",
    "hdi_series_with_name_and_index[4]"
   ]
  },
  {
   "cell_type": "markdown",
   "id": "596ebd01",
   "metadata": {},
   "source": [
    "Using a custom index (e.g. the three-letter country codes) rather than the default `RangeIndex` has the advantage of avoiding potential confusion between the integer location of a datapoint, and the index label of that datapoint.\n",
    "\n",
    "To demonstrate this, let's sort our `hdi_series_with_name_and_index` in ascending order:"
   ]
  },
  {
   "cell_type": "code",
   "execution_count": null,
   "id": "babf6999",
   "metadata": {},
   "outputs": [],
   "source": [
    "# sorting the Series in ascending order\n",
    "hdi_series_with_name_and_index_sorted = hdi_series_with_name_and_index.sort_values()\n",
    "\n",
    "hdi_series_with_name_and_index_sorted"
   ]
  },
  {
   "cell_type": "markdown",
   "id": "37cd716d",
   "metadata": {},
   "source": [
    "The use of custom string-based labels in the index (e.g. `FRA`, `AUS` etc)  and say confusing misalignment between `RangeIndex` numerical labels and integer location.\n",
    "\n",
    "Now, if we index using a number, this means *integer indexing*:"
   ]
  },
  {
   "cell_type": "code",
   "execution_count": null,
   "id": "9c2caffd",
   "metadata": {},
   "outputs": [],
   "source": [
    "# index using `.iloc`\n",
    "hdi_series_with_name_and_index_sorted.iloc[4]"
   ]
  },
  {
   "cell_type": "code",
   "execution_count": null,
   "id": "0be80dad",
   "metadata": {},
   "outputs": [],
   "source": [
    "# index using direct indexing.\n",
    "# Currently this generates a warning.  In the future it will be an error.\n",
    "hdi_series_with_name_and_index_sorted[4]"
   ]
  },
  {
   "cell_type": "markdown",
   "id": "af9cd507",
   "metadata": {},
   "source": [
    "Using `.loc` means we have to use a string, preventing errors where we use a number and return data we do not expect."
   ]
  },
  {
   "cell_type": "code",
   "execution_count": null,
   "id": "81f3315e",
   "metadata": {},
   "outputs": [],
   "source": [
    "# label-based indexing\n",
    "hdi_series_with_name_and_index_sorted.loc['DEU']"
   ]
  },
  {
   "cell_type": "markdown",
   "id": "c591438b",
   "metadata": {},
   "source": [
    "However, a good additional maxim is: **use `.loc` and `iloc` unless there is a good reason not to!**.\n",
    "\n",
    "If you use direct indexing, e.g. `[4]` without using `.iloc` or `.loc`, then Pandas assumes you want to use integer indexing.  if this is the case it is better to be explicit and use the `.iloc` method *especially if the Series has a `RangeIndex` with numeric labels*."
   ]
  },
  {
   "cell_type": "markdown",
   "id": "6048b973",
   "metadata": {},
   "source": [
    "## Summary\n",
    "\n",
    "On this page we have looked at the differences between attributes of the Pandas Series - the `name` is optional, but a default `RangeIndex` will be supplied if no custom `index` is specified.\n",
    "\n",
    "We have seen that the `RangeIndex` can lead to errors if the numeric row labels become misaligned with the integer location of a given row."
   ]
  }
 ],
 "metadata": {
  "jupytext": {
   "formats": "ipynb,Rmd"
  },
  "kernelspec": {
   "display_name": "Python (Pyodide)",
   "name": "python"
  }
 },
 "nbformat": 4,
 "nbformat_minor": 5
}
