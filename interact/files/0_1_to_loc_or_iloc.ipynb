{
 "cells": [
  {
   "cell_type": "markdown",
   "id": "41e92df4",
   "metadata": {},
   "source": [
    "# Indexing by label, indexing by position\n",
    "\n",
    "## Indexing and Series\n",
    "\n",
    "From the [What is a Series section](what-is-a-series), remember our maxim:\n",
    "\n",
    "> A *Series* is the association of:\n",
    ">\n",
    "> * An array of values (`.values`)\n",
    "> * A sequence of labels for each value (`.index`)\n",
    "> * A name (which can be `None`).\n",
    "\n",
    "On this page we take a brief look at Series `.name`s, and show that they can be useful when created Data Frames from Series.\n",
    "\n",
    "Then we look at the Index for Series and Data Frames, and the default index\n",
    "that Pandas creates if you do not specify one.\n",
    "\n",
    "The default Index that Pandas makes reminds us of the differences between\n",
    "label indexing (using `.loc`) and position (integer) indexing (using `.iloc`);\n",
    "we show that current Pandas allows some ambiguity about what type of indexing\n",
    "you are doing when using *direct indexing*.  It is sensible to replace Pandas'\n",
    "default index with a custom index, to avoid accidental errors when indexing.\n",
    "\n",
    "## Getting started"
   ]
  },
  {
   "cell_type": "code",
   "execution_count": null,
   "id": "de29e87b",
   "metadata": {},
   "outputs": [],
   "source": [
    "# import libraries\n",
    "import numpy as np\n",
    "import pandas as pd"
   ]
  },
  {
   "cell_type": "markdown",
   "id": "23fdf128",
   "metadata": {},
   "source": [
    "We'll use the [fertility and Human Development Index data once\n",
    "more](data/data_notes)."
   ]
  },
  {
   "cell_type": "code",
   "execution_count": null,
   "id": "e56923bc",
   "metadata": {},
   "outputs": [],
   "source": [
    "# Three letter codes for each country\n",
    "country_codes_array = np.array(['AUS', 'BRA', 'CAN',\n",
    "                                'CHN', 'DEU', 'ESP',\n",
    "                                'FRA', 'GBR', 'IND',\n",
    "                                'ITA', 'JPN', 'KOR',\n",
    "                                'MEX', 'RUS', 'USA'])"
   ]
  },
  {
   "cell_type": "code",
   "execution_count": null,
   "id": "c6992722",
   "metadata": {},
   "outputs": [],
   "source": [
    "# Human Development Index Scores for each country\n",
    "hdis_array = np.array([0.896, 0.668, 0.89,\n",
    "                       0.586, 0.89,  0.828,\n",
    "                       0.844, 0.863, 0.49,\n",
    "                       0.842, 0.883, 0.824,\n",
    "                       0.709, 0.733, 0.894])"
   ]
  },
  {
   "cell_type": "markdown",
   "id": "927877f3",
   "metadata": {},
   "source": [
    "## What's in a `name`?\n",
    "\n",
    "You may remember from the [](series-names) section that Series have optional names, where the default name is `None`.\n",
    "\n",
    "To recap, here we build a new Series by passing the values as the first argument, and the labels (Index) as the second:"
   ]
  },
  {
   "cell_type": "code",
   "execution_count": null,
   "id": "216b279d",
   "metadata": {},
   "outputs": [],
   "source": [
    "# Make a series from the `hdis_array` array.\n",
    "hdi_series = pd.Series(hdis_array, country_codes_array)\n",
    "hdi_series"
   ]
  },
  {
   "cell_type": "markdown",
   "id": "792a1c4a",
   "metadata": {},
   "source": [
    "In fact we generally prefer to pass the Index as a named argument, to be explicit:"
   ]
  },
  {
   "cell_type": "code",
   "execution_count": null,
   "id": "faa9d33a",
   "metadata": {},
   "outputs": [],
   "source": [
    "# The same constructor call, with index as a named argument.\n",
    "hdi_series = pd.Series(hdis_array, index=country_codes_array)"
   ]
  },
  {
   "cell_type": "markdown",
   "id": "6598a4a6",
   "metadata": {},
   "source": [
    "Currently, our Series has data values (`values`) and an `index`, but the\n",
    "`name` attribute is None (the default)."
   ]
  },
  {
   "cell_type": "code",
   "execution_count": null,
   "id": "3316f81a",
   "metadata": {},
   "outputs": [],
   "source": [
    "# Show the `values`\n",
    "hdi_series.values"
   ]
  },
  {
   "cell_type": "code",
   "execution_count": null,
   "id": "c1029e7e",
   "metadata": {},
   "outputs": [],
   "source": [
    "# Show the `index`\n",
    "hdi_series.index"
   ]
  },
  {
   "cell_type": "code",
   "execution_count": null,
   "id": "05df1aab",
   "metadata": {},
   "outputs": [],
   "source": [
    "# Show that `name` is None\n",
    "hdi_series.name is None"
   ]
  },
  {
   "cell_type": "markdown",
   "id": "121863dc",
   "metadata": {},
   "source": [
    "However, the `name` attribute can be useful for remind you of the nature of\n",
    "the data in the `values` array.  As you will see below, it's particularly\n",
    "useful to attach names to Series when you will use the Series to build a Data\n",
    "Frame.\n",
    "\n",
    "Let's make a new Series - called `hdi_series_with_name_and_index` - where we\n",
    "**do** specify a `name` attribute when calling the `pd.Series()` constructor."
   ]
  },
  {
   "cell_type": "code",
   "execution_count": null,
   "id": "bfae638d",
   "metadata": {},
   "outputs": [],
   "source": [
    "# Make a series from the `hdis` array, specifying the `name` attribute.\n",
    "hdi_series_with_name_and_index = pd.Series(hdis_array,\n",
    "                                           index=country_codes_array,\n",
    "                                           name='Human Development Index')\n",
    "hdi_series_with_name_and_index"
   ]
  },
  {
   "cell_type": "code",
   "execution_count": null,
   "id": "b19a3934",
   "metadata": {},
   "outputs": [],
   "source": [
    "# Show the `name` attribute\n",
    "hdi_series_with_name_and_index.name"
   ]
  },
  {
   "cell_type": "markdown",
   "id": "e0158995",
   "metadata": {},
   "source": [
    "## What's in an `index`?\n",
    "\n",
    "We have seen what happens if we make a Series with no `name` attribute. But\n",
    "what if we make a Series without specifying an `index`?"
   ]
  },
  {
   "cell_type": "code",
   "execution_count": null,
   "id": "5fe1797e",
   "metadata": {},
   "outputs": [],
   "source": [
    "# Make a Series from `hdis_array`, without specifying `index` or `name`.\n",
    "hdi_series_no_name_no_index =  pd.Series(hdis_array)\n",
    "hdi_series_no_name_no_index"
   ]
  },
  {
   "cell_type": "markdown",
   "id": "c1d54bbb",
   "metadata": {},
   "source": [
    "Here, you can see that, where we did not specify an `index`, Pandas has\n",
    "automatically generated one."
   ]
  },
  {
   "cell_type": "markdown",
   "id": "c3cfdc5a",
   "metadata": {},
   "source": [
    "Let's take a closer look at this `index` by directly accessing the `.index`\n",
    "attribute:"
   ]
  },
  {
   "cell_type": "code",
   "execution_count": null,
   "id": "de661df8",
   "metadata": {},
   "outputs": [],
   "source": [
    "# The default Pandas index\n",
    "hdi_series_no_name_no_index.index"
   ]
  },
  {
   "cell_type": "markdown",
   "id": "61aadee5",
   "metadata": {},
   "source": [
    "`RangeIndex` is very similar to Python's `range`; it is a space-saving\n",
    "container that represents a sequence of integers from a start value up to, but not including a stop value, with an optional step size.  Here `RangeIndex` represents the numbers 0 through 14, just as `range` can represent the numbers 0 through 14:"
   ]
  },
  {
   "cell_type": "code",
   "execution_count": null,
   "id": "8b8a0759",
   "metadata": {},
   "outputs": [],
   "source": [
    "zero_through_14 = range(0, 15)\n",
    "zero_through_14"
   ]
  },
  {
   "cell_type": "markdown",
   "id": "be866f25",
   "metadata": {},
   "source": [
    "As for `range` we can ask the `RangeIndex` container to give up these numbers (by iteration) into another container, such as an array or list:"
   ]
  },
  {
   "cell_type": "code",
   "execution_count": null,
   "id": "ca1500ce",
   "metadata": {},
   "outputs": [],
   "source": [
    "# Iterating through `RangeIndex` to give the represented numbers.\n",
    "np.array(hdi_series_no_name_no_index.index)"
   ]
  },
  {
   "cell_type": "code",
   "execution_count": null,
   "id": "d66e0a5c",
   "metadata": {},
   "outputs": [],
   "source": [
    "# Iterating through a `range` to give the represented numbers.\n",
    "np.array(zero_through_14)"
   ]
  },
  {
   "cell_type": "markdown",
   "id": "a9d7dcdf",
   "metadata": {},
   "source": [
    "As for `range`, one can ask for the implied elements by indexing:"
   ]
  },
  {
   "cell_type": "code",
   "execution_count": null,
   "id": "9d5fce15",
   "metadata": {},
   "outputs": [],
   "source": [
    "# View the fifth element of the RangeIndex\n",
    "fifth_element = hdi_series_no_name_no_index.index[4]\n",
    "fifth_element"
   ]
  },
  {
   "cell_type": "markdown",
   "id": "072f912b",
   "metadata": {},
   "source": [
    "Notice that the elements from `RangeIndex` are `int`s:"
   ]
  },
  {
   "cell_type": "code",
   "execution_count": null,
   "id": "ed9dce3b",
   "metadata": {},
   "outputs": [],
   "source": [
    "type(fifth_element)"
   ]
  },
  {
   "cell_type": "markdown",
   "id": "e391645c",
   "metadata": {},
   "source": [
    "For all practical purposes, you can treat this `RangeIndex` as being\n",
    "equivalent the corresponding sequential Numpy integer array.\n",
    "\n",
    "**Start of exercise**\n",
    "\n",
    "Let's make another Series where we do not specify the index:"
   ]
  },
  {
   "cell_type": "code",
   "execution_count": null,
   "id": "2167e303",
   "metadata": {},
   "outputs": [],
   "source": [
    "a_series = pd.Series([1000, 999, 101, 199, 99])\n",
    "a_series"
   ]
  },
  {
   "cell_type": "markdown",
   "id": "dcd50ef0",
   "metadata": {},
   "source": [
    "As you have seen, you will have got the default `.index`, a `RangeIndex`:"
   ]
  },
  {
   "cell_type": "code",
   "execution_count": null,
   "id": "bfc6d1cd",
   "metadata": {},
   "outputs": [],
   "source": [
    "a_series.index"
   ]
  },
  {
   "cell_type": "markdown",
   "id": "b10a9347",
   "metadata": {},
   "source": [
    "What do you expect to see for `list(a_series)`?  Reflect, then uncomment below\n",
    "and try it:"
   ]
  },
  {
   "cell_type": "code",
   "execution_count": null,
   "id": "fa45789d",
   "metadata": {},
   "outputs": [],
   "source": [
    "# list(a_series)"
   ]
  },
  {
   "cell_type": "markdown",
   "id": "d8c32545",
   "metadata": {},
   "source": [
    "What do you expect to see for `list(a_series.index)`?  Reflect, then try it:"
   ]
  },
  {
   "cell_type": "code",
   "execution_count": null,
   "id": "7fd75335",
   "metadata": {},
   "outputs": [],
   "source": [
    "# list(a_series.index)"
   ]
  },
  {
   "cell_type": "markdown",
   "id": "9dcd9e31",
   "metadata": {},
   "source": [
    "The Series method `.sort_values` returns a new Series sorted by the values."
   ]
  },
  {
   "cell_type": "code",
   "execution_count": null,
   "id": "41a2e485",
   "metadata": {},
   "outputs": [],
   "source": [
    "sorted_series = a_series.sort_values()"
   ]
  },
  {
   "cell_type": "markdown",
   "id": "e4d98201",
   "metadata": {},
   "source": [
    "Now what do you expect to see for `list(sorted_series)`?  Reflect, then\n",
    "uncomment below and try it:"
   ]
  },
  {
   "cell_type": "code",
   "execution_count": null,
   "id": "fbb43517",
   "metadata": {},
   "outputs": [],
   "source": [
    "# list(sorted_series)"
   ]
  },
  {
   "cell_type": "markdown",
   "id": "1e860b2a",
   "metadata": {},
   "source": [
    "How about `list(sorted_series.index)`?  Reflect, try:"
   ]
  },
  {
   "cell_type": "code",
   "execution_count": null,
   "id": "16c3489a",
   "metadata": {},
   "outputs": [],
   "source": [
    "# list(sorted_series.index)"
   ]
  },
  {
   "cell_type": "markdown",
   "id": "b19a17f5",
   "metadata": {},
   "source": [
    "What kind of thing do you think the `.index` is now?  Reflect and then:"
   ]
  },
  {
   "cell_type": "code",
   "execution_count": null,
   "id": "963c69fa",
   "metadata": {},
   "outputs": [],
   "source": [
    "# type(sorted_series.index)"
   ]
  },
  {
   "cell_type": "markdown",
   "id": "a76b8cf7",
   "metadata": {},
   "source": [
    "Can you explain the result of the last cell?\n",
    "\n",
    "**End of exercise**"
   ]
  },
  {
   "cell_type": "markdown",
   "id": "0113ed1b",
   "metadata": {},
   "source": [
    "**See the [corresponding page](/pandas_from_numpy/0_1_to_loc_or_iloc.html) for solution**\n",
    "\n",
    "## Why an index of integers can be confusing\n",
    "\n",
    "To recap: we've used three-letter country codes as the elements of an `index`,\n",
    "and we've just seen what happens if we construct a Data Frame without telling\n",
    "Pandas what to use as an `index` - it will create a default `RangeIndex`.  `RangeIndex` represents a series of integers.\n",
    "\n",
    "If you did the exercise, you will have found that Pandas can us `RangeIndex`\n",
    "when the index is a regular sequence of integers, but must otherwise change to\n",
    "having an index with an array containing integers, that are the value labels.\n",
    "\n",
    "What is the advantage of using an index with values that aren't integers\n",
    "— such as strings? Below are some potential pitfalls to be aware of when using\n",
    "the default index, and any other index made up of integers.\n",
    "\n",
    "Let's say we want to access the fifth element of the Series. This is at\n",
    "integer location 4, because we count from 0. At the moment the numerical\n",
    "labels implied by the `RangeIndex` \"line up\" with the integer-based locations:"
   ]
  },
  {
   "cell_type": "code",
   "execution_count": null,
   "id": "1c06007a",
   "metadata": {},
   "outputs": [],
   "source": [
    "# show the whole Series\n",
    "hdi_series_no_name_no_index"
   ]
  },
  {
   "cell_type": "markdown",
   "id": "78b1d3e1",
   "metadata": {},
   "source": [
    "If you ask for element `4`, there is no ambiguity about which element you\n",
    "mean, because the value with label `4` is also the element at integer position\n",
    "`4`.  Therefore, if we use integer indexing (`.iloc`) we get the same value as\n",
    "if we use label based indexing (`.loc`):"
   ]
  },
  {
   "cell_type": "code",
   "execution_count": null,
   "id": "3a395c5a",
   "metadata": {},
   "outputs": [],
   "source": [
    "# Indexing using integer location\n",
    "hdi_series_no_name_no_index.iloc[4]"
   ]
  },
  {
   "cell_type": "code",
   "execution_count": null,
   "id": "f8729753",
   "metadata": {},
   "outputs": [],
   "source": [
    "# Indexing using labels (from the default index)\n",
    "hdi_series_no_name_no_index.loc[4]"
   ]
  },
  {
   "cell_type": "markdown",
   "id": "510596d0",
   "metadata": {},
   "source": [
    "What if we don't tell Pandas what type of indexing we want to do?  Meaning, we\n",
    "do not use `.iloc` or `.loc`, we just use the sort of [direct\n",
    "indexing](direct-indirect) we would use on a Python list or array?"
   ]
  },
  {
   "cell_type": "code",
   "execution_count": null,
   "id": "370b3392",
   "metadata": {},
   "outputs": [],
   "source": [
    "# direct indexing\n",
    "hdi_series_no_name_no_index[4]"
   ]
  },
  {
   "cell_type": "markdown",
   "id": "253cd0a3",
   "metadata": {},
   "source": [
    "There is no ambiguity as to what `4` refers to, so it may not be surprising that `.iloc`, `.loc` and direct indexing all give the same result.\n",
    "\n",
    "**But this will not always be the case.** Certain functions and methods that\n",
    "we may want to use to sort and organise our data will cause cause misalignment\n",
    "between the *integer labels* and the *integer position* of a given element of\n",
    "the Series.\n",
    "\n",
    "For instance let's sort the data in our `hdi_series_no_name_no_index` Series\n",
    "in ascending order.  To do this we will use the `.sort_values()` method. We\n",
    "will cover Pandas methods in detail on [later\n",
    "pages](0_2_pandas_dataframes_attributes_methods.Rmd). For now the\n",
    "`.sort_values()` method sorts the values of the Series in ascending order, taking the matching labels in the index with it."
   ]
  },
  {
   "cell_type": "code",
   "execution_count": null,
   "id": "aab24780",
   "metadata": {},
   "outputs": [],
   "source": [
    "# Sorting the *values* in ascending order\n",
    "hdi_series_no_name_no_index_sorted = hdi_series_no_name_no_index.sort_values()\n",
    "hdi_series_no_name_no_index_sorted"
   ]
  },
  {
   "cell_type": "markdown",
   "id": "e49db7de",
   "metadata": {},
   "source": [
    "Look at the left hand side of the display from the cell above — in particular,\n",
    "look at the Index.  The numbers within the Index no longer run sequentially\n",
    "from 0 to 14. This means that the integer location of each element in the\n",
    "Series no longer matches up with the index label. This can be a potential\n",
    "source of errors.\n",
    "\n",
    "::: note\n",
    "\n",
    "**The index type can change if you rearrange elements**\n",
    "\n",
    "If you haven't done the exercise above, please consider doing it.\n",
    "\n",
    "If you have, you will have found already that the sorted Series has a new\n",
    "Index, that is no longer a `RangeIndex` (because the integer labels now cannot\n",
    "be represented as a regular sequence of integers):"
   ]
  },
  {
   "cell_type": "code",
   "execution_count": null,
   "id": "c68f1fbd",
   "metadata": {},
   "outputs": [],
   "source": [
    "type(hdi_series_no_name_no_index_sorted.index)"
   ]
  },
  {
   "cell_type": "markdown",
   "id": "8c54c3dd",
   "metadata": {},
   "source": [
    ":::\n",
    "\n",
    "Let's see what happens if we try to access the fifth element of the series\n",
    "using integer based indexing (`.iloc[4]`) location based indexing (`.loc[4]`)\n",
    "and direct indexing (`[4]`) as we did above.\n",
    "\n",
    "As you remember, when we did this on the data before sorting, all these\n",
    "methods returned the same value.  Now, however:"
   ]
  },
  {
   "cell_type": "code",
   "execution_count": null,
   "id": "bd6b7e48",
   "metadata": {},
   "outputs": [],
   "source": [
    "# Integer indexing on the sorted data\n",
    "# This is the fifth element in the Series.\n",
    "hdi_series_no_name_no_index_sorted.iloc[4]"
   ]
  },
  {
   "cell_type": "code",
   "execution_count": null,
   "id": "ce2d2479",
   "metadata": {},
   "outputs": [],
   "source": [
    "# Label indexing on the sorted data\n",
    "# This is the element with the label `4`.\n",
    "hdi_series_no_name_no_index_sorted.loc[4]"
   ]
  },
  {
   "cell_type": "code",
   "execution_count": null,
   "id": "c5db044d",
   "metadata": {},
   "outputs": [],
   "source": [
    "# Direct indexing on the sorted data\n",
    "# Which is this?  Position or label?\n",
    "hdi_series_no_name_no_index_sorted[4]"
   ]
  },
  {
   "cell_type": "markdown",
   "id": "ac154790",
   "metadata": {},
   "source": [
    "We have used the number 4 with each indexing method, yet have gotten back\n",
    "different values for `.iloc` compared to `.loc` and direct indexing.\n",
    "\n",
    "This is a pitfall of using sequential numbers as the index — as generated, for\n",
    "example, by `RangeIndex` — it can lead to confusing results when the position\n",
    "in the sequence and the `int` label of an element of the Series do not match\n",
    "up.\n",
    "\n",
    "Compare this to our `hdi_series_with_name_and_index` which uses the\n",
    "three-letter country codes as its index:"
   ]
  },
  {
   "cell_type": "code",
   "execution_count": null,
   "id": "f0bcf971",
   "metadata": {},
   "outputs": [],
   "source": [
    "# Show the `hdi_series_with_name_and_index` Series\n",
    "hdi_series_with_name_and_index"
   ]
  },
  {
   "cell_type": "markdown",
   "id": "00e23d8c",
   "metadata": {},
   "source": [
    "Let's get the fifth element using integer based (`.iloc`) indexing:"
   ]
  },
  {
   "cell_type": "code",
   "execution_count": null,
   "id": "791cecee",
   "metadata": {},
   "outputs": [],
   "source": [
    "# integer indexing\n",
    "hdi_series_with_name_and_index.iloc[4]"
   ]
  },
  {
   "cell_type": "markdown",
   "id": "b8b0546f",
   "metadata": {},
   "source": [
    "...and let's try to use `.loc[4]` on this Series (this will generate an error):"
   ]
  },
  {
   "cell_type": "code",
   "execution_count": null,
   "id": "984f3eb7",
   "metadata": {
    "tags": [
     "raises-exception"
    ]
   },
   "outputs": [],
   "source": [
    "# Label indexing raises a KeyError ...\n",
    "hdi_series_with_name_and_index.loc[4]"
   ]
  },
  {
   "cell_type": "markdown",
   "id": "3f04466a",
   "metadata": {},
   "source": [
    "This `KeyError` tells us that there is no index label `4` (which makes sense\n",
    "as the index labels in this Series are three-letter country codes). To use\n",
    "`.loc` with this Series, we must use the three-letter country code strings:"
   ]
  },
  {
   "cell_type": "code",
   "execution_count": null,
   "id": "65f69445",
   "metadata": {},
   "outputs": [],
   "source": [
    "# label based indexing\n",
    "hdi_series_with_name_and_index.loc['DEU']"
   ]
  },
  {
   "cell_type": "markdown",
   "id": "6448fe6e",
   "metadata": {},
   "source": [
    "We don't think it's very confusing when using integer indices with `.loc` and\n",
    "`.iloc`.  You've specified what you mean (by label or by position) with the\n",
    "name of the method.  However, things can get dangerously confusing if you use\n",
    "an integer index and *direct indexing*.\n",
    "\n",
    "Just to remind you, `hdi_series_with_name_and_index` has the country codes (strings like `'DEU'`) as the index.\n",
    "\n",
    "Now, consider, what would happen if we used an integer for *direct indexing*?\n",
    "As in something like `hdi_series_with_name_and_index[4]`?  Because we haven't\n",
    "specified that we want to index with labels (`.loc`) or positions (`.iloc`),\n",
    "Pandas has to make some decision as to how to proceed.\n",
    "\n",
    "**Start of exercise**\n",
    "\n",
    "We assume you've just read the text above the exercise, where we consider what you would expect to happen if:\n",
    "\n",
    "* Your Series has a index of strings.\n",
    "* You use direct indexing on this Series with an integer.\n",
    "\n",
    "As in `hdi_series_with_name_and_index[4]`. (Don't try it yet).\n",
    "\n",
    "Pause and reflect what decision you would make in this situation, if you were\n",
    "a Pandas developer, deciding what Pandas should do?  What are the options?\n",
    "Why would you chose one option over another?\n",
    "\n",
    "**End of exercise**"
   ]
  },
  {
   "cell_type": "markdown",
   "id": "3bc38c87",
   "metadata": {},
   "source": [
    "**See the [corresponding page](/pandas_from_numpy/0_1_to_loc_or_iloc.html) for solution**\n",
    "\n",
    "You are about to see that direct indexing on a Series, for now, does something\n",
    "truly awful, which is to *guess* whether we mean to `.loc` or `.iloc` indexing\n",
    "depending on whether the index values are integers.\n",
    "\n",
    "So, as you have already seen above, if the index consists of integers, and you\n",
    "specify integers in your direct indexing, then Pandas will assume you mean the\n",
    "values to be labels (like `.loc`).\n",
    "\n",
    "If the index consists does not consist of integers, and you specify integers\n",
    "in your direct indexing, then Pandas will assume you mean the values to be\n",
    "positions (like `.iloc`)."
   ]
  },
  {
   "cell_type": "code",
   "execution_count": null,
   "id": "e7b007c0",
   "metadata": {},
   "outputs": [],
   "source": [
    "# direct indexing\n",
    "hdi_series_with_name_and_index[4]"
   ]
  },
  {
   "cell_type": "markdown",
   "id": "826578f2",
   "metadata": {},
   "source": [
    "Using a custom non-integer index (e.g. the three-letter country codes) rather\n",
    "than the default `RangeIndex`, or some other integer index, has the advantage\n",
    "of avoiding potential confusion between the integer location of an element,\n",
    "and the index label of that element.\n",
    "\n",
    "To demonstrate this, let's sort our `hdi_series_with_name_and_index` in ascending order:"
   ]
  },
  {
   "cell_type": "code",
   "execution_count": null,
   "id": "295cfbd1",
   "metadata": {},
   "outputs": [],
   "source": [
    "# Sorting the Series in ascending order\n",
    "# Notice the standard Python / Pandas trick of using parentheses to\n",
    "# break the statement over multiple lines.  This is a common trick, but\n",
    "# it's particularly common for Pandas processing, to chain multiple\n",
    "# method calls on the output of previous calls.  You'll see what we mean soon.\n",
    "hdi_series_with_name_and_index_sorted = (hdi_series_with_name_and_index\n",
    "                                         .sort_values())\n",
    "hdi_series_with_name_and_index_sorted"
   ]
  },
  {
   "cell_type": "markdown",
   "id": "02e5c9fa",
   "metadata": {},
   "source": [
    "The use of custom string-based labels in the index (e.g. `FRA`, `AUS` etc)\n",
    "avoids confusing misalignment between the default numerical labels and integer\n",
    "location."
   ]
  },
  {
   "cell_type": "markdown",
   "id": "0553f12e",
   "metadata": {},
   "source": [
    "It's good and safe practice to explicitly specify `.loc` or `.iloc` when\n",
    "indexing a Series, in order not to confuse Pandas as to whether you mean to\n",
    "index by label or position.   In this case `.loc` means we have to use\n",
    "a string, preventing errors where we use a number and return data we do not\n",
    "expect."
   ]
  },
  {
   "cell_type": "code",
   "execution_count": null,
   "id": "83012f5d",
   "metadata": {},
   "outputs": [],
   "source": [
    "# label-based indexing\n",
    "hdi_series_with_name_and_index_sorted.loc['DEU']"
   ]
  },
  {
   "cell_type": "markdown",
   "id": "9d803083",
   "metadata": {},
   "source": [
    "Therefore, a good additional maxim is: **use `.loc` and `iloc` unless there is\n",
    "a good reason not to!**."
   ]
  },
  {
   "cell_type": "markdown",
   "id": "a00ff844",
   "metadata": {},
   "source": [
    "## Strange and `name`less Data Frame columns\n",
    "\n",
    "Remember, a Data Frame is a dictionary-like collection of Series.\n",
    "\n",
    "We often create Data Frames with an actual dictionary of Series, or with single Series.\n",
    "\n",
    "When we build Data Frames from Series, it becomes eminently sensible to\n",
    "specify a `name` attribute for each Series.\n",
    "\n",
    "Pandas will not *force* us to do this, but it leads to some error-prone\n",
    "consequences if we do not. In fact, the default `RangeIndex` crops up again\n",
    "here, and can create confusion in similar ways to the ones we have seen in the\n",
    "last section.\n",
    "\n",
    "As shown above, our `hdi_series` does not have a `name` attribute. Let's pass\n",
    "this Series to the `pd.DataFrame()` constructor, to see the consequence of\n",
    "a `name`less Series in this context. We will call the resulting Data Frame\n",
    "`no_name_df`:"
   ]
  },
  {
   "cell_type": "code",
   "execution_count": null,
   "id": "7df77568",
   "metadata": {},
   "outputs": [],
   "source": [
    "# Verify again that the `hdi_series` has no `name` attribute\n",
    "hdi_series.name is None"
   ]
  },
  {
   "cell_type": "code",
   "execution_count": null,
   "id": "fe4c9a73",
   "metadata": {},
   "outputs": [],
   "source": [
    "# a Data Frame made of a Series with no `name` attribute\n",
    "no_name_df = pd.DataFrame(hdi_series)\n",
    "no_name_df"
   ]
  },
  {
   "cell_type": "markdown",
   "id": "f5c5f7bd",
   "metadata": {},
   "source": [
    "Ok, so in the absence of a `name` attribute Pandas has labelled the column with a `0`. If we inspect more deeply, we find that actually Pandas, in the absence of being instructed otherwise, has created a `RangeIndex`, but this time for the `columns` (e.g. the column names) of the Data Frame. If you look at the Data Frame above, you can see that the `index` attribute is the three-letter country codes. However, the `.columns` are a `RangeIndex`:"
   ]
  },
  {
   "cell_type": "code",
   "execution_count": null,
   "id": "fbe2a9be",
   "metadata": {},
   "outputs": [],
   "source": [
    "# Look at the column names via the `.columns` attribute\n",
    "no_name_df.columns"
   ]
  },
  {
   "cell_type": "markdown",
   "id": "7105f52f",
   "metadata": {},
   "source": [
    "Sure enough, if we check the `type` of the fist element in this `RangeIndex`\n",
    "it is an `int` — we can think of it not as a column *name* but a number\n",
    "standing in for a column name:"
   ]
  },
  {
   "cell_type": "code",
   "execution_count": null,
   "id": "422059ef",
   "metadata": {},
   "outputs": [],
   "source": [
    "# Check the type of the first element in the `.columns` attribute\n",
    "type(no_name_df.columns[0])"
   ]
  },
  {
   "cell_type": "markdown",
   "id": "b108687a",
   "metadata": {},
   "source": [
    "It may be obvious why this naming convention for Data Frame columns can lead\n",
    "to errors for reasons of low interpretability. We typically want our column\n",
    "names to be descriptive of the data in the column, to ourselves and to other\n",
    "people reading our code. If we do not specify a `name` attribute for our\n",
    "Series when creating Data Frames, the default numerical column names supplied\n",
    "by Pandas are hard to interpret, and it is easy to misinterpret, or to forget\n",
    "what data is in that column, leading to human errors.\n",
    "\n",
    "They can also lead to indexing errors, similar to those we saw in the previous\n",
    "section. To demonstrate this, let's compare the `name`less Data Frame above to\n",
    "a Data Frame created from a Series with a `name`.\n",
    "\n",
    "Our aptly named `hdi_series_with_name_and_index` has a `name` attribute\n",
    "— (look at the last line of the output from the cell below, the `Name: Human\n",
    "Development Index`):"
   ]
  },
  {
   "cell_type": "code",
   "execution_count": null,
   "id": "12c058ac",
   "metadata": {},
   "outputs": [],
   "source": [
    "# A Series with a `name`\n",
    "hdi_series_with_name_and_index"
   ]
  },
  {
   "cell_type": "markdown",
   "id": "8d3d9bec",
   "metadata": {},
   "source": [
    "Let's call the `pd.DataFrame()` constructor on this Series - we'll call the\n",
    "resultant Data Frame `named_df`:"
   ]
  },
  {
   "cell_type": "code",
   "execution_count": null,
   "id": "f82fc1f9",
   "metadata": {},
   "outputs": [],
   "source": [
    "# Create a new Data Frame, with a sensible name for the column\n",
    "named_df = pd.DataFrame(hdi_series_with_name_and_index)\n",
    "named_df"
   ]
  },
  {
   "cell_type": "markdown",
   "id": "c62b7aac",
   "metadata": {},
   "source": [
    "We see that Pandas has automatically used the `name` attribute as the column\n",
    "name, hugely increasing the interpretability of the resulting Data Frame.\n",
    "\n",
    "We can see the `name` in the `.columns` attribute of the new  `named_df` Data\n",
    "Frame:"
   ]
  },
  {
   "cell_type": "code",
   "execution_count": null,
   "id": "027e3d8c",
   "metadata": {},
   "outputs": [],
   "source": [
    "# show the column names from the `named_df` Data Frame\n",
    "named_df.columns"
   ]
  },
  {
   "cell_type": "markdown",
   "id": "c5583ba0",
   "metadata": {},
   "source": [
    "Now, let's try using direct indexing with each Data Frame, using the column names.\n",
    "\n",
    "This is very straightforward for the `named_df`:"
   ]
  },
  {
   "cell_type": "code",
   "execution_count": null,
   "id": "1913f9a8",
   "metadata": {},
   "outputs": [],
   "source": [
    "# direct indexing to retrieve a column by name\n",
    "named_df['Human Development Index']"
   ]
  },
  {
   "cell_type": "markdown",
   "id": "bdea0c08",
   "metadata": {},
   "source": [
    "What about for `no_name_df`? Well, the column name there is `0`, of `int`\n",
    "type.\n",
    "\n",
    "What happens if use direct indexing? We are hoping we see something like the\n",
    "output of the cell above, albeit with a `0` for the `name`, rather than `Human\n",
    "Development Index`:"
   ]
  },
  {
   "cell_type": "code",
   "execution_count": null,
   "id": "9760e2b5",
   "metadata": {},
   "outputs": [],
   "source": [
    "# Direct indexing with no `name` attribute\n",
    "no_name_df[0]"
   ]
  },
  {
   "cell_type": "markdown",
   "id": "15e16f09",
   "metadata": {},
   "source": [
    "Sure enough that is what we see. But the operation we have used looks very\n",
    "much like *integer* indexing on a Series, which will return a single value:"
   ]
  },
  {
   "cell_type": "code",
   "execution_count": null,
   "id": "78649210",
   "metadata": {},
   "outputs": [],
   "source": [
    "# integer indexing a Series (without using `.iloc`)\n",
    "hdi_series[0]"
   ]
  },
  {
   "cell_type": "markdown",
   "id": "ad0f0f58",
   "metadata": {},
   "source": [
    "This can be confusing.\n",
    "\n",
    "The numerical label can also be confusing if we introduce more columns, especially if we mix in columns which do have `name` attributes that we specify.\n",
    "\n",
    "For instance, if we add in the full name of each country:"
   ]
  },
  {
   "cell_type": "code",
   "execution_count": null,
   "id": "c504f515",
   "metadata": {},
   "outputs": [],
   "source": [
    "# country names array\n",
    "country_names_array = np.array(['Australia', 'Brazil', 'Canada',\n",
    "                                'China', 'Germany', 'Spain',\n",
    "                                'France', 'United Kingdom', 'India',\n",
    "                                'Italy', 'Japan', 'South Korea',\n",
    "                                'Mexico', 'Russia', 'United States'])\n",
    "country_names_array"
   ]
  },
  {
   "cell_type": "markdown",
   "id": "4a9ecf0e",
   "metadata": {},
   "source": [
    "Let's add this into the `no_name_df`, using the `name` `'Country Names'`:"
   ]
  },
  {
   "cell_type": "code",
   "execution_count": null,
   "id": "a3706704",
   "metadata": {},
   "outputs": [],
   "source": [
    "no_name_df['Country Names'] = country_names_array\n",
    "no_name_df"
   ]
  },
  {
   "cell_type": "markdown",
   "id": "7445ec89",
   "metadata": {},
   "source": [
    "We now have one column that has an `int` as its column name, and another with\n",
    "a string.\n",
    "\n",
    "In the same way as for a numerical `index`, this situation can become\n",
    "confusing if the numerical labels become misaligned with their integer\n",
    "location in the `.columns` attribute.\n",
    "\n",
    "For instance, we could reverse the order of the columns, by using *direct indexing* in the Data Frame to request the columns in reverse order by column label:"
   ]
  },
  {
   "cell_type": "code",
   "execution_count": null,
   "id": "b501bde8",
   "metadata": {},
   "outputs": [],
   "source": [
    "# Re-arrange the columns\n",
    "# Specify the order of columns we want.\n",
    "cols = ['Country Names', 0]\n",
    "# Use direct indexing to select columns in given order.\n",
    "reversed_col_df = no_name_df[cols]\n",
    "reversed_col_df"
   ]
  },
  {
   "cell_type": "markdown",
   "id": "c482df33",
   "metadata": {},
   "source": [
    "We now have a column with the `name` `0` (an int) that is not at the 0-th location of the `.columns` attribute:"
   ]
  },
  {
   "cell_type": "code",
   "execution_count": null,
   "id": "56cd3a3e",
   "metadata": {},
   "outputs": [],
   "source": [
    "# Show the 0-th element of the `.columns` attribute\n",
    "reversed_col_df.columns[0]"
   ]
  },
  {
   "cell_type": "markdown",
   "id": "f08834a3",
   "metadata": {},
   "source": [
    "We are now in the precarious situation of using a `int` `0` both as a *label* and as a *location*. In the cell above, it is a location, it the cell below it serves as a label:"
   ]
  },
  {
   "cell_type": "code",
   "execution_count": null,
   "id": "946b0132",
   "metadata": {},
   "outputs": [],
   "source": [
    "# Direct index the `0` column\n",
    "reversed_col_df[0]"
   ]
  },
  {
   "cell_type": "markdown",
   "id": "f1b29622",
   "metadata": {},
   "source": [
    "Ideally, we would like a clear separation between integer indexes (like `0`)\n",
    "and *column names*.\n",
    "\n",
    "This confusing situation can be completely avoided in the case of `named_df`. Let's add the country names to this Data Frame, that thus far only has a single column, containing the \"Human Development Index\" values."
   ]
  },
  {
   "cell_type": "code",
   "execution_count": null,
   "id": "a154db01",
   "metadata": {},
   "outputs": [],
   "source": [
    "# Show the Data Frame thus far\n",
    "named_df"
   ]
  },
  {
   "cell_type": "code",
   "execution_count": null,
   "id": "400a8a85",
   "metadata": {},
   "outputs": [],
   "source": [
    "# Add the country names\n",
    "named_df['Country Names'] = country_names_array\n",
    "named_df"
   ]
  },
  {
   "cell_type": "markdown",
   "id": "bdc0750b",
   "metadata": {},
   "source": [
    "We don't introduce any confusion or add propensity to error by re-arranging\n",
    "these columns which have sensible string names:"
   ]
  },
  {
   "cell_type": "code",
   "execution_count": null,
   "id": "6184bbdd",
   "metadata": {},
   "outputs": [],
   "source": [
    "# Re-arrange the columns\n",
    "reversed_named_df = named_df[['Country Names', 'Human Development Index']]\n",
    "reversed_named_df"
   ]
  },
  {
   "cell_type": "markdown",
   "id": "02eff076",
   "metadata": {},
   "source": [
    "In fact, now if we want to use integer indexing, we are forced to use `.iloc`,\n",
    "as we will otherwise get an error:"
   ]
  },
  {
   "cell_type": "code",
   "execution_count": null,
   "id": "88ff6f4f",
   "metadata": {
    "tags": [
     "raises-exception"
    ]
   },
   "outputs": [],
   "source": [
    "# This will not work if each column has a `name` string\n",
    "reversed_named_df[0]"
   ]
  },
  {
   "cell_type": "markdown",
   "id": "b335e29f",
   "metadata": {},
   "source": [
    "This compels us to stick to the good practice maxim we introduced above: **use\n",
    "`.loc` and `iloc` unless there is a good reason not to!**.\n",
    "\n",
    "Giving every column a sensible string as a `name` is one situation where direct indexing (e.g. in the present context using `named_df['Human Development Index']` etc.) is safe and non-error prone. As we have seen, issues can arise if we do not specify `name` attributes, and let Pandas automatically generate numeric labels for our Data Frame columns..."
   ]
  },
  {
   "cell_type": "markdown",
   "id": "0f1c9cef",
   "metadata": {},
   "source": [
    "## Summary\n",
    "\n",
    "On this page we have looked at the differences between attributes of the\n",
    "Pandas Series - the `name` is optional, but a default `RangeIndex` will be\n",
    "supplied if no custom `index` is specified.\n",
    "\n",
    "We have seen that the `RangeIndex` and other indices with integer labels can\n",
    "lead to errors if the numeric row labels become misaligned with the integer\n",
    "location of a given row. Similarly, if we do not specify a `name` attribute\n",
    "for Data Frame columns, Pandas will generate numeric labels which can create\n",
    "confusion between integer-based and direct indexing.\n",
    "\n",
    "For best results, we should specify both an interpretable `index` and\n",
    "interpretable `name` attributes for our Series, especially when they are part\n",
    "of Data Frames."
   ]
  }
 ],
 "metadata": {
  "jupytext": {
   "formats": "ipynb,Rmd"
  },
  "kernelspec": {
   "display_name": "Python (Pyodide)",
   "name": "python"
  }
 },
 "nbformat": 4,
 "nbformat_minor": 5
}
