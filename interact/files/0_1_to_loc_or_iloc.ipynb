{
 "cells": [
  {
   "cell_type": "markdown",
   "id": "2fcd7351",
   "metadata": {},
   "source": [
    "# `.loc` and `.iloc` indexing\n",
    "\n",
    "From the [What is a Series section](what-is-a-series), remember our maxim:\n",
    "\n",
    "> A *Series* is the association of:\n",
    ">\n",
    "> * An array of values (`.values`)\n",
    "> * A sequence of labels for each value (`.index`)\n",
    "> * A name (which can be `None`).\n",
    "\n",
    "On this page we will examine differences between Data Frame attributes. We\n",
    "will demonstrate that the `name` attribute is optional. The default `name` is\n",
    "`None` and the `name` attribute can be left unspecified in any given Series\n",
    "with minimal consequences. We will show, however, that it is important to\n",
    "specify the `name` attribute as a column name when a Series is part of\n",
    "a Pandas Data Frame.\n",
    "\n",
    "In contrast, an `index` is essential - if no `index` is specified then Pandas will create one. However, we will show that it is sensible to replace Pandas' default index with a custom index, to avoid accidental errors when indexing. "
   ]
  },
  {
   "cell_type": "code",
   "execution_count": null,
   "id": "d2b4609f",
   "metadata": {},
   "outputs": [],
   "source": [
    "# import libraries\n",
    "import numpy as np\n",
    "import pandas as pd"
   ]
  },
  {
   "cell_type": "markdown",
   "id": "25978b43",
   "metadata": {},
   "source": [
    "## What's in a `name`?\n",
    "\n",
    "To consider the difference in importance/default behaviour between the `name`\n",
    "attribute and the `index` attribute, let's again build a Pandas Series from\n",
    "component parts, using Numpy arrays. We'll use the [fertility and Human\n",
    "Development Index data once more](data/data_notes).\n",
    "\n",
    "First, an array containing the three-letter codes for each country:"
   ]
  },
  {
   "cell_type": "code",
   "execution_count": null,
   "id": "f94f1d25",
   "metadata": {},
   "outputs": [],
   "source": [
    "# three letter codes for each country\n",
    "country_codes_array = np.array(['AUS', 'BRA', 'CAN',\n",
    "                                'CHN', 'DEU', 'ESP',\n",
    "                                'FRA', 'GBR', 'IND',\n",
    "                                'ITA', 'JPN', 'KOR',\n",
    "                                'MEX', 'RUS', 'USA'])\n",
    "country_codes_array"
   ]
  },
  {
   "cell_type": "markdown",
   "id": "6f96a12e",
   "metadata": {},
   "source": [
    "Second, an array containing the Human Development Index (HDI) scores for each country:"
   ]
  },
  {
   "cell_type": "code",
   "execution_count": null,
   "id": "45856f6a",
   "metadata": {},
   "outputs": [],
   "source": [
    "# Human Development Index Scores for each country\n",
    "hdis_array = np.array([0.896, 0.668, 0.89,\n",
    "                       0.586, 0.89,  0.828,\n",
    "                       0.844, 0.863, 0.49,\n",
    "                       0.842, 0.883, 0.824,\n",
    "                       0.709, 0.733, 0.894])\n",
    "hdis_array"
   ]
  },
  {
   "cell_type": "markdown",
   "id": "56d51a0b",
   "metadata": {},
   "source": [
    "We can make a Series using the `pd.Series()` constructor. Our `.values` array is the HDI scores, and the `index` is the three-letter country codes. As we have seen previously, we specify the `index` using the `index=` argument."
   ]
  },
  {
   "cell_type": "code",
   "execution_count": null,
   "id": "56d4ec76",
   "metadata": {},
   "outputs": [],
   "source": [
    "# make a series from the `hdis` array\n",
    "hdi_series =  pd.Series(hdis_array, \n",
    "                        index=country_codes_array)\n",
    "hdi_series"
   ]
  },
  {
   "cell_type": "markdown",
   "id": "d552be98",
   "metadata": {},
   "source": [
    "Currently, our Series has data (`values`) and an `index`, but no `name` attribute:"
   ]
  },
  {
   "cell_type": "code",
   "execution_count": null,
   "id": "9cfeaf62",
   "metadata": {},
   "outputs": [],
   "source": [
    "# show the `values`\n",
    "hdi_series.values"
   ]
  },
  {
   "cell_type": "code",
   "execution_count": null,
   "id": "94f5b1c3",
   "metadata": {},
   "outputs": [],
   "source": [
    "# show the `index`\n",
    "hdi_series.index"
   ]
  },
  {
   "cell_type": "code",
   "execution_count": null,
   "id": "d1ed3260",
   "metadata": {},
   "outputs": [],
   "source": [
    "# show that `name` is None (e.g. does not exist - this cell will produce no output)\n",
    "hdi_series.name"
   ]
  },
  {
   "cell_type": "code",
   "execution_count": null,
   "id": "08f13a9e",
   "metadata": {},
   "outputs": [],
   "source": [
    "# show that `name` is None (e.g. does not exist)\n",
    "hdi_series.name is None"
   ]
  },
  {
   "cell_type": "markdown",
   "id": "51521753",
   "metadata": {},
   "source": [
    "The `name` attribute is optional when considering Series which are not part of Data Frames. If we do not specify a `name`, Pandas will set `name` to be `None`.\n",
    "\n",
    "However, the name attribute can be useful for tracking what data is inside the `values` array. \n",
    "\n",
    "Let's make a new Series - called `hdi_series_with_name_and_index` - where we **do** specify a `name` attribute when calling the `pd.Series()` constructor. \n",
    "\n",
    "To specify the `name` attribute we use the `name = ` argument inside the `pd.DataFrame()` constructor:"
   ]
  },
  {
   "cell_type": "code",
   "execution_count": null,
   "id": "911e4a01",
   "metadata": {},
   "outputs": [],
   "source": [
    "# Make a series from the `hdis` array, specifying the `name` attribute.\n",
    "hdi_series_with_name_and_index = pd.Series(hdis_array,\n",
    "                                           index=country_codes_array,\n",
    "                                           name = 'Human Development Index')\n",
    "hdi_series_with_name_and_index"
   ]
  },
  {
   "cell_type": "markdown",
   "id": "683a8c48",
   "metadata": {},
   "source": [
    "Now, `name` is no longer equal to `None`:"
   ]
  },
  {
   "cell_type": "code",
   "execution_count": null,
   "id": "6cc652f3",
   "metadata": {},
   "outputs": [],
   "source": [
    "# Show the `name` attribute\n",
    "hdi_series_with_name_and_index.name"
   ]
  },
  {
   "cell_type": "code",
   "execution_count": null,
   "id": "3585cfaf",
   "metadata": {},
   "outputs": [],
   "source": [
    "# `name` is not None\n",
    "hdi_series_with_name_and_index.name is None"
   ]
  },
  {
   "cell_type": "markdown",
   "id": "960243b1",
   "metadata": {},
   "source": [
    "## What's in an `index`?\n",
    "\n",
    "So far so good, we have seen what happens if we make a Series with no `name` attribute. But what if we make a Series without specifying an `index`? \n",
    "\n",
    "To do this, we simply call the `pd.Series()` constructor without using the `index = ` argument:"
   ]
  },
  {
   "cell_type": "code",
   "execution_count": null,
   "id": "ff5b7c9d",
   "metadata": {},
   "outputs": [],
   "source": [
    "# make a series from the `hdis` array, with no `name` and no `index` specified\n",
    "hdi_series_no_name_no_index =  pd.Series(hdis_array)\n",
    "hdi_series_no_name_no_index"
   ]
  },
  {
   "cell_type": "markdown",
   "id": "a9d2d816",
   "metadata": {},
   "source": [
    "Here, you can see that while we did not specify an `index` Pandas has automatically generated an one:"
   ]
  },
  {
   "cell_type": "code",
   "execution_count": null,
   "id": "7a269b25",
   "metadata": {},
   "outputs": [],
   "source": [
    "# view the new Series\n",
    "hdi_series_no_name_no_index"
   ]
  },
  {
   "cell_type": "markdown",
   "id": "3000b0a6",
   "metadata": {},
   "source": [
    "Let's take a closer look at this `index` by directly accessing the `.index`\n",
    "attribute:"
   ]
  },
  {
   "cell_type": "code",
   "execution_count": null,
   "id": "e2484448",
   "metadata": {},
   "outputs": [],
   "source": [
    "# The default Pandas index\n",
    "hdi_series_no_name_no_index.index"
   ]
  },
  {
   "cell_type": "markdown",
   "id": "f17cad53",
   "metadata": {},
   "source": [
    "Hmm, it is quite strange-looking relative to the index of country codes (which\n",
    "visually resembles a numpy array). Let's use to the `type()` function to\n",
    "investigate further:"
   ]
  },
  {
   "cell_type": "code",
   "execution_count": null,
   "id": "a49a6864",
   "metadata": {},
   "outputs": [],
   "source": [
    "# so the type of the default index\n",
    "type(hdi_series_no_name_no_index.index)"
   ]
  },
  {
   "cell_type": "markdown",
   "id": "c675a838",
   "metadata": {},
   "source": [
    "Ok, so for this Series - where we did not specify an `index` - the index that Pandas has created is a `RangeIndex` object. This is, in fact, the default Pandas index that will be attached to a Series where no other index is specified.\n",
    "\n",
    "The `RangeIndex` looks like a sequence of numbers (and in a sense it is) - but it behaves differently to python list and arrays with regards to indexing.\n",
    "\n",
    "Let's take a look at the shape of the `RangeIndex` and what is in it. To view the shape, we can use the `np.shape()` function:"
   ]
  },
  {
   "cell_type": "code",
   "execution_count": null,
   "id": "4ecb9ac6",
   "metadata": {},
   "outputs": [],
   "source": [
    "# take a closer look at the \"default\" index\n",
    "np.shape(hdi_series_no_name_no_index.index)"
   ]
  },
  {
   "cell_type": "markdown",
   "id": "c233a851",
   "metadata": {},
   "source": [
    "Ok, so the index has 15 elements. Let's view the first one, using direct indexing:"
   ]
  },
  {
   "cell_type": "code",
   "execution_count": null,
   "id": "d607b53f",
   "metadata": {},
   "outputs": [],
   "source": [
    "# view the first element of the RangeIndex\n",
    "hdi_series_no_name_no_index.index[0]"
   ]
  },
  {
   "cell_type": "markdown",
   "id": "c8360e01",
   "metadata": {},
   "source": [
    "Again, so far, so good. Now let's view the second element:"
   ]
  },
  {
   "cell_type": "code",
   "execution_count": null,
   "id": "e7748b25",
   "metadata": {},
   "outputs": [],
   "source": [
    "# view the second element of the RangeIndex\n",
    "hdi_series_no_name_no_index.index[1]"
   ]
  },
  {
   "cell_type": "markdown",
   "id": "ba897107",
   "metadata": {},
   "source": [
    "Previously, we used three-letter country codes as the index elements (these were strings).\n",
    "\n",
    "Let's have a look at the `type()` of the numbers in the `RangeIndex`:"
   ]
  },
  {
   "cell_type": "code",
   "execution_count": null,
   "id": "7e8af260",
   "metadata": {},
   "outputs": [],
   "source": [
    "# what type are the elements of the range index?\n",
    "type(hdi_series_no_name_no_index.index[0])"
   ]
  },
  {
   "cell_type": "markdown",
   "id": "9e95047f",
   "metadata": {},
   "source": [
    "You might be fooled here into thinking that the `RangeIndex` behaves like a python list. If we try to use slicing, we will see this is not the case:"
   ]
  },
  {
   "cell_type": "code",
   "execution_count": null,
   "id": "09205aa2",
   "metadata": {},
   "outputs": [],
   "source": [
    "# slice the RangeIndex\n",
    "hdi_series_no_name_no_index.index[0:-1]"
   ]
  },
  {
   "cell_type": "code",
   "execution_count": null,
   "id": "d633231c",
   "metadata": {},
   "outputs": [],
   "source": [
    "# slice the RangeIndex\n",
    "hdi_series_no_name_no_index.index[0:4]"
   ]
  },
  {
   "cell_type": "markdown",
   "id": "4ae6126e",
   "metadata": {},
   "source": [
    "This might seem like pretty weird behaviour. This is because the `RangeIndex` behaves similarly to the in-built python `range()` function, rather than as a list or numpy array (e.g. we cannot slice it using the familiar `start:stop` syntax).\n",
    "\n",
    "To view all the values inside the `RangeIndex` we can loop over it:"
   ]
  },
  {
   "cell_type": "code",
   "execution_count": null,
   "id": "e057c94b",
   "metadata": {},
   "outputs": [],
   "source": [
    "# loop over the index\n",
    "for el in hdi_series_no_name_no_index.index:\n",
    "    print(el)"
   ]
  },
  {
   "cell_type": "markdown",
   "id": "901f2a0f",
   "metadata": {},
   "source": [
    "Or show the values together by converting the index to a python list, using the `list()` function:"
   ]
  },
  {
   "cell_type": "code",
   "execution_count": null,
   "id": "73dbe8d4",
   "metadata": {},
   "outputs": [],
   "source": [
    "# show the elements in the RangeIndex using list()\n",
    "list(hdi_series_no_name_no_index.index)"
   ]
  },
  {
   "cell_type": "markdown",
   "id": "9ac2f985",
   "metadata": {},
   "source": [
    "## Why the \"default\" index can be confusing\n",
    "\n",
    "To recap: we've used three-letter country codes as the elements of an `index`, and we've just seen what happens if we construct a Data Frame without telling Pandas what to use as an `index` - it will create a default `RangeIndex`.\n",
    "\n",
    "What is the advantage of using a non-default index? Below are some potential pitfalls to be aware of when using the default index.\n",
    "\n",
    "Let's say we want to access the fifth element of the Series. This is at integer location 4, because we count from 0. At the moment the numerical labels from `RangeIndex` \"line up\" with the integer-based locations:"
   ]
  },
  {
   "cell_type": "code",
   "execution_count": null,
   "id": "ec2d3bc9",
   "metadata": {},
   "outputs": [],
   "source": [
    "# show the whole Series\n",
    "hdi_series_no_name_no_index"
   ]
  },
  {
   "cell_type": "markdown",
   "id": "011b7333",
   "metadata": {},
   "source": [
    "If we use integer indexing (`.iloc`) we get the same value as if we use label based indexing (`.loc`):"
   ]
  },
  {
   "cell_type": "code",
   "execution_count": null,
   "id": "55bf63c7",
   "metadata": {},
   "outputs": [],
   "source": [
    "# indexing using integer location\n",
    "hdi_series_no_name_no_index.iloc[4]"
   ]
  },
  {
   "cell_type": "code",
   "execution_count": null,
   "id": "d35b0628",
   "metadata": {},
   "outputs": [],
   "source": [
    " # indexing using labels (from the default index)\n",
    "hdi_series_no_name_no_index.loc[4]"
   ]
  },
  {
   "cell_type": "markdown",
   "id": "5166713a",
   "metadata": {},
   "source": [
    "What if we don't tell pandas what type of indexing we want to do? E.g. we do not use `.iloc` or `.loc`, we just use the sort of direct indexing we would use on a python list?"
   ]
  },
  {
   "cell_type": "code",
   "execution_count": null,
   "id": "9a9041b3",
   "metadata": {},
   "outputs": [],
   "source": [
    "# direct indexing\n",
    "hdi_series_no_name_no_index[4]"
   ]
  },
  {
   "cell_type": "markdown",
   "id": "4e7845f0",
   "metadata": {},
   "source": [
    "All of these methods, presently, have returned the same value.\n",
    "\n",
    "**But  this will not always be the case.** Certain functions and methods that we may want to use to sort and organise our data will cause cause misalignment between the `RangeIndex` and the integer location of a given element of the Series.\n",
    "\n",
    "For instance let's sort the data in our `hdi_series_no_name_no_index` Series in ascending order.  To do this we will use the `.sort_values()` method. We will cover Pandas methods in detail on [later pages](0_2_pandas_dataframes_attributes_methods.Rmd)  but for now the `.sort_values()` method just as what it says on the tin it sorts the elements of the Series in ascending order, based on the elements in the `.values` attribute of the Series:"
   ]
  },
  {
   "cell_type": "code",
   "execution_count": null,
   "id": "e4138189",
   "metadata": {},
   "outputs": [],
   "source": [
    "# sorting the values in ascending order\n",
    "hdi_series_no_name_no_index_sorted = hdi_series_no_name_no_index.sort_values()\n",
    "\n",
    "hdi_series_no_name_no_index_sorted"
   ]
  },
  {
   "cell_type": "markdown",
   "id": "4de63827",
   "metadata": {},
   "source": [
    "Look at the left hand side of the print out from the cell above e.g. look at the `RangeIndex`.  The numbers within the `RangeIndex` no longer run sequentially from 0 to 14. This means that the integer location of each element in the Series no longer matches up with the index label. This can potentially be a source of errors.\n",
    "\n",
    "Let's see what happens if we try to access the fifth element of the series using integer based indexing (`.iloc[4]`) location based indexing (`.loc[4]`) and direct indexing (`[4]`) as we did above.\n",
    "\n",
    "When we did this on the unsorted data all these methods returned the same value:"
   ]
  },
  {
   "cell_type": "code",
   "execution_count": null,
   "id": "b8d36287",
   "metadata": {},
   "outputs": [],
   "source": [
    "# integer indexing on the sorted data\n",
    "hdi_series_no_name_no_index_sorted.iloc[4]"
   ]
  },
  {
   "cell_type": "code",
   "execution_count": null,
   "id": "8981b16e",
   "metadata": {},
   "outputs": [],
   "source": [
    "# label indexing on the sorted data\n",
    "hdi_series_no_name_no_index_sorted.loc[4]"
   ]
  },
  {
   "cell_type": "code",
   "execution_count": null,
   "id": "91e53811",
   "metadata": {},
   "outputs": [],
   "source": [
    "# direct indexing on the sorted data\n",
    "hdi_series_no_name_no_index_sorted[4]"
   ]
  },
  {
   "cell_type": "markdown",
   "id": "9d27dcf3",
   "metadata": {},
   "source": [
    "Oh dear,  we have used the number 4 with each indexing method, yet have gotten back different values. \n",
    "\n",
    "This is a pitfall of using the default `RangeIndex` - it can lead to confusing results when the integer-based location and the `int` label of an element of the Series do not match up. \n",
    "\n",
    "Compare this to our `hdi_series_with_name_and_index` which uses the three-letter country codes as it's index:"
   ]
  },
  {
   "cell_type": "code",
   "execution_count": null,
   "id": "36bdca34",
   "metadata": {},
   "outputs": [],
   "source": [
    "# show the `hdi_series_with_name_and_index` Series\n",
    "hdi_series_with_name_and_index"
   ]
  },
  {
   "cell_type": "markdown",
   "id": "723b3dc7",
   "metadata": {},
   "source": [
    "Let's get the Fifth Element using integer based (`.iloc`) indexing:"
   ]
  },
  {
   "cell_type": "code",
   "execution_count": null,
   "id": "ffd8a821",
   "metadata": {},
   "outputs": [],
   "source": [
    "# integer indexing\n",
    "hdi_series_with_name_and_index.iloc[4]"
   ]
  },
  {
   "cell_type": "markdown",
   "id": "5262c123",
   "metadata": {},
   "source": [
    "...and let's try to use `.loc[4]` on this Series (this will generate an error):"
   ]
  },
  {
   "cell_type": "code",
   "execution_count": null,
   "id": "e3364d54",
   "metadata": {
    "tags": [
     "raises-exception"
    ]
   },
   "outputs": [],
   "source": [
    "# label indexing raises a KeyError ...\n",
    "hdi_series_with_name_and_index.loc[4]"
   ]
  },
  {
   "cell_type": "markdown",
   "id": "76339e61",
   "metadata": {},
   "source": [
    "This `KeyError` tells us that there is no index label `4` (which makes sense as the index labels in this Series are three-letter country codes). To use `.loc` with this Series, we must use the three-letter country code strings:"
   ]
  },
  {
   "cell_type": "code",
   "execution_count": null,
   "id": "a40f69e5",
   "metadata": {},
   "outputs": [],
   "source": [
    "# label based indexing\n",
    "hdi_series_with_name_and_index.loc['DEU']"
   ]
  },
  {
   "cell_type": "markdown",
   "id": "ea3cd446",
   "metadata": {},
   "source": [
    "Direct indexing here will assume we mean `.iloc` integer-based indexing."
   ]
  },
  {
   "cell_type": "code",
   "execution_count": null,
   "id": "eb8ec550",
   "metadata": {},
   "outputs": [],
   "source": [
    "# direct indexing\n",
    "hdi_series_with_name_and_index[4]"
   ]
  },
  {
   "cell_type": "markdown",
   "id": "cbcf3ab7",
   "metadata": {},
   "source": [
    "Using a custom index (e.g. the three-letter country codes) rather than the default `RangeIndex` has the advantage of avoiding potential confusion between the integer location of a datapoint, and the index label of that datapoint.\n",
    "\n",
    "To demonstrate this, let's sort our `hdi_series_with_name_and_index` in ascending order:"
   ]
  },
  {
   "cell_type": "code",
   "execution_count": null,
   "id": "a4918bd1",
   "metadata": {},
   "outputs": [],
   "source": [
    "# sorting the Series in ascending order\n",
    "hdi_series_with_name_and_index_sorted = hdi_series_with_name_and_index.sort_values()\n",
    "\n",
    "hdi_series_with_name_and_index_sorted"
   ]
  },
  {
   "cell_type": "markdown",
   "id": "ee267914",
   "metadata": {},
   "source": [
    "The use of custom string-based labels in the index (e.g. `FRA`, `AUS` etc)  and say confusing misalignment between `RangeIndex` numerical labels and integer location.\n",
    "\n",
    "Now, if we index using a number, this means *integer indexing*:"
   ]
  },
  {
   "cell_type": "code",
   "execution_count": null,
   "id": "e4f0247d",
   "metadata": {},
   "outputs": [],
   "source": [
    "# index using `.iloc`\n",
    "hdi_series_with_name_and_index_sorted.iloc[4]"
   ]
  },
  {
   "cell_type": "code",
   "execution_count": null,
   "id": "9455bcd7",
   "metadata": {},
   "outputs": [],
   "source": [
    "# index using direct indexing.\n",
    "# Currently this generates a warning.  In the future it will be an error.\n",
    "hdi_series_with_name_and_index_sorted[4]"
   ]
  },
  {
   "cell_type": "markdown",
   "id": "37e24b7a",
   "metadata": {},
   "source": [
    "Using `.loc` means we have to use a string, preventing errors where we use a number and return data we do not expect."
   ]
  },
  {
   "cell_type": "code",
   "execution_count": null,
   "id": "cfb918fb",
   "metadata": {},
   "outputs": [],
   "source": [
    "# label-based indexing\n",
    "hdi_series_with_name_and_index_sorted.loc['DEU']"
   ]
  },
  {
   "cell_type": "markdown",
   "id": "ed24ef22",
   "metadata": {},
   "source": [
    "However, a good additional maxim is: **use `.loc` and `iloc` unless there is a good reason not to!**.\n",
    "\n",
    "If you use direct indexing, e.g. `[4]` without using `.iloc` or `.loc`, then Pandas assumes you want to use integer indexing.  if this is the case it is better to be explicit and use the `.iloc` method *especially if the Series has a `RangeIndex` with numeric labels*."
   ]
  },
  {
   "cell_type": "markdown",
   "id": "236c8037",
   "metadata": {},
   "source": [
    "## Strange and `name`less Data Frame columns\n",
    "\n",
    "When we include Series as columns in Data Frames - remember, that a Data Frame is just a dictionary-like collection of Series - it becomes eminently sensible to specify a `name` attribute for each Series.\n",
    "\n",
    "Pandas will not *force* us to do this, but it leads to some error-prone consequences if we do not. In fact, the `RangeIndex` crops up again here, and can create confusion in similar ways to the ones we have seen in the last section.\n",
    "\n",
    "As shown above, our `hdi_series` does not have a `name` attribute. Let's pass this Series to the `pd.DataFrame()` constructor, to see the consequence of a `name`less Series in this context. We will call the resulting Data Frame `no_name_df`:"
   ]
  },
  {
   "cell_type": "code",
   "execution_count": null,
   "id": "ed063de9",
   "metadata": {},
   "outputs": [],
   "source": [
    "# verify again that the `hdi_series` has no `name` attribute\n",
    "hdi_series.name is None"
   ]
  },
  {
   "cell_type": "code",
   "execution_count": null,
   "id": "5e48a9c3",
   "metadata": {},
   "outputs": [],
   "source": [
    "# a Data Frame made of a Series with no `name` attribute\n",
    "no_name_df = pd.DataFrame(hdi_series)\n",
    "\n",
    "no_name_df"
   ]
  },
  {
   "cell_type": "markdown",
   "id": "8e74b9b3",
   "metadata": {},
   "source": [
    "Ok, so in the absence of a `name` attribute Pandas has labelled the column with a `0`. If we inspect more deeply, we find that actually Pandas, in the absence of being instructed otherwise, has created a `RangeIndex`, but this time for the `columns` (e.g. the column names) of the Data Frame. If you look at the Data Frame above, you can see that the `index` attribute is the three-letter country codes. However, the `.columns` are a `RangeIndex`:"
   ]
  },
  {
   "cell_type": "code",
   "execution_count": null,
   "id": "2b196123",
   "metadata": {},
   "outputs": [],
   "source": [
    "# look at the column names via the `.columns` attribute\n",
    "no_name_df.columns"
   ]
  },
  {
   "cell_type": "markdown",
   "id": "88f5e02d",
   "metadata": {},
   "source": [
    "Sure enough, if we check the `type` of the fist element in this `RangeIndex` it is a of a numeric type - e.g. we can think of it not as a column *name* but a number standing in for a column name:"
   ]
  },
  {
   "cell_type": "code",
   "execution_count": null,
   "id": "4a4db3f1",
   "metadata": {},
   "outputs": [],
   "source": [
    "# check the type of the first element in the `.columns` attribute\n",
    "type(no_name_df.columns[0])"
   ]
  },
  {
   "cell_type": "markdown",
   "id": "aaf3baac",
   "metadata": {},
   "source": [
    "It may be obvious why this naming convention for Data Frame columns can lead to errors for reasons of low interpretability. We typically want our column names to be descriptive of the data in the column, to ourselves and to other people reading our code. If we do not specify a `name` attribute for our Series when creating Data Frames, the default numerical column names supplied by Pandas are hard to interpret, and it is easy to misinterpret, or to forget what data is in that column, leading to human errors.\n",
    "\n",
    "They can also lead to indexing errors, similar to those we saw in the previous section. To demonstrate this, let's compare the `name`less Data Frame above to a Data Frame created from a Series with a `name`.\n",
    "\n",
    "Our aptly named `hdi_series_with_name_and_index` has a `name` attribute - (look at the last line of the output from the cell below, the `Name: Human Development Index`):"
   ]
  },
  {
   "cell_type": "code",
   "execution_count": null,
   "id": "8b202105",
   "metadata": {},
   "outputs": [],
   "source": [
    "# a Series with a `name`\n",
    "hdi_series_with_name_and_index"
   ]
  },
  {
   "cell_type": "markdown",
   "id": "d562896b",
   "metadata": {},
   "source": [
    "Let's call the `pd.DataFrame()` constructor on this Series - we'll call the resultant Data Frame `named_df`:"
   ]
  },
  {
   "cell_type": "code",
   "execution_count": null,
   "id": "2f1c37bb",
   "metadata": {},
   "outputs": [],
   "source": [
    "# create a new Data Frame, with a sensible name for the column\n",
    "named_df = pd.DataFrame(hdi_series_with_name_and_index)\n",
    "\n",
    "named_df"
   ]
  },
  {
   "cell_type": "markdown",
   "id": "a1c70215",
   "metadata": {},
   "source": [
    "We see that Pandas has automatically used the `name` attribute as the column name, hugely increasing the interpretability of the resulting Data Frame.\n",
    "\n",
    "We can see the `name` in the `.columns` attribute of the new  `named_df` Data Frame:"
   ]
  },
  {
   "cell_type": "code",
   "execution_count": null,
   "id": "dd583b6f",
   "metadata": {},
   "outputs": [],
   "source": [
    "# show the column names from the `named_df` Data Frame\n",
    "named_df.columns"
   ]
  },
  {
   "cell_type": "markdown",
   "id": "202cb8e6",
   "metadata": {},
   "source": [
    "Now, let's try using direct indexing with each Data Frame, using the column names.\n",
    "\n",
    "This is very straightforward for the `named_df`:"
   ]
  },
  {
   "cell_type": "code",
   "execution_count": null,
   "id": "6f99a48c",
   "metadata": {},
   "outputs": [],
   "source": [
    "# direct indexing to retrieve a column by name\n",
    "named_df['Human Development Index']"
   ]
  },
  {
   "cell_type": "markdown",
   "id": "a8c20ddf",
   "metadata": {},
   "source": [
    "What about for `no_name_df`? Well, the column name there is `0`, of `int` type.\n",
    "\n",
    "What happens if use direct indexing? We are hoping we see something like the output of the cell above, albeit with a `0` for the `name`, rather than `Human Development Index`:"
   ]
  },
  {
   "cell_type": "code",
   "execution_count": null,
   "id": "006f408a",
   "metadata": {},
   "outputs": [],
   "source": [
    "# direct indexing with no `name` attribute\n",
    "no_name_df[0]"
   ]
  },
  {
   "cell_type": "markdown",
   "id": "dcd84213",
   "metadata": {},
   "source": [
    "Sure enough that is what we see. But the operation we have used looks very much like *integer* indexing on a Series, which will return a single value:"
   ]
  },
  {
   "cell_type": "code",
   "execution_count": null,
   "id": "42386dc9",
   "metadata": {},
   "outputs": [],
   "source": [
    "# integer indexing a Series (without using `.iloc`)\n",
    "hdi_series[0]"
   ]
  },
  {
   "cell_type": "markdown",
   "id": "5067277f",
   "metadata": {},
   "source": [
    "This can be confusing.\n",
    "\n",
    "In addition, the numerical label can also be confusing if we introduce more columns, especially if we mix in columns which do have `name` attributes that we specify.\n",
    "\n",
    "For instance, if we add in the full name of each country:"
   ]
  },
  {
   "cell_type": "code",
   "execution_count": null,
   "id": "fd76d090",
   "metadata": {},
   "outputs": [],
   "source": [
    "# country names array\n",
    "country_names_array = np.array(['Australia', 'Brazil', 'Canada',\n",
    "                          'China', 'Germany', 'Spain',\n",
    "                          'France', 'United Kingdom', 'India',\n",
    "                          'Italy', 'Japan', 'South Korea',\n",
    "                          'Mexico', 'Russia', 'United States'])\n",
    "country_names_array"
   ]
  },
  {
   "cell_type": "markdown",
   "id": "a74228a1",
   "metadata": {},
   "source": [
    "Let's add this into the `no_name_df`, using the `name` \"Country Names\":"
   ]
  },
  {
   "cell_type": "code",
   "execution_count": null,
   "id": "3074f828",
   "metadata": {},
   "outputs": [],
   "source": [
    "no_name_df['Country Names'] = country_names_array\n",
    "\n",
    "no_name_df"
   ]
  },
  {
   "cell_type": "markdown",
   "id": "3f72f9b1",
   "metadata": {},
   "source": [
    "We now have one column that has an `int` as it's column name, and another with a string.\n",
    "\n",
    "In the same way as for a numerical `index`, this situation can become confusing if the numerical labels become misaligned with their integer location in the `.columns` attribute.\n",
    "\n",
    "For instance, if we re-arrange the columns:"
   ]
  },
  {
   "cell_type": "code",
   "execution_count": null,
   "id": "bdaaa77a",
   "metadata": {},
   "outputs": [],
   "source": [
    "# re-arrange the columns\n",
    "no_name_df = no_name_df[[\"Country Names\", 0]]\n",
    "\n",
    "no_name_df"
   ]
  },
  {
   "cell_type": "markdown",
   "id": "d32241e1",
   "metadata": {},
   "source": [
    "We now have a column with the `name` \"0\" that is not at the 0-th location of the `.columns` attribute:"
   ]
  },
  {
   "cell_type": "code",
   "execution_count": null,
   "id": "1e03a1e8",
   "metadata": {},
   "outputs": [],
   "source": [
    "# show the 0-th element of the `.columns` attribute\n",
    "no_name_df.columns[0]"
   ]
  },
  {
   "cell_type": "markdown",
   "id": "f5366afe",
   "metadata": {},
   "source": [
    "We are now in the precarious situation of using a `int` `0` both as a *label* and as a *location*. In the cell above, it is a location, it the cell below it serves as a label:"
   ]
  },
  {
   "cell_type": "code",
   "execution_count": null,
   "id": "58e0931b",
   "metadata": {},
   "outputs": [],
   "source": [
    "# direct index the `0` column\n",
    "no_name_df[0]"
   ]
  },
  {
   "cell_type": "markdown",
   "id": "6465d93a",
   "metadata": {},
   "source": [
    "Ideally, we want a clear separation between integer indexes (like `0`) and *column names*. \n",
    "\n",
    "This confusing situation can be completely avoided in the case of `named_df`. Let's add the country names to this Data Frame also:"
   ]
  },
  {
   "cell_type": "code",
   "execution_count": null,
   "id": "5ef64e55",
   "metadata": {},
   "outputs": [],
   "source": [
    "# add the country names\n",
    "named_df['Country Names'] = country_names_array\n",
    "\n",
    "named_df"
   ]
  },
  {
   "cell_type": "markdown",
   "id": "39ba994e",
   "metadata": {},
   "source": [
    "We don't introduce any confusion or error-proneness by re-arranging these columns which have sensible string names:"
   ]
  },
  {
   "cell_type": "code",
   "execution_count": null,
   "id": "91db1971",
   "metadata": {},
   "outputs": [],
   "source": [
    "# re-arrange the columns\n",
    "named_df = named_df[[\"Country Names\", \"Human Development Index\"]]\n",
    "\n",
    "named_df"
   ]
  },
  {
   "cell_type": "markdown",
   "id": "9dfd9c2b",
   "metadata": {},
   "source": [
    "In fact, now if we want to use integer indexing, we are forced to use `.iloc`, as else we get an error:"
   ]
  },
  {
   "cell_type": "code",
   "execution_count": null,
   "id": "11c92224",
   "metadata": {
    "tags": [
     "raises-exception"
    ]
   },
   "outputs": [],
   "source": [
    "# this will not work if each column has a `name` string\n",
    "named_df[0]"
   ]
  },
  {
   "cell_type": "markdown",
   "id": "feb6070b",
   "metadata": {},
   "source": [
    "This compels us to stick to the good practice maxim we introduced above: **use `.loc` and `iloc` unless there is a good reason not to!**. \n",
    "\n",
    "Giving every column a sensible string as a `name` is one situation where direct indexing (e.g. in the present context using `named_df['Human Development Index']` etc.) is safe and non-error prone. As we have seen, issues can arise if we do not specify `name` attributes, and let Pandas automatically generate numeric labels for our Data Frame columns..."
   ]
  },
  {
   "cell_type": "markdown",
   "id": "4294edc8",
   "metadata": {},
   "source": [
    "## Summary\n",
    "\n",
    "On this page we have looked at the differences between attributes of the Pandas Series - the `name` is optional, but a default `RangeIndex` will be supplied if no custom `index` is specified.\n",
    "\n",
    "We have seen that the `RangeIndex` can lead to errors if the numeric row labels become misaligned with the integer location of a given row. Similarly, if we do not specify a `name` attribute for Data Frame columns, Pandas will generate numeric labels which can create confusion between integer-based and direct indexing.\n",
    "\n",
    "For best results, we should specify both an interpretable `index` and interpretable `name` attributes for our Series, especially when they are part of Data Frames."
   ]
  }
 ],
 "metadata": {
  "jupytext": {
   "formats": "ipynb,Rmd"
  },
  "kernelspec": {
   "display_name": "Python (Pyodide)",
   "name": "python"
  }
 },
 "nbformat": 4,
 "nbformat_minor": 5
}
