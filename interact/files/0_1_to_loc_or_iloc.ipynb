{
 "cells": [
  {
   "cell_type": "markdown",
   "id": "1606e39d",
   "metadata": {},
   "source": [
    "# Indexing by label and position\n",
    "\n",
    "## Indexing into Series\n",
    "\n",
    "From the [What is a Series section](what-is-a-series), remember our maxim:\n",
    "\n",
    "> A *Series* is the association of:\n",
    ">\n",
    "> * An array of values (`.values`)\n",
    "> * A sequence of labels for each value (`.index`)\n",
    "> * A name (which can be `None`).\n",
    "\n",
    "On this page, we think particularly about the Index (row labels) for Series\n",
    "and Data Frames.  We also discuss the Index that Pandas creates if you do not\n",
    "specify one.\n",
    "\n",
    "The default Index that Pandas makes reminds us of the differences between\n",
    "label indexing (using `.loc`) and position (integer) indexing (using `.iloc`).\n",
    "\n",
    "Along the way, we'll often press you never to use direct indexing on Series,\n",
    "as there is still some dangerous ambiguity as to whether you are doing label\n",
    "or position indexing.\n",
    "\n",
    "Because it is easy to get mixed up about position (`.iloc`) and label (`.loc`)\n",
    "indexing, it is often sensible to replace Pandas' default index with a custom\n",
    "index, to avoid accidental errors when indexing.\n",
    "\n",
    "## Getting started"
   ]
  },
  {
   "cell_type": "code",
   "execution_count": null,
   "id": "16de3818",
   "metadata": {},
   "outputs": [],
   "source": [
    "# import libraries\n",
    "import numpy as np\n",
    "import pandas as pd"
   ]
  },
  {
   "cell_type": "markdown",
   "id": "da0a699a",
   "metadata": {},
   "source": [
    "We'll use the [fertility and Human Development Index data once\n",
    "more](data/data_notes)."
   ]
  },
  {
   "cell_type": "code",
   "execution_count": null,
   "id": "0eed4237",
   "metadata": {},
   "outputs": [],
   "source": [
    "# Three letter codes for each country\n",
    "country_codes_array = np.array(['AUS', 'BRA', 'CAN',\n",
    "                                'CHN', 'DEU', 'ESP',\n",
    "                                'FRA', 'GBR', 'IND',\n",
    "                                'ITA', 'JPN', 'KOR',\n",
    "                                'MEX', 'RUS', 'USA'])"
   ]
  },
  {
   "cell_type": "code",
   "execution_count": null,
   "id": "0d2aa6eb",
   "metadata": {},
   "outputs": [],
   "source": [
    "# Human Development Index Scores for each country\n",
    "hdis_array = np.array([0.896, 0.668, 0.89,\n",
    "                       0.586, 0.89,  0.828,\n",
    "                       0.844, 0.863, 0.49,\n",
    "                       0.842, 0.883, 0.824,\n",
    "                       0.709, 0.733, 0.894])"
   ]
  },
  {
   "cell_type": "markdown",
   "id": "2fc31fd5",
   "metadata": {},
   "source": [
    "## Slicing Series with `.iloc` and `.loc`"
   ]
  },
  {
   "cell_type": "code",
   "execution_count": null,
   "id": "3f5c52f0",
   "metadata": {},
   "outputs": [],
   "source": [
    "hdi_series = pd.Series(hdis_array, index=country_codes_array)\n",
    "hdi_series"
   ]
  },
  {
   "cell_type": "markdown",
   "id": "fb4ab8ff",
   "metadata": {},
   "source": [
    "There is a fundamental difference between the behaviors of `.iloc` and `.loc`\n",
    "when slicing.\n",
    "\n",
    "Standard slicing in Python uses integers to specify positions, and gives the\n",
    "elements *starting at* the start position, *up to but not including* the stop\n",
    "position."
   ]
  },
  {
   "cell_type": "code",
   "execution_count": null,
   "id": "82240c0a",
   "metadata": {},
   "outputs": [],
   "source": [
    "my_name = 'Peter Rush'\n",
    "# From character at position 2, up to (not including) position 7.\n",
    "my_name[2:7]"
   ]
  },
  {
   "cell_type": "markdown",
   "id": "0692bbf8",
   "metadata": {},
   "source": [
    "The same rule applies to indexing Python lists, or Numpy arrays:"
   ]
  },
  {
   "cell_type": "code",
   "execution_count": null,
   "id": "bf9bffec",
   "metadata": {},
   "outputs": [],
   "source": [
    "# From element at position 2, up to (not including) position 7.\n",
    "country_codes_array[2:7]"
   ]
  },
  {
   "cell_type": "markdown",
   "id": "94799972",
   "metadata": {},
   "source": [
    "`.iloc` is indexing by *position*, so it may not be surprising that it slices using the same rules as by-position indexing in Numpy:"
   ]
  },
  {
   "cell_type": "code",
   "execution_count": null,
   "id": "200759d0",
   "metadata": {},
   "outputs": [],
   "source": [
    "# From element at position 2, up to (not including) position 7.\n",
    "hdi_series.iloc[2:7]"
   ]
  },
  {
   "cell_type": "markdown",
   "id": "066595f6",
   "metadata": {},
   "source": [
    "Now consider slicing by *label*.  The *start* and *stop* values are no longer\n",
    "positions, but labels.   The label at position 2 is `'CAN'`.  The label at\n",
    "position 7 is the until-recently-European country`'GBR'`.\n",
    "\n",
    "Here's what we get from slicing using `.loc`:"
   ]
  },
  {
   "cell_type": "code",
   "execution_count": null,
   "id": "7a5d9ede",
   "metadata": {},
   "outputs": [],
   "source": [
    "# From element labeled 'CAN', up to (including) element labeled 'GBR'\n",
    "hdi_series.loc['CAN':'GBR']"
   ]
  },
  {
   "cell_type": "markdown",
   "id": "7b69e378",
   "metadata": {},
   "source": [
    "First notice that label indexing uses values from the Index as start and stop.  Unlike Numpy or `.iloc` indexing, which by definition have integers as start and stop (because these are positions), `.loc` indexing start and stop values must match the values in the Index.  In this case, the Index has `str` values, so the start and stop values are also `str`.\n",
    "\n",
    "Second, notice that we got one more value from `.loc` indexing into the\n",
    "Series, because `.loc` slicing — unlike `.iloc` or Numpy indexing — *includes*\n",
    "the stop value.\n",
    "\n",
    "In the last cell, using `.loc`, `'GBR'` was the stop value, and we got the\n",
    "element corresponding to `'GBR'`.\n",
    "\n",
    "This is a major difference from Numpy and `.iloc` behavior.\n",
    "\n",
    "**Start of note**\n",
    "\n",
    "**Stop and `.loc`**\n",
    "\n",
    "Why does `.loc` slicing return the label corresponding to the stop value, instead of going *up to but not including* the stop value, like Numpy or `.iloc`?\n",
    "\n",
    "We should say that this is absolutely the right choice.  But why?\n",
    "\n",
    "Please consider reflecting before reading on.\n",
    "\n",
    "[Elevator Muzak while you reflect](https://www.youtube.com/watch?v=XlDdrrFY4Ug)\n",
    "\n",
    "Please click the link above to get you into a reflective mood.\n",
    "\n",
    "Back to slicing; let's consider the problem of selecting some elements that you\n",
    "want.  You can see the Index.  In your case you want all the elements from\n",
    "`CAN` through `GBR`.  When the result includes the stop label, then its obvious\n",
    "what to do; you do what you do above: `hdi_series.loc['CAN':'GBR']`.\n",
    "\n",
    "Now consider the alternative — where slicing gives you the elements *up to but\n",
    "not including* the stop value.  Your problem now becomes annoying and\n",
    "error-prone. You have to look at the index, identify the last label for the\n",
    "element you do want (`'GBR'`) and then go one element further, and get the\n",
    "label for the element *after* the one you want (in this case `'IND'`.  In an\n",
    "alternative world, where `.loc` was *up to and not including* the stop value,\n",
    "indexing to get elements `'CAN'` through `'GBR'` would be\n",
    "`hdi_series.loc['CAN':'IND']`.  Now imagine that for some reason I had deleted\n",
    "the `'IND'` element, so the following element label is `'ITA'`. In that case,\n",
    "despite the fact nothing had changed in the elements I'm interested in, I now\n",
    "have to write `hdi_series.loc['CAN':'ITA']` to get the exact same elements.\n",
    "\n",
    "So, yes, it's important to remember this difference, but a little reflection\n",
    "should reveal that this was still the right choice.\n",
    "\n",
    "**End of note**"
   ]
  },
  {
   "cell_type": "markdown",
   "id": "c313b1fd",
   "metadata": {},
   "source": [
    "## Index labels need not be unique\n",
    "\n",
    "We haven't specified so far, but there is no general requirement for Pandas\n",
    "Index values to be unique.  Consider the following Series:"
   ]
  },
  {
   "cell_type": "code",
   "execution_count": null,
   "id": "0ec1fb8e",
   "metadata": {},
   "outputs": [],
   "source": [
    "not_unique_labels = pd.Series(['France', 'Italy', 'UK', 'Great Britain'],\n",
    "                              index=['FRA', 'ITA', 'GBR', 'GBR'])\n",
    "not_unique_labels"
   ]
  },
  {
   "cell_type": "markdown",
   "id": "f1a3bfac",
   "metadata": {},
   "source": [
    "Doing `.loc` indexing with a label that only matches one element gives the\n",
    "corresponding value:"
   ]
  },
  {
   "cell_type": "code",
   "execution_count": null,
   "id": "a5660e6f",
   "metadata": {},
   "outputs": [],
   "source": [
    "not_unique_labels.loc['FRA']"
   ]
  },
  {
   "cell_type": "markdown",
   "id": "b8a5ddf2",
   "metadata": {},
   "source": [
    "`.loc` matching a label with more than one element returns a subset of the\n",
    "Series:"
   ]
  },
  {
   "cell_type": "code",
   "execution_count": null,
   "id": "b01fb228",
   "metadata": {},
   "outputs": [],
   "source": [
    "not_unique_labels.loc['GBR']"
   ]
  },
  {
   "cell_type": "markdown",
   "id": "0b498988",
   "metadata": {},
   "source": [
    "This can lead to confusing outputs if you don't keep track of whether the Index values uniquely identify the element."
   ]
  },
  {
   "cell_type": "markdown",
   "id": "fa8707f6",
   "metadata": {},
   "source": [
    "## The default index\n",
    "\n",
    "Thus far, we have specified the Index in building Series:"
   ]
  },
  {
   "cell_type": "code",
   "execution_count": null,
   "id": "203ab8e9",
   "metadata": {},
   "outputs": [],
   "source": [
    "hdi_series = pd.Series(hdis_array, index=country_codes_array)\n",
    "hdi_series"
   ]
  },
  {
   "cell_type": "markdown",
   "id": "c4b4619f",
   "metadata": {},
   "source": [
    "Pandas allows us to build a Series without specifying an Index:"
   ]
  },
  {
   "cell_type": "code",
   "execution_count": null,
   "id": "d084ce94",
   "metadata": {},
   "outputs": [],
   "source": [
    "# Make a Series from `hdis_array`, without specifying `index`.\n",
    "hdi_series_def_index = pd.Series(hdis_array)\n",
    "hdi_series_def_index"
   ]
  },
  {
   "cell_type": "markdown",
   "id": "de2f7df5",
   "metadata": {},
   "source": [
    "Where we did not specify an Index, Pandas has automatically generated one.  As\n",
    "you can see, Pandas displays this default index as a sequence of integers,\n",
    "starting at 0, and going up to the number of elements minus 1."
   ]
  },
  {
   "cell_type": "markdown",
   "id": "64ab69e3",
   "metadata": {},
   "source": [
    "Let's take a closer look at the default Index:"
   ]
  },
  {
   "cell_type": "code",
   "execution_count": null,
   "id": "b518789c",
   "metadata": {},
   "outputs": [],
   "source": [
    "# The default Pandas index\n",
    "hdi_series_def_index.index"
   ]
  },
  {
   "cell_type": "markdown",
   "id": "f31d4e5e",
   "metadata": {},
   "source": [
    "`RangeIndex` is similar to Python's `range`; it is a space-saving container\n",
    "that represents a sequence of integers from a start value up to, but not\n",
    "including a stop value, with an optional step size.  Here `RangeIndex`\n",
    "represents the numbers 0 through 14, just as `range` can represent the numbers\n",
    "0 through 14:"
   ]
  },
  {
   "cell_type": "code",
   "execution_count": null,
   "id": "c1d56268",
   "metadata": {},
   "outputs": [],
   "source": [
    "zero_through_14 = range(0, 15)\n",
    "zero_through_14"
   ]
  },
  {
   "cell_type": "markdown",
   "id": "e1e62ebf",
   "metadata": {},
   "source": [
    "As for `range` we can ask the `RangeIndex` container to give up these numbers\n",
    "(by iteration) into another container, such as an array or list:"
   ]
  },
  {
   "cell_type": "code",
   "execution_count": null,
   "id": "8cce0bd6",
   "metadata": {},
   "outputs": [],
   "source": [
    "# Iterating through `RangeIndex` to give the represented numbers.\n",
    "np.array(hdi_series_def_index.index)"
   ]
  },
  {
   "cell_type": "code",
   "execution_count": null,
   "id": "a1f34746",
   "metadata": {},
   "outputs": [],
   "source": [
    "# Iterating through a `range` to give the represented numbers.\n",
    "np.array(zero_through_14)"
   ]
  },
  {
   "cell_type": "markdown",
   "id": "0e72a9fe",
   "metadata": {},
   "source": [
    "As for `range`, one can ask for the implied elements by indexing:"
   ]
  },
  {
   "cell_type": "code",
   "execution_count": null,
   "id": "eb6c7386",
   "metadata": {},
   "outputs": [],
   "source": [
    "# View the fifth element of the RangeIndex.\n",
    "fifth_element = hdi_series_def_index.index[4]\n",
    "fifth_element"
   ]
  },
  {
   "cell_type": "markdown",
   "id": "526b31c0",
   "metadata": {},
   "source": [
    "Notice that the elements from `RangeIndex` are `int`s:"
   ]
  },
  {
   "cell_type": "code",
   "execution_count": null,
   "id": "ad6e5c5f",
   "metadata": {},
   "outputs": [],
   "source": [
    "type(fifth_element)"
   ]
  },
  {
   "cell_type": "markdown",
   "id": "7420b011",
   "metadata": {},
   "source": [
    "For all practical purposes, you can treat this `RangeIndex` as being equivalent\n",
    "to the corresponding sequential Numpy integer array.\n",
    "\n",
    "**Start of exercise**\n",
    "\n",
    "Let's make another Series where we do not specify the index:"
   ]
  },
  {
   "cell_type": "code",
   "execution_count": null,
   "id": "93a8cdb7",
   "metadata": {},
   "outputs": [],
   "source": [
    "a_series = pd.Series([1000, 999, 101, 199, 99])\n",
    "a_series"
   ]
  },
  {
   "cell_type": "markdown",
   "id": "10c15e75",
   "metadata": {},
   "source": [
    "As you have seen, you will have got the default `.index`, a `RangeIndex`:"
   ]
  },
  {
   "cell_type": "code",
   "execution_count": null,
   "id": "547b61ef",
   "metadata": {},
   "outputs": [],
   "source": [
    "a_series.index"
   ]
  },
  {
   "cell_type": "markdown",
   "id": "0d4af615",
   "metadata": {},
   "source": [
    "What do you expect to see for `list(a_series)`?  Reflect, then uncomment below\n",
    "and try it:"
   ]
  },
  {
   "cell_type": "code",
   "execution_count": null,
   "id": "d5828108",
   "metadata": {},
   "outputs": [],
   "source": [
    "# list(a_series)"
   ]
  },
  {
   "cell_type": "markdown",
   "id": "526ddd56",
   "metadata": {},
   "source": [
    "What do you expect to see for `list(a_series.index)`?  Reflect, then try it:"
   ]
  },
  {
   "cell_type": "code",
   "execution_count": null,
   "id": "ed037e00",
   "metadata": {},
   "outputs": [],
   "source": [
    "# list(a_series.index)"
   ]
  },
  {
   "cell_type": "markdown",
   "id": "c16204c5",
   "metadata": {},
   "source": [
    "The Series method `.sort_values` returns a new Series sorted by the values."
   ]
  },
  {
   "cell_type": "code",
   "execution_count": null,
   "id": "39ca268e",
   "metadata": {},
   "outputs": [],
   "source": [
    "sorted_series = a_series.sort_values()"
   ]
  },
  {
   "cell_type": "markdown",
   "id": "bcaf4bf5",
   "metadata": {},
   "source": [
    "Now what do you expect to see for `list(sorted_series)`?  Reflect, then\n",
    "uncomment below and try it:"
   ]
  },
  {
   "cell_type": "code",
   "execution_count": null,
   "id": "46b201bc",
   "metadata": {},
   "outputs": [],
   "source": [
    "# list(sorted_series)"
   ]
  },
  {
   "cell_type": "markdown",
   "id": "5d0c2bfc",
   "metadata": {},
   "source": [
    "How about `list(sorted_series.index)`?  Reflect, try:"
   ]
  },
  {
   "cell_type": "code",
   "execution_count": null,
   "id": "899dba09",
   "metadata": {},
   "outputs": [],
   "source": [
    "# list(sorted_series.index)"
   ]
  },
  {
   "cell_type": "markdown",
   "id": "081a54a4",
   "metadata": {},
   "source": [
    "What kind of thing do you think the `.index` is now?  Reflect and then:"
   ]
  },
  {
   "cell_type": "code",
   "execution_count": null,
   "id": "c0ff79e0",
   "metadata": {},
   "outputs": [],
   "source": [
    "# type(sorted_series.index)"
   ]
  },
  {
   "cell_type": "markdown",
   "id": "b72794be",
   "metadata": {},
   "source": [
    "Can you explain the result of the last cell?\n",
    "\n",
    "**End of exercise**"
   ]
  },
  {
   "cell_type": "markdown",
   "id": "b105e41d",
   "metadata": {},
   "source": [
    "**See the [corresponding page](/pandas_from_numpy/0_1_to_loc_or_iloc.html) for solution**\n",
    "\n",
    "## Why an Index of integers can be confusing\n",
    "\n",
    "To recap: for our first few Series, we've used three-letter country codes as\n",
    "the elements of an `index`. We've just seen what happens if we construct\n",
    "a Data Frame without telling Pandas what to use as an `index` - it will create\n",
    "a default `RangeIndex`. `RangeIndex` represents a series of integers.\n",
    "\n",
    "If you did the exercise, you will have found that Pandas can use `RangeIndex`\n",
    "when the index is a regular sequence of integers, but must otherwise change to\n",
    "having an index with an array containing integers, that are the value labels.\n",
    "\n",
    "What is the advantage of using an index with values that aren't integers\n",
    "— such as strings? Below are some potential pitfalls to be aware of when using\n",
    "the default index, and any other index made up of integers.\n",
    "\n",
    "Let's say we want to access the fifth element of the Series. This is at\n",
    "integer location 4, because we count from 0. At the moment the numerical\n",
    "labels implied by the `RangeIndex` \"line up\" with the integer-based locations:"
   ]
  },
  {
   "cell_type": "code",
   "execution_count": null,
   "id": "a3d34c2e",
   "metadata": {},
   "outputs": [],
   "source": [
    "# Show the whole Series\n",
    "hdi_series_def_index"
   ]
  },
  {
   "cell_type": "markdown",
   "id": "13d0b249",
   "metadata": {},
   "source": [
    "If you somehow ask for element `4`, there is no ambiguity about which element\n",
    "you mean, because the value with label `4` is also the element at integer\n",
    "position `4`. Therefore, if we use integer indexing (`.iloc`) we get the same\n",
    "value as if we use label based indexing (`.loc`):"
   ]
  },
  {
   "cell_type": "code",
   "execution_count": null,
   "id": "a3e649e1",
   "metadata": {},
   "outputs": [],
   "source": [
    "# Indexing using integer location\n",
    "hdi_series_def_index.iloc[4]"
   ]
  },
  {
   "cell_type": "code",
   "execution_count": null,
   "id": "1b250318",
   "metadata": {},
   "outputs": [],
   "source": [
    "# Indexing using labels (from the default index)\n",
    "hdi_series_def_index.loc[4]"
   ]
  },
  {
   "cell_type": "markdown",
   "id": "9dda57d5",
   "metadata": {},
   "source": [
    "**Because of this potential for confusion, we strongly suggest that you index\n",
    "Series with `.loc` and `.iloc`, to be explicit about whether you mean label or\n",
    "position indexing.**"
   ]
  },
  {
   "cell_type": "markdown",
   "id": "f5d1aca7",
   "metadata": {},
   "source": [
    "## Why you should never use direct indexing on Series\n",
    "\n",
    "[Direct indexing](direct-indirect) occurs where the indexing bracket `[` directly follows the Series value.  Conversely, indirect-indexing is indexing where the indexing bracket `[` follows `.loc` or `.iloc`.\n",
    "\n",
    "Now consider the situation, that we encourage you never to put yourself in,\n",
    "where you use direct indexing on a Series.  You can't specify what type of\n",
    "indexing you mean with direct indexing.  Do you mean label indexing or position\n",
    "indexing?  Pandas will have to make assumptions, and these assumptions may well\n",
    "be wrong for what you intend.  Did we mention, you should never use direct\n",
    "indexing on Series?\n",
    "\n",
    "OK, let's imagine that you decided we were being too strict, and used direct\n",
    "indexing on the Series above, with (implied) integer Index values."
   ]
  },
  {
   "cell_type": "code",
   "execution_count": null,
   "id": "1b6d4642",
   "metadata": {},
   "outputs": [],
   "source": [
    "# Direct indexing on a Series.  You should never do this.\n",
    "hdi_series_def_index[4]"
   ]
  },
  {
   "cell_type": "markdown",
   "id": "e66c19c3",
   "metadata": {},
   "source": [
    "At the moment, because the positions and integer element labels match up, there\n",
    "is no ambiguity as to what `4` refers to, so it may not be surprising that\n",
    "`.iloc`, `.loc` and direct indexing all give the same result.\n",
    "\n",
    "**But this will not always be the case.** It is extremely common for you to do\n",
    "operations on the Series — such as sorting and filtering — that will mean that\n",
    "the integer labels no longer correspond to positions.\n",
    "\n",
    "For instance let's sort the data in our `hdi_series_def_index` Series in\n",
    "ascending order.  To do this we will use the `.sort_values()` method. We will\n",
    "cover Pandas methods in detail on [later\n",
    "pages](0_2_pandas_dataframes_attributes_methods).  The `.sort_values()` method\n",
    "sorts the values of the Series in ascending order, taking the matching labels\n",
    "in the index with it."
   ]
  },
  {
   "cell_type": "code",
   "execution_count": null,
   "id": "a227ad19",
   "metadata": {},
   "outputs": [],
   "source": [
    "# Sorting the *values* in ascending order\n",
    "hdi_series_def_index_sorted = hdi_series_def_index.sort_values()\n",
    "hdi_series_def_index_sorted"
   ]
  },
  {
   "cell_type": "markdown",
   "id": "b78febad",
   "metadata": {},
   "source": [
    "Look at the left hand side of the display from the cell above — in particular,\n",
    "look at the Index.  The numbers within the Index no longer run sequentially\n",
    "from 0 to 14. This means that the integer position of each element in the\n",
    "Series no longer matches up with the index label. This can be a potential\n",
    "source of errors.\n",
    "\n",
    "**Start of note**\n",
    "\n",
    "**The index type can change if you rearrange elements**\n",
    "\n",
    "If you haven't done the exercise above, please consider doing it.\n",
    "\n",
    "If you have, you will have found already that the sorted Series has a new\n",
    "Index, that is no longer a `RangeIndex` (because the integer labels now cannot\n",
    "be represented as a regular sequence of integers).  Thus\n",
    "`type(hdi_series_def_index_sorted.index)` will be of type `Index`, rather than\n",
    "`RangeIndex`.\n",
    "\n",
    "**End of note**\n",
    "\n",
    "Let's see what happens if we try to access the fifth element of the series\n",
    "using integer based indexing (`.iloc[4]`) location based indexing (`.loc[4]`)\n",
    "and direct indexing (`[4]`) as we did above.\n",
    "\n",
    "(Did we already say — you should never use direct indexing on Series?)\n",
    "\n",
    "As you remember, when we did this on the data before sorting, all these\n",
    "methods returned the same value.  Now, however:"
   ]
  },
  {
   "cell_type": "code",
   "execution_count": null,
   "id": "a580b657",
   "metadata": {},
   "outputs": [],
   "source": [
    "# Integer indexing on the sorted data\n",
    "# This is the fifth element in the Series.\n",
    "hdi_series_def_index_sorted.iloc[4]"
   ]
  },
  {
   "cell_type": "code",
   "execution_count": null,
   "id": "8addaf7d",
   "metadata": {},
   "outputs": [],
   "source": [
    "# Label indexing on the sorted data\n",
    "# This is the element with the label `4`.\n",
    "hdi_series_def_index_sorted.loc[4]"
   ]
  },
  {
   "cell_type": "code",
   "execution_count": null,
   "id": "f2901f11",
   "metadata": {},
   "outputs": [],
   "source": [
    "# Direct indexing on the sorted data\n",
    "# Which is this?  Position or label?\n",
    "# By the way - you should never use direct indexing on Series.\n",
    "hdi_series_def_index_sorted[4]"
   ]
  },
  {
   "cell_type": "markdown",
   "id": "8b1240ca",
   "metadata": {},
   "source": [
    "We have used the number 4 with each indexing method, yet have gotten back\n",
    "different values for `.iloc` compared to `.loc` and direct indexing."
   ]
  },
  {
   "cell_type": "markdown",
   "id": "cceeb91d",
   "metadata": {},
   "source": [
    "## Consider specifying a not-default index for Series and Data Frames\n",
    "\n",
    "We saw above that the default index can induce confusion between label and\n",
    "position.\n",
    "\n",
    "If you do avoid using direct indexing, the confusion is less — it will be\n",
    "easier to remember that `.loc` is for labels and `.iloc` is for positions. But\n",
    "still, with a little inattention, or some [sloppy\n",
    "vibe-coding](https://dictionary.cambridge.org/dictionary/english/tautology),\n",
    "it is nevertheless easy to forget which is which. This is a pitfall of using\n",
    "sequential numbers as the index — as generated, for example, by `RangeIndex`\n",
    "— it can lead to confusing results when the position in the sequence and the\n",
    "`int` label of an element of the Series do not match up.\n",
    "\n",
    "Compare this to our `hdi_series` which uses the three-letter country codes as\n",
    "its index:"
   ]
  },
  {
   "cell_type": "code",
   "execution_count": null,
   "id": "a169014f",
   "metadata": {},
   "outputs": [],
   "source": [
    "# Show the `hdi_series`.\n",
    "hdi_series"
   ]
  },
  {
   "cell_type": "markdown",
   "id": "6837f081",
   "metadata": {},
   "source": [
    "Let's get the fifth element using integer based (`.iloc`) indexing:"
   ]
  },
  {
   "cell_type": "code",
   "execution_count": null,
   "id": "5ef36295",
   "metadata": {},
   "outputs": [],
   "source": [
    "# Integer (position) indexing\n",
    "hdi_series.iloc[4]"
   ]
  },
  {
   "cell_type": "markdown",
   "id": "ce5d0e5a",
   "metadata": {},
   "source": [
    "... and let's try to use `.loc[4]` on this Series (this will generate an\n",
    "error):"
   ]
  },
  {
   "cell_type": "code",
   "execution_count": null,
   "id": "d0f4c8ff",
   "metadata": {
    "tags": [
     "raises-exception"
    ]
   },
   "outputs": [],
   "source": [
    "# Label indexing raises a KeyError ...\n",
    "hdi_series.loc[4]"
   ]
  },
  {
   "cell_type": "markdown",
   "id": "c29e4a59",
   "metadata": {},
   "source": [
    "This `KeyError` tells us that there is no index label `4` (which makes sense\n",
    "as the index labels in this Series are three-letter country codes). To use\n",
    "`.loc` with this Series, we must use the three-letter country code strings:"
   ]
  },
  {
   "cell_type": "code",
   "execution_count": null,
   "id": "e5432a47",
   "metadata": {},
   "outputs": [],
   "source": [
    "# Label based indexing\n",
    "hdi_series.loc['DEU']"
   ]
  },
  {
   "cell_type": "markdown",
   "id": "542ccf7e",
   "metadata": {},
   "source": [
    "It is much harder to get confused when using integer indices as long as you\n",
    "stick with *indirect indexing* (`.loc` and `.iloc`).  You've specified what you\n",
    "mean (by label or by position) using the name of the method.  However, things\n",
    "can get dangerously confusing if you use an integer index and *direct\n",
    "indexing*.  Which is why you should not use direct indexing with Series.\n",
    "\n",
    "Just to remind you, `hdi_series` has the country codes (strings like `'DEU'`)\n",
    "as the index.\n",
    "\n",
    "Now, consider, what would happen if we used an integer for *direct indexing*?\n",
    "As in something like `hdi_series[4]`?  Because we haven't\n",
    "specified that we want to index with labels (`.loc`) or positions (`.iloc`),\n",
    "Pandas has to make some decision as to how to proceed.\n",
    "\n",
    "**Start of exercise**\n",
    "\n",
    "We assume you've just read the text above the exercise, where we consider what\n",
    "you would expect to happen if:\n",
    "\n",
    "* Your Series has a index of strings.\n",
    "* You use direct indexing on this Series with an integer.\n",
    "\n",
    "As in `hdi_series[4]`. (Don't try it yet).\n",
    "\n",
    "Pause and reflect what decision you would make in this situation, if you were\n",
    "a Pandas developer, deciding what Pandas should do.  What are the options? Why\n",
    "would you chose one option over another?\n",
    "\n",
    "**End of exercise**"
   ]
  },
  {
   "cell_type": "markdown",
   "id": "e48bd4ce",
   "metadata": {},
   "source": [
    "**See the [corresponding page](/pandas_from_numpy/0_1_to_loc_or_iloc.html) for solution**\n",
    "\n",
    "You are about to see that direct indexing on a Series, for now, does something\n",
    "frightening, which is to *guess* whether we mean to do `.loc` or `.iloc`\n",
    "indexing depending on whether the index values are integers.\n",
    "\n",
    "So, as you have already seen above, if the index consists of integers, and you\n",
    "specify integers in your direct indexing, then Pandas will assume you mean the\n",
    "values to be labels (like `.loc`).\n",
    "\n",
    "If the index does not consist of integers, and you specify integers in your\n",
    "direct indexing, then Pandas will currently assume you mean the values to be\n",
    "positions (like `.iloc`), but (at time of writing) give you a warning that\n",
    "this will soon change."
   ]
  },
  {
   "cell_type": "code",
   "execution_count": null,
   "id": "8ce1b841",
   "metadata": {},
   "outputs": [],
   "source": [
    "# Direct indexing\n",
    "hdi_series[4]"
   ]
  },
  {
   "cell_type": "markdown",
   "id": "db4c3f40",
   "metadata": {},
   "source": [
    "Using a custom non-integer index (e.g. the three-letter country codes) rather\n",
    "than the default `RangeIndex`, or some other integer index, has the advantage\n",
    "of avoiding potential confusion between the integer location of an element,\n",
    "and the index label of that element.\n",
    "\n",
    "To demonstrate this, let's sort our `hdi_series` in ascending order:"
   ]
  },
  {
   "cell_type": "code",
   "execution_count": null,
   "id": "723ccd6a",
   "metadata": {},
   "outputs": [],
   "source": [
    "# Sorting the Series in ascending order\n",
    "hdi_series_sorted = hdi_series.sort_values()\n",
    "hdi_series_sorted"
   ]
  },
  {
   "cell_type": "markdown",
   "id": "37e0d1ea",
   "metadata": {},
   "source": [
    "The use of custom string-based labels in the index (e.g. `FRA`, `AUS` etc)\n",
    "avoids confusing misalignment between the default numerical labels and integer\n",
    "location."
   ]
  },
  {
   "cell_type": "markdown",
   "id": "6ccbfc1d",
   "metadata": {},
   "source": [
    "We've said it before, we say it again here — we suggest you *always* specify\n",
    "`.loc` or `.iloc` when indexing a Series, in order not to confuse Pandas as to\n",
    "whether you mean to index by label or position.   In this case `.loc` means we\n",
    "have to use a string, preventing errors where we use a number and return data\n",
    "we do not expect."
   ]
  },
  {
   "cell_type": "code",
   "execution_count": null,
   "id": "ef854941",
   "metadata": {},
   "outputs": [],
   "source": [
    "# Label-based indexing\n",
    "hdi_series_sorted.loc['DEU']"
   ]
  },
  {
   "cell_type": "markdown",
   "id": "0f9e711d",
   "metadata": {},
   "source": [
    "**Start of warning**\n",
    "\n",
    "**Direct indexing is not currently consistent**\n",
    "\n",
    "As an extra warning, as Pandas shifts towards more explicit choice of labels\n",
    "over positions in direct indexing, there are still inconsistencies.  These\n",
    "will be resolved over time, so if you want to avoid confusion, skip the rest\n",
    "of this note, and remember *never use direct indexing on a Series*.\n",
    "\n",
    "If you got this far, we admire your courage.  This warning is only to say that\n",
    "Pandas currently treats *slices* in direct indexing differently from\n",
    "individual positions or labels.  Specifically, at the moment, it will always\n",
    "assume integers in slices are positions and not labels.  Try some experiments\n",
    "with `hdi_series[:5]` (string label Series) and `hdi_series_def_index[:5]`\n",
    "(integer label Series).\n",
    "\n",
    "See [this Pandas Github\n",
    "issue](https://github.com/pandas-dev/pandas/issues/49612) for discussion if\n",
    "you're interested.\n",
    "\n",
    "You may be confused after trying the experiments above.  And this behavior\n",
    "will surely change at some point.  Summary — always use `.iloc` and `.loc` to\n",
    "avoid ambiguity.\n",
    "\n",
    "**End of warning**\n",
    "\n",
    "## `.loc` and `.iloc` with Data Frames\n",
    "\n",
    "So far we have spent much time with `.loc` and `.iloc` on Series, but less\n",
    "time on `.loc` and `.iloc` for Data Frames.\n",
    "\n",
    "Series are like one-dimensional arrays (with and Index and a Name) - therefore\n",
    "`.loc` and `.iloc` indexing into Series looks like indexing into\n",
    "one-dimensional Numpy arrays.\n",
    "\n",
    "A Data Frame is like a two dimensional array, so `.loc` and `.iloc` indexing\n",
    "looks like indexing into two-dimensional Numpy arrays.\n",
    "\n",
    "Consider the following two-dimensional Numpy array:"
   ]
  },
  {
   "cell_type": "code",
   "execution_count": null,
   "id": "40b7e453",
   "metadata": {},
   "outputs": [],
   "source": [
    "two_d_arr = np.array([[1, 2, 3], [11, 21, 31], [101, 102, 103]])\n",
    "two_d_arr"
   ]
  },
  {
   "cell_type": "markdown",
   "id": "70a92d8f",
   "metadata": {},
   "source": [
    "If we index with one expression between the indexing brackets, we select\n",
    "*rows*:"
   ]
  },
  {
   "cell_type": "code",
   "execution_count": null,
   "id": "89d19bed",
   "metadata": {},
   "outputs": [],
   "source": [
    "# Select the second row.\n",
    "two_d_arr[1]"
   ]
  },
  {
   "cell_type": "markdown",
   "id": "2822ab71",
   "metadata": {},
   "source": [
    "If we want to select columns, we must specify two indexing expressions between\n",
    "the indexing brackets, separated by a comma:"
   ]
  },
  {
   "cell_type": "code",
   "execution_count": null,
   "id": "43b75d81",
   "metadata": {},
   "outputs": [],
   "source": [
    "# Select the second row, third column.\n",
    "two_d_arr[1, 2]"
   ]
  },
  {
   "cell_type": "markdown",
   "id": "eef39945",
   "metadata": {},
   "source": [
    "As usual, we can use slices as indexing expressions (e.g. expressions\n",
    "containing colons `:`):"
   ]
  },
  {
   "cell_type": "code",
   "execution_count": null,
   "id": "07e84dcf",
   "metadata": {},
   "outputs": [],
   "source": [
    "# Select first and second rows, second and third columns.\n",
    "two_d_arr[:2, 1:3]"
   ]
  },
  {
   "cell_type": "code",
   "execution_count": null,
   "id": "3f6bd063",
   "metadata": {},
   "outputs": [],
   "source": [
    "# Select all rows, third column.\n",
    "two_d_arr[:, 2]"
   ]
  },
  {
   "cell_type": "markdown",
   "id": "c8066f71",
   "metadata": {},
   "source": [
    "Because a Data Frame has rows and columns, it corresponds to a two-dimensional\n",
    "array.\n",
    "\n",
    "Let us make an example Data Frame for illustration.  In fact we'll return to the Data Frame from [the introduction to `pd.DataFrame`](pd-data-frame-intro)."
   ]
  },
  {
   "cell_type": "code",
   "execution_count": null,
   "id": "ccef4adb",
   "metadata": {},
   "outputs": [],
   "source": [
    "# Fertility rate scores for each country\n",
    "fert_rates_array = np.array([1.764, 2.247, 1.51,\n",
    "                             1.628, 1.386, 1.21,\n",
    "                             1.876, 1.641, 3.35,\n",
    "                             1.249, 1.346, 1.467,\n",
    "                             2.714, 1.19 , 2.03 ])\n",
    "# Series from array.\n",
    "fert_rate_series = pd.Series(fert_rates_array, index=country_codes_array)\n",
    "\n",
    "# Data Frame from dict of Series.\n",
    "example_df = pd.DataFrame({'Human Development Index': hdi_series,\n",
    "                           'Fertility Rate': fert_rate_series})\n",
    "example_df"
   ]
  },
  {
   "cell_type": "markdown",
   "id": "298caa60",
   "metadata": {},
   "source": [
    "If we ask for the Data Frame `.values`, we get a two-dimensional Numpy array:"
   ]
  },
  {
   "cell_type": "code",
   "execution_count": null,
   "id": "1cf89221",
   "metadata": {},
   "outputs": [],
   "source": [
    "example_df.values"
   ]
  },
  {
   "cell_type": "markdown",
   "id": "fb47df82",
   "metadata": {},
   "source": [
    "When direct indexing with `.loc` or `.iloc`, we can select rows with a single\n",
    "indexing expression:"
   ]
  },
  {
   "cell_type": "code",
   "execution_count": null,
   "id": "192448a5",
   "metadata": {},
   "outputs": [],
   "source": [
    "# Select row corresponding to label 'RUS'\n",
    "example_df.loc['RUS']"
   ]
  },
  {
   "cell_type": "code",
   "execution_count": null,
   "id": "2d9e88f7",
   "metadata": {},
   "outputs": [],
   "source": [
    "# Select rows from that labeled 'ITA' to that labeled 'RUS'.\n",
    "# Remember, `.loc` is inclusive of the stop value.\n",
    "example_df.loc['ITA':'RUS']"
   ]
  },
  {
   "cell_type": "code",
   "execution_count": null,
   "id": "0f4c94a2",
   "metadata": {},
   "outputs": [],
   "source": [
    "# Select second row by position.\n",
    "example_df.iloc[1]"
   ]
  },
  {
   "cell_type": "code",
   "execution_count": null,
   "id": "dd2dc904",
   "metadata": {},
   "outputs": [],
   "source": [
    "# Select second through fifth row by position.\n",
    "# As standard for Python integers indexing, this is exclusive of stop position.\n",
    "example_df.iloc[1:5]"
   ]
  },
  {
   "cell_type": "markdown",
   "id": "9232359a",
   "metadata": {},
   "source": [
    "Like the Numpy two-dimension indexing case, if we want to select columns with\n",
    "`.loc` or `.iloc`, we must give two indexing expressions, separated by\n",
    "a comma:"
   ]
  },
  {
   "cell_type": "code",
   "execution_count": null,
   "id": "404b0b89",
   "metadata": {},
   "outputs": [],
   "source": [
    "# Select rows 'ITA' through 'RUS', 'Fertility Rate' column.\n",
    "example_df.loc['ITA':'RUS', 'Fertility Rate']"
   ]
  },
  {
   "cell_type": "code",
   "execution_count": null,
   "id": "36fa122b",
   "metadata": {},
   "outputs": [],
   "source": [
    "# Row for 'RUS', all columns.\n",
    "example_df.loc['RUS', :]"
   ]
  },
  {
   "cell_type": "code",
   "execution_count": null,
   "id": "18cc2704",
   "metadata": {},
   "outputs": [],
   "source": [
    "# Select second through fifth row by position, first column by position.\n",
    "example_df.iloc[1:5, 0]"
   ]
  },
  {
   "cell_type": "code",
   "execution_count": null,
   "id": "1d230eb3",
   "metadata": {},
   "outputs": [],
   "source": [
    "# Second row, all columns.\n",
    "example_df.iloc[1, :]"
   ]
  },
  {
   "cell_type": "markdown",
   "id": "afa4ff6a",
   "metadata": {},
   "source": [
    "## The catechism of Pandas indexing\n",
    "\n",
    "We are now ready for the definitive advice for your life using indexing in Pandas.\n",
    "\n",
    "1. Never use direct indexing on Series.  Always use indirect indexing (`.loc`\n",
    "   and `.iloc`).\n",
    "1. You *can and should* use direct indexing on Data Frames, but in two and\n",
    "   only two specific cases.  These are:\n",
    "\n",
    "    1. *Direct indexing with a column name*, or sequence of column names. Here\n",
    "       the column name (label) or sequence of column names follows the Data\n",
    "       Frame value and the opening `[` — as in:\n",
    "       \n",
    "       ```python\n",
    "       example_df['Human Development Index']\n",
    "       ```\n",
    "       \n",
    "       and\n",
    "       \n",
    "       ```python\n",
    "       example_df[['Human Development Index', 'Fertility Rate']\n",
    "       ```\n",
    "    1. *Direct indexing with a Boolean Series*.  See [the filtering\n",
    "       page](0_5_filtering_data_with_pandas) for much more on Boolean Series\n",
    "       and indexing.  The Boolean Series follows the data frame value and the\n",
    "       opening `[`, and selects rows for which the Boolean Series has True\n",
    "       values — as in:\n",
    "\n",
    "       ```python\n",
    "       # Make a Boolean Series.\n",
    "       have_high_hdi = example_df['Human Development Index'] > 0.6\n",
    "       # Select rows by indexing with Boolean Series.\n",
    "       high_df = example_df[have_high_hdi]\n",
    "       ```\n",
    "\n",
    "We strongly suggest that you restrict your use of direct indexing to a) Data\n",
    "Frames (not Series) and b) these specific cases.  We do the same."
   ]
  },
  {
   "cell_type": "markdown",
   "id": "db37671b",
   "metadata": {},
   "source": [
    "## Summary\n",
    "\n",
    "On this page we have looked at the Pandas Index, and different ways of\n",
    "indexing into Pandas Series.\n",
    "\n",
    "We discussed the default index that Pandas provides, of integer labels, and we\n",
    "showed how to get Series values by label (`.loc`) and by position (`.iloc`).\n",
    "\n",
    "`.loc` differs from `.iloc` and other Python indexing in that slices *include\n",
    "their stop value*.\n",
    "\n",
    "We pressed you to completely avoid using direct indexing on Pandas Series, because of the potent confusion that can arise between label and position indexing.\n",
    "\n",
    "For best results, you should specify an interpretable `index` for your Series\n",
    "and Data Frames.\n",
    "\n",
    "Direct indexing into Data Frames is common and useful, in two and only two\n",
    "situations:\n",
    "\n",
    "1. Direct indexing using a column name or sequence of names.\n",
    "1. Direct indexing using a Boolean Series (see [filtering\n",
    "   page](0_5_filtering_data_with_pandas)).\n",
    "\n",
    "We can use `.loc` and `.iloc` on Data Frames, remembering that this indexing\n",
    "acts like indexing two-dimensional Numpy arrays; when selecting columns, we\n",
    "first need to specify a selection for rows."
   ]
  }
 ],
 "metadata": {
  "jupytext": {
   "formats": "ipynb,Rmd"
  },
  "kernelspec": {
   "display_name": "Python (Pyodide)",
   "name": "python"
  }
 },
 "nbformat": 4,
 "nbformat_minor": 5
}
