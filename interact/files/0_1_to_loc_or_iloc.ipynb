{
 "cells": [
  {
   "cell_type": "markdown",
   "id": "dcf9b6cc",
   "metadata": {},
   "source": [
    "# Indexing by label and position\n",
    "\n",
    "## Indexing into Series\n",
    "\n",
    "From the [What is a Series section](what-is-a-series), remember our maxim:\n",
    "\n",
    "> A *Series* is the association of:\n",
    ">\n",
    "> * An array of values (`.values`)\n",
    "> * A sequence of labels for each value (`.index`)\n",
    "> * A name (which can be `None`).\n",
    "\n",
    "On this page we take a brief look at Series `.name`s, and show that they can be\n",
    "useful when created Data Frames from Series.\n",
    "\n",
    "Then we look at the Index for Series and Data Frames, and the default index\n",
    "that Pandas creates if you do not specify one.\n",
    "\n",
    "The default Index that Pandas makes reminds us of the differences between\n",
    "label indexing (using `.loc`) and position (integer) indexing (using `.iloc`);\n",
    "we show that current Pandas allows some ambiguity about what type of indexing\n",
    "you are doing when using *direct indexing*.\n",
    "\n",
    "The potential ambiguity of Pandas  it is often sensible to replace Pandas' default index with\n",
    "a custom index, to avoid accidental errors when indexing.\n",
    "\n",
    "## Getting started"
   ]
  },
  {
   "cell_type": "code",
   "execution_count": null,
   "id": "ef46cc70",
   "metadata": {},
   "outputs": [],
   "source": [
    "# import libraries\n",
    "import numpy as np\n",
    "import pandas as pd"
   ]
  },
  {
   "cell_type": "markdown",
   "id": "2806aba1",
   "metadata": {},
   "source": [
    "We'll use the [fertility and Human Development Index data once\n",
    "more](data/data_notes)."
   ]
  },
  {
   "cell_type": "code",
   "execution_count": null,
   "id": "45f88f8d",
   "metadata": {},
   "outputs": [],
   "source": [
    "# Three letter codes for each country\n",
    "country_codes_array = np.array(['AUS', 'BRA', 'CAN',\n",
    "                                'CHN', 'DEU', 'ESP',\n",
    "                                'FRA', 'GBR', 'IND',\n",
    "                                'ITA', 'JPN', 'KOR',\n",
    "                                'MEX', 'RUS', 'USA'])"
   ]
  },
  {
   "cell_type": "code",
   "execution_count": null,
   "id": "9381f0f6",
   "metadata": {},
   "outputs": [],
   "source": [
    "# Human Development Index Scores for each country\n",
    "hdis_array = np.array([0.896, 0.668, 0.89,\n",
    "                       0.586, 0.89,  0.828,\n",
    "                       0.844, 0.863, 0.49,\n",
    "                       0.842, 0.883, 0.824,\n",
    "                       0.709, 0.733, 0.894])"
   ]
  },
  {
   "cell_type": "markdown",
   "id": "b277e8b4",
   "metadata": {},
   "source": [
    "## Slicing Series with `.iloc` and `.loc`"
   ]
  },
  {
   "cell_type": "code",
   "execution_count": null,
   "id": "968809df",
   "metadata": {},
   "outputs": [],
   "source": [
    "hdi_series =  pd.Series(hdis_array, index=country_codes_array)\n",
    "hdi_series"
   ]
  },
  {
   "cell_type": "markdown",
   "id": "e2f47dfc",
   "metadata": {},
   "source": [
    "There is a fundamental difference between the behaviors of `.iloc` and `.loc`\n",
    "when slicing.\n",
    "\n",
    "Standard slicing in Python uses integers to specify positions, and gives the\n",
    "elements *starting at* the start position, *up to but not including* the stop\n",
    "position."
   ]
  },
  {
   "cell_type": "code",
   "execution_count": null,
   "id": "d2fad3ba",
   "metadata": {},
   "outputs": [],
   "source": [
    "my_name = 'Peter Rush'\n",
    "# From character at position 2, up to (not including) position 7.\n",
    "my_name[2:7]"
   ]
  },
  {
   "cell_type": "markdown",
   "id": "b3ea58bb",
   "metadata": {},
   "source": [
    "The same rule applies to indexing Python lists, or Numpy arrays:"
   ]
  },
  {
   "cell_type": "code",
   "execution_count": null,
   "id": "a43c21ea",
   "metadata": {},
   "outputs": [],
   "source": [
    "# From element at position 2, up to (not including) position 7.\n",
    "country_codes_array[2:7]"
   ]
  },
  {
   "cell_type": "markdown",
   "id": "84b12baa",
   "metadata": {},
   "source": [
    "`.iloc` is indexing by *position*, so it may not be surprising that it slices using the same rules as by-position indexing in Numpy:"
   ]
  },
  {
   "cell_type": "code",
   "execution_count": null,
   "id": "dd7d9c04",
   "metadata": {},
   "outputs": [],
   "source": [
    "# From element at position 2, up to (not including) position 7.\n",
    "hdi_series.iloc[2:7]"
   ]
  },
  {
   "cell_type": "markdown",
   "id": "b11de76b",
   "metadata": {},
   "source": [
    "Now consider slicing by *label*.  The *start* and *stop* values are no longer\n",
    "positions, but labels.   The label at position 2 is `'CAN'`.  The label at\n",
    "position 7 is the until-recently-European country`'GBR'`.\n",
    "\n",
    "Here's what we get from slicing using `.loc`:"
   ]
  },
  {
   "cell_type": "code",
   "execution_count": null,
   "id": "f93467ab",
   "metadata": {},
   "outputs": [],
   "source": [
    "# From element labeled 'CAN', up to (including) element labeled 'GBR'\n",
    "hdi_series.loc['CAN':'GBR']"
   ]
  },
  {
   "cell_type": "markdown",
   "id": "a2144c21",
   "metadata": {},
   "source": [
    "First notice that label indexing uses values from the Index as start and stop.  Unlike Numpy or `.iloc` indexing, which by definition have integers as start and stop (because these are positions), `.loc` indexing start and stop values must match the values in the Index.  In this case, the Index has `str` values, so the start and stop values are also `str`.\n",
    "\n",
    "Second notice that we got one more value from `.loc` indexing into the Series, because `.loc` slicing unlike `.iloc` or Numpy indexing, *includes* the stop value.\n",
    "\n",
    "In the last cell, `'GBR'` was the stop value, and we got the row corresponding\n",
    "to `'GBR'`.\n",
    "\n",
    "This is a major difference from Numpy and `.iloc` behavior.\n",
    "\n",
    "::: note\n",
    "\n",
    "**Stop and `.loc`**\n",
    "\n",
    "Why does `.loc` slicing return the label corresponding to the stop value, instead of going *up to but not including* the stop value, like Numpy or `.iloc`.\n",
    "\n",
    "We should say that this is absolutely the right choice.  But why?\n",
    "\n",
    "Please consider reflecting before reading on.\n",
    "\n",
    "[Elevator Muzak while you reflect](https://www.youtube.com/watch?v=XlDdrrFY4Ug)\n",
    "\n",
    "Please click the link above to get you into a reflective mood.\n",
    "\n",
    "Back to slicing; let's consider the problem of selecting some rows that you\n",
    "want.  You can see the Index.  In your case you want all the rows from `CAN`\n",
    "through `GBR`.  When the result includes the stop label, then its obvious what\n",
    "to do; you do what you do above:"
   ]
  },
  {
   "cell_type": "code",
   "execution_count": null,
   "id": "920ea5a4",
   "metadata": {},
   "outputs": [],
   "source": [
    "# From element labeled 'CAN', up to (including) element labeled 'GBR'\n",
    "hdi_series.loc['CAN':'GBR']"
   ]
  },
  {
   "cell_type": "markdown",
   "id": "833f2e95",
   "metadata": {},
   "source": [
    "Now consider the alternative — where slicing gives you the rows *up to but not\n",
    "including* the stop value.  Your problem now becomes annoying and error-prone.\n",
    "You have to look at the index, identify the last label for the row you want\n",
    "(`'GBR'`) and then go one row further, and get the label for the row *after*\n",
    "the one you want (in this case `''IND'`.  Indexing to get rows `'CAN'` through\n",
    "`'GBR'` would be `hdi_series.loc['CAN':'IND']`.  Now imagine that for some\n",
    "reason I had deleted the `'IND'` row, so the following row label is `'ITA'`. In\n",
    "that case, despite the fact nothing had changed in the rows I'm interested in,\n",
    "I now have to write `hdi_series.loc['CAN':'ITA']` to get the exact same rows.\n",
    "\n",
    "So, yes, it's important to remember this difference, but a little reflection\n",
    "should reveal that this was still the right choice.\n",
    "\n",
    ":::\n",
    "\n",
    "## Index labels need not be unique\n",
    "\n",
    "We haven't specified so far, but there is no general requirement for Pandas Index values to be unique.  Consider the following Series:"
   ]
  },
  {
   "cell_type": "code",
   "execution_count": null,
   "id": "d89b70fa",
   "metadata": {},
   "outputs": [],
   "source": [
    "not_unique_labels = pd.Series(['France', 'Italy', 'United Kingdom', 'Great Britain'],\n",
    "                              index=['FRA', 'ITA', 'GBR', 'GBR'])\n",
    "not_unique_labels"
   ]
  },
  {
   "cell_type": "markdown",
   "id": "03202b84",
   "metadata": {},
   "source": [
    "`.loc` matching a label with only one row returns the corresponding value:"
   ]
  },
  {
   "cell_type": "code",
   "execution_count": null,
   "id": "0834d0e8",
   "metadata": {},
   "outputs": [],
   "source": [
    "not_unique_labels.loc['FRA']"
   ]
  },
  {
   "cell_type": "markdown",
   "id": "28880326",
   "metadata": {},
   "source": [
    "`.loc` matching a label with more than one row returns a subset of the Series:"
   ]
  },
  {
   "cell_type": "code",
   "execution_count": null,
   "id": "937ce446",
   "metadata": {},
   "outputs": [],
   "source": [
    "not_unique_labels.loc['GBR']"
   ]
  },
  {
   "cell_type": "markdown",
   "id": "7e6d29bd",
   "metadata": {},
   "source": [
    "This can lead to confusing outputs if you don't keep track of whether the Index values uniquely identify the row."
   ]
  },
  {
   "cell_type": "markdown",
   "id": "9fc4601b",
   "metadata": {},
   "source": [
    "## Series, Data Frames, and the default index\n",
    "\n",
    "Thus far, we have specified the Index in building Series:"
   ]
  },
  {
   "cell_type": "code",
   "execution_count": null,
   "id": "96cd18f7",
   "metadata": {},
   "outputs": [],
   "source": [
    "hdi_series =  pd.Series(hdis_array, index=country_codes_array)\n",
    "hdi_series"
   ]
  },
  {
   "cell_type": "markdown",
   "id": "40b25b55",
   "metadata": {},
   "source": [
    "Pandas allows us to build a Series without specifying an Index:"
   ]
  },
  {
   "cell_type": "code",
   "execution_count": null,
   "id": "e54d74c7",
   "metadata": {},
   "outputs": [],
   "source": [
    "# Make a Series from `hdis_array`, without specifying `index` or `name`.\n",
    "hdi_series_def_index = pd.Series(hdis_array)\n",
    "hdi_series_def_index"
   ]
  },
  {
   "cell_type": "markdown",
   "id": "53fab070",
   "metadata": {},
   "source": [
    "Where we did not specify an Index, Pandas has automatically generated one.  As\n",
    "you can see, Pandas displays this default index as a sequence of integers,\n",
    "starting at 0, and going up to the number of rows minus 1."
   ]
  },
  {
   "cell_type": "markdown",
   "id": "36f6d530",
   "metadata": {},
   "source": [
    "Let's take a closer look at the default Index:"
   ]
  },
  {
   "cell_type": "code",
   "execution_count": null,
   "id": "95b41b59",
   "metadata": {},
   "outputs": [],
   "source": [
    "# The default Pandas index\n",
    "hdi_series_def_index.index"
   ]
  },
  {
   "cell_type": "markdown",
   "id": "4ff3015a",
   "metadata": {},
   "source": [
    "`RangeIndex` is similar to Python's `range`; it is a space-saving container\n",
    "that represents a sequence of integers from a start value up to, but not\n",
    "including a stop value, with an optional step size.  Here `RangeIndex`\n",
    "represents the numbers 0 through 14, just as `range` can represent the numbers\n",
    "0 through 14:"
   ]
  },
  {
   "cell_type": "code",
   "execution_count": null,
   "id": "8a54c86e",
   "metadata": {},
   "outputs": [],
   "source": [
    "zero_through_14 = range(0, 15)\n",
    "zero_through_14"
   ]
  },
  {
   "cell_type": "markdown",
   "id": "b3acd8e6",
   "metadata": {},
   "source": [
    "As for `range` we can ask the `RangeIndex` container to give up these numbers\n",
    "(by iteration) into another container, such as an array or list:"
   ]
  },
  {
   "cell_type": "code",
   "execution_count": null,
   "id": "94a29bc8",
   "metadata": {},
   "outputs": [],
   "source": [
    "# Iterating through `RangeIndex` to give the represented numbers.\n",
    "np.array(hdi_series_def_index.index)"
   ]
  },
  {
   "cell_type": "code",
   "execution_count": null,
   "id": "b9c98d2b",
   "metadata": {},
   "outputs": [],
   "source": [
    "# Iterating through a `range` to give the represented numbers.\n",
    "np.array(zero_through_14)"
   ]
  },
  {
   "cell_type": "markdown",
   "id": "65b8fcbf",
   "metadata": {},
   "source": [
    "As for `range`, one can ask for the implied elements by indexing:"
   ]
  },
  {
   "cell_type": "code",
   "execution_count": null,
   "id": "1cf35573",
   "metadata": {},
   "outputs": [],
   "source": [
    "# View the fifth element of the RangeIndex.\n",
    "fifth_element = hdi_series_def_index.index[4]\n",
    "fifth_element"
   ]
  },
  {
   "cell_type": "markdown",
   "id": "fdaf3cd0",
   "metadata": {},
   "source": [
    "Notice that the elements from `RangeIndex` are `int`s:"
   ]
  },
  {
   "cell_type": "code",
   "execution_count": null,
   "id": "37fe7b34",
   "metadata": {},
   "outputs": [],
   "source": [
    "type(fifth_element)"
   ]
  },
  {
   "cell_type": "markdown",
   "id": "b7d3ce29",
   "metadata": {},
   "source": [
    "For all practical purposes, you can treat this `RangeIndex` as being equivalent\n",
    "to the corresponding sequential Numpy integer array.\n",
    "\n",
    "**Start of exercise**\n",
    "\n",
    "Let's make another Series where we do not specify the index:"
   ]
  },
  {
   "cell_type": "code",
   "execution_count": null,
   "id": "d0df08e5",
   "metadata": {},
   "outputs": [],
   "source": [
    "a_series = pd.Series([1000, 999, 101, 199, 99])\n",
    "a_series"
   ]
  },
  {
   "cell_type": "markdown",
   "id": "1cbccb33",
   "metadata": {},
   "source": [
    "As you have seen, you will have got the default `.index`, a `RangeIndex`:"
   ]
  },
  {
   "cell_type": "code",
   "execution_count": null,
   "id": "54c663bb",
   "metadata": {},
   "outputs": [],
   "source": [
    "a_series.index"
   ]
  },
  {
   "cell_type": "markdown",
   "id": "6febc370",
   "metadata": {},
   "source": [
    "What do you expect to see for `list(a_series)`?  Reflect, then uncomment below\n",
    "and try it:"
   ]
  },
  {
   "cell_type": "code",
   "execution_count": null,
   "id": "db87c584",
   "metadata": {},
   "outputs": [],
   "source": [
    "# list(a_series)"
   ]
  },
  {
   "cell_type": "markdown",
   "id": "36965fbc",
   "metadata": {},
   "source": [
    "What do you expect to see for `list(a_series.index)`?  Reflect, then try it:"
   ]
  },
  {
   "cell_type": "code",
   "execution_count": null,
   "id": "8ad9d94b",
   "metadata": {},
   "outputs": [],
   "source": [
    "# list(a_series.index)"
   ]
  },
  {
   "cell_type": "markdown",
   "id": "3f420ec0",
   "metadata": {},
   "source": [
    "The Series method `.sort_values` returns a new Series sorted by the values."
   ]
  },
  {
   "cell_type": "code",
   "execution_count": null,
   "id": "e0dc9c33",
   "metadata": {},
   "outputs": [],
   "source": [
    "sorted_series = a_series.sort_values()"
   ]
  },
  {
   "cell_type": "markdown",
   "id": "18dfbb1e",
   "metadata": {},
   "source": [
    "Now what do you expect to see for `list(sorted_series)`?  Reflect, then\n",
    "uncomment below and try it:"
   ]
  },
  {
   "cell_type": "code",
   "execution_count": null,
   "id": "bf3b4acc",
   "metadata": {},
   "outputs": [],
   "source": [
    "# list(sorted_series)"
   ]
  },
  {
   "cell_type": "markdown",
   "id": "a5e088ee",
   "metadata": {},
   "source": [
    "How about `list(sorted_series.index)`?  Reflect, try:"
   ]
  },
  {
   "cell_type": "code",
   "execution_count": null,
   "id": "ff6c77ef",
   "metadata": {},
   "outputs": [],
   "source": [
    "# list(sorted_series.index)"
   ]
  },
  {
   "cell_type": "markdown",
   "id": "6a62d519",
   "metadata": {},
   "source": [
    "What kind of thing do you think the `.index` is now?  Reflect and then:"
   ]
  },
  {
   "cell_type": "code",
   "execution_count": null,
   "id": "7cb48dd3",
   "metadata": {},
   "outputs": [],
   "source": [
    "# type(sorted_series.index)"
   ]
  },
  {
   "cell_type": "markdown",
   "id": "6bee9f93",
   "metadata": {},
   "source": [
    "Can you explain the result of the last cell?\n",
    "\n",
    "**End of exercise**"
   ]
  },
  {
   "cell_type": "markdown",
   "id": "47f75ba8",
   "metadata": {},
   "source": [
    "**See the [corresponding page](/pandas_from_numpy/0_1_to_loc_or_iloc.html) for solution**\n",
    "\n",
    "## Why an Index of integers can be confusing\n",
    "\n",
    "To recap: for our first few Series, we've used three-letter country codes as\n",
    "the elements of an `index`. We've just seen what happens if we construct a Data\n",
    "Frame without telling Pandas what to use as an `index` - it will create\n",
    "a default `RangeIndex`. `RangeIndex` represents a series of integers.\n",
    "\n",
    "If you did the exercise, you will have found that Pandas can us `RangeIndex`\n",
    "when the index is a regular sequence of integers, but must otherwise change to\n",
    "having an index with an array containing integers, that are the value labels.\n",
    "\n",
    "What is the advantage of using an index with values that aren't integers — such\n",
    "as strings? Below are some potential pitfalls to be aware of when using the\n",
    "default index, and any other index made up of integers.\n",
    "\n",
    "Let's say we want to access the fifth element of the Series. This is at integer\n",
    "location 4, because we count from 0. At the moment the numerical labels implied\n",
    "by the `RangeIndex` \"line up\" with the integer-based locations:"
   ]
  },
  {
   "cell_type": "code",
   "execution_count": null,
   "id": "cf2d5bc8",
   "metadata": {},
   "outputs": [],
   "source": [
    "# Show the whole Series\n",
    "hdi_series_def_index"
   ]
  },
  {
   "cell_type": "markdown",
   "id": "a0d01ca2",
   "metadata": {},
   "source": [
    "If you ask for element `4`, there is no ambiguity about which element you mean,\n",
    "because the value with label `4` is also the element at integer position `4`.\n",
    "Therefore, if we use integer indexing (`.iloc`) we get the same value as if we\n",
    "use label based indexing (`.loc`):"
   ]
  },
  {
   "cell_type": "code",
   "execution_count": null,
   "id": "ddd28219",
   "metadata": {},
   "outputs": [],
   "source": [
    "# Indexing using integer location\n",
    "hdi_series_def_index.iloc[4]"
   ]
  },
  {
   "cell_type": "code",
   "execution_count": null,
   "id": "127691b7",
   "metadata": {},
   "outputs": [],
   "source": [
    "# Indexing using labels (from the default index)\n",
    "hdi_series_def_index.loc[4]"
   ]
  },
  {
   "cell_type": "markdown",
   "id": "7828f5b8",
   "metadata": {},
   "source": [
    "What if we don't tell Pandas what type of indexing we want to do?  Meaning, we\n",
    "do not use `.iloc` or `.loc`, we just use the sort of [direct\n",
    "indexing](direct-indirect) we would use on a Python list or array?"
   ]
  },
  {
   "cell_type": "code",
   "execution_count": null,
   "id": "5dfe4403",
   "metadata": {},
   "outputs": [],
   "source": [
    "# Direct indexing\n",
    "hdi_series_def_index[4]"
   ]
  },
  {
   "cell_type": "markdown",
   "id": "fd482980",
   "metadata": {},
   "source": [
    "There is no ambiguity as to what `4` refers to, so it may not be surprising\n",
    "that `.iloc`, `.loc` and direct indexing all give the same result.\n",
    "\n",
    "**But this will not always be the case.** Certain functions and methods that\n",
    "we use to sort and organise our data will cause cause misalignment between the\n",
    "*integer labels* and the *integer position* of a given element of the Series.\n",
    "\n",
    "For instance let's sort the data in our `hdi_series_def_index` Series in\n",
    "ascending order.  To do this we will use the `.sort_values()` method. We will\n",
    "cover Pandas methods in detail on [later\n",
    "pages](0_2_pandas_dataframes_attributes_methods.Rmd). For now the\n",
    "`.sort_values()` method sorts the values of the Series in ascending order,\n",
    "taking the matching labels in the index with it."
   ]
  },
  {
   "cell_type": "code",
   "execution_count": null,
   "id": "8a08992f",
   "metadata": {},
   "outputs": [],
   "source": [
    "# Sorting the *values* in ascending order\n",
    "hdi_series_def_index_sorted = hdi_series_def_index.sort_values()\n",
    "hdi_series_def_index_sorted"
   ]
  },
  {
   "cell_type": "markdown",
   "id": "00d207d5",
   "metadata": {},
   "source": [
    "Look at the left hand side of the display from the cell above — in particular,\n",
    "look at the Index.  The numbers within the Index no longer run sequentially\n",
    "from 0 to 14. This means that the integer location of each element in the\n",
    "Series no longer matches up with the index label. This can be a potential\n",
    "source of errors.\n",
    "\n",
    "::: note\n",
    "\n",
    "**The index type can change if you rearrange elements**\n",
    "\n",
    "If you haven't done the exercise above, please consider doing it.\n",
    "\n",
    "If you have, you will have found already that the sorted Series has a new\n",
    "Index, that is no longer a `RangeIndex` (because the integer labels now cannot\n",
    "be represented as a regular sequence of integers):"
   ]
  },
  {
   "cell_type": "code",
   "execution_count": null,
   "id": "72b7a212",
   "metadata": {},
   "outputs": [],
   "source": [
    "type(hdi_series_def_index_sorted.index)"
   ]
  },
  {
   "cell_type": "markdown",
   "id": "a9a36767",
   "metadata": {},
   "source": [
    ":::\n",
    "\n",
    "Let's see what happens if we try to access the fifth element of the series\n",
    "using integer based indexing (`.iloc[4]`) location based indexing (`.loc[4]`)\n",
    "and direct indexing (`[4]`) as we did above.\n",
    "\n",
    "As you remember, when we did this on the data before sorting, all these methods\n",
    "returned the same value.  Now, however:"
   ]
  },
  {
   "cell_type": "code",
   "execution_count": null,
   "id": "03a19981",
   "metadata": {},
   "outputs": [],
   "source": [
    "# Integer indexing on the sorted data\n",
    "# This is the fifth element in the Series.\n",
    "hdi_series_def_index_sorted.iloc[4]"
   ]
  },
  {
   "cell_type": "code",
   "execution_count": null,
   "id": "2476b841",
   "metadata": {},
   "outputs": [],
   "source": [
    "# Label indexing on the sorted data\n",
    "# This is the element with the label `4`.\n",
    "hdi_series_def_index_sorted.loc[4]"
   ]
  },
  {
   "cell_type": "code",
   "execution_count": null,
   "id": "46323836",
   "metadata": {},
   "outputs": [],
   "source": [
    "# Direct indexing on the sorted data\n",
    "# Which is this?  Position or label?\n",
    "hdi_series_def_index_sorted[4]"
   ]
  },
  {
   "cell_type": "markdown",
   "id": "11e1f321",
   "metadata": {},
   "source": [
    "We have used the number 4 with each indexing method, yet have gotten back\n",
    "different values for `.iloc` compared to `.loc` and direct indexing.\n",
    "\n",
    "This is a pitfall of using sequential numbers as the index — as generated, for\n",
    "example, by `RangeIndex` — it can lead to confusing results when the position\n",
    "in the sequence and the `int` label of an element of the Series do not match\n",
    "up.\n",
    "\n",
    "Compare this to our `hdi_series` which uses the\n",
    "three-letter country codes as its index:"
   ]
  },
  {
   "cell_type": "code",
   "execution_count": null,
   "id": "a04d15c6",
   "metadata": {},
   "outputs": [],
   "source": [
    "# Show the `hdi_series`\n",
    "hdi_series"
   ]
  },
  {
   "cell_type": "markdown",
   "id": "a94c313f",
   "metadata": {},
   "source": [
    "Let's get the fifth element using integer based (`.iloc`) indexing:"
   ]
  },
  {
   "cell_type": "code",
   "execution_count": null,
   "id": "951433b4",
   "metadata": {},
   "outputs": [],
   "source": [
    "# Integer indexing\n",
    "hdi_series.iloc[4]"
   ]
  },
  {
   "cell_type": "markdown",
   "id": "e599fb78",
   "metadata": {},
   "source": [
    "...and let's try to use `.loc[4]` on this Series (this will generate an error):"
   ]
  },
  {
   "cell_type": "code",
   "execution_count": null,
   "id": "03aed8aa",
   "metadata": {
    "tags": [
     "raises-exception"
    ]
   },
   "outputs": [],
   "source": [
    "# Label indexing raises a KeyError ...\n",
    "hdi_series.loc[4]"
   ]
  },
  {
   "cell_type": "markdown",
   "id": "111038a3",
   "metadata": {},
   "source": [
    "This `KeyError` tells us that there is no index label `4` (which makes sense\n",
    "as the index labels in this Series are three-letter country codes). To use\n",
    "`.loc` with this Series, we must use the three-letter country code strings:"
   ]
  },
  {
   "cell_type": "code",
   "execution_count": null,
   "id": "2a94e941",
   "metadata": {},
   "outputs": [],
   "source": [
    "# Label based indexing\n",
    "hdi_series.loc['DEU']"
   ]
  },
  {
   "cell_type": "markdown",
   "id": "d80a2bc8",
   "metadata": {},
   "source": [
    "It is much harder to get confused when using integer indices with *indirect\n",
    "indexing* (`.loc` and `.iloc`).  You've specified what you mean (by label or by\n",
    "position) using the name of the method.  However, things can get dangerously\n",
    "confusing if you use an integer index and *direct indexing*.\n",
    "\n",
    "Just to remind you, `hdi_series` has the country codes\n",
    "(strings like `'DEU'`) as the index.\n",
    "\n",
    "Now, consider, what would happen if we used an integer for *direct indexing*?\n",
    "As in something like `hdi_series[4]`?  Because we haven't\n",
    "specified that we want to index with labels (`.loc`) or positions (`.iloc`),\n",
    "Pandas has to make some decision as to how to proceed.\n",
    "\n",
    "**Start of exercise**\n",
    "\n",
    "We assume you've just read the text above the exercise, where we consider what\n",
    "you would expect to happen if:\n",
    "\n",
    "* Your Series has a index of strings.\n",
    "* You use direct indexing on this Series with an integer.\n",
    "\n",
    "As in `hdi_series[4]`. (Don't try it yet).\n",
    "\n",
    "Pause and reflect what decision you would make in this situation, if you were\n",
    "a Pandas developer, deciding what Pandas should do.  What are the options? Why\n",
    "would you chose one option over another?\n",
    "\n",
    "**End of exercise**"
   ]
  },
  {
   "cell_type": "markdown",
   "id": "d6de3d35",
   "metadata": {},
   "source": [
    "**See the [corresponding page](/pandas_from_numpy/0_1_to_loc_or_iloc.html) for solution**\n",
    "\n",
    "You are about to see that direct indexing on a Series, for now, does something\n",
    "frightening, which is to *guess* whether we mean to `.loc` or `.iloc` indexing\n",
    "depending on whether the index values are integers.\n",
    "\n",
    "So, as you have already seen above, if the index consists of integers, and you\n",
    "specify integers in your direct indexing, then Pandas will assume you mean the\n",
    "values to be labels (like `.loc`).\n",
    "\n",
    "If the index does not consist of integers, and you specify integers in your\n",
    "direct indexing, then Pandas will currently assume you mean the values to be\n",
    "positions (like `.iloc`), but (at time of writing) give you a warning that\n",
    "this will soon change."
   ]
  },
  {
   "cell_type": "code",
   "execution_count": null,
   "id": "e49d240e",
   "metadata": {},
   "outputs": [],
   "source": [
    "# Direct indexing\n",
    "hdi_series[4]"
   ]
  },
  {
   "cell_type": "markdown",
   "id": "b1087fc5",
   "metadata": {},
   "source": [
    "Using a custom non-integer index (e.g. the three-letter country codes) rather\n",
    "than the default `RangeIndex`, or some other integer index, has the advantage\n",
    "of avoiding potential confusion between the integer location of an element,\n",
    "and the index label of that element.\n",
    "\n",
    "To demonstrate this, let's sort our `hdi_series` in ascending order:"
   ]
  },
  {
   "cell_type": "code",
   "execution_count": null,
   "id": "689eaeb4",
   "metadata": {},
   "outputs": [],
   "source": [
    "# Sorting the Series in ascending order\n",
    "hdi_series_sorted = hdi_series.sort_values()\n",
    "hdi_series_sorted"
   ]
  },
  {
   "cell_type": "markdown",
   "id": "517efb52",
   "metadata": {},
   "source": [
    "The use of custom string-based labels in the index (e.g. `FRA`, `AUS` etc)\n",
    "avoids confusing misalignment between the default numerical labels and integer\n",
    "location."
   ]
  },
  {
   "cell_type": "markdown",
   "id": "4aa8c82a",
   "metadata": {},
   "source": [
    "It's good and safe practice to explicitly specify `.loc` or `.iloc` when\n",
    "indexing a Series, in order not to confuse Pandas as to whether you mean to\n",
    "index by label or position.   In this case `.loc` means we have to use\n",
    "a string, preventing errors where we use a number and return data we do not\n",
    "expect."
   ]
  },
  {
   "cell_type": "code",
   "execution_count": null,
   "id": "b17216d4",
   "metadata": {},
   "outputs": [],
   "source": [
    "# Label-based indexing\n",
    "hdi_series_sorted.loc['DEU']"
   ]
  },
  {
   "cell_type": "markdown",
   "id": "f66a3aa1",
   "metadata": {},
   "source": [
    "::: warning\n",
    "\n",
    "**Direct indexing is not currently consistent**\n",
    "\n",
    "As an extra warning, as Pandas shifts towards more explicit choice of labels over positions in direct indexing, there are still inconsistencies.  These will be resolved over time, so if you want to avoid confusion, skip the rest of this note, and remember *be explicit about labels or positions with `.loc` or `.iloc` unless you have good reason not to*.\n",
    "\n",
    "If you got this far, we admire your courage.  This warning is only to say that Pandas currently treats *slices* in direct indexing differently from individual positions or labels.  Specifically, at the moment, it will always assume integers in slices are positions and not labels.  Try some experiments with `hdi_series[:5]` (string label Series) and `hdi_series_def_index[:5]` (integer label Series).\n",
    "\n",
    "You may be confused after doing that.  And this behavior will surely change at some point.  Summary — use `.iloc` and `.loc` to avoid ambiguity.\n",
    "\n",
    ":::\n",
    "\n",
    "We repeat, a very good additional maxim is: **use `.loc` and `iloc` unless\n",
    "there is a good reason not to!**."
   ]
  },
  {
   "cell_type": "markdown",
   "id": "7169d199",
   "metadata": {},
   "source": [
    "## Default names for Data Frame columns\n",
    "\n",
    "Remember, a Data Frame is a dictionary-like collection of Series.\n",
    "\n",
    "We often create Data Frames with an actual dictionary of Series, or with single Series.\n",
    "\n",
    "When we build Data Frames from Series, it becomes eminently sensible to specify\n",
    "a `name` attribute for each Series.\n",
    "\n",
    "Pandas will not *force* us to do this, but it leads to some error-prone\n",
    "consequences if we do not. In fact, the default `RangeIndex` crops up again\n",
    "here, and can create confusion in similar ways to the ones we have seen in the\n",
    "last section.\n",
    "\n",
    "Let us reconstruct a Series with a specified Index, but no `.name`:"
   ]
  },
  {
   "cell_type": "code",
   "execution_count": null,
   "id": "582f01f5",
   "metadata": {},
   "outputs": [],
   "source": [
    "hdi_series =  pd.Series(hdis_array, index=country_codes_array)\n",
    "hdi_series"
   ]
  },
  {
   "cell_type": "markdown",
   "id": "076cdf77",
   "metadata": {},
   "source": [
    "Our `hdi_series` got the default value for its `.name` attribute: `None`."
   ]
  },
  {
   "cell_type": "code",
   "execution_count": null,
   "id": "b520ceb8",
   "metadata": {},
   "outputs": [],
   "source": [
    "hdi_series.name is None"
   ]
  },
  {
   "cell_type": "markdown",
   "id": "b4f55e3e",
   "metadata": {},
   "source": [
    "Let's pass this Series to the `pd.DataFrame()` constructor, to see the\n",
    "consequence of a `.name`less Series in this context.  We will call the resulting\n",
    "Data Frame `no_name_df`:"
   ]
  },
  {
   "cell_type": "code",
   "execution_count": null,
   "id": "7b8a28a5",
   "metadata": {},
   "outputs": [],
   "source": [
    "# A Data Frame made of a Series with `name` attribute of None.\n",
    "no_name_df = pd.DataFrame(hdi_series)\n",
    "no_name_df"
   ]
  },
  {
   "cell_type": "markdown",
   "id": "97de181d",
   "metadata": {},
   "source": [
    "Ok, so in the absence of a `name` attribute Pandas has labelled the column with a `0`. If we inspect more deeply, we find that actually Pandas, in the absence of being instructed otherwise, has created a `RangeIndex`, but this time for the `columns` (e.g. the column names) of the Data Frame. If you look at the Data Frame above, you can see that the `index` attribute is the three-letter country codes. However, the `.columns` are a `RangeIndex`:"
   ]
  },
  {
   "cell_type": "code",
   "execution_count": null,
   "id": "e1ca2981",
   "metadata": {},
   "outputs": [],
   "source": [
    "# Look at the column names via the `.columns` attribute\n",
    "no_name_df.columns"
   ]
  },
  {
   "cell_type": "markdown",
   "id": "56a8a5e4",
   "metadata": {},
   "source": [
    "Sure enough, if we check the `type` of the fist element in this `RangeIndex`\n",
    "it is an `int` — we can think of it not as a column *name* but a number\n",
    "standing in for a column name:"
   ]
  },
  {
   "cell_type": "code",
   "execution_count": null,
   "id": "de440b50",
   "metadata": {},
   "outputs": [],
   "source": [
    "# Check the type of the first element in the `.columns` attribute\n",
    "type(no_name_df.columns[0])"
   ]
  },
  {
   "cell_type": "markdown",
   "id": "15c7072e",
   "metadata": {},
   "source": [
    "It may be obvious why this naming convention for Data Frame columns can lead\n",
    "to errors for reasons of low interpretability. We typically want our column\n",
    "names to be descriptive of the data in the column, to ourselves and to other\n",
    "people reading our code. If we do not specify a `name` attribute for our\n",
    "Series when creating Data Frames, the default numerical column names supplied\n",
    "by Pandas are hard to interpret, and it is easy to misinterpret, or to forget\n",
    "what data is in that column, leading to human errors.\n",
    "\n",
    "They can also lead to indexing errors, similar to those we saw in the previous\n",
    "section. To demonstrate this, let's compare the `name`less Data Frame above to\n",
    "a Data Frame created from a Series with a `name`.\n",
    "\n",
    "Now let us create a Series with index and not-default name:"
   ]
  },
  {
   "cell_type": "code",
   "execution_count": null,
   "id": "b8f698af",
   "metadata": {},
   "outputs": [],
   "source": [
    "hdi_series_named = pd.Series(\n",
    "    hdis_array,\n",
    "    index=country_codes_array,\n",
    "    name='Human Development Index')\n",
    "hdi_series_named"
   ]
  },
  {
   "cell_type": "markdown",
   "id": "8f875234",
   "metadata": {},
   "source": [
    "Our aptly named `hdi_series_named` has a `name` attribute — (look at the\n",
    "last line of the output from the cell below, the `Name: Human Development\n",
    "Index`):\n",
    "\n",
    "Let's call the `pd.DataFrame()` constructor on this Series - we'll call the\n",
    "resultant Data Frame `named_df`:"
   ]
  },
  {
   "cell_type": "code",
   "execution_count": null,
   "id": "f69bbea9",
   "metadata": {},
   "outputs": [],
   "source": [
    "# Create a new Data Frame, with a sensible name for the column\n",
    "named_df = pd.DataFrame(hdi_series_named)\n",
    "named_df"
   ]
  },
  {
   "cell_type": "markdown",
   "id": "0976f644",
   "metadata": {},
   "source": [
    "We see that Pandas has automatically used the `name` attribute as the column\n",
    "name, hugely increasing the interpretability of the resulting Data Frame.\n",
    "\n",
    "We can see the `name` in the `.columns` attribute of the new  `named_df` Data\n",
    "Frame:"
   ]
  },
  {
   "cell_type": "code",
   "execution_count": null,
   "id": "0e1159da",
   "metadata": {},
   "outputs": [],
   "source": [
    "# Show the column names from the `named_df` Data Frame\n",
    "named_df.columns"
   ]
  },
  {
   "cell_type": "markdown",
   "id": "be8029d0",
   "metadata": {},
   "source": [
    "Now, let's try using direct indexing with each Data Frame, using the column names.\n",
    "\n",
    "This is very straightforward for the `named_df`:"
   ]
  },
  {
   "cell_type": "code",
   "execution_count": null,
   "id": "0585e42a",
   "metadata": {},
   "outputs": [],
   "source": [
    "# Direct indexing to retrieve a column by name\n",
    "named_df['Human Development Index']"
   ]
  },
  {
   "cell_type": "markdown",
   "id": "8d4f5ba1",
   "metadata": {},
   "source": [
    "What about for `no_name_df`? Well, the column name there is `0`, of `int`\n",
    "type.\n",
    "\n",
    "What happens if use direct indexing? We are hoping we see something like the\n",
    "output of the cell above, albeit with a `0` for the `name`, rather than `Human\n",
    "Development Index`:"
   ]
  },
  {
   "cell_type": "code",
   "execution_count": null,
   "id": "4efa90f0",
   "metadata": {},
   "outputs": [],
   "source": [
    "# Direct indexing with no `name` attribute\n",
    "no_name_df[0]"
   ]
  },
  {
   "cell_type": "markdown",
   "id": "1ace5d76",
   "metadata": {},
   "source": [
    "Sure enough that is what we see. But the operation we have used looks very\n",
    "much like *integer* indexing on a Series, which will return a single value:"
   ]
  },
  {
   "cell_type": "code",
   "execution_count": null,
   "id": "25827172",
   "metadata": {},
   "outputs": [],
   "source": [
    "# Integer indexing a Series (without using `.iloc`)\n",
    "hdi_series[0]"
   ]
  },
  {
   "cell_type": "markdown",
   "id": "eca5b72a",
   "metadata": {},
   "source": [
    "This can be confusing.\n",
    "\n",
    "The numerical label can also be confusing if we introduce more columns,\n",
    "especially if we mix in columns which do have `name` attributes that we\n",
    "specify.\n",
    "\n",
    "For instance, if we add in the full name of each country:"
   ]
  },
  {
   "cell_type": "code",
   "execution_count": null,
   "id": "63a6a185",
   "metadata": {},
   "outputs": [],
   "source": [
    "# Country names array\n",
    "country_names_array = np.array(['Australia', 'Brazil', 'Canada',\n",
    "                                'China', 'Germany', 'Spain',\n",
    "                                'France', 'United Kingdom', 'India',\n",
    "                                'Italy', 'Japan', 'South Korea',\n",
    "                                'Mexico', 'Russia', 'United States'])\n",
    "country_names_array"
   ]
  },
  {
   "cell_type": "markdown",
   "id": "a4970237",
   "metadata": {},
   "source": [
    "Let's add this into the `no_name_df`, using the `name` `'Country Names'`:"
   ]
  },
  {
   "cell_type": "code",
   "execution_count": null,
   "id": "e68b5335",
   "metadata": {},
   "outputs": [],
   "source": [
    "no_name_df['Country Names'] = country_names_array\n",
    "no_name_df"
   ]
  },
  {
   "cell_type": "markdown",
   "id": "8f09ff8f",
   "metadata": {},
   "source": [
    "We now have one column that has an `int` as its column name, and another with\n",
    "a string.\n",
    "\n",
    "In the same way as for a numerical `index`, this situation can become\n",
    "confusing if the numerical labels become misaligned with their integer\n",
    "location in the `.columns` attribute.\n",
    "\n",
    "For instance, we could reverse the order of the columns, by using *direct indexing* in the Data Frame to request the columns in reverse order by column label:"
   ]
  },
  {
   "cell_type": "code",
   "execution_count": null,
   "id": "214b2a8c",
   "metadata": {},
   "outputs": [],
   "source": [
    "# Re-arrange the columns\n",
    "# Specify the order of columns we want.\n",
    "cols = ['Country Names', 0]\n",
    "# Use direct indexing to select columns in given order.\n",
    "reversed_col_df = no_name_df[cols]\n",
    "reversed_col_df"
   ]
  },
  {
   "cell_type": "markdown",
   "id": "414f66e7",
   "metadata": {},
   "source": [
    "We now have a column with the `name` `0` (an int) that is not at the 0-th location of the `.columns` attribute:"
   ]
  },
  {
   "cell_type": "code",
   "execution_count": null,
   "id": "e4e0e116",
   "metadata": {},
   "outputs": [],
   "source": [
    "# Show the 0-th element of the `.columns` attribute\n",
    "reversed_col_df.columns[0]"
   ]
  },
  {
   "cell_type": "markdown",
   "id": "6a1b3491",
   "metadata": {},
   "source": [
    "We are now in the precarious situation of using a `int` `0` both as a *label* and as a *location*. In the cell above, it is a location, it the cell below it serves as a label:"
   ]
  },
  {
   "cell_type": "code",
   "execution_count": null,
   "id": "a8889d2e",
   "metadata": {},
   "outputs": [],
   "source": [
    "# Direct index the `0` column\n",
    "reversed_col_df[0]"
   ]
  },
  {
   "cell_type": "markdown",
   "id": "9fa12730",
   "metadata": {},
   "source": [
    "Ideally, we would like a clear separation between integer indexes (like `0`)\n",
    "and *column names*.\n",
    "\n",
    "This confusing situation can be completely avoided in the case of `named_df`. Let's add the country names to this Data Frame, that thus far only has a single column, containing the \"Human Development Index\" values."
   ]
  },
  {
   "cell_type": "code",
   "execution_count": null,
   "id": "4a918768",
   "metadata": {},
   "outputs": [],
   "source": [
    "# Show the Data Frame thus far\n",
    "named_df"
   ]
  },
  {
   "cell_type": "code",
   "execution_count": null,
   "id": "caecd0d2",
   "metadata": {},
   "outputs": [],
   "source": [
    "# Add the country names\n",
    "named_df['Country Names'] = country_names_array\n",
    "named_df"
   ]
  },
  {
   "cell_type": "markdown",
   "id": "236bd234",
   "metadata": {},
   "source": [
    "We don't introduce any confusion or add propensity to error by re-arranging\n",
    "these columns which have sensible string names:"
   ]
  },
  {
   "cell_type": "code",
   "execution_count": null,
   "id": "c4a24ffd",
   "metadata": {},
   "outputs": [],
   "source": [
    "# Re-arrange the columns\n",
    "reversed_named_df = named_df[['Country Names', 'Human Development Index']]\n",
    "reversed_named_df"
   ]
  },
  {
   "cell_type": "markdown",
   "id": "a52c2c72",
   "metadata": {},
   "source": [
    "In fact, now if we want to use integer indexing, we are forced to use `.iloc`,\n",
    "as we will otherwise get an error:"
   ]
  },
  {
   "cell_type": "code",
   "execution_count": null,
   "id": "cb4a3c3b",
   "metadata": {
    "tags": [
     "raises-exception"
    ]
   },
   "outputs": [],
   "source": [
    "# This will not work if each column has a `name` string\n",
    "reversed_named_df[0]"
   ]
  },
  {
   "cell_type": "markdown",
   "id": "f2b42911",
   "metadata": {},
   "source": [
    "This compels us to stick to the good practice maxim we introduced above: **use\n",
    "`.loc` and `iloc` unless there is a good reason not to!**.\n",
    "\n",
    "Giving every column a sensible string as a `name` is one situation where direct indexing (e.g. in the present context using `named_df['Human Development Index']` etc.) is safe and non-error prone. As we have seen, issues can arise if we do not specify `name` attributes, and let Pandas automatically generate numeric labels for our Data Frame columns..."
   ]
  },
  {
   "cell_type": "markdown",
   "id": "2349f9c5",
   "metadata": {},
   "source": [
    "## `.loc` and `.iloc` with Data Frames"
   ]
  },
  {
   "cell_type": "markdown",
   "id": "65d78c0f",
   "metadata": {},
   "source": [
    "So far we have spent much time with `.loc` and `.iloc` on Series.\n",
    "\n",
    "There is a new concern"
   ]
  },
  {
   "cell_type": "markdown",
   "id": "c5c33959",
   "metadata": {},
   "source": [
    "## Summary\n",
    "\n",
    "On this page we have looked at the differences between attributes of the\n",
    "Pandas Series - the `name` is optional, but a default `RangeIndex` will be\n",
    "supplied if no custom `index` is specified.\n",
    "\n",
    "We have seen that the `RangeIndex` and other indices with integer labels can\n",
    "lead to errors if the numeric row labels become misaligned with the integer\n",
    "location of a given row. Similarly, if we do not specify a `name` attribute\n",
    "for Data Frame columns, Pandas will generate numeric labels which can create\n",
    "confusion between integer-based and direct indexing.\n",
    "\n",
    "For best results, we should specify both an interpretable `index` and\n",
    "interpretable `name` attributes for our Series, especially when they are part\n",
    "of Data Frames."
   ]
  }
 ],
 "metadata": {
  "jupytext": {
   "formats": "ipynb,Rmd"
  },
  "kernelspec": {
   "display_name": "Python (Pyodide)",
   "name": "python"
  }
 },
 "nbformat": 4,
 "nbformat_minor": 5
}
