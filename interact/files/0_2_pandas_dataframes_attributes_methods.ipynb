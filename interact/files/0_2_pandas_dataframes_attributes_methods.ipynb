{
 "cells": [
  {
   "cell_type": "markdown",
   "id": "b356d5eb",
   "metadata": {},
   "source": [
    "# Pandas DataFrames: Attributes and Methods\n",
    "\n",
    "<!---\n",
    "📝 NOTE-  Covered here:\n",
    "\n",
    "Columns in a dataframe  can be of different dtypes\n",
    "* Operations are on columns by default (describe, sum, min, max)\n",
    "* attributes of df (shape, dtypes columns, index)\n",
    "* methods of df (unique, describe, counts, value_counts, min, max, std, sort_values, sort_index)\n",
    "\n",
    "Structure of page:\n",
    "\n",
    "* show all relevant methods/attributes of numpy arrays\n",
    "\n",
    "* reinforce that \"Series = array + index + name\". Then show relevant methods/attributes of Series.\n",
    "\n",
    "* reinforce that \"DataFrame = dictionary-like collection of Series\". Then show all relevant methods/attributes of DataFrames.\n",
    "-->\n",
    "\n",
    "On the [previous](0_0_pandas_intro.Rmd) [pages](0_1_to_loc_or_iloc.Rmd) we have seen how Pandas Series are constructed by combining Numpy arrays (the `.values` attribute of a Series) with other attributes (a `.name` string and and array-like `.index`). We have then examined how Pandas Data Frames are built from a collection of Series, in a dictionary-like structure.\n",
    "\n",
    "This page will dive deeper into Data Frames. Once we have constructed our Data Frame, Pandas provides many useful methods for cleaning, aggregating, plotting and (subsequently) analysing our data.\n",
    "\n",
    "We will begin by showing that Pandas Series and Data Frames inherit many of their methods from the Numpy arrays that they are in part constructed from, though the methods are adapted to work in the context of Pandas objects.\n",
    "\n",
    "## More Pandas from Numpy\n",
    "\n",
    "Let's examine some of the methods we can use on numpy arrays.\n",
    "\n",
    "Remember, a *method* is a function attached to an object. \n",
    "\n",
    "In this case, our object is a Numpy array (later it will be a Pandas Series or Data Frame).\n",
    "\n",
    "We'll build a Numpy array using the `np.array([])` constructor, containing our\n",
    "familiar three-letter country codes. As before, you can see the [datasets and\n",
    "licenses page](data/data_notes) for more detail."
   ]
  },
  {
   "cell_type": "code",
   "execution_count": null,
   "id": "6f8aedad",
   "metadata": {},
   "outputs": [],
   "source": [
    "# import libraries\n",
    "import numpy as np\n",
    "import pandas as pd"
   ]
  },
  {
   "cell_type": "markdown",
   "id": "3594d6ca",
   "metadata": {},
   "source": [
    "We build the constituent arrays:"
   ]
  },
  {
   "cell_type": "code",
   "execution_count": null,
   "id": "d2af4a65",
   "metadata": {},
   "outputs": [],
   "source": [
    "# Standard three-letter code for each country\n",
    "country_codes_array = np.array(['AUS', 'BRA', 'CAN',\n",
    "                                'CHN', 'DEU', 'ESP',\n",
    "                                'FRA', 'GBR', 'IND',\n",
    "                                'ITA', 'JPN', 'KOR',\n",
    "                                'MEX', 'RUS', 'USA'])\n",
    "country_codes_array"
   ]
  },
  {
   "cell_type": "code",
   "execution_count": null,
   "id": "0d08c736",
   "metadata": {},
   "outputs": [],
   "source": [
    "# Human Development Index Scores for each country\n",
    "hdis_array = np.array([0.896, 0.668, 0.89,\n",
    "                       0.586, 0.89,  0.828,\n",
    "                       0.844, 0.863, 0.49,\n",
    "                       0.842, 0.883, 0.824,\n",
    "                       0.709, 0.733, 0.894])\n",
    "hdis_array"
   ]
  },
  {
   "cell_type": "code",
   "execution_count": null,
   "id": "b0841aac",
   "metadata": {},
   "outputs": [],
   "source": [
    "# Full names of each country.\n",
    "country_names_array = np.array(['Australia', 'Brazil', 'Canada',\n",
    "                                'China', 'Germany', 'Spain',\n",
    "                                'France', 'United Kingdom', 'India',\n",
    "                                'Italy', 'Japan', 'South Korea',\n",
    "                                'Mexico', 'Russia', 'United States'])\n",
    "country_names_array"
   ]
  },
  {
   "cell_type": "markdown",
   "id": "91345ca9",
   "metadata": {},
   "source": [
    "When dealing with any object in python, it can be useful to use the in-built python `dir()` function. This shows every attribute and method that we can access/call from the object, though the printout it produces is messy:"
   ]
  },
  {
   "cell_type": "code",
   "execution_count": null,
   "id": "abee98fd",
   "metadata": {},
   "outputs": [],
   "source": [
    "# show all available attributes/methods\n",
    "dir(hdis_array)"
   ]
  },
  {
   "cell_type": "markdown",
   "id": "e010ecab",
   "metadata": {},
   "source": [
    "For now we will ignore the elements in the printout that contain `__`.  These\n",
    "double underscores are called \"dunders\" (short for double underscores);\n",
    "attributes and methods starting and ending with `__` are often called *dunder\n",
    "attributes* and *dunder methods*.  Python uses the dunder naming scheme as\n",
    "a convention to indicate that these methods and attributes are part of the\n",
    "internal machinery of an object.\n",
    "\n",
    "Ignoring the dunder attributes and methods, we can see a large number of\n",
    "attributes and methods that we can access from this or any other Numpy array.\n",
    "\n",
    "One of these attributes is called `shape`. We will almost always want to know the `shape` of our data, as it tells us how many observations we have.\n",
    "\n",
    "Let's take a look at the `.shape` attribute:"
   ]
  },
  {
   "cell_type": "code",
   "execution_count": null,
   "id": "366bf92f",
   "metadata": {},
   "outputs": [],
   "source": [
    "# shape\n",
    "hdis_array.shape"
   ]
  },
  {
   "cell_type": "markdown",
   "id": "2d77704b",
   "metadata": {},
   "source": [
    "We can read this output as \"15 elements in one row\". By contrast, let's look at an array with more than one dimension:"
   ]
  },
  {
   "cell_type": "code",
   "execution_count": null,
   "id": "83505007",
   "metadata": {},
   "outputs": [],
   "source": [
    "# arrays with more dimensions\n",
    "zeros_array = np.zeros([2, 2])\n",
    "zeros_array"
   ]
  },
  {
   "cell_type": "markdown",
   "id": "6689f89b",
   "metadata": {},
   "source": [
    "This array - which in mathematical terms is a *matrix* - has the following shape:"
   ]
  },
  {
   "cell_type": "code",
   "execution_count": null,
   "id": "2e699305",
   "metadata": {},
   "outputs": [],
   "source": [
    "# arrays with more dimensions\n",
    "zeros_array.shape"
   ]
  },
  {
   "cell_type": "markdown",
   "id": "03829c8b",
   "metadata": {},
   "source": [
    "We an read this as \"2 rows and 2 columns\" (which equates to 4 elements).\n",
    "\n",
    "If we want to count the number of individual elements in an array (across all dimensions) we can use the `.size` attribute:"
   ]
  },
  {
   "cell_type": "code",
   "execution_count": null,
   "id": "3a8113de",
   "metadata": {},
   "outputs": [],
   "source": [
    "# how many elements in the (15, ) `hdi` array?\n",
    "hdis_array.size"
   ]
  },
  {
   "cell_type": "code",
   "execution_count": null,
   "id": "8eff6f8c",
   "metadata": {},
   "outputs": [],
   "source": [
    "# how many elements in the (2, 2) `zeros_array`?\n",
    "zeros_array.size"
   ]
  },
  {
   "cell_type": "markdown",
   "id": "a4439587",
   "metadata": {},
   "source": [
    "Predictably, both of these attributes can be accessed for arrays of any dimensionality:"
   ]
  },
  {
   "cell_type": "code",
   "execution_count": null,
   "id": "4d9b4f11",
   "metadata": {},
   "outputs": [],
   "source": [
    "# an array with more dimensions\n",
    "two_rows_ten_columns_array = np.zeros([2, 10])\n",
    "two_rows_ten_columns_array"
   ]
  },
  {
   "cell_type": "code",
   "execution_count": null,
   "id": "a727c2fa",
   "metadata": {},
   "outputs": [],
   "source": [
    "# arrays with more dimensions\n",
    "two_rows_ten_columns_array.shape"
   ]
  },
  {
   "cell_type": "code",
   "execution_count": null,
   "id": "2137c5d8",
   "metadata": {},
   "outputs": [],
   "source": [
    "# the number of elements in the `two_rows_ten_columns` array?\n",
    "two_rows_ten_columns_array.size"
   ]
  },
  {
   "cell_type": "markdown",
   "id": "8a606769",
   "metadata": {},
   "source": [
    "We always also want to know what type of data is in our array, as it will affect what graphs we can create and what analyses we can perform. Are we dealing with numbers or text, for instance? \n",
    "\n",
    "To access this information, we can view the `dtype` attribute. \n",
    "\n",
    "Let's look at the `dtype` for the `country_codes` array:"
   ]
  },
  {
   "cell_type": "code",
   "execution_count": null,
   "id": "e3fe9c79",
   "metadata": {},
   "outputs": [],
   "source": [
    "# dtype\n",
    "country_codes_array.dtype"
   ]
  },
  {
   "cell_type": "markdown",
   "id": "a86a61fc",
   "metadata": {},
   "source": [
    "The `dtype` attribute here is just telling us that this is string data. For an explanation of the meaning, see the image below.\n",
    "\n",
    "![](images/numpy_string_dtypes.JPG)"
   ]
  },
  {
   "cell_type": "markdown",
   "id": "dbe48d2f",
   "metadata": {},
   "source": [
    "Let's look at the `dtype` of the `hdis_array`:"
   ]
  },
  {
   "cell_type": "code",
   "execution_count": null,
   "id": "bd2a7307",
   "metadata": {},
   "outputs": [],
   "source": [
    "# dtype (again)\n",
    "hdis_array.dtype"
   ]
  },
  {
   "cell_type": "markdown",
   "id": "b39a037c",
   "metadata": {},
   "source": [
    "For this array, the `dtype` tells us that we are dealing with numerical data - specifically float data represented with 64 bits."
   ]
  },
  {
   "cell_type": "markdown",
   "id": "00937df9",
   "metadata": {},
   "source": [
    "### Statistical Attributes of Numpy arrays\n",
    "\n",
    "Numpy also provides a variety of what we can call \"statistical attributes\" which tell us statistics about the data inside the array. As with the methods we looked at in the previous section, Pandas inherits many of these methods, as we will see later in the page.\n",
    "\n",
    "Let's again look at the `hdis_array`, which contains the HDI score of each country. "
   ]
  },
  {
   "cell_type": "code",
   "execution_count": null,
   "id": "8aad183b",
   "metadata": {},
   "outputs": [],
   "source": [
    "hdis_array"
   ]
  },
  {
   "cell_type": "markdown",
   "id": "25836c50",
   "metadata": {},
   "source": [
    "We can use the `.min()` method to view the minimum (smallest) value in the array."
   ]
  },
  {
   "cell_type": "code",
   "execution_count": null,
   "id": "f4cc86fd",
   "metadata": {},
   "outputs": [],
   "source": [
    "# min\n",
    "hdis_array.min()"
   ]
  },
  {
   "cell_type": "markdown",
   "id": "c655d120",
   "metadata": {},
   "source": [
    "Likewise, we can view the maximum (largest) value in the array using `.max()`:"
   ]
  },
  {
   "cell_type": "code",
   "execution_count": null,
   "id": "41630b5d",
   "metadata": {},
   "outputs": [],
   "source": [
    "# max\n",
    "hdis_array.max()"
   ]
  },
  {
   "cell_type": "markdown",
   "id": "daa03512",
   "metadata": {},
   "source": [
    "Other routine statistics, like the mean and standard deviation, can be accessed using the `.mean()` and `.std()` methods, respectively:"
   ]
  },
  {
   "cell_type": "code",
   "execution_count": null,
   "id": "c8b00523",
   "metadata": {},
   "outputs": [],
   "source": [
    "# mean\n",
    "hdis_array.mean()"
   ]
  },
  {
   "cell_type": "code",
   "execution_count": null,
   "id": "d62ab606",
   "metadata": {},
   "outputs": [],
   "source": [
    "# std\n",
    "hdis_array.std()"
   ]
  },
  {
   "cell_type": "markdown",
   "id": "b233ee5f",
   "metadata": {},
   "source": [
    "Numpy arrays also let us sort the data within the array in ascending or descending order (ascending is the default). To do this, we can use the `.sort()` method:"
   ]
  },
  {
   "cell_type": "code",
   "execution_count": null,
   "id": "98ed3a71",
   "metadata": {},
   "outputs": [],
   "source": [
    "# sorting the `hdis_array`\n",
    "hdis_array.sort()"
   ]
  },
  {
   "cell_type": "markdown",
   "id": "1a53b543",
   "metadata": {},
   "source": [
    "Hmmm, that is strange, there was no output from the cell. This is because a quirk of the `.sort()` method is that it operates \"in place\". Sure enough, if we check the `hdis_array`, the data has been sorted in ascending order:"
   ]
  },
  {
   "cell_type": "code",
   "execution_count": null,
   "id": "2c45a8dc",
   "metadata": {},
   "outputs": [],
   "source": [
    "hdis_array"
   ]
  },
  {
   "cell_type": "markdown",
   "id": "44785657",
   "metadata": {},
   "source": [
    "## Pandas Series attributes and methods\n",
    "\n",
    "Remember our answer to \"What is a Series\"?:\n",
    "\n",
    "> A *Series* is the association of:\n",
    ">\n",
    "> * An array of values (`.values`)\n",
    "> * A sequence of labels for each value (`.index`)\n",
    "> * A name (which can be `None`).\n",
    "\n",
    "Because Series have arrays as their underlying model for storing values, it is\n",
    "not surprising that we can use many of the same methods we have just seen for\n",
    "Numpy arrays on Pandas Series.\n",
    "\n",
    "Let's make a series from the HDI scores, called `hdi_series`. We do this using the now familiar `pd.Series()` constructor. Again, we will use the `country_codes` array as an index:"
   ]
  },
  {
   "cell_type": "code",
   "execution_count": null,
   "id": "a187f0b2",
   "metadata": {},
   "outputs": [],
   "source": [
    "# show again from Series, then show for df below\n",
    "hdi_series =  pd.Series(hdis_array,\n",
    "                        index=country_codes_array)\n",
    "\n",
    "hdi_series"
   ]
  },
  {
   "cell_type": "markdown",
   "id": "a10af834",
   "metadata": {},
   "source": [
    "As we know, we can view the `index`, `name` and `values` attributes of the Series using the familiar accessors:"
   ]
  },
  {
   "cell_type": "code",
   "execution_count": null,
   "id": "c5815434",
   "metadata": {},
   "outputs": [],
   "source": [
    "# the `index` component of the Series\n",
    "hdi_series.index"
   ]
  },
  {
   "cell_type": "code",
   "execution_count": null,
   "id": "b3457f44",
   "metadata": {},
   "outputs": [],
   "source": [
    "# the `name` component (currently is None)\n",
    "hdi_series.name is None"
   ]
  },
  {
   "cell_type": "code",
   "execution_count": null,
   "id": "6bf5efff",
   "metadata": {},
   "outputs": [],
   "source": [
    "# the numpy array (aka `.values`) component of the Series\n",
    "hdi_series.values"
   ]
  },
  {
   "cell_type": "markdown",
   "id": "2a1b5345",
   "metadata": {},
   "source": [
    "Let's verify that we can use the Numpy methods we saw above. Predictably, these methods operate on the Numpy array component of the series (e.g. the `.values` attribute). \n",
    "\n",
    "First, let's look at the `shape`, `size` and `dtype`:"
   ]
  },
  {
   "cell_type": "code",
   "execution_count": null,
   "id": "9a31c210",
   "metadata": {},
   "outputs": [],
   "source": [
    "# show the `shape` of the `hdi_series`\n",
    "hdi_series.shape"
   ]
  },
  {
   "cell_type": "code",
   "execution_count": null,
   "id": "af8a79b6",
   "metadata": {},
   "outputs": [],
   "source": [
    "# show the `size` of the `hdi_series`\n",
    "hdi_series.size"
   ]
  },
  {
   "cell_type": "code",
   "execution_count": null,
   "id": "4cc6334c",
   "metadata": {},
   "outputs": [],
   "source": [
    "# show the `dtype` of the `hdi_series`\n",
    "hdi_series.dtype"
   ]
  },
  {
   "cell_type": "markdown",
   "id": "8faeac8e",
   "metadata": {},
   "source": [
    "Because a Series is nothing but a Numpy array plus some additional attributes/methods, these methods function on the Series in the exact same manner as they function on a Numpy array.\n",
    "\n",
    "This is the same for the statistical methods. Let's get the `.min()` and `.max()` values from the `hdi_series`."
   ]
  },
  {
   "cell_type": "code",
   "execution_count": null,
   "id": "d63dae76",
   "metadata": {},
   "outputs": [],
   "source": [
    "# min\n",
    "hdi_series.min()"
   ]
  },
  {
   "cell_type": "code",
   "execution_count": null,
   "id": "2c49c5f0",
   "metadata": {},
   "outputs": [],
   "source": [
    "# max\n",
    "hdi_series.max()"
   ]
  },
  {
   "cell_type": "markdown",
   "id": "ac94b2f4",
   "metadata": {},
   "source": [
    "These operations return the same values as when we call the method directly on the `hdis_array` (unsurprising, as each object contains the same data)!:"
   ]
  },
  {
   "cell_type": "code",
   "execution_count": null,
   "id": "13d37ee1",
   "metadata": {},
   "outputs": [],
   "source": [
    "# get the `max()` value from the `hdis_array`, for comparison\n",
    "hdis_array.max()"
   ]
  },
  {
   "cell_type": "markdown",
   "id": "13204773",
   "metadata": {},
   "source": [
    "Ok, so these methods are available with names that are familiar from Numpy.\n",
    "However, Pandas also introduces some additional methods.  You may want to\n",
    "compare the output of `dir()` for the `hdis_array` vs the `hdi_series` to see\n",
    "the overlap/differences - as the printout is messy, we will not show it again\n",
    "here.\n",
    "\n",
    "One very useful Series method is `.describe()`. This will give us a variety of\n",
    "statistics about the data in the `.values` array of the Series:"
   ]
  },
  {
   "cell_type": "code",
   "execution_count": null,
   "id": "77ad91fa",
   "metadata": {},
   "outputs": [],
   "source": [
    "# `.describe()` the `hdi_series`\n",
    "hdi_series.describe()"
   ]
  },
  {
   "cell_type": "markdown",
   "id": "c3daa8ea",
   "metadata": {},
   "source": [
    "Neat, an easy summary of the number of observations, the mean, the standard deviation around the mean, and then the range/interquartile range.\n",
    "\n",
    "Conversely, the `.value_counts()` method will count the occurrence of each *unique* value in the Series:"
   ]
  },
  {
   "cell_type": "code",
   "execution_count": null,
   "id": "a4c5e73f",
   "metadata": {},
   "outputs": [],
   "source": [
    "# use the `value_counts()` method\n",
    "hdi_series.value_counts()"
   ]
  },
  {
   "cell_type": "markdown",
   "id": "3426c921",
   "metadata": {},
   "source": [
    "These methods can also be applied to arrays containing categorical/string\n",
    "data:"
   ]
  },
  {
   "cell_type": "code",
   "execution_count": null,
   "id": "1e8d3f26",
   "metadata": {},
   "outputs": [],
   "source": [
    "# Constructing a Series containing categorical data\n",
    "country_names_series = pd.Series(country_names_array,\n",
    "                                 index=country_codes_array)\n",
    "\n",
    "country_names_series"
   ]
  },
  {
   "cell_type": "code",
   "execution_count": null,
   "id": "c1805418",
   "metadata": {},
   "outputs": [],
   "source": [
    "# .describe()\n",
    "country_names_series.describe()"
   ]
  },
  {
   "cell_type": "markdown",
   "id": "353866ae",
   "metadata": {},
   "source": [
    "Helpfully, Pandas has adjusted the `.describe()` summary in light of the\n",
    "`values` array of the `country_names_series` containing categorical/string\n",
    "data.\n",
    "\n",
    "We now see summaries of the number of values, number of unique values etc,\n",
    "rather than numerical statistics like the mean and standard deviation.\n",
    "\n",
    "The `.value_counts()` method behaves the same as with numerical data, as both\n",
    "numbers and strings can be unique in an array:"
   ]
  },
  {
   "cell_type": "code",
   "execution_count": null,
   "id": "009b9878",
   "metadata": {},
   "outputs": [],
   "source": [
    "country_names_series.value_counts()"
   ]
  },
  {
   "cell_type": "markdown",
   "id": "b99b81c3",
   "metadata": {},
   "source": [
    "If we want to see the *unique* values only, regardless of the number of times each value occurs, we can use the `.unique()` method:"
   ]
  },
  {
   "cell_type": "code",
   "execution_count": null,
   "id": "c90528ee",
   "metadata": {},
   "outputs": [],
   "source": [
    "# show the unique values in the Series\n",
    "hdi_series.unique()"
   ]
  },
  {
   "cell_type": "code",
   "execution_count": null,
   "id": "d49bb82d",
   "metadata": {},
   "outputs": [],
   "source": [
    "# show the unique values in the Series\n",
    "country_names_series.unique()"
   ]
  },
  {
   "cell_type": "markdown",
   "id": "1c733620",
   "metadata": {},
   "source": [
    "## Pandas Data Frame attributes\n",
    "\n",
    "Now, remember again our other maxim that *A *Data Frame* is a dictionary-like collection of Series.*\n",
    "\n",
    "Because of this, we can use all the methods we have seen so far on any Data Frame column. Each column is a Series, and therefore contains a Numpy array as its `.values` attribute.\n",
    "\n",
    "However, Data Frames have some (useful!) extra methods (including statistical methods) not available for Series.\n",
    "\n",
    "First, let's import the [HDI/fertility rate data](https://ourworldindata.org/grapher/children-per-woman-vs-human-development-index):"
   ]
  },
  {
   "cell_type": "code",
   "execution_count": null,
   "id": "a9d8694a",
   "metadata": {},
   "outputs": [],
   "source": [
    "# import our dataset\n",
    "df = pd.read_csv(\"data/year_2000_hdi_fert.csv\")\n",
    "df"
   ]
  },
  {
   "cell_type": "markdown",
   "id": "6d9645d2",
   "metadata": {},
   "source": [
    "Although it is messy (and we did say we wouldn't use it again earlier...oops),\n",
    "we will use `dir()` on this Data Frame, to view all of the available\n",
    "attributes and methods:"
   ]
  },
  {
   "cell_type": "code",
   "execution_count": null,
   "id": "ba481248",
   "metadata": {},
   "outputs": [],
   "source": [
    "# show all available operations on the dataframe\n",
    "dir(df)"
   ]
  },
  {
   "cell_type": "markdown",
   "id": "c9939f88",
   "metadata": {},
   "source": [
    "If you peruse the list (again, ignoring the \"dunder\" entries), you'll notice that some of the methods are the same as for both Numpy arrays and Series. For instance, we can retrieve the `.shape` of the entire Data Frame:"
   ]
  },
  {
   "cell_type": "code",
   "execution_count": null,
   "id": "27f53fb8",
   "metadata": {},
   "outputs": [],
   "source": [
    "# get the shape attribute (n_rows, n_columns)\n",
    "df.shape"
   ]
  },
  {
   "cell_type": "markdown",
   "id": "f6368f89",
   "metadata": {},
   "source": [
    "We can also pull out an individual Series/column and view the `.shape` of that specific Series:"
   ]
  },
  {
   "cell_type": "code",
   "execution_count": null,
   "id": "6d7dd3a8",
   "metadata": {},
   "outputs": [],
   "source": [
    "# view the `shape` of a specific column\n",
    "df['Fertility Rate'].shape"
   ]
  },
  {
   "cell_type": "markdown",
   "id": "4f68027b",
   "metadata": {},
   "source": [
    "When accessed for the entire Data Frame, the `size` attribute works in the same way as we have seen for Numpy arrays and Pandas Series e.g. it will tell us the total number of *elements* in the entire Data Frame (e.g. the number of elements in the rows multiplied by the number of elements in the columns):"
   ]
  },
  {
   "cell_type": "code",
   "execution_count": null,
   "id": "5fb4d33e",
   "metadata": {},
   "outputs": [],
   "source": [
    "# show the `size` of the Data Frame\n",
    "df.size"
   ]
  },
  {
   "cell_type": "markdown",
   "id": "7382ab52",
   "metadata": {},
   "source": [
    "Once we've done these preliminary inspections and we know how many observations we have, in any data analysis context, we will always want to know what variables we have in the Data Frame columns, and (again) what type of data is in each.\n",
    "\n",
    "The `.columns` attribute will tell us the name of each column:"
   ]
  },
  {
   "cell_type": "code",
   "execution_count": null,
   "id": "68ff4998",
   "metadata": {},
   "outputs": [],
   "source": [
    "# show the column names\n",
    "df.columns"
   ]
  },
  {
   "cell_type": "markdown",
   "id": "8dcdd1f6",
   "metadata": {},
   "source": [
    "...and we can use the `.dtypes` attribute to quickly inspect the type of data in each column:"
   ]
  },
  {
   "cell_type": "code",
   "execution_count": null,
   "id": "cf3b81fa",
   "metadata": {},
   "outputs": [],
   "source": [
    "# show the dtype in each column\n",
    "df.dtypes"
   ]
  },
  {
   "cell_type": "markdown",
   "id": "8db53fd4",
   "metadata": {},
   "source": [
    "The `object` data type means that the column contains either mixed data or string data (in this case string data). The numeric data in this Data Frame is represented as a 64-bit float (`float64`).\n",
    "\n",
    "Now we know how much data we have, and what type of data it is. Currently, if\n",
    "we want to access a specific row of the Data Frame (remember, each row here is\n",
    "one country), we will have to navigate the default `RangeIndex`. We did not\n",
    "specify an index when we loaded in the Data Frame, so, as we learned\n",
    "previously, Pandas will automatically supply one:"
   ]
  },
  {
   "cell_type": "code",
   "execution_count": null,
   "id": "8b1f843d",
   "metadata": {},
   "outputs": [],
   "source": [
    "# show the index (currently (basically) 0 to 15)\n",
    "df.index"
   ]
  },
  {
   "cell_type": "markdown",
   "id": "df0e3545",
   "metadata": {},
   "source": [
    "We have [already discussed](0_1_to_loc_or_iloc.Rmd) the downsides of using the default index. As we have seen before, we can use the `.set_index()` method to choose a column containing values which we will use as index labels. We have come across Data Frame methods previously (`.sort_values()`) and will look at more in the next section. For now, just remember that these differ from *attributes* in that they are a *function attached to an object* rather than just a value/values attached to an object. Methods  often do something to the data rather than just report a value or set of values, like an attribute does.\n",
    "\n",
    "Let's set the `Code` column (containing the three-letter country codes) to be our index labels:"
   ]
  },
  {
   "cell_type": "code",
   "execution_count": null,
   "id": "09e93d1e",
   "metadata": {},
   "outputs": [],
   "source": [
    "# set the index as country name\n",
    "df = df.set_index(\"Code\")\n",
    "\n",
    "df"
   ]
  },
  {
   "cell_type": "markdown",
   "id": "c7b30b69",
   "metadata": {},
   "source": [
    "As expected, when we now view the `index` attribute, we see that the country codes are the values that populate the index:"
   ]
  },
  {
   "cell_type": "code",
   "execution_count": null,
   "id": "c45de1b7",
   "metadata": {},
   "outputs": [],
   "source": [
    "# show that the index is now country names\n",
    "df.index"
   ]
  },
  {
   "cell_type": "markdown",
   "id": "58c44790",
   "metadata": {},
   "source": [
    "...and we can use the now familiar (and less error-prone) label-based indexing to retrieve specific rows:"
   ]
  },
  {
   "cell_type": "code",
   "execution_count": null,
   "id": "6afe013a",
   "metadata": {},
   "outputs": [],
   "source": [
    "# remember what having the codes in the index lets us do\n",
    "df.loc[['USA', 'ITA']]"
   ]
  },
  {
   "cell_type": "markdown",
   "id": "6ecce0b4",
   "metadata": {},
   "source": [
    "## Pandas Data Frame methods\n",
    "\n",
    "The `.sort_values()` method we used on the [previous page](0_1_to_loc_or_iloc.Rmd) and the `set_index()` method we just used in the last section are just some of the many methods attached to Pandas Data Frames. We saw that many Numpy array methods are inherited by Pandas Series and this principle also applies to Data Frames, built as they are from Pandas Series.\n",
    "\n",
    "Other Pandas methods do similar things to some Numpy *functions* (e.g. as well as Numpy *methods*). For instance, should we want to see the unique values in a given column (e.g. Series), we can use the `.unique()` method on just that column:"
   ]
  },
  {
   "cell_type": "code",
   "execution_count": null,
   "id": "bf34f853",
   "metadata": {},
   "outputs": [],
   "source": [
    "# unique values in a given column\n",
    "df['Country Name'].unique()"
   ]
  },
  {
   "cell_type": "markdown",
   "id": "23425f7c",
   "metadata": {},
   "source": [
    "The `.unique()` Pandas method does the same thing as the `np.unique()` Numpy function, albeit more efficiently in terms of typing (and readability!):"
   ]
  },
  {
   "cell_type": "code",
   "execution_count": null,
   "id": "5b9948b1",
   "metadata": {},
   "outputs": [],
   "source": [
    "# the above cell is a more efficient version of this\n",
    "np.unique(df['Country Name'])"
   ]
  },
  {
   "cell_type": "markdown",
   "id": "a8132aa7",
   "metadata": {},
   "source": [
    "Other Data Frame methods will report information from the Data Frame *as a whole*, rather than just for a given column/Series.\n",
    "\n",
    "For instance, we can call the `.describe()` method on the whole Data Frame. We saw this method used on a single Series earlier. The same useful statistical summary is shown for every column when we use the method on the whole Data Frame:"
   ]
  },
  {
   "cell_type": "code",
   "execution_count": null,
   "id": "4fd481ab",
   "metadata": {},
   "outputs": [],
   "source": [
    "# describe numerical variables\n",
    "df.describe()"
   ]
  },
  {
   "cell_type": "markdown",
   "id": "9c4642d6",
   "metadata": {},
   "source": [
    "We can also use direct indexing to `describe` a specific subset of columns:"
   ]
  },
  {
   "cell_type": "code",
   "execution_count": null,
   "id": "b9c68cee",
   "metadata": {},
   "outputs": [],
   "source": [
    "# for categorical variables\n",
    "df[['Fertility Rate', 'Human Development Index']].describe()"
   ]
  },
  {
   "cell_type": "markdown",
   "id": "ece550b6",
   "metadata": {},
   "source": [
    "Because each Data Frame column is just a Pandas Series, all of the Series methods we saw above can be used on individual Series:"
   ]
  },
  {
   "cell_type": "code",
   "execution_count": null,
   "id": "70cf95a5",
   "metadata": {},
   "outputs": [],
   "source": [
    "# specific methods for specific statistics\n",
    "df['Fertility Rate'].min()"
   ]
  },
  {
   "cell_type": "code",
   "execution_count": null,
   "id": "7d60e493",
   "metadata": {},
   "outputs": [],
   "source": [
    "# specific methods for specific statistics\n",
    "df['Fertility Rate'].max()"
   ]
  },
  {
   "cell_type": "code",
   "execution_count": null,
   "id": "64070c4f",
   "metadata": {},
   "outputs": [],
   "source": [
    "# specific methods for specific statistics\n",
    "df['Fertility Rate'].std()"
   ]
  },
  {
   "cell_type": "code",
   "execution_count": null,
   "id": "479a5b0a",
   "metadata": {},
   "outputs": [],
   "source": [
    "# specific methods for specific statistics\n",
    "df['Fertility Rate'].mean()"
   ]
  },
  {
   "cell_type": "code",
   "execution_count": null,
   "id": "f6212258",
   "metadata": {},
   "outputs": [],
   "source": [
    "# value counts of a single variable\n",
    "df['Country Name'].value_counts()"
   ]
  },
  {
   "cell_type": "markdown",
   "id": "777bf296",
   "metadata": {},
   "source": [
    "By contrast, other methods, like `.sort_values()` take a column name as an argument, but have effects on the entire Data Frame.\n",
    "\n",
    "For instance, if we want to sort by `Human Development Index` scores:"
   ]
  },
  {
   "cell_type": "code",
   "execution_count": null,
   "id": "f6d8946a",
   "metadata": {},
   "outputs": [],
   "source": [
    "# sort values by HDI\n",
    "df.sort_values(by = 'Human Development Index')"
   ]
  },
  {
   "cell_type": "code",
   "execution_count": null,
   "id": "3db1dec2",
   "metadata": {},
   "outputs": [],
   "source": [
    "# sort values by HDI (the other way)\n",
    "df.sort_values(by = 'Human Development Index',\n",
    "               ascending=False) # `ascending=False` reverses the sorting order"
   ]
  },
  {
   "cell_type": "markdown",
   "id": "c299810a",
   "metadata": {},
   "source": [
    "We can also sort the index using `.sort_index()`, by default this will arrange the rows of the Data Frame in alphabetical order, if we are using string labels (numerical order if we are using the default `RangeIndex`):"
   ]
  },
  {
   "cell_type": "code",
   "execution_count": null,
   "id": "4a3a4397",
   "metadata": {},
   "outputs": [],
   "source": [
    "# sort index (in alphabetical order)\n",
    "df.sort_index()"
   ]
  },
  {
   "cell_type": "code",
   "execution_count": null,
   "id": "135f1cb4",
   "metadata": {},
   "outputs": [],
   "source": [
    "# sort index (reverse alphabetical order)\n",
    "df.sort_index(ascending=False)"
   ]
  },
  {
   "cell_type": "markdown",
   "id": "e3cd44f7",
   "metadata": {},
   "source": [
    "Another useful method, which is very powerful in tandem with label-based indexing, is `.drop()`. This lets use specify using index labels rows which we want to remove from the Data Frame. For instance, if we want to remove the data for Australia we can use:"
   ]
  },
  {
   "cell_type": "code",
   "execution_count": null,
   "id": "d28675ec",
   "metadata": {},
   "outputs": [],
   "source": [
    "# drop the 'AUS' row\n",
    "df.drop(labels='AUS')"
   ]
  },
  {
   "cell_type": "markdown",
   "id": "e259ef27",
   "metadata": {},
   "source": [
    "If you compare this to the output from the last cell you will see that, as if by magic, the row for `AUS` has disappeared.\n",
    "\n",
    "\n",
    "### Methods for getting subsets of data from a Data Frame\n",
    "\n",
    "Another common operation we may want to perform is to view only the start (e.g. the `.head`) or the end (e.g. the `.tail`) of a Data Frame. For instance, if the rows are organized by time, amongst many other reasons.\n",
    "\n",
    "We could just use the `.iloc` method to do this. For example, to view the first three rows of the Data Frame we can use:"
   ]
  },
  {
   "cell_type": "code",
   "execution_count": null,
   "id": "21d68d54",
   "metadata": {},
   "outputs": [],
   "source": [
    "# view the first three rows of the Data Frame, using `.iloc`\n",
    "df.iloc[:3]"
   ]
  },
  {
   "cell_type": "markdown",
   "id": "08289a4c",
   "metadata": {},
   "source": [
    "Or, alternatively, to view the last three rows:"
   ]
  },
  {
   "cell_type": "code",
   "execution_count": null,
   "id": "543f79a7",
   "metadata": {},
   "outputs": [],
   "source": [
    "# view the last three rows of the Data Frame, using `.iloc`\n",
    "df.iloc[-3:]"
   ]
  },
  {
   "cell_type": "markdown",
   "id": "186e356c",
   "metadata": {},
   "source": [
    "However, the kind folks at Pandas, because these operations are so commonly desired, have provided us the `.head()` and `.tail()` methods to do the same thing, with less typing and better readability.\n",
    "\n",
    "For example, we just give the `.head()` method the number of rows from the start of the Data Frame which we want to view. Let's say, again, we want to view the first three rows:"
   ]
  },
  {
   "cell_type": "code",
   "execution_count": null,
   "id": "27fd8b54",
   "metadata": {},
   "outputs": [],
   "source": [
    "# view the first three rows of the Data Frame, using `.head()`\n",
    "df.head(3)"
   ]
  },
  {
   "cell_type": "markdown",
   "id": "236f70de",
   "metadata": {},
   "source": [
    "We can also do the same thing at the other end of the Data Frame, using the `.tail()` method:"
   ]
  },
  {
   "cell_type": "code",
   "execution_count": null,
   "id": "bc10286c",
   "metadata": {},
   "outputs": [],
   "source": [
    "# view the last three rows of the Data Frame, using `.tail()`\n",
    "df.tail(3)"
   ]
  },
  {
   "cell_type": "markdown",
   "id": "fbb666d2",
   "metadata": {},
   "source": [
    "In addition to retrieving rows from the extremes of the Data Frame, we may also, for many different purposes, want to retrieve a *random* set of rows.\n",
    "\n",
    "We can do this using the `.sample()` method. The syntax here is just the same as for `.head()` and `.tail()`, only now we are specifying the *number of random rows* we want to grab from the Data Frame.\n",
    "\n",
    "For instance, if let's say we want to get three random rows:"
   ]
  },
  {
   "cell_type": "code",
   "execution_count": null,
   "id": "71a1a6df",
   "metadata": {},
   "outputs": [],
   "source": [
    "# grab three rows at random using `.sample()`\n",
    "df.sample(3)"
   ]
  },
  {
   "cell_type": "markdown",
   "id": "f04e0f1e",
   "metadata": {},
   "source": [
    "Even using the small dataset we have here, the overwhelming probability is that we will get a different selection of rows each time we run this command:"
   ]
  },
  {
   "cell_type": "code",
   "execution_count": null,
   "id": "3f49f8a4",
   "metadata": {},
   "outputs": [],
   "source": [
    "# grab three rows at random AGAIN using `.sample()`\n",
    "df.sample(3)"
   ]
  },
  {
   "cell_type": "markdown",
   "id": "966599ce",
   "metadata": {},
   "source": [
    "If you are running this tutorial interactively, re-run the cell above a few times to see randomness in action..."
   ]
  },
  {
   "cell_type": "markdown",
   "id": "89af8c93",
   "metadata": {},
   "source": [
    "## Plotting Methods\n",
    "\n",
    "The Data Frame plotting *methods* that we have seen on the previous pages actually also apply to Series.\n",
    "\n",
    "When working with a Series, it makes most sense most of the time to use the `kind = 'hist'` argument to inspect the distribution of the data in that Series:"
   ]
  },
  {
   "cell_type": "code",
   "execution_count": null,
   "id": "c4df8516",
   "metadata": {},
   "outputs": [],
   "source": [
    "hdi_series.plot(kind='hist');"
   ]
  },
  {
   "cell_type": "markdown",
   "id": "00cc842a",
   "metadata": {},
   "source": [
    "Other kinds of plot require bivariate data, and so can only be used with Data Frames:"
   ]
  },
  {
   "cell_type": "code",
   "execution_count": null,
   "id": "f331fa9e",
   "metadata": {
    "tags": [
     "raises-exception"
    ]
   },
   "outputs": [],
   "source": [
    "# A ValueError from trying to scatter plot a Series\n",
    "hdi_series.plot(kind='scatter')"
   ]
  },
  {
   "cell_type": "code",
   "execution_count": null,
   "id": "051d0a1a",
   "metadata": {},
   "outputs": [],
   "source": [
    "# show a scatter plot\n",
    "df.plot(x = 'Human Development Index',\n",
    "        y = 'Fertility Rate',\n",
    "        kind = 'scatter');"
   ]
  },
  {
   "cell_type": "markdown",
   "id": "3e1e8247",
   "metadata": {},
   "source": [
    "## A note on numerical operations\n",
    "\n",
    "Any numerical operations performed on the Data Frame *as a whole* will be default be performed on the `values` in the Series that make up each column.\n",
    "\n",
    "So, if we want to do something weird/stupid like multiplying the entire Data Frame by a single number, this operation will be performed separately on each element in the Data Frame:"
   ]
  },
  {
   "cell_type": "code",
   "execution_count": null,
   "id": "26fc2e24",
   "metadata": {},
   "outputs": [],
   "source": [
    "# do not do this \n",
    "df * 200"
   ]
  },
  {
   "cell_type": "markdown",
   "id": "9ae29710",
   "metadata": {},
   "source": [
    "More sensibly, we will most likely want to perform numerical operations on specific columns. We may want to standardize the values relative to a mean of 0 and standard deviation of 1, for instance.\n",
    "\n",
    "Pandas methods can be used to perform this computation, and again, the operation will be performed on each element in the `values` array of the specific Series/column that we grab.\n",
    "\n",
    "For instance, to subtract the mean value from every element in the `.values` array we can use:"
   ]
  },
  {
   "cell_type": "code",
   "execution_count": null,
   "id": "b6c667bb",
   "metadata": {},
   "outputs": [],
   "source": [
    "# subtract the mean from every element in the Series\n",
    "df['Population'] - df['Population'].mean()"
   ]
  },
  {
   "cell_type": "markdown",
   "id": "c044f16e",
   "metadata": {},
   "source": [
    "We can perform the full z-score standardization using the code in the cell below. Note that `df['Population'].mean()` and `df['Population'].std()` both return single values. Each of these values is used in the same way on every element in the `Population` column:"
   ]
  },
  {
   "cell_type": "code",
   "execution_count": null,
   "id": "e3b875a1",
   "metadata": {},
   "outputs": [],
   "source": [
    "# standardize the `Population` scores\n",
    "df['Population_z'] = (df['Population'] - df['Population'].mean())/df['Population'].std()\n",
    "\n",
    "df"
   ]
  },
  {
   "cell_type": "markdown",
   "id": "e2d665d2",
   "metadata": {},
   "source": [
    "Because this feature (numerical operations performed on each element) is shared across all Pandas Series, and we are using Pandas methods, we can write a function which will compute the z-scores for any column containing numerical data: "
   ]
  },
  {
   "cell_type": "code",
   "execution_count": null,
   "id": "8675a92c",
   "metadata": {},
   "outputs": [],
   "source": [
    "# Define a function to calculate the z-scores for a numeric Series.\n",
    "def get_z(in_series):\n",
    "    \"\"\" Returns a Series containing the z-score of each element of `in_series`.\n",
    "    \"\"\"\n",
    "    # Formula for Z-score.\n",
    "    return (in_series - in_series.mean()) / in_series.std()"
   ]
  },
  {
   "cell_type": "code",
   "execution_count": null,
   "id": "b9c55ba9",
   "metadata": {},
   "outputs": [],
   "source": [
    "# test our function\n",
    "get_z(df['Human Development Index'])"
   ]
  },
  {
   "cell_type": "markdown",
   "id": "7f83d615",
   "metadata": {},
   "source": [
    "Again, each numerical operation that the function performs has been performed on every element of the `.values` array of the Data Frame column `Human Development Index`.\n",
    "\n",
    "Let's add this new standardized data to the Data Frame, and plot it using the now familiar `.plot()` method:"
   ]
  },
  {
   "cell_type": "code",
   "execution_count": null,
   "id": "d45dd7f4",
   "metadata": {},
   "outputs": [],
   "source": [
    "# Add standard scores for HDI\n",
    "df['HDI_z'] = df['Human Development Index']\n",
    "df"
   ]
  },
  {
   "cell_type": "code",
   "execution_count": null,
   "id": "5c7001e7",
   "metadata": {},
   "outputs": [],
   "source": [
    "# Plot the standardized variables\n",
    "df.plot(kind='scatter',\n",
    "        x='Population_z',\n",
    "        y='HDI_z');"
   ]
  },
  {
   "cell_type": "markdown",
   "id": "0d4ebacc",
   "metadata": {},
   "source": [
    "We can see from this procedure that we have two bivariate outliers, with respect to `Population` and `HDI`.\n",
    "\n",
    "This dataset is small enough that we can see that these values correspond to India and China..."
   ]
  },
  {
   "cell_type": "code",
   "execution_count": null,
   "id": "844cf1f2",
   "metadata": {},
   "outputs": [],
   "source": [
    "# inspect the `Population_z` column to identify the outliers\n",
    "df['Population_z']"
   ]
  },
  {
   "cell_type": "markdown",
   "id": "7ac6e44b",
   "metadata": {},
   "source": [
    "...but for a larger dataset we could find them using [Boolean filtering - a topic we will come to in a later page](0_5_filtering_data_with_pandas.Rmd)."
   ]
  },
  {
   "cell_type": "markdown",
   "id": "f788d1f6",
   "metadata": {},
   "source": [
    "## Summary\n",
    "\n",
    "On this page we have further explored the idea that Pandas Data Frames, Pandas\n",
    "Series and Numpy arrays have a nested structure.\n",
    "\n",
    "Data Frames are *dictionary-like collections of Series*. Series are a combination of a Numpy array (`.values`) with other attributes (`name` and `index`). As a result, many methods we can use on a Series are similar to those available from Numpy arrays, and many Data Frame methods are likewise inherited from the Pandas Series that constitute the Data Frame."
   ]
  }
 ],
 "metadata": {
  "jupytext": {
   "formats": "ipynb,Rmd"
  },
  "kernelspec": {
   "display_name": "Python (Pyodide)",
   "name": "python"
  }
 },
 "nbformat": 4,
 "nbformat_minor": 5
}
