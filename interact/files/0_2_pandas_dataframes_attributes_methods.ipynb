{
 "cells": [
  {
   "cell_type": "markdown",
   "id": "b22cd9da",
   "metadata": {},
   "source": [
    "# Pandas DataFrames: Attributes and Methods\n",
    "\n",
    "<!---\n",
    "📝 NOTE-  Covered here:\n",
    "\n",
    "Columns in a dataframe  can be of different dtypes\n",
    "* Operations are on columns by default (describe, sum, min, max)\n",
    "* attributes of df (shape, dtypes columns, index)\n",
    "* methods of df (unique, describe, counts, value_counts, min, max, std, sort_values, sort_index)\n",
    "\n",
    "Structure of page:\n",
    "\n",
    "* show all relevant methods/attributes of numpy arrays\n",
    "\n",
    "* reinforce that \"Series = array + index + name\". Then show relevant methods/attributes of Series.\n",
    "\n",
    "* reinforce that \"DataFrame = dictionary-like collection of Series\". Then show all relevant methods/attributes of DataFrames.\n",
    "-->\n",
    "\n",
    "On the [previous](0_0_pandas_intro.Rmd) [pages](0_1_to_loc_or_iloc.Rmd) we have seen how Pandas Series are constructed by combining numpy arrays (the `.values` attribute of a Series) with other attributes (a `.name` string and and array-like `.index`). We have then examined how Pandas Data Frames are built from a collection of Series, in a dictionary-like structure.\n",
    "\n",
    "This page will dive deeper into Data Frames. Once we have constructed our Data Frame, Pandas provides many useful methods for cleaning, aggregating, plotting and (subsequently) analysing our data.\n",
    "\n",
    "We will begin by showing that Pandas Series and Data Frames inherit many of their methods from the Numpy arrays that they are in part constructed from, though the methods are adapted to work in the context of Pandas objects.\n",
    "\n",
    "## More Pandas from Numpy\n",
    "\n",
    "Let's examine some of the methods we can use on numpy arrays.\n",
    "\n",
    "Remember, a *method* is a function attached to an object. \n",
    "\n",
    "In this case, our object is a Numpy array (later it will be a Pandas Series or Data Frame).\n",
    "\n",
    "We'll build a numpy array using the `np.array([])` constructor, containing our familiar three-letter country codes. As before, you can see the [Our World in Data page](https://ourworldindata.org/grapher/children-per-woman-vs-human-development-index) for more detail:"
   ]
  },
  {
   "cell_type": "code",
   "execution_count": null,
   "id": "337e6840",
   "metadata": {},
   "outputs": [],
   "source": [
    "# import libraries\n",
    "import numpy as np\n",
    "import pandas as pd\n",
    "\n",
    "# standard three-letter code for each country\n",
    "country_codes_array = np.array(['AUS', 'BRA', 'CAN',\n",
    "                          'CHN', 'DEU', 'ESP',\n",
    "                          'FRA', 'GBR', 'IND',\n",
    "                          'ITA', 'JPN', 'KOR',\n",
    "                          'MEX', 'RUS', 'USA'])\n",
    "country_codes_array"
   ]
  },
  {
   "cell_type": "markdown",
   "id": "ad676c71",
   "metadata": {},
   "source": [
    "And another array containing the Human Development Index scores for each of the countries:"
   ]
  },
  {
   "cell_type": "code",
   "execution_count": null,
   "id": "92ed7cee",
   "metadata": {},
   "outputs": [],
   "source": [
    "# Human Development Index Scores for each country\n",
    "hdis_array = np.array([0.896, 0.668, 0.89 , 0.586, \n",
    "                 0.844, 0.89 , 0.49 , 0.842, \n",
    "                 0.883, 0.709, 0.733, 0.824,\n",
    "                 0.828, 0.863, 0.894])\n",
    "\n",
    "hdis_array"
   ]
  },
  {
   "cell_type": "markdown",
   "id": "6480ac04",
   "metadata": {},
   "source": [
    "And for good measure, another array containing the full country names:"
   ]
  },
  {
   "cell_type": "code",
   "execution_count": null,
   "id": "37a21533",
   "metadata": {},
   "outputs": [],
   "source": [
    "# country names array\n",
    "country_names_array = np.array(['Australia', 'Brazil', 'Canada',\n",
    "                          'China', 'Germany', 'Spain',\n",
    "                          'France', 'United Kingdom', 'India',\n",
    "                          'Italy', 'Japan', 'South Korea',\n",
    "                          'Mexico', 'Russia', 'United States'])\n",
    "country_names_array"
   ]
  },
  {
   "cell_type": "markdown",
   "id": "b0068548",
   "metadata": {},
   "source": [
    "When dealing with any object in python, it can be useful to use the in-built python `dir()` function. This shows every attribute and method that we can access/call from the object, though the printout it produces is messy:"
   ]
  },
  {
   "cell_type": "code",
   "execution_count": null,
   "id": "330ae620",
   "metadata": {},
   "outputs": [],
   "source": [
    "# show all available attributes/methods\n",
    "dir(hdis_array)"
   ]
  },
  {
   "cell_type": "markdown",
   "id": "0e70892f",
   "metadata": {},
   "source": [
    "For now we will ignore the elements in the printout that contain `__` - these are called \"dunders\", which is short for \"double underscore\"; they are not the attributes and methods in which we are currently interested.\n",
    "\n",
    "Ignoring the dunders, we can see a large number of attributes and methods that we can access from this or any other Numpy array.\n",
    "\n",
    "One of these attributes is called `shape`. We will almost always want to know the `shape` of our data, as it tells us how many observations we have.\n",
    "\n",
    "Let's take a look at the `.shape` attribute:"
   ]
  },
  {
   "cell_type": "code",
   "execution_count": null,
   "id": "72ee635a",
   "metadata": {},
   "outputs": [],
   "source": [
    "# shape\n",
    "hdis_array.shape"
   ]
  },
  {
   "cell_type": "markdown",
   "id": "c92c9311",
   "metadata": {},
   "source": [
    "We can read this output as \"15 elements in one row\". By contrast, let's look at an array with more than one dimension:"
   ]
  },
  {
   "cell_type": "code",
   "execution_count": null,
   "id": "448025af",
   "metadata": {},
   "outputs": [],
   "source": [
    "# arrays with more dimensions\n",
    "zeros_array = np.zeros([2, 2])\n",
    "zeros_array"
   ]
  },
  {
   "cell_type": "markdown",
   "id": "a773ab69",
   "metadata": {},
   "source": [
    "This array - which in mathematical terms is a *matrix* - has the following shape:"
   ]
  },
  {
   "cell_type": "code",
   "execution_count": null,
   "id": "50293ca0",
   "metadata": {},
   "outputs": [],
   "source": [
    "# arrays with more dimensions\n",
    "zeros_array.shape"
   ]
  },
  {
   "cell_type": "markdown",
   "id": "4576142b",
   "metadata": {},
   "source": [
    "We an read this as \"2 rows and 2 columns\" (which equates to 4 elements).\n",
    "\n",
    "If we want to count the number of individual elements in an array (across all dimensions) we can use the `.size` attribute:"
   ]
  },
  {
   "cell_type": "code",
   "execution_count": null,
   "id": "0dcb7722",
   "metadata": {},
   "outputs": [],
   "source": [
    "# how many elements in the (15, ) `hdi` array?\n",
    "hdis_array.size"
   ]
  },
  {
   "cell_type": "code",
   "execution_count": null,
   "id": "714bb8c9",
   "metadata": {},
   "outputs": [],
   "source": [
    "# how many elements in the (2, 2) `zeros_array`?\n",
    "zeros_array.size"
   ]
  },
  {
   "cell_type": "markdown",
   "id": "c57634e3",
   "metadata": {},
   "source": [
    "Predictably, both of these attributes can be accessed for arrays of any dimensionality:"
   ]
  },
  {
   "cell_type": "code",
   "execution_count": null,
   "id": "412bafcc",
   "metadata": {},
   "outputs": [],
   "source": [
    "# an array with more dimensions\n",
    "two_rows_ten_columns_array = np.zeros([2, 10])\n",
    "two_rows_ten_columns_array"
   ]
  },
  {
   "cell_type": "code",
   "execution_count": null,
   "id": "280de62b",
   "metadata": {},
   "outputs": [],
   "source": [
    "# arrays with more dimensions\n",
    "two_rows_ten_columns_array.shape"
   ]
  },
  {
   "cell_type": "code",
   "execution_count": null,
   "id": "abd3a817",
   "metadata": {},
   "outputs": [],
   "source": [
    "# the number of elements in the `two_rows_ten_columns` array?\n",
    "two_rows_ten_columns_array.size"
   ]
  },
  {
   "cell_type": "markdown",
   "id": "4a03159c",
   "metadata": {},
   "source": [
    "We always also want to know what type of data is in our array, as it will affect what graphs we can create and what analyses we can perform. Are we dealing with numbers or text, for instance? \n",
    "\n",
    "To access this information, we can view the `dtype` attribute. \n",
    "\n",
    "Let's look at the `dtype` for the `country_codes` array:"
   ]
  },
  {
   "cell_type": "code",
   "execution_count": null,
   "id": "17c9a86b",
   "metadata": {},
   "outputs": [],
   "source": [
    "# dtype\n",
    "country_codes_array.dtype"
   ]
  },
  {
   "cell_type": "markdown",
   "id": "6546fbb9",
   "metadata": {},
   "source": [
    "The `dtype` attribute here is just telling us that this is string data. For an explanation of the meaning, see the image below.\n",
    "\n",
    "![](images/numpy_string_dtypes.JPG)"
   ]
  },
  {
   "cell_type": "markdown",
   "id": "bc1f74c4",
   "metadata": {},
   "source": [
    "Let's look at the `dtype` of the `hdis_array`:"
   ]
  },
  {
   "cell_type": "code",
   "execution_count": null,
   "id": "ec446fd3",
   "metadata": {},
   "outputs": [],
   "source": [
    "# dtype (again)\n",
    "hdis_array.dtype"
   ]
  },
  {
   "cell_type": "markdown",
   "id": "1193f46f",
   "metadata": {},
   "source": [
    "For this array, the `dtype` tells us that we are dealing with numerical data - specifically float data represented with 64 bits."
   ]
  },
  {
   "cell_type": "markdown",
   "id": "153fd753",
   "metadata": {},
   "source": [
    "### Statistical Attributes of Numpy arrays\n",
    "\n",
    "Numpy also provides a variety of what we can call \"statistical attributes\" which tell us statistics about the data inside the array. As with the methods we looked at in the previous section, Pandas inherits many of these methods, as we will see later in the page.\n",
    "\n",
    "Let's again look at the `hdis_array`, which contains the HDI score of each country. "
   ]
  },
  {
   "cell_type": "code",
   "execution_count": null,
   "id": "857c8cd1",
   "metadata": {},
   "outputs": [],
   "source": [
    "hdis_array"
   ]
  },
  {
   "cell_type": "markdown",
   "id": "46b16416",
   "metadata": {},
   "source": [
    "We can use the `.min()` method to view the minimum (smallest) value in the array."
   ]
  },
  {
   "cell_type": "code",
   "execution_count": null,
   "id": "aae0f914",
   "metadata": {},
   "outputs": [],
   "source": [
    "# min\n",
    "hdis_array.min()"
   ]
  },
  {
   "cell_type": "markdown",
   "id": "f53f728d",
   "metadata": {},
   "source": [
    "Likewise, we can view the maximum (largest) value in the array using `.max()`:"
   ]
  },
  {
   "cell_type": "code",
   "execution_count": null,
   "id": "0bf903b8",
   "metadata": {},
   "outputs": [],
   "source": [
    "# max\n",
    "hdis_array.max()"
   ]
  },
  {
   "cell_type": "markdown",
   "id": "9866f6ba",
   "metadata": {},
   "source": [
    "Other routine statistics, like the mean and standard deviation, can be accessed using the `.mean()` and `.std()` methods, respectively:"
   ]
  },
  {
   "cell_type": "code",
   "execution_count": null,
   "id": "d71b3d5f",
   "metadata": {},
   "outputs": [],
   "source": [
    "# mean\n",
    "hdis_array.mean()"
   ]
  },
  {
   "cell_type": "code",
   "execution_count": null,
   "id": "bb1a05df",
   "metadata": {},
   "outputs": [],
   "source": [
    "# std\n",
    "hdis_array.std()"
   ]
  },
  {
   "cell_type": "markdown",
   "id": "7078eb41",
   "metadata": {},
   "source": [
    "Numpy arrays also let us sort the data within the array in ascending or descending order (ascending is the default). To do this, we can use the `.sort()` method:"
   ]
  },
  {
   "cell_type": "code",
   "execution_count": null,
   "id": "06378735",
   "metadata": {},
   "outputs": [],
   "source": [
    "# sorting the `hdis_array`\n",
    "hdis_array.sort()"
   ]
  },
  {
   "cell_type": "markdown",
   "id": "e978d199",
   "metadata": {},
   "source": [
    "Hmmm, that is strange, there was no output from the cell. This is because a quirk of the `.sort()` method is that it operates \"in place\". Sure enough, if we check the `hdis_array`, the data has been sorted in ascending order:"
   ]
  },
  {
   "cell_type": "code",
   "execution_count": null,
   "id": "facb7001",
   "metadata": {},
   "outputs": [],
   "source": [
    "hdis_array"
   ]
  },
  {
   "cell_type": "markdown",
   "id": "7215603d",
   "metadata": {},
   "source": [
    "## Pandas Series attributes and methods\n",
    "\n",
    "Remember our maxim that *\"a Pandas Series is a numpy array, plus a `name` attribute and an array-like `index`\"*?\n",
    "\n",
    "We will see that because of this, we can use many of the same methods we have just seen for Numpy arrays on Pandas Series.\n",
    "\n",
    "Let's make a series from the HDI scores, called `hdi_series`. We do this using the now familiar `pd.Series()` constructor. Again, we will use the `country_codes` array as an index:"
   ]
  },
  {
   "cell_type": "code",
   "execution_count": null,
   "id": "a9db30c2",
   "metadata": {},
   "outputs": [],
   "source": [
    "# show again from Series, then show for df below\n",
    "hdi_series =  pd.Series(hdis_array, \n",
    "                        index=country_codes_array)\n",
    "\n",
    "hdi_series"
   ]
  },
  {
   "cell_type": "markdown",
   "id": "eeb702d0",
   "metadata": {},
   "source": [
    "As we know, we can view the `index`, `name` and `values` attributes of the Series using the familiar accessors:"
   ]
  },
  {
   "cell_type": "code",
   "execution_count": null,
   "id": "04d06cba",
   "metadata": {},
   "outputs": [],
   "source": [
    "# the `index` component of the Series\n",
    "hdi_series.index"
   ]
  },
  {
   "cell_type": "code",
   "execution_count": null,
   "id": "912e9a8e",
   "metadata": {},
   "outputs": [],
   "source": [
    "# the `name` component (currently is None)\n",
    "hdi_series.name is None"
   ]
  },
  {
   "cell_type": "code",
   "execution_count": null,
   "id": "473928d3",
   "metadata": {},
   "outputs": [],
   "source": [
    "# the numpy array (aka `.values`) component of the Series\n",
    "hdi_series.values"
   ]
  },
  {
   "cell_type": "markdown",
   "id": "045811d3",
   "metadata": {},
   "source": [
    "Let's verify that we can use the Numpy methods we saw above. Predictably, these methods operate on the Numpy array component of the series (e.g. the `.values` attribute). \n",
    "\n",
    "First, let's look at the `shape`, `size` and `dtype`:"
   ]
  },
  {
   "cell_type": "code",
   "execution_count": null,
   "id": "72b7ff44",
   "metadata": {},
   "outputs": [],
   "source": [
    "# show the `shape` of the `hdi_series`\n",
    "hdi_series.shape"
   ]
  },
  {
   "cell_type": "code",
   "execution_count": null,
   "id": "3ccd850c",
   "metadata": {},
   "outputs": [],
   "source": [
    "# show the `size` of the `hdi_series`\n",
    "hdi_series.size"
   ]
  },
  {
   "cell_type": "code",
   "execution_count": null,
   "id": "44372f8f",
   "metadata": {},
   "outputs": [],
   "source": [
    "# show the `dtype` of the `hdi_series`\n",
    "hdi_series.dtype"
   ]
  },
  {
   "cell_type": "markdown",
   "id": "fb0a1c8e",
   "metadata": {},
   "source": [
    "Because a Series is nothing but a Numpy array plus some additional attributes/methods, these methods function on the Series in the exact same manner as they function on a Numpy array.\n",
    "\n",
    "This is the same for the statistical methods. Let's get the `.min()` and `.max()` values from the `hdi_series`."
   ]
  },
  {
   "cell_type": "code",
   "execution_count": null,
   "id": "a89b62b2",
   "metadata": {},
   "outputs": [],
   "source": [
    "# min\n",
    "hdi_series.min()"
   ]
  },
  {
   "cell_type": "code",
   "execution_count": null,
   "id": "c4b2d4b4",
   "metadata": {},
   "outputs": [],
   "source": [
    "# max\n",
    "hdi_series.max()"
   ]
  },
  {
   "cell_type": "markdown",
   "id": "e0bc4f2c",
   "metadata": {},
   "source": [
    "These operations return the same values as when we call the method directly on the `hdis_array` (unsurprising, as each object contains the same data)!:"
   ]
  },
  {
   "cell_type": "code",
   "execution_count": null,
   "id": "3c3ae1e8",
   "metadata": {},
   "outputs": [],
   "source": [
    "# get the `max()` value from the `hdis_array`, for comparison\n",
    "hdis_array.max()"
   ]
  },
  {
   "cell_type": "markdown",
   "id": "7b017811",
   "metadata": {},
   "source": [
    "Ok, so these familiar Numpy methods are available. However, Pandas also introduces some additional methods (you may want to compare the output of `dir()` for the `hdis_array` vs the `hdi_series` to see the overlap/differences - as the printout is messy, we will not show it again here).\n",
    "\n",
    "One very useful Series method is `.describe()`. This will give us a variety of statistics about the data in the `.values` array of the Series:"
   ]
  },
  {
   "cell_type": "code",
   "execution_count": null,
   "id": "05b3817e",
   "metadata": {},
   "outputs": [],
   "source": [
    "# `.describe()` the `hdi_series`\n",
    "hdi_series.describe()"
   ]
  },
  {
   "cell_type": "markdown",
   "id": "0c54ac7c",
   "metadata": {},
   "source": [
    "Neat, an easy summary of the number of observations, the mean, the standard deviation around the mean, and then the range/interquartile range.\n",
    "\n",
    "Conversely, the `.value_counts()` method will count the occurrence of each *unique* value in the Series:"
   ]
  },
  {
   "cell_type": "code",
   "execution_count": null,
   "id": "f6265712",
   "metadata": {},
   "outputs": [],
   "source": [
    "# use the `value_counts()` method\n",
    "hdi_series.value_counts()"
   ]
  },
  {
   "cell_type": "markdown",
   "id": "693f1c26",
   "metadata": {},
   "source": [
    "These methods can also be applied to arrays containing categorical/string data:"
   ]
  },
  {
   "cell_type": "code",
   "execution_count": null,
   "id": "d902c332",
   "metadata": {},
   "outputs": [],
   "source": [
    "# constructing a Series containing categorical data\n",
    "country_names_series = pd.Series(country_names_array,\n",
    "                                 index=country_codes_array)\n",
    "\n",
    "country_names_series"
   ]
  },
  {
   "cell_type": "code",
   "execution_count": null,
   "id": "498e2e08",
   "metadata": {},
   "outputs": [],
   "source": [
    "# .describe()\n",
    "country_names_series.describe()"
   ]
  },
  {
   "cell_type": "markdown",
   "id": "bb4b8919",
   "metadata": {},
   "source": [
    "Helpfully, Pandas has adjusted the `.describe()` summary in light of the `values` array of the `country_names_series` containing categorical/string data.\n",
    "\n",
    "We now see summaries of the number values, number of unique values etc, rather than numerical statistics like the mean and standard deviation.\n",
    "\n",
    "The `.value_counts()` method behaves the same as with numerical data, as both numbers and strings can be unique in an array:"
   ]
  },
  {
   "cell_type": "code",
   "execution_count": null,
   "id": "a188cdd0",
   "metadata": {},
   "outputs": [],
   "source": [
    "country_names_series.value_counts()"
   ]
  },
  {
   "cell_type": "markdown",
   "id": "3f0068ba",
   "metadata": {},
   "source": [
    "If we want to see the *unique* values only, regardless of the number of times each value occurs, we can use the `.unique()` method:"
   ]
  },
  {
   "cell_type": "code",
   "execution_count": null,
   "id": "9696fdf3",
   "metadata": {},
   "outputs": [],
   "source": [
    "# show the unique values in the Series\n",
    "hdi_series.unique()"
   ]
  },
  {
   "cell_type": "code",
   "execution_count": null,
   "id": "13184f64",
   "metadata": {},
   "outputs": [],
   "source": [
    "# show the unique values in the Series\n",
    "country_names_series.unique()"
   ]
  },
  {
   "cell_type": "markdown",
   "id": "d12170c7",
   "metadata": {},
   "source": [
    "## Pandas DataFrame attributes\n",
    "\n",
    "Now, remember again our other maxim that *\"a Pandas DataFrame is just a *dictionary-like collection of Series\"*? \n",
    "\n",
    "Because of this, we can use all the methods we have seen so far on any Data Frame column. Each column is a Series, and therefore contains a Numpy array as it's `.values` attribute.\n",
    "\n",
    "However, Data Frames have some (useful!) extra methods (including statistical methods) not available for Series.\n",
    "\n",
    "First, let's import the [HDI/fertility rate data](https://ourworldindata.org/grapher/children-per-woman-vs-human-development-index):"
   ]
  },
  {
   "cell_type": "code",
   "execution_count": null,
   "id": "b2dd5ca6",
   "metadata": {},
   "outputs": [],
   "source": [
    "# import our dataset\n",
    "df = pd.read_csv(\"data/year_2000_hdi_fert.csv\")\n",
    "\n",
    "df"
   ]
  },
  {
   "cell_type": "markdown",
   "id": "ed85ff19",
   "metadata": {},
   "source": [
    "Although it is messy (and we did say we wouldn't use it again earlier...oops), we will use `dir()` on this Data Frame, to view all of the available attributes and methods:"
   ]
  },
  {
   "cell_type": "code",
   "execution_count": null,
   "id": "ce53ce93",
   "metadata": {},
   "outputs": [],
   "source": [
    "# show all available operations on the dataframe\n",
    "dir(df)"
   ]
  },
  {
   "cell_type": "markdown",
   "id": "a2857d61",
   "metadata": {},
   "source": [
    "If you peruse the list (again, ignoring the \"dunder\" entries), you'll notice that some of the methods are the same as for both Numpy arrays and Series. For instance, we can retrieve the `.shape` of the entire Data Frame:"
   ]
  },
  {
   "cell_type": "code",
   "execution_count": null,
   "id": "988d375d",
   "metadata": {},
   "outputs": [],
   "source": [
    "# get the shape attribute (n_rows, n_columns)\n",
    "df.shape"
   ]
  },
  {
   "cell_type": "markdown",
   "id": "7827d66a",
   "metadata": {},
   "source": [
    "We can also pull out an individual Series/column and view the `.shape` of that specific Series:"
   ]
  },
  {
   "cell_type": "code",
   "execution_count": null,
   "id": "68262666",
   "metadata": {},
   "outputs": [],
   "source": [
    "# view the `shape` of a specific column\n",
    "df['Fertility Rate'].shape"
   ]
  },
  {
   "cell_type": "markdown",
   "id": "679a8f9c",
   "metadata": {},
   "source": [
    "When accessed for the entire Data Frame, the `size` attribute works in the same way as we have seen for Numpy arrays and Pandas Series e.g. it will tell us the total number of *elements* in the entire Data Frame (e.g. the number of elements in the rows multiplied by the number of elements in the columns):"
   ]
  },
  {
   "cell_type": "code",
   "execution_count": null,
   "id": "eff32b35",
   "metadata": {},
   "outputs": [],
   "source": [
    "# show the `size` of the Data Frame\n",
    "df.size"
   ]
  },
  {
   "cell_type": "markdown",
   "id": "05094fc0",
   "metadata": {},
   "source": [
    "Once we know how many observations we have, in any data analysis context, we will always want to know what variables we have in the Data Frame columns, and (again) what type of data is in each.\n",
    "\n",
    "The `.columns` attribute will tell us the name of each column:"
   ]
  },
  {
   "cell_type": "code",
   "execution_count": null,
   "id": "8608646a",
   "metadata": {},
   "outputs": [],
   "source": [
    "# show the column names\n",
    "df.columns"
   ]
  },
  {
   "cell_type": "markdown",
   "id": "a5cdc35e",
   "metadata": {},
   "source": [
    "...and we can use the `.dtypes` attribute to quickly inspect the type of data in each column:"
   ]
  },
  {
   "cell_type": "code",
   "execution_count": null,
   "id": "8a2507e5",
   "metadata": {},
   "outputs": [],
   "source": [
    "# show the dtype in each column\n",
    "df.dtypes"
   ]
  },
  {
   "cell_type": "markdown",
   "id": "cee64d00",
   "metadata": {},
   "source": [
    "The `object` data type means that the column contains either mixed data or string data (in this case string data). The numeric data in this Data Frame is represented as a 64-bit float (`float64`).\n",
    "\n",
    "Ok, so now we know how much data we have, and what type of data it is. Currently, if we want to access a specific row of the Data Frame (remember, each row here is one country), we will have to navigate the default `RangeIndex`. We did not specify an index when we loaded in the Data Frame, so, as we learned previously, Pandas will automatically supply one:"
   ]
  },
  {
   "cell_type": "code",
   "execution_count": null,
   "id": "b3fb234d",
   "metadata": {},
   "outputs": [],
   "source": [
    "# show the index (currently (basically) 0 to 15)\n",
    "df.index"
   ]
  },
  {
   "cell_type": "markdown",
   "id": "c43a0906",
   "metadata": {},
   "source": [
    "We have [already discussed](0_1_to_loc_or_iloc.Rmd) the downsides of using the default index. As we have seen before, we can use the `.set_index()` method to choose a column containing values which we will use as index labels. We have come across Data Frame methods previouslt (`.sort_values()`) and will look at more in the next section. For now, just remember that these differ from *attributes* in that they are a *function attached to an object* rather than just a value/values attached to an object. Methods  often do something to the data rather than just report a value or set of values, like an attribute does.\n",
    "\n",
    "Let's set the `Code` column (containing the three-letter country codes) to be our index labels:"
   ]
  },
  {
   "cell_type": "code",
   "execution_count": null,
   "id": "37051574",
   "metadata": {},
   "outputs": [],
   "source": [
    "# set the index as country name\n",
    "df = df.set_index(\"Code\")\n",
    "\n",
    "df"
   ]
  },
  {
   "cell_type": "markdown",
   "id": "f61cbd52",
   "metadata": {},
   "source": [
    "As expected, when we now view the `index` attribute, we see that the country codes are the values that populate the index:"
   ]
  },
  {
   "cell_type": "code",
   "execution_count": null,
   "id": "885a49f5",
   "metadata": {},
   "outputs": [],
   "source": [
    "# show that the index is now country names\n",
    "df.index"
   ]
  },
  {
   "cell_type": "markdown",
   "id": "4915f2d0",
   "metadata": {},
   "source": [
    "...and we can use the now familiar (and less error-prone) label-based indexing to retrieve specific rows:"
   ]
  },
  {
   "cell_type": "code",
   "execution_count": null,
   "id": "d65184eb",
   "metadata": {},
   "outputs": [],
   "source": [
    "# remember what having the codes in the index lets us do\n",
    "df.loc[['USA', 'ITA']]"
   ]
  },
  {
   "cell_type": "markdown",
   "id": "e25f96ab",
   "metadata": {},
   "source": [
    "## Pandas Dataframe Methods\n",
    "\n",
    "The `.sort_values()` method we just used is one of many methods attached to Pandas Data Frames. We saw that many Numpy array methods are inherited by Pandas Series and this principle also applies to Data Frames.\n",
    "\n",
    "For instance, should we want to see the unique values in a given column (e.g. Series), we can use the `.unique()` method on just that column:"
   ]
  },
  {
   "cell_type": "code",
   "execution_count": null,
   "id": "8eef4623",
   "metadata": {},
   "outputs": [],
   "source": [
    "# unique values in a given column\n",
    "df['Country Name'].unique()"
   ]
  },
  {
   "cell_type": "markdown",
   "id": "981271ae",
   "metadata": {},
   "source": [
    "Other Data Frame methods will report information from the Data Frame *as a whole*.\n",
    "\n",
    "For instance, we can call the `.describe()` method on the whole Data Frame. We saw this method used on a single Series earlier. The same useful statistical summary is shown for every column when we use the method on the whole Data Frame:"
   ]
  },
  {
   "cell_type": "code",
   "execution_count": null,
   "id": "8cf9dda8",
   "metadata": {},
   "outputs": [],
   "source": [
    "# describe numerical variables\n",
    "df.describe()"
   ]
  },
  {
   "cell_type": "markdown",
   "id": "358b251e",
   "metadata": {},
   "source": [
    "We can also use direct indexing to `describe` a specific subset of columns:"
   ]
  },
  {
   "cell_type": "code",
   "execution_count": null,
   "id": "e16e79b6",
   "metadata": {},
   "outputs": [],
   "source": [
    "# for categorical variables\n",
    "df[['Fertility Rate', 'Human Development Index']].describe()"
   ]
  },
  {
   "cell_type": "markdown",
   "id": "a8470eab",
   "metadata": {},
   "source": [
    "Because each Data Frame column is just a Pandas Series, all of the Series methods we saw above can be used on individual Series:"
   ]
  },
  {
   "cell_type": "code",
   "execution_count": null,
   "id": "7b34909d",
   "metadata": {},
   "outputs": [],
   "source": [
    "# specific methods for specific statistics\n",
    "df['Fertility Rate'].min()"
   ]
  },
  {
   "cell_type": "code",
   "execution_count": null,
   "id": "c0bede58",
   "metadata": {},
   "outputs": [],
   "source": [
    "# specific methods for specific statistics\n",
    "df['Fertility Rate'].max()"
   ]
  },
  {
   "cell_type": "code",
   "execution_count": null,
   "id": "36264cc1",
   "metadata": {},
   "outputs": [],
   "source": [
    "# specific methods for specific statistics\n",
    "df['Fertility Rate'].std()"
   ]
  },
  {
   "cell_type": "code",
   "execution_count": null,
   "id": "861451fe",
   "metadata": {},
   "outputs": [],
   "source": [
    "# specific methods for specific statistics\n",
    "df['Fertility Rate'].mean()"
   ]
  },
  {
   "cell_type": "code",
   "execution_count": null,
   "id": "4e72cdc5",
   "metadata": {},
   "outputs": [],
   "source": [
    "# value counts of a single variable\n",
    "df['Country Name'].value_counts()"
   ]
  },
  {
   "cell_type": "markdown",
   "id": "bf1db8d3",
   "metadata": {},
   "source": [
    "Other methods, like `.sort_values()` take a column name as an argument, but have effects on the entire Data Frame.\n",
    "\n",
    "For instance, if we want to sort by `Human Development Index` scores:"
   ]
  },
  {
   "cell_type": "code",
   "execution_count": null,
   "id": "8fda0749",
   "metadata": {},
   "outputs": [],
   "source": [
    "# sort values by HDI\n",
    "df.sort_values(by = 'Human Development Index')"
   ]
  },
  {
   "cell_type": "code",
   "execution_count": null,
   "id": "67fcc475",
   "metadata": {},
   "outputs": [],
   "source": [
    "# sort values by HDI (the other way)\n",
    "df.sort_values(by = 'Human Development Index',\n",
    "               ascending=False) # `ascending=False` reverses the sorting order"
   ]
  },
  {
   "cell_type": "markdown",
   "id": "ad0dfcfd",
   "metadata": {},
   "source": [
    "We can also sort the index using `.sort_index()`, by default this will arrange the rows of the Data Frame in alphabetical order, if we are using string labels (numerical order if we are using the default `RangeIndex`):"
   ]
  },
  {
   "cell_type": "code",
   "execution_count": null,
   "id": "9af48ab5",
   "metadata": {},
   "outputs": [],
   "source": [
    "# sort index (in alphabetical order)\n",
    "df.sort_index()"
   ]
  },
  {
   "cell_type": "code",
   "execution_count": null,
   "id": "5c94133c",
   "metadata": {},
   "outputs": [],
   "source": [
    "# sort index (reverse alphabetical order)\n",
    "df.sort_index(ascending=False)"
   ]
  },
  {
   "cell_type": "markdown",
   "id": "143eb154",
   "metadata": {},
   "source": [
    "Another useful method, which is very powerful in tandem with label-based indexing, is `.drop()`. This lets use specify using index labels rows which we want to remove from the Data Frame. For instance, if we want to remove the data for Australia we can use:"
   ]
  },
  {
   "cell_type": "code",
   "execution_count": null,
   "id": "689b44ea",
   "metadata": {},
   "outputs": [],
   "source": [
    "df.drop(labels = 'AUS')"
   ]
  },
  {
   "cell_type": "markdown",
   "id": "1a28c209",
   "metadata": {},
   "source": [
    "If you compare this to the output from the last cell you will see that, as if by magic, the row for `AUS` has disappeared."
   ]
  },
  {
   "cell_type": "markdown",
   "id": "d773ce6a",
   "metadata": {},
   "source": [
    "## Plotting Methods\n",
    "\n",
    "The Data Frame plotting *methods* that we have seen on the previous pages actually also apply to Series.\n",
    "\n",
    "When working with a Series, it makes most sense most of the time to use the `kind = 'hist'` argument to inspect the distribution of the data in that Series:"
   ]
  },
  {
   "cell_type": "code",
   "execution_count": null,
   "id": "8854133f",
   "metadata": {},
   "outputs": [],
   "source": [
    "hdi_series.plot(kind='hist');"
   ]
  },
  {
   "cell_type": "markdown",
   "id": "12df3e37",
   "metadata": {},
   "source": [
    "Other kinds of plot require bivariate data, and so can only be used with Data Frames:"
   ]
  },
  {
   "cell_type": "code",
   "execution_count": null,
   "id": "be5027a6",
   "metadata": {
    "tags": [
     "raises-exception"
    ]
   },
   "outputs": [],
   "source": [
    "# A ValueError from trying to scatter plot a Series\n",
    "hdi_series.plot(kind='scatter')"
   ]
  },
  {
   "cell_type": "code",
   "execution_count": null,
   "id": "ec64201f",
   "metadata": {},
   "outputs": [],
   "source": [
    "# show a scatter plot\n",
    "df.plot(x = 'Human Development Index',\n",
    "        y = 'Fertility Rate',\n",
    "        kind = 'scatter');"
   ]
  },
  {
   "cell_type": "markdown",
   "id": "c00d4da2",
   "metadata": {},
   "source": [
    "## A note on numerical operations\n",
    "\n",
    "Any numerical operations performed on the Data Frame *as a whole* will be default be performed on the `values` in the Series that make up each column.\n",
    "\n",
    "So, if we want to do something weird/stupid like multiplying the entire Data Frame by a single number, this operation will be performed separately on each element in the Data Frame:"
   ]
  },
  {
   "cell_type": "code",
   "execution_count": null,
   "id": "0aef4146",
   "metadata": {},
   "outputs": [],
   "source": [
    "# do not do this \n",
    "df * 200"
   ]
  },
  {
   "cell_type": "markdown",
   "id": "e9017b45",
   "metadata": {},
   "source": [
    "More sensibly, we will most likely want to perform numerical operations on specific columns. We may want to standardize the values relative to a mean of 0 and standard deviation of 1, for instance.\n",
    "\n",
    "Pandas methods can be used to perform this computation, and again, the operation will be performed on each element in the `values` array of the specific Series/column that we grab.\n",
    "\n",
    "For instance, to subtract the mean value from every element in the `.values` array we can use:"
   ]
  },
  {
   "cell_type": "code",
   "execution_count": null,
   "id": "0f144187",
   "metadata": {},
   "outputs": [],
   "source": [
    "# subtract the mean from every element in the Series\n",
    "df['Population'] - df['Population'].mean()"
   ]
  },
  {
   "cell_type": "markdown",
   "id": "92df14df",
   "metadata": {},
   "source": [
    "We can perform the full z-score standardization using the code in the cell below. Note that `df['Population'].mean()` and `df['Population'].std()` both return single values. Each of these values is used in the same way on every element in the `Population` column:"
   ]
  },
  {
   "cell_type": "code",
   "execution_count": null,
   "id": "4e76eb10",
   "metadata": {},
   "outputs": [],
   "source": [
    "# standardize the `Population` scores\n",
    "df['Population_z'] = (df['Population'] - df['Population'].mean())/df['Population'].std()\n",
    "\n",
    "df"
   ]
  },
  {
   "cell_type": "markdown",
   "id": "652aa261",
   "metadata": {},
   "source": [
    "Because this feature (numerical operations performed on each element) is shared across all Pandas Series, and we are using Pandas methods, we can write a function which will compute the z-scores for any column containing numerical data: "
   ]
  },
  {
   "cell_type": "code",
   "execution_count": null,
   "id": "e03f3449",
   "metadata": {},
   "outputs": [],
   "source": [
    "# define a function to calculate the z-scores for a specific numeric column\n",
    "def get_z(df_column):\n",
    "    \"A function which takes a Data Frame column and returns a series containing the z-score of each element.\"\n",
    "    z_col = (df_column - df_column.mean())/df_column.std()\n",
    "    return z_col"
   ]
  },
  {
   "cell_type": "code",
   "execution_count": null,
   "id": "1f0b50b2",
   "metadata": {},
   "outputs": [],
   "source": [
    "# test our function\n",
    "get_z(df['Human Development Index'])"
   ]
  },
  {
   "cell_type": "markdown",
   "id": "f1249be6",
   "metadata": {},
   "source": [
    "Again, each numerical operation that the function performs has been performed on every element of the `.values` array of the Data Frame column `Human Development Index`.\n",
    "\n",
    "Let's add this new standardized data to the Data Frame, and plot it using the now familiar `.plot()` method:"
   ]
  },
  {
   "cell_type": "code",
   "execution_count": null,
   "id": "5bc54ca2",
   "metadata": {},
   "outputs": [],
   "source": [
    "# add standard scores for HDI\n",
    "df['HDI_z'] = df['Human Development Index']\n",
    "\n",
    "# show the Data Frame\n",
    "display(df)\n",
    "\n",
    "# plot the standardized variables\n",
    "df.plot(kind='scatter',\n",
    "        x='Population_z',\n",
    "        y='HDI_z');"
   ]
  },
  {
   "cell_type": "markdown",
   "id": "eee99b97",
   "metadata": {},
   "source": [
    "We can see from this procedure that we have two bivariate outliers, with respect to `Population` and `HDI`.\n",
    "\n",
    "This dataset is small enough that we can see that these values correspond to India and China..."
   ]
  },
  {
   "cell_type": "code",
   "execution_count": null,
   "id": "242f241e",
   "metadata": {},
   "outputs": [],
   "source": [
    "# inspect the `Population_z` column to identify the outliers\n",
    "df['Population_z']"
   ]
  },
  {
   "cell_type": "markdown",
   "id": "47cd3b6a",
   "metadata": {},
   "source": [
    "...but for a larger dataset we could find them using [Boolean filtering - a topic we will come to in a later page](0_5_filtering_data_with_pandas.Rmd)."
   ]
  },
  {
   "cell_type": "markdown",
   "id": "18a82bd4",
   "metadata": {},
   "source": [
    "## Summary\n",
    "\n",
    "On this page we have further explored the idea that Pandas Data Frames, Pandas Series and Numpy arrays have a nested structure.\n",
    "\n",
    "Data Frames are *dictionary-like collections of Series*. Series are a combination of a Numpy array (`.values`) with other attributes (`name` and `index`). As a result, many methods we can use on a Series are inherited from Numpy arrays, and many  Data Frame methods are likewise inherited from the Pandas Series that constitute the Data Frame."
   ]
  }
 ],
 "metadata": {
  "jupytext": {
   "formats": "ipynb,Rmd"
  },
  "kernelspec": {
   "display_name": "Python (Pyodide)",
   "name": "python"
  }
 },
 "nbformat": 4,
 "nbformat_minor": 5
}
