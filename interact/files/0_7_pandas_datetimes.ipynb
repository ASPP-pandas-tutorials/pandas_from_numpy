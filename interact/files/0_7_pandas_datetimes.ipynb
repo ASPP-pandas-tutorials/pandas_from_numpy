{
 "cells": [
  {
   "cell_type": "markdown",
   "id": "041d60b2",
   "metadata": {},
   "source": [
    "# It's Pandas time\n",
    "\n",
    "\n",
    "We will frequently find ourselves working with data about *time*. Having\n",
    "a specialised representation of time is useful in numerous respects, primarily\n",
    "because it allows us to do \"mathematics with times\". For instance, we may want\n",
    "to use subtraction to calculate the distance between two time points; we cannot\n",
    "do this if we represent dates/times as string data. As such, Python has\n",
    "a useful module for handling dates and times, creatively named\n",
    "[\"Datetime\"](https://docs.python.org/3/library/datetime.html).\n",
    "\n",
    "Python's Datetimes have a (deserved) reputation for being fiddly (we would\n",
    "wager anyone who has encountered them will agree...). Additionally, in contrast\n",
    "to the close relation between Numpy and Pandas shown on the other pages, the\n",
    "way Pandas handles dates and times is somewhat different to how they are\n",
    "handled in Numpy.  To be specific, Pandas *stores* dates and times using\n",
    "Numpy's representations, but *presents* these values to you, dear user, with\n",
    "various attributes that make them look like Python's Datatimes.\n",
    "\n",
    "This page will focus on using dates and times as implemented in Pandas.  This\n",
    "is also probably the most likely context in which readers will use dates and\n",
    "times...\n",
    "\n",
    "The page is a *brief* introduction to Pandas times and dates — there is much\n",
    "more than be done with Pandas dates / times than we will show here - but these\n",
    "are the essentials."
   ]
  },
  {
   "cell_type": "markdown",
   "id": "320570c8",
   "metadata": {},
   "source": [
    "## Dates and times in Pandas Series\n",
    "\n",
    "First, let's look at how Pandas handles dates and times. To do this, we'll\n",
    "create a Pandas Series containing some *strings* representing dates:"
   ]
  },
  {
   "cell_type": "code",
   "execution_count": null,
   "id": "267f8c65",
   "metadata": {},
   "outputs": [],
   "source": [
    "# Our usual imports.\n",
    "import numpy as np\n",
    "import pandas as pd"
   ]
  },
  {
   "cell_type": "code",
   "execution_count": null,
   "id": "2bfe3e2d",
   "metadata": {},
   "outputs": [],
   "source": [
    "# create a Series with some strings representing dates\n",
    "string_time_series = pd.Series(['2025-06-06', '2025-06-07'])\n",
    "# show the Series\n",
    "string_time_series"
   ]
  },
  {
   "cell_type": "markdown",
   "id": "a98e8a9b",
   "metadata": {},
   "source": [
    "To no one's surprise, the `type()` of these data is `str`:"
   ]
  },
  {
   "cell_type": "code",
   "execution_count": null,
   "id": "58eaa9a9",
   "metadata": {},
   "outputs": [],
   "source": [
    "# show the `type()` of the data\n",
    "first_val = string_time_series.iloc[0]\n",
    "type(first_val)"
   ]
  },
  {
   "cell_type": "markdown",
   "id": "7cd71a90",
   "metadata": {},
   "source": [
    "These representations of dates might look OK at a first glance, but let's say\n",
    "we want to know the difference in time (duration) between them.\n",
    "\n",
    "We might surmise that subtracting one date from the other would give us this\n",
    "information.\n",
    "\n",
    "However, we would be sorely disappointed, when using `str` data to represent\n",
    "time:"
   ]
  },
  {
   "cell_type": "code",
   "execution_count": null,
   "id": "486f2b8e",
   "metadata": {
    "tags": [
     "raises-exception"
    ]
   },
   "outputs": [],
   "source": [
    "# not what we wanted...\n",
    "second_val = string_time_series.iloc[1]\n",
    "second_val - first_val"
   ]
  },
  {
   "cell_type": "markdown",
   "id": "75b2dd31",
   "metadata": {},
   "source": [
    "This is where having a specialized representation of time comes in handy. We\n",
    "can use the `pd.to_datetime()` function to convert this data to Pandas' special\n",
    "representation of a particular point in time.\n",
    "\n",
    "::: note\n",
    "\n",
    "**Different ways of representing time**\n",
    "\n",
    "As you'll see below, there are two different and common ways of representing\n",
    "time.  These are:\n",
    "\n",
    "* A specific point in time.  Pandas represents a specific point in time as\n",
    "  a `Timestamp`.\n",
    "* A duration — for example, the difference in time between two `Timestamp`s.\n",
    "  Pandas represents durations with a type called `Timedelta`.\n",
    "\n",
    "See [Pandas\n",
    "timeseries](https://pandas.pydata.org/pandas-docs/stable/user_guide/timeseries.html)\n",
    "for more.\n",
    "\n",
    ":::\n",
    "\n",
    "Let's convert our string dates to Pandas `Timestamp`s:"
   ]
  },
  {
   "cell_type": "code",
   "execution_count": null,
   "id": "0e5a58c6",
   "metadata": {},
   "outputs": [],
   "source": [
    "# Convert string to time stamps using `to_datetime()`\n",
    "timestamp_series = pd.to_datetime(string_time_series)\n",
    "timestamp_series"
   ]
  },
  {
   "cell_type": "markdown",
   "id": "ff2fa5ae",
   "metadata": {},
   "source": [
    "As you see from the output of the cell above, the `dtype` of this data is no\n",
    "longer `object` as it was above. It is now `datetime64[ns]`\n",
    "— which we can read as \"a datetime representation, in 64 bits, down to the\n",
    "nanosecond resolution\". Sounds fancy!\n",
    "\n",
    "We can confirm the type of the data using the `type()` function:"
   ]
  },
  {
   "cell_type": "code",
   "execution_count": null,
   "id": "e30b430e",
   "metadata": {},
   "outputs": [],
   "source": [
    "first_ts_val = timestamp_series.iloc[0]\n",
    "first_ts_val"
   ]
  },
  {
   "cell_type": "markdown",
   "id": "12441d50",
   "metadata": {},
   "source": [
    "The `Timestamp` is Pandas' special representation of a time point e.g.\n",
    "a specific point in time. You may wonder why Pandas reports the `type()` as\n",
    "a `Timestamp` but the `dtype` as `datetime64[ns]`. For all intents and\n",
    "purposes, the `Timestamp` is just a more general description of\n",
    "`datetime64[ns]` (with the latter just giving more information about the amount\n",
    "of memory used for storage and the time resolution...)\n",
    "\n",
    "We can now do \"mathemstics with times\" and use subtraction to calculate the\n",
    "difference between these dates:"
   ]
  },
  {
   "cell_type": "code",
   "execution_count": null,
   "id": "54dba6e4",
   "metadata": {},
   "outputs": [],
   "source": [
    "# get the difference between the two dates\n",
    "second_ts_val = timestamp_series.iloc[1]\n",
    "second_ts_val - first_ts_val"
   ]
  },
  {
   "cell_type": "markdown",
   "id": "478f9b83",
   "metadata": {},
   "source": [
    "This operation has returned a `Timedelta` - the other foundational\n",
    "representation of time in Pandas. The `delta` in `Timedelta` refers to\n",
    "*difference* e.g. the difference between two time points. Equally, we can think\n",
    "of a `Timedelta` as a representation of a *duration* (e.g. the duration of time\n",
    "between two time points).\n",
    "\n",
    "Pandas helpfully reports that the difference between our two dates is `1 days\n",
    "00:00:00`. You'll notice here that Pandas made a guess as to the format of the\n",
    "dates when we created this Series with `pd.to_datetime`. One could interpret\n",
    "the original two strings (`2025-06-06` and `2025-06-07`) are as 6th June 2025\n",
    "and **7th June** 2025, or 6th June 2025 and **6th July** 2025. Pandas assumes\n",
    "that the middle two digits represent months, and this is reasonable, because\n",
    "this year-first representation is a [standard string representation of\n",
    "time](https://en.wikipedia.org/wiki/ISO_8601), where the second value is always\n",
    "the month.\n",
    "\n",
    "However, more generally, Pandas may or may not be correct in its assumptions.\n",
    "For example, it is genuinely ambiguous what `'06-07-2025` means, because this\n",
    "could be a North American standard months-days-year string, or a European\n",
    "standard days-months-year string.  In normal contexts, we would need to consult\n",
    "metadata/documentation associated with our dataset to be sure of the meaning of\n",
    "the date strings. However, we can control the format with which `pd.datetime()`\n",
    "will interpret the date strings, using the `format=` argument:"
   ]
  },
  {
   "cell_type": "code",
   "execution_count": null,
   "id": "45d75bf6",
   "metadata": {},
   "outputs": [],
   "source": [
    "# a new Series, using an alternate formatting to the standard Pandas assumes.\n",
    "other_timestamp_series = pd.to_datetime(string_time_series, format='%Y-%d-%m')\n",
    "other_timestamp_series"
   ]
  },
  {
   "cell_type": "markdown",
   "id": "461a16e6",
   "metadata": {},
   "source": [
    "Here we have used the *date format string* `'%Y-%d-%m'` as input for the\n",
    "`format=` argument. We can read this as *\"a four digit year, followed by\n",
    "a hyphen, followed by a two digit day, followed by a hyphen, followed by a two\n",
    "digit month\"*.\n",
    "\n",
    "The, *ahem*, format of the date format string can take some getting used to.\n",
    "Please see\n",
    "[here](https://docs.python.org/3/library/datetime.html#strftime-and-strptime-behavior)\n",
    "for the full list of date format options.\n",
    "\n",
    "We can see that we get a totally different `Timedelta` when subtracting the\n",
    "dates interpreted according to the new format:"
   ]
  },
  {
   "cell_type": "code",
   "execution_count": null,
   "id": "6bbaa047",
   "metadata": {},
   "outputs": [],
   "source": [
    "# get the difference between the two dates with the alternate formatting\n",
    "other_timestamp_series.iloc[1] - other_timestamp_series.iloc[0]"
   ]
  },
  {
   "cell_type": "markdown",
   "id": "69c672dc",
   "metadata": {},
   "source": [
    "These two objects (`Timestamp`s and `Timedelta`s) are the cornerstones of time\n",
    "representation in Pandas (though there is much else to know about them).\n",
    "\n",
    "We will look more specifically at the attributes and methods we can use on\n",
    "these representations of time. However, we will do so in the context of Data\n",
    "Frames. As we know, Data Frames are just *dictionary-like collections of\n",
    "Series*, so any methods/attributes of Data Frame columns can also be used with\n",
    "standalone Series...\n",
    "\n",
    "Before we move on, it is important to note that `pd.to_datetime()` can also\n",
    "convert dates which contain words like the names of months (June, July etc.):"
   ]
  },
  {
   "cell_type": "code",
   "execution_count": null,
   "id": "7a6c39a7",
   "metadata": {},
   "outputs": [],
   "source": [
    "# representations of dates which contain strings for the names of months (e.g. \"JUNE\")\n",
    "a_series_of_str = pd.Series(['2025-JUNE-06', '2025-JUNE-07'])\n",
    "a_series_of_timestamps = pd.to_datetime(a_series_of_str)\n",
    "a_series_of_timestamps"
   ]
  },
  {
   "cell_type": "markdown",
   "id": "78f80394",
   "metadata": {},
   "source": [
    "Again, Pandas has guessed the format but has implored us to *specify* the\n",
    "format with which we want the string dates to be interpreted. (Pretty much\n",
    "always, specifying the format is better practice than letting Pandas guess...)\n",
    "\n",
    "The important point here is that even though the names of months (\"JUNE\") went\n",
    "into the `pd.to_datetime()` conversion, the `Timestamp` that came out the other\n",
    "side contains only numbers. This is important for understanding the essential\n",
    "nature of Pandas time stamps, as we will see in later sections."
   ]
  },
  {
   "cell_type": "markdown",
   "id": "5dd23585",
   "metadata": {},
   "source": [
    "## A closer look at time stamps and time deltas\n",
    "\n",
    "The Timestamps in the output of the cell above might appear similar to strings, but in terms of the internal representation that Pandas uses they are something entirely different. They are based on something (incredibly sci-fi sounding) called the \"Unix Epoch\", to which we will attend later).\n",
    "\n",
    "To get an insight into this representation, let's take a closer look at one of the individual Timestamps.\n",
    "\n",
    "Our variable `a_series_of_timestamps` is a Pandas Series. As such, as we know\n",
    "we can use `.iloc` indexing to retrieve single values from it. In this case, we\n",
    "retrieve a single `Timestamp`:"
   ]
  },
  {
   "cell_type": "code",
   "execution_count": null,
   "id": "abf98a5e",
   "metadata": {},
   "outputs": [],
   "source": [
    "# retrieve a single Timestamp from the Series\n",
    "single_timestamp = a_series_of_timestamps.iloc[0]\n",
    "single_timestamp"
   ]
  },
  {
   "cell_type": "markdown",
   "id": "9c441d66",
   "metadata": {},
   "source": [
    "Attached to any individual Timestamp is an attribute called `.value`:"
   ]
  },
  {
   "cell_type": "code",
   "execution_count": null,
   "id": "ac1d840d",
   "metadata": {},
   "outputs": [],
   "source": [
    "# show the `.value` attribute\n",
    "single_timestamp.value"
   ]
  },
  {
   "cell_type": "markdown",
   "id": "d0ce7447",
   "metadata": {},
   "source": [
    "At first glance this might be confusing - it doesn't look much like a normal\n",
    "date, or time...\n",
    "\n",
    "A look through the other attributes reveals more familiar nameed units of time. For instance, the `year`, `month` and `day` attributes:"
   ]
  },
  {
   "cell_type": "code",
   "execution_count": null,
   "id": "703e6bf9",
   "metadata": {},
   "outputs": [],
   "source": [
    "# the `.year` attribute\n",
    "single_timestamp.year"
   ]
  },
  {
   "cell_type": "code",
   "execution_count": null,
   "id": "29737f4f",
   "metadata": {},
   "outputs": [],
   "source": [
    "# .month and day\n",
    "single_timestamp.month, single_timestamp.day"
   ]
  },
  {
   "cell_type": "markdown",
   "id": "db7579d8",
   "metadata": {},
   "source": [
    "So what is the mysterious `.value` attribute? \n",
    "\n",
    "It is, in fact, more fundamental than the other attributes. It derives from the\n",
    "aforementioned \"Unix Epoch\", a slightly ominous sounding name for a specific\n",
    "date in 1970. Here is an explanation of what that is:\n",
    "\n",
    "> \"The Unix epoch is the number of seconds that have elapsed since January 1, 1970 at midnight UTC time minus the leap seconds. This means that at midnight of January 1, 1970, Unix time was 0.\" (from https://www.epoch101.com)\n",
    "\n",
    "The `.value` attribute reports the number of nanoseconds that have elapsed\n",
    "between midnight January 1st 1970 and the particular point in time represented\n",
    "by the `Timestamp`. This is the fundamental representation that Pandas uses in\n",
    "`Timestamp`s — the other attributes (`year`, `month`, etc) present this\n",
    "information in a form more understandable to a human.\n",
    "\n",
    "Why midnight of January 1st 1970? Well we need *some* point against which to\n",
    "measure other times, and [early Unix\n",
    "engineers](https://www.narrative.io/knowledge-base/concepts/data-terms/what-is-unix-time)\n",
    "chose this one. If it isn't broken why fix it?\n",
    "\n",
    "Let's look again at our single `Timestamp`:"
   ]
  },
  {
   "cell_type": "code",
   "execution_count": null,
   "id": "bfe38c11",
   "metadata": {},
   "outputs": [],
   "source": [
    "single_timestamp"
   ]
  },
  {
   "cell_type": "markdown",
   "id": "1106cc8b",
   "metadata": {},
   "source": [
    "...and then once again at the `.value` attribute, now we know that it tells us\n",
    "the number of nanoseconds between our `Timestamp` and the point where the Unix\n",
    "Epoch was equal to 0 (midnight, January 1st 1970): "
   ]
  },
  {
   "cell_type": "code",
   "execution_count": null,
   "id": "7444b62f",
   "metadata": {},
   "outputs": [],
   "source": [
    "single_timestamp.value"
   ]
  },
  {
   "cell_type": "markdown",
   "id": "68b0c305",
   "metadata": {},
   "source": [
    "To sanity check this, let's estimate the number of nanoseconds in an average year:"
   ]
  },
  {
   "cell_type": "code",
   "execution_count": null,
   "id": "b433af5e",
   "metadata": {},
   "outputs": [],
   "source": [
    "# We've ignored various subtleties here to get an approximate number.\n",
    "# Taking leap years into account.\n",
    "average_days_in_year = 365.25\n",
    "# Days in year * hours in day * minutes in hour * seconds in minute * 1,000,000,000\n",
    "approx_ns_in_year = average_days_in_year * 24 * 60 * 60 * 1_000_000_000\n",
    "approx_ns_in_year"
   ]
  },
  {
   "cell_type": "markdown",
   "id": "4b654491",
   "metadata": {},
   "source": [
    "Thus, if we divide our `.value` attribute of our `Timestamp` by `approx_ns_in_year` we should get something like number of years between the `Timestamp` and midnight January 1st 1970:"
   ]
  },
  {
   "cell_type": "code",
   "execution_count": null,
   "id": "eb4d0b2c",
   "metadata": {},
   "outputs": [],
   "source": [
    "# calculate the number of years since midnight Jan 1st 1970:\n",
    "approx_years_since_1_1_1970 = single_timestamp.value / approx_ns_in_year\n",
    "approx_years_since_1_1_1970"
   ]
  },
  {
   "cell_type": "markdown",
   "id": "69e801b0",
   "metadata": {},
   "source": [
    "55.43 years between the `Timestamp` (6th June 2025) and January 1st 1970? That sounds about right, but let's check it by subtracting the rounded `approx_years_since_1_1_1970` from our `single_timestamp.year`, expecting 1970:"
   ]
  },
  {
   "cell_type": "code",
   "execution_count": null,
   "id": "24927012",
   "metadata": {},
   "outputs": [],
   "source": [
    "single_timestamp.year - np.round(approx_years_since_1_1_1970)"
   ]
  },
  {
   "cell_type": "markdown",
   "id": "36769283",
   "metadata": {},
   "source": [
    "::: note\n",
    "\n",
    "**Floating point years**\n",
    "\n",
    "We could have subtracted `approx_years_since_1_1_1970` from `single_timestamp.year` without rounding, and we'd get something midway through 1969, because `approx_years_since_1_1_1970` includes the time from January 1 2025 to June 6 2025, so subtracting the unrounded value will take us back to midway through 1969.\n",
    "\n",
    ":::"
   ]
  },
  {
   "cell_type": "markdown",
   "id": "86279b8e",
   "metadata": {},
   "source": [
    "## Times and dates in Pandas Data Frames\n",
    "\n",
    "Let's explore Pandas Timestamps further now that we know they are fundamentally a measure of nanoseconds since midnight on 1st January 1970, a duration which can be expressed in more understandable forms like `.year`, `month`, `day` etc. We will again use the [Human Development Index](https://ourworldindata.org/grapher/children-per-woman-vs-human-development-index) dataset. However,  to keep things simple, we will just be looking at rows corresponding to Afghanistan:"
   ]
  },
  {
   "cell_type": "code",
   "execution_count": null,
   "id": "38d2ea4a",
   "metadata": {},
   "outputs": [],
   "source": [
    "# import the dateset\n",
    "df = pd.read_csv('data/AFG-data-children-per-woman-vs-human-development-index.csv')\n",
    "\n",
    "df"
   ]
  },
  {
   "cell_type": "markdown",
   "id": "058c97ea",
   "metadata": {},
   "source": [
    "If you look at the `Year` column, you can see that what we have is a running set of observations (all from Afghanistan) from the year 1990 up until the year 2022.\n",
    "\n",
    "This sort of data - a series of observations over time - is called *time series* data. In fact, the name of Pandas *Series* comes from \"time series\", as this is the sort of data the library was originally designed to be used with.\n",
    "\n",
    "Here we have one observational unit (in this case a country), measured over time on the same variables.  If we have data like this, then we can use a useful trick to inspect all time-related trends at once.\n",
    "\n",
    "We just call the `.plot()` method on the whole Data Frame, using the `subplots=True` argument), and we get the following neat result:"
   ]
  },
  {
   "cell_type": "code",
   "execution_count": null,
   "id": "10268fd6",
   "metadata": {},
   "outputs": [],
   "source": [
    "# a useful trick to time-series data!\n",
    "df.plot(subplots=True);"
   ]
  },
  {
   "cell_type": "markdown",
   "id": "4a81ebea",
   "metadata": {},
   "source": [
    "As expected, the trend for `Year` increasely linearly (*duh!*), whilst `Fertility Rate` falls and `Human Development Index`/`Population` (mostly) climb.\n",
    "\n",
    "We are undoubtedly viewing time-rleated trends here, but we are doing so based on a non-specialized representation of the times in the `Year` column:"
   ]
  },
  {
   "cell_type": "code",
   "execution_count": null,
   "id": "1b804d2e",
   "metadata": {},
   "outputs": [],
   "source": [
    "# what type of data is in the `Year` column?\n",
    "df['Year'].dtype"
   ]
  },
  {
   "cell_type": "markdown",
   "id": "c0cec5e3",
   "metadata": {},
   "source": [
    "Because the `Year` formats in this dataset, unlike the `str` dates we used earlier, do NOT contain anything string specific (hyphens and the like), Pandas has interpreted them as `int` data."
   ]
  },
  {
   "cell_type": "code",
   "execution_count": null,
   "id": "589eeaeb",
   "metadata": {},
   "outputs": [],
   "source": [
    "# inspect the `Year` column\n",
    "df['Year']"
   ]
  },
  {
   "cell_type": "markdown",
   "id": "a3af88a2",
   "metadata": {},
   "source": [
    "This is OK as far as it goes, but we can do better.\n",
    "\n",
    "Let's convert the `Year` values to `Timestamp` data, to see the host of\n",
    "*time-specific* attributes and methods that we then get access to.\n",
    "\n",
    "*NB*: we will call the column containing the Timestamps `Year_as_Timestamp`, and\n",
    "rename the original `Year` column to `Year_as_string` to avoid confusion:"
   ]
  },
  {
   "cell_type": "code",
   "execution_count": null,
   "id": "44031f39",
   "metadata": {},
   "outputs": [],
   "source": [
    "# rename the `Year` column\n",
    "df = df.rename(columns={'Year': 'Year_as_string'})\n",
    "\n",
    "# Convert the month data to time stamp.\n",
    "df['Year_as_Timestamp'] = pd.to_datetime(df['Year_as_string'], format='%Y')\n",
    "df['Year_as_Timestamp']"
   ]
  },
  {
   "cell_type": "markdown",
   "id": "c4637259",
   "metadata": {},
   "source": [
    "Here we used a much simpler time stamp format string (`'%Y'`) for the `format=`\n",
    "argument. We can just read the string as *\"a four digit representation of\n",
    "year\"* (e.g. 1990).\n",
    "\n",
    "You'll see in the output of the cell above that Pandas has added a month and\n",
    "a day to the original `Year_as_string` values. This is because Pandas\n",
    "Timestamps represent a *specific time point* - so a whole year is too low of\n",
    "a resolution for this representation of time. As a result, Pandas has\n",
    "automatically chosen January 1st to flesh out the time point.\n",
    "\n",
    "For most purposes this addition is fine. It might create problems if we mix\n",
    "this data with other time-related data which is higher-resolution than \"year\",\n",
    "but for our present purpose we are not going to do that, so let's just let\n",
    "Pandas make this harmless addition, as it gives us the benefit of a specialized\n",
    "representation of time, which we will see in the next section."
   ]
  },
  {
   "cell_type": "markdown",
   "id": "9b63c3ee",
   "metadata": {},
   "source": [
    "## The `.dt` accessor\n",
    "\n",
    "Relative to representing time with `str` or `int` data, Pandas `Timestamp`s contain many attributes which represent specific units of time.\n",
    "\n",
    "Let's look at just one value from the `Year_as_Timestamp` column:"
   ]
  },
  {
   "cell_type": "code",
   "execution_count": null,
   "id": "aff785b8",
   "metadata": {},
   "outputs": [],
   "source": [
    "# A look at a specific time stamp.\n",
    "first_year_ts = df['Year_as_Timestamp'].iloc[0]\n",
    "first_year_ts"
   ]
  },
  {
   "cell_type": "markdown",
   "id": "a45af26f",
   "metadata": {},
   "source": [
    "We can read the numbers in the parentheses as \"0 minutes, 0 seconds past\n",
    "midnight on 1st January 1990\".\n",
    "\n",
    "Let's try to index further into the `Timestamp`:"
   ]
  },
  {
   "cell_type": "code",
   "execution_count": null,
   "id": "bee87356",
   "metadata": {
    "tags": [
     "raises-exception"
    ]
   },
   "outputs": [],
   "source": [
    "# oh no....\n",
    "first_year_ts"
   ]
  },
  {
   "cell_type": "markdown",
   "id": "fe438274",
   "metadata": {},
   "source": [
    "This inability to index (using integers) into the `Timestamp` might seem frustrating, but it is sensible.   The underlying representation is a single number, so indexing into a number does not make sense.  One could also think of the Timestamp value as something from which one could retrieve information like year, month or day, but it's not clear what `[0]` would mean in terms of — for example — year, month or day.\n",
    "\n",
    "Conversely, remember the advantages of using [*index labels* vs *integer\n",
    "indexes*](0_1_to_loc_or_iloc)? These include greater human interpretability,\n",
    "less temptation to error (which derived value does `[0]` refer to).\n",
    "\n",
    "Well, Pandas' representation of time has the same advantages. To retrieve more\n",
    "specific aspects of the `Timestamp` we must use *meaningful*, *readable* and\n",
    "*hard to misinterpret* attribute names.\n",
    "\n",
    "We can access these time-specific attributes via the `.dt.` accessor (read as\n",
    "\"datetime\", a synonym for Timestamp). Much like the `.str.` accessor we [saw\n",
    "earlier](0_6_more_pandas_methods_strings) this is an accessor specialized for\n",
    "a specific data type, in this case Timestamp data.\n",
    "\n",
    "As with the `.str` accessor, the `.dt.` accessor operates on all values of a Data Frame column (Pandas Series) in parallel.\n",
    "\n",
    "For instance, to grab just the year information, we can use `.dt.year`:"
   ]
  },
  {
   "cell_type": "code",
   "execution_count": null,
   "id": "6dde60f9",
   "metadata": {},
   "outputs": [],
   "source": [
    "# view the `year` attribute\n",
    "df['Year_as_Timestamp'].dt.year"
   ]
  },
  {
   "cell_type": "markdown",
   "id": "fffe1eee",
   "metadata": {},
   "source": [
    "To get this information for a specific row, we can just chain on an `.iloc` indexing operation:"
   ]
  },
  {
   "cell_type": "code",
   "execution_count": null,
   "id": "7f1f04fe",
   "metadata": {},
   "outputs": [],
   "source": [
    "df['Year_as_Timestamp'].dt.year.iloc[0]"
   ]
  },
  {
   "cell_type": "markdown",
   "id": "193d4534",
   "metadata": {},
   "source": [
    "We can use other clearly named attributes, accessing time-based information down to the smallest unit of time represented in the `Timestamp`.\n",
    "\n",
    "We will go through these in order (`.dt.month`, `.dt.day`, `.dt.hour`, `.dt.minute`, `.dt.second`) in the cells below:"
   ]
  },
  {
   "cell_type": "code",
   "execution_count": null,
   "id": "e78e8983",
   "metadata": {},
   "outputs": [],
   "source": [
    "# view the `month` attribute (which here has been automatically set to 1 by Pandas)\n",
    "df['Year_as_Timestamp'].dt.month"
   ]
  },
  {
   "cell_type": "code",
   "execution_count": null,
   "id": "7518165c",
   "metadata": {},
   "outputs": [],
   "source": [
    "# view the `day` attribute (which here has been automatically set to 1 by Pandas)\n",
    "df['Year_as_Timestamp'].dt.day"
   ]
  },
  {
   "cell_type": "code",
   "execution_count": null,
   "id": "94753746",
   "metadata": {},
   "outputs": [],
   "source": [
    "# view the `hour` attribute (which here has been automatically set to 0 by Pandas)\n",
    "df['Year_as_Timestamp'].dt.hour"
   ]
  },
  {
   "cell_type": "code",
   "execution_count": null,
   "id": "8b6d4ebe",
   "metadata": {},
   "outputs": [],
   "source": [
    "# view the `minute` attribute (which here has been automatically set to 0 by Pandas)\n",
    "df['Year_as_Timestamp'].dt.minute"
   ]
  },
  {
   "cell_type": "code",
   "execution_count": null,
   "id": "f5b5bbe0",
   "metadata": {},
   "outputs": [],
   "source": [
    "# view the `second` attribute (which here has been automatically set to 0 by Pandas)\n",
    "df['Year_as_Timestamp'].dt.second"
   ]
  },
  {
   "cell_type": "markdown",
   "id": "afa037db",
   "metadata": {},
   "source": [
    "We can see that the sequence with which we just \"walked\" through the `.dt.` attributes (`.dt.month`, `.dt.day`, `.dt.hour`, `.dt.minute`, `.dt.second`) corresponds to the order of the output of a single `Timestamp`:"
   ]
  },
  {
   "cell_type": "code",
   "execution_count": null,
   "id": "de9553e1",
   "metadata": {},
   "outputs": [],
   "source": [
    "# view an individual Timestamp\n",
    "df['Year_as_Timestamp'].iloc[0]"
   ]
  },
  {
   "cell_type": "markdown",
   "id": "d8cd4ef3",
   "metadata": {},
   "source": [
    "`Timestamp`s provide a structured, easy to access and hard to misinterpret, representation of time, fundamentally based on the Unix Epoch (the distance between a particular timepoint and midnight January 1st 1970).\n",
    "\n",
    "From this nanosecond representation *each attribute converts the `.value` into a more human-interpretable unit of time*. **This is all Timestamps in Pandas are!** "
   ]
  },
  {
   "cell_type": "markdown",
   "id": "2dd5b704",
   "metadata": {},
   "source": [
    "We mentioned earlier than the names of months (like \"June\"/\"July\" etc, as well as other string-y stuff) can go *into* a `pd.to_datetime()` conversion, but the *result* will always contain only numbers. These numbers are stored in a sequence of attributes which represent increasingly smaller units of time (year, month, day, minute, second etc.) as numbers, even if the original input containing strings like \"June\", \"July\" etc.\n",
    "\n",
    "Using the `.dt.` accessor, we can easily do things like filter our a specific year using these attributes:"
   ]
  },
  {
   "cell_type": "code",
   "execution_count": null,
   "id": "0911e217",
   "metadata": {},
   "outputs": [],
   "source": [
    "# filter using a Boolean array from the `.dt` accessor\n",
    "df[df['Year_as_Timestamp'].dt.year == 1990]"
   ]
  },
  {
   "cell_type": "markdown",
   "id": "5789f7fc",
   "metadata": {},
   "source": [
    "See further methods and attributes available from the `.dt.` accessor [here](https://pandas.pydata.org/docs/reference/api/pandas.Series.dt.html)."
   ]
  },
  {
   "cell_type": "markdown",
   "id": "9c956fe3",
   "metadata": {},
   "source": [
    "## Using Timestamps in a Data Frame index\n",
    "\n",
    "Now we have our special time representations, a real strength of having them is to put them in the `index` of the Data Frame. This let's us easily do some useful things, like slicing the Data Frame rows by time. \n",
    "\n",
    "We can do this using the previously seen `.set_index()` method:"
   ]
  },
  {
   "cell_type": "code",
   "execution_count": null,
   "id": "d01120e9",
   "metadata": {},
   "outputs": [],
   "source": [
    "# put Timestamps in the index\n",
    "df = df.set_index('Year_as_Timestamp')\n",
    "\n",
    "df"
   ]
  },
  {
   "cell_type": "markdown",
   "id": "b5b8263a",
   "metadata": {},
   "source": [
    "If we view the `index`, Pandas will helpfully reveal that setting `Year` as the `index` - a column which contained only Timestamps - has created a `DatetimeIndex`. As the name might reveal, this is an index containing only Timestamps (aka dates / times):"
   ]
  },
  {
   "cell_type": "code",
   "execution_count": null,
   "id": "dc732232",
   "metadata": {},
   "outputs": [],
   "source": [
    "# show the index\n",
    "df.index"
   ]
  },
  {
   "cell_type": "code",
   "execution_count": null,
   "id": "b7190e59",
   "metadata": {},
   "outputs": [],
   "source": [
    "# show the `type()` of the index\n",
    "type(df.index)"
   ]
  },
  {
   "cell_type": "code",
   "execution_count": null,
   "id": "2ad09636",
   "metadata": {},
   "outputs": [],
   "source": [
    "# show an individual Timestamp from the `index`\n",
    "df.index[0]"
   ]
  },
  {
   "cell_type": "markdown",
   "id": "bcf9be8f",
   "metadata": {},
   "source": [
    "We can get the [aforementioned benefits](0_1_to_loc_or_iloc) of `.loc`\n",
    "indexing on our `Timestamp`s.\n",
    "\n",
    "For instance, we can `.loc` index just data from the year 1990:"
   ]
  },
  {
   "cell_type": "code",
   "execution_count": null,
   "id": "957ead8a",
   "metadata": {},
   "outputs": [],
   "source": [
    "# using `.loc` with a year\n",
    "df.loc[\"1990\"]"
   ]
  },
  {
   "cell_type": "markdown",
   "id": "3a3b803d",
   "metadata": {},
   "source": [
    "We can also do neat slicing operations using time information. For instance showing all rows corresponding to years between 1990 and 1995:"
   ]
  },
  {
   "cell_type": "code",
   "execution_count": null,
   "id": "d1d7590c",
   "metadata": {},
   "outputs": [],
   "source": [
    "# slice the years using `.loc`\n",
    "df.loc[\"1990\" : \"1995\"]"
   ]
  },
  {
   "cell_type": "markdown",
   "id": "28acdee1",
   "metadata": {},
   "source": [
    "Simple calls to the `.plot()` method (using the `y=` argument only) will now\n",
    "automatically place the Timestamp information on the x-axis:"
   ]
  },
  {
   "cell_type": "code",
   "execution_count": null,
   "id": "d5631cd9",
   "metadata": {},
   "outputs": [],
   "source": [
    "# Plotting will automatically use the time stamp index on the x-axis\n",
    "df.plot(y='Human Development Index');"
   ]
  },
  {
   "cell_type": "markdown",
   "id": "23b9766c",
   "metadata": {},
   "source": [
    "# Summary\n",
    "\n",
    "There is a lot more would could say about dates and times (both in Pandas and\n",
    "in general), but that is enough for this brief introduction.\n",
    "\n",
    "The key points are:\n",
    "\n",
    "* Pandas Timestamps are values that represent points in time.  The Pandas API\n",
    "  allows us to get different units of time from these values, such as year,\n",
    "  month, day, hour, minute and so on.\n",
    "* Pandas Timedeltas are values that represent durations.\n",
    "* Timestamps and Timedeltas let us do \"mathematics with times\" which we cannot\n",
    "  do with string representations.\n",
    "* Putting Timestamps in our index allows for some neat indexing and plotting\n",
    "  operations."
   ]
  }
 ],
 "metadata": {
  "kernelspec": {
   "display_name": "Python (Pyodide)",
   "name": "python"
  }
 },
 "nbformat": 4,
 "nbformat_minor": 5
}
