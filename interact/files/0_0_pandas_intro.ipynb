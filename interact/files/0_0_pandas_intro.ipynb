{
 "cells": [
  {
   "cell_type": "markdown",
   "id": "a1dd77bc",
   "metadata": {},
   "source": [
    "# Pandas from Numpy\n",
    "\n",
    "\n",
    "By Matthew Brett and Peter Rush\n",
    "\n",
    "This tutorial will show the fundamental structure of Pandas Data Frames. We will look at the components that constitute a Data Frame - for instance, numpy arrays - in order to gain a deeper understanding of the raw ingredients that more advanced Pandas methods and functions operate on.\n",
    "\n",
    "## What is Pandas?\n",
    "\n",
    "Pandas is an open-source python library for data manipulation and analysis. \n",
    "\n",
    "```{note}\n",
    "Why is Pandas called Pandas?\n",
    "\n",
    "The “Pandas” name is short for “panel data”. The library was named after the\n",
    "type of econometrics panel data that it was designed to analyse. [Panel\n",
    "data](https://en.wikipedia.org/wiki/Panel_data) are longitudinal data where\n",
    "the same observational units (e.g. countries) are observed over multiple\n",
    "instances across time.\n",
    "```\n",
    "\n",
    "The Pandas Data Frame is the most important feature of the Pandas library. Data Frames, as the name suggests, contain not only the data for an analysis, but a toolkit of methods for cleaning, plotting and interacting with the data in flexible ways. For more information about Pandas see [this page](https://Pandas.pydata.org/about/).\n",
    "\n",
    "The standard way to make a new Data Frame is to ask Pandas to read a data file\n",
    "(like a `.csv` file) into a Data Frame. Before we do that however, we will\n",
    "build our own Data Frame from scratch, beginning with the fundamental building\n",
    "block for Data Frames: Numpy arrays."
   ]
  },
  {
   "cell_type": "code",
   "execution_count": null,
   "id": "f89af45d",
   "metadata": {},
   "outputs": [],
   "source": [
    "# import the libraries needed for this page\n",
    "import numpy as np\n",
    "import pandas as pd"
   ]
  },
  {
   "cell_type": "markdown",
   "id": "46349cc0",
   "metadata": {},
   "source": [
    "## Numpy arrays\n",
    "\n",
    "Let's say we have some data that applies to a set of countries, and we have some countries in mind:"
   ]
  },
  {
   "cell_type": "code",
   "execution_count": null,
   "id": "1fbb6293",
   "metadata": {},
   "outputs": [],
   "source": [
    "country_names_array = np.array(['Australia', 'Brazil', 'Canada',\n",
    "                                'China', 'Germany', 'Spain',\n",
    "                                'France', 'United Kingdom', 'India',\n",
    "                                'Italy', 'Japan', 'South Korea',\n",
    "                                'Mexico', 'Russia', 'United States'])\n",
    "country_names_array"
   ]
  },
  {
   "cell_type": "markdown",
   "id": "68c4989f",
   "metadata": {},
   "source": [
    "For compactness, we'll also want to use the corresponding [standard\n",
    "three-letter code](https://en.wikipedia.org/wiki/ISO_3166-1_alpha-3) for each\n",
    "country, like so:"
   ]
  },
  {
   "cell_type": "code",
   "execution_count": null,
   "id": "527d61fc",
   "metadata": {},
   "outputs": [],
   "source": [
    "country_codes_array = np.array(['AUS', 'BRA', 'CAN',\n",
    "                                'CHN', 'DEU', 'ESP',\n",
    "                                'FRA', 'GBR', 'IND',\n",
    "                                'ITA', 'JPN', 'KOR',\n",
    "                                'MEX', 'RUS', 'USA'])\n",
    "country_codes_array"
   ]
  },
  {
   "cell_type": "markdown",
   "id": "75431f8f",
   "metadata": {},
   "source": [
    "For each of these countries, we have a Human Development Index (HDI) score. The\n",
    "HDI score for a country is a summary over multiple dimensions of human\n",
    "development: life expectancy, average years of schooling and Gross National\n",
    "Income per capita. \n",
    "\n",
    "![](images/hdiRoadMap.png)\n",
    "\n",
    "([Image credit](https://hdr.undp.org/data-center/human-development-index#/indices/HDI)))"
   ]
  },
  {
   "cell_type": "code",
   "execution_count": null,
   "id": "5430fdeb",
   "metadata": {},
   "outputs": [],
   "source": [
    "# Human Development Index Scores for each country\n",
    "hdis_array = np.array([0.896, 0.668, 0.89 , 0.586,\n",
    "                       0.844, 0.89 , 0.49 , 0.842,\n",
    "                       0.883, 0.709, 0.733, 0.824,\n",
    "                       0.828, 0.863, 0.894])\n",
    "\n",
    "hdis_array"
   ]
  },
  {
   "cell_type": "markdown",
   "id": "c038815c",
   "metadata": {},
   "source": [
    "By the way, these data are real; they come from statistics compiled by the United Nations. For simplicity, we are only looking at data from the year 2000.  Again, see the [Our World in Data page](https://ourworldindata.org/grapher/children-per-woman-vs-human-development-index) for more detail.\n",
    "\n",
    "Let's say we also have the fertility rate for each country.  The fertility\n",
    "rate is the average number of children born to to each woman. In due course,\n",
    "we're interested to see whether HDI can predict the fertility rate values."
   ]
  },
  {
   "cell_type": "code",
   "execution_count": null,
   "id": "b1879fd3",
   "metadata": {},
   "outputs": [],
   "source": [
    "# Fertility rate scores for each country\n",
    "fert_rates_array = np.array([1.764, 2.247, 1.51 , 1.628,\n",
    "                             1.876, 1.386, 3.35 , 1.249,\n",
    "                             1.346, 2.714, 1.19 , 1.467,\n",
    "                             1.21 , 1.641, 2.03 ])\n",
    "\n",
    "fert_rates_array"
   ]
  },
  {
   "cell_type": "markdown",
   "id": "f8c35f7d",
   "metadata": {},
   "source": [
    "As experienced data analysts, we first want to inspect this relationship\n",
    "graphically, for example with the [Matplotlib\n",
    "library](https://matplotlib.org). Later, we will see that Pandas offers us\n",
    "some streamlined ways of plotting data, without importing other libraries."
   ]
  },
  {
   "cell_type": "code",
   "execution_count": null,
   "id": "f73484b6",
   "metadata": {},
   "outputs": [],
   "source": [
    "# Some basic plotting with Matplotlib.\n",
    "import matplotlib.pyplot as plt\n",
    "\n",
    "plt.scatter(hdis_array, fert_rates_array)\n",
    "plt.xlabel('Human Development Index')\n",
    "plt.ylabel('Fertility Rate');"
   ]
  },
  {
   "cell_type": "markdown",
   "id": "b2f57fae",
   "metadata": {},
   "source": [
    "## Pandas Series (aka an array + an index)\n",
    "\n",
    "(Aka is an [abbreviation for Also Known\n",
    "As](https://writingexplained.org/aka-or-aka).)\n",
    "\n",
    "We want a good way to keep it clear which value corresponds to each country.\n",
    "We're going to start with the HDI values.\n",
    "\n",
    "One way of doing that is to make a new data structure that contains the HDI values, but also has *labels* for each value.  Pandas has an object for that, called a `Series`.  You can construct a Series by passing the values and the labels:"
   ]
  },
  {
   "cell_type": "code",
   "execution_count": null,
   "id": "8cc508dc",
   "metadata": {},
   "outputs": [],
   "source": [
    "# Make a Series from the `hdis_array`\n",
    "hdi_series =  pd.Series(hdis_array, index=country_codes_array)\n",
    "hdi_series"
   ]
  },
  {
   "cell_type": "markdown",
   "id": "46e22795",
   "metadata": {},
   "source": [
    "Notice the `index=` named argument.  Pandas calls the collection of labels for\n",
    "each value - the *Index*.  Think of the Index as you would an index for\n",
    "a book.  As the index in a book gives you the page number corresponding to\n",
    "particular word, the Pandas Index of a Series is a way of finding the element\n",
    "(value) corresponding to a particular country code.\n",
    "\n",
    "We can get to the collection of labels with\n",
    "the `.index` attribute of the Series.\n"
   ]
  },
  {
   "cell_type": "code",
   "execution_count": null,
   "id": "2c9ed7f0",
   "metadata": {},
   "outputs": [],
   "source": [
    "# Show the index of `hdi_series`\n",
    "hdi_series.index"
   ]
  },
  {
   "cell_type": "markdown",
   "id": "cef334ef",
   "metadata": {},
   "source": [
    "`hdi_series` also contains the HDI values, accessible with the `.values`\n",
    "attribute:"
   ]
  },
  {
   "cell_type": "code",
   "execution_count": null,
   "id": "88e41c06",
   "metadata": {},
   "outputs": [],
   "source": [
    "# Show the values (data) in `hdi_series`\n",
    "hdi_series.values"
   ]
  },
  {
   "cell_type": "markdown",
   "id": "6cd5e0ba",
   "metadata": {},
   "source": [
    "Think of the Series as an object that associates an array of values\n",
    "(`.values`) with the corresponding labels for each value (`.index`).\n",
    "\n",
    "We can access values from their corresponding label, by using the `.loc`\n",
    "accessor, an attribute of the Series object."
   ]
  },
  {
   "cell_type": "code",
   "execution_count": null,
   "id": "7d66dba6",
   "metadata": {},
   "outputs": [],
   "source": [
    "# Using label based indexing to view a specific value.\n",
    "hdi_series.loc['MEX']"
   ]
  },
  {
   "cell_type": "markdown",
   "id": "60427e11",
   "metadata": {},
   "source": [
    "`.loc` is an accessor that allows us to pass labels (that are present in the\n",
    "`.index`), and that returns the corresponding value(s).  Here we ask for more\n",
    "than one value, by passing in a list of labels:"
   ]
  },
  {
   "cell_type": "code",
   "execution_count": null,
   "id": "bb813db3",
   "metadata": {},
   "outputs": [],
   "source": [
    "# Using label based indexing to view two specific values.\n",
    "hdi_series.loc[['KOR', 'USA']]"
   ]
  },
  {
   "cell_type": "markdown",
   "id": "6c24929d",
   "metadata": {},
   "source": [
    "Notice above, that passing one label to `.loc` returns the value, but passing\n",
    "two or more labels to `.loc` returns a subset of the Series.   Put another\n",
    "way, one label gives a value, but more than one label gives a Series.\n",
    "\n",
    "Indexing with `.loc` is called *label-based indexing*.  You can also index by\n",
    "position, as you would with a Numpy array.  Let's remind ourselves of basic\n",
    "indexing in Numpy; to get the thirteenth value in the *Numpy array* of HDI\n",
    "values, one could run:"
   ]
  },
  {
   "cell_type": "code",
   "execution_count": null,
   "id": "957d19e6",
   "metadata": {},
   "outputs": [],
   "source": [
    "# Using integer-based indexing to retrieve a specific value from an *array*.\n",
    "hdis_array[12]"
   ]
  },
  {
   "cell_type": "markdown",
   "id": "898c7fe9",
   "metadata": {},
   "source": [
    "Numpy indexing with integers, like the above, is always indexing *by\n",
    "position*. We count from 0, so position 12 contains the thirteenth element.\n",
    "\n",
    "You can do the same type of indexing with a Pandas series, with the `.iloc`\n",
    "accessor.  Think of `.iloc` as *integer* indexing, or, if you like, `loc`ating\n",
    "with `i`ntegers."
   ]
  },
  {
   "cell_type": "code",
   "execution_count": null,
   "id": "b8a638a8",
   "metadata": {},
   "outputs": [],
   "source": [
    "# Get the 13th element with `iloc` indexing.\n",
    "hdi_series.iloc[12]"
   ]
  },
  {
   "cell_type": "code",
   "execution_count": null,
   "id": "13861ecb",
   "metadata": {},
   "outputs": [],
   "source": [
    "# Get the 12th and 15th element with `.iloc` indexing.\n",
    "hdi_series.iloc[[11, 14]]"
   ]
  },
  {
   "cell_type": "markdown",
   "id": "961aab03",
   "metadata": {},
   "source": [
    "Notice again that one integer to `.iloc` gives a value, but two or more\n",
    "integers gives a Series.\n",
    "\n",
    "You can already imagine that this kind of label-based indexing could be\n",
    "useful, because it is easier to avoid mistakes with:"
   ]
  },
  {
   "cell_type": "code",
   "execution_count": null,
   "id": "22025fdf",
   "metadata": {},
   "outputs": [],
   "source": [
    "hdi_series.loc['MEX']"
   ]
  },
  {
   "cell_type": "markdown",
   "id": "e1932439",
   "metadata": {},
   "source": [
    "than it is to work out the position of Mexico in the array of values, and then\n",
    "do:"
   ]
  },
  {
   "cell_type": "code",
   "execution_count": null,
   "id": "6fd8fb6d",
   "metadata": {},
   "outputs": [],
   "source": [
    "hdis_array[11]  # Was Mexico really at position 11?"
   ]
  },
  {
   "cell_type": "markdown",
   "id": "118011db",
   "metadata": {},
   "source": [
    "— oh, whoops, we mean:"
   ]
  },
  {
   "cell_type": "code",
   "execution_count": null,
   "id": "cd24470d",
   "metadata": {},
   "outputs": [],
   "source": [
    "hdis_array[12]  # Ouch, no, it was at position 12."
   ]
  },
  {
   "cell_type": "markdown",
   "id": "1058fbe3",
   "metadata": {},
   "source": [
    "As well as being harder to make mistakes, it makes the code easier to read,\n",
    "and therefore, easier to debug.\n",
    "\n",
    "But the real value from this idea comes when you have more than one Series\n",
    "with corresponding labels.\n",
    "\n",
    "For example, we can also make a Series with the fertility rate (`fert_rate`)\n",
    "data, like this:"
   ]
  },
  {
   "cell_type": "code",
   "execution_count": null,
   "id": "c6ba21fd",
   "metadata": {},
   "outputs": [],
   "source": [
    "# make a series of the fertility rates\n",
    "fert_rate_series = pd.Series(fert_rates_array, index=country_codes_array)\n",
    "fert_rate_series"
   ]
  },
  {
   "cell_type": "markdown",
   "id": "22fc7dd0",
   "metadata": {},
   "source": [
    "But now imagine we want to look at the corresponding `HDI` and `fert_rate`\n",
    "values.  We can do this separately, for each Series, like this:"
   ]
  },
  {
   "cell_type": "code",
   "execution_count": null,
   "id": "1afd1426",
   "metadata": {},
   "outputs": [],
   "source": [
    "# Label-based indexing\n",
    "fert_rate_series.loc['MEX']"
   ]
  },
  {
   "cell_type": "code",
   "execution_count": null,
   "id": "c91e350a",
   "metadata": {},
   "outputs": [],
   "source": [
    "# Label-based indexing\n",
    "hdi_series.loc['MEX']"
   ]
  },
  {
   "cell_type": "markdown",
   "id": "d4a25675",
   "metadata": {},
   "source": [
    "## Pandas Data Frames (aka dictionary-like collection of series)\n",
    "\n",
    "Imagine though, that we're going to be doing this for multiple countries, and\n",
    "that we have multiple (not just two) values per country.  We would like a way\n",
    "of putting these Series together into something like a table, where the rows\n",
    "have labels (just as the Series values do), and the columns have names.\n",
    "\n",
    "Each Series corresponds to one column in this table.  Pandas calls these\n",
    "tables *Data Frames*."
   ]
  },
  {
   "cell_type": "code",
   "execution_count": null,
   "id": "3e4c3fb8",
   "metadata": {},
   "outputs": [],
   "source": [
    "# Creating a DataFrame from a dictionary\n",
    "df = pd.DataFrame({'Human Development Index': hdi_series,\n",
    "                   'Fertility Rate': fert_rate_series})\n",
    "df"
   ]
  },
  {
   "cell_type": "markdown",
   "id": "1b0032ca",
   "metadata": {},
   "source": [
    "Think of the Data Frame as being like a dictionary of Series.\n",
    "\n",
    "* The keys in this dictionary are the column names we provided: `Human\n",
    "  Development Index` and `Fertility Rate`.\n",
    "* The values are the corresponding Series.\n",
    "\n",
    "Notice that the Data Frame, like the Series, has an Index:"
   ]
  },
  {
   "cell_type": "code",
   "execution_count": null,
   "id": "59eebc41",
   "metadata": {},
   "outputs": [],
   "source": [
    "# The Index of the Data Frame.\n",
    "df.index"
   ]
  },
  {
   "cell_type": "markdown",
   "id": "c10dd846",
   "metadata": {},
   "source": [
    "Pandas created the Data Frame Index by looking at the Index of each of the\n",
    "Series from which we built the Data Frame.  In this case, the Series had the\n",
    "same values in their Indices, so the Index for the Data Frame is the same as\n",
    "the Index for the two Series.\n",
    "\n",
    "Perhaps your agile mind is racing ahead, wondering what Pandas would do if the\n",
    "two Series had different Indices, and your speculations would likely be\n",
    "correct, but we will come onto that soon enough.\n",
    "\n",
    "We can get the `Human Development Index` (`hdi`) series by name, by indexing\n",
    "directly into the Data Frame, like this:"
   ]
  },
  {
   "cell_type": "code",
   "execution_count": null,
   "id": "301d1d5f",
   "metadata": {
    "lines_to_next_cell": 2
   },
   "outputs": [],
   "source": [
    "# getting the `hdi` series by name\n",
    "hdi_from_df = df['Human Development Index']\n",
    "hdi_from_df"
   ]
  },
  {
   "cell_type": "markdown",
   "id": "574acbec",
   "metadata": {
    "language": "note",
    "lines_to_next_cell": 2
   },
   "source": [
    "```{note}\n",
    "Direct and indirect indexing\n",
    "\n",
    "We use the term *direct indexing* to mean indexing without going through an\n",
    "accessor.  Direct indexing therefore, is where the opening square bracket\n",
    "follows the value, as in: `df['Human Development Index']`.  There is no\n",
    "accessor method between the value `df` and the opening square bracket.  It is\n",
    "a detail for our purposes, but this means it is the `df.__getitem__` method\n",
    "that handles the indexing request.\n",
    "\n",
    "By contrast, *indirect indexing* is where we index into the object via an\n",
    "*accessor method* such as `loc` and `iloc`.  In this case, the square bracket\n",
    "follows the accessor method name, rather than the object itself.  Thus\n",
    "`df.iloc[0]` (see below) is indirect indexing, using the `iloc` accessor.\n",
    "Again, this is a detail, but this indirect indexing means it is the\n",
    "`df.iloc.__getitem__` method that handles the indexing request.\n",
    "\n",
    "In general, in Pandas, the output of direct indexing differs from that of\n",
    "indirect indexing with `.loc` or `.iloc`, although the behavior of direct\n",
    "indexing tends to be more similar to `.loc` than `.iloc`.\n",
    "```"
   ]
  },
  {
   "cell_type": "markdown",
   "id": "8eba64d3",
   "metadata": {},
   "source": [
    "Notice that direct indexing into the Data Frame returns a Series, extracted\n",
    "from the Data Frame."
   ]
  },
  {
   "cell_type": "code",
   "execution_count": null,
   "id": "1b30e322",
   "metadata": {},
   "outputs": [],
   "source": [
    "# show the type of `hdi_from_df`\n",
    "type(hdi_from_df)"
   ]
  },
  {
   "cell_type": "markdown",
   "id": "c5bed93b",
   "metadata": {},
   "source": [
    "Notice too, that the extracted Series now has an extra attribute, which is the\n",
    "`name`.\n",
    "\n",
    "We said above that Series are the association between an array of `.values`, and a corresponding collection of labels, in `.index`.  Now we see that the Series also has a `.name`, that we had not set in our original series:"
   ]
  },
  {
   "cell_type": "code",
   "execution_count": null,
   "id": "9cefa39f",
   "metadata": {},
   "outputs": [],
   "source": [
    "# The `name` attribute of the Series we've extracted from the Data Frame.\n",
    "hdi_from_df.name"
   ]
  },
  {
   "cell_type": "markdown",
   "id": "a9e23045",
   "metadata": {},
   "source": [
    "Above, when we first built the series of HDI values and labels with\n",
    "`pd.Series`, we not set the name of the Series, so it got the default `.name`\n",
    "of `None`."
   ]
  },
  {
   "cell_type": "code",
   "execution_count": null,
   "id": "6a2dd502",
   "metadata": {},
   "outputs": [],
   "source": [
    "# This was the original series we built with pd.Series.\n",
    "hdi_series.name is None"
   ]
  },
  {
   "cell_type": "markdown",
   "id": "e6fa1dba",
   "metadata": {},
   "source": [
    "We can also use the `.loc` and `.iloc` accessor methods on the Data Frame, to\n",
    "get rows by label (index value) or by position:"
   ]
  },
  {
   "cell_type": "code",
   "execution_count": null,
   "id": "c69fefc0",
   "metadata": {},
   "outputs": [],
   "source": [
    "# Using `.loc` and the Series name\n",
    "df.loc['MEX']"
   ]
  },
  {
   "cell_type": "markdown",
   "id": "58a9fba9",
   "metadata": {},
   "source": [
    "Notice what Pandas did here.  As for `.loc` indexing into Series, `.loc`\n",
    "indexing into the Data Frame *with a single label* returns the *contents* of\n",
    "the row.   And Pandas, being a general thinker, sees that the contents of the\n",
    "row are values, that have labels, where the labels are the column names.  Thus\n",
    "it returns the row to you as a new Series, where the Series has values from\n",
    "the row values, and labels from the column names.\n",
    "\n",
    "Indexing with more than one value returns a subset of the Data Frame.  In\n",
    "strict parallel to indexing into a Series, indexing with multiple values into\n",
    "a Data Frame, returns a subset of the Data Frame, which is itself, a Data\n",
    "Frame."
   ]
  },
  {
   "cell_type": "code",
   "execution_count": null,
   "id": "58c7c829",
   "metadata": {},
   "outputs": [],
   "source": [
    "# Using `.loc` with index labels\n",
    "df.loc[['KOR', 'USA']]"
   ]
  },
  {
   "cell_type": "markdown",
   "id": "2187c7dc",
   "metadata": {},
   "source": [
    "## What is a Series?  What is a Data Frame?\n",
    "\n",
    "A *Series* is the association of:\n",
    "\n",
    "* An array of values (`.values`)\n",
    "* A sequence of labels for each value (`.index`)\n",
    "* A name (which can be `None`).\n",
    "\n",
    "A *Data Frame* is a dictionary-like collection of Series.\n",
    "\n",
    "For a Series, the `.index` has labels corresponding to the *values*.\n",
    "\n",
    "For a Data Frame, the `.index` has labels corresponding the *rows*.\n"
   ]
  },
  {
   "cell_type": "markdown",
   "id": "c0f774c4",
   "metadata": {},
   "source": [
    "## Adding additional data to our Data Frame\n",
    "\n",
    "The dataset we have used for our \"handmade\" Data Frame contains more than two\n",
    "columns. Let's use the same \"hand-building\" process to add additional data\n",
    "into our Data Frame. We then compare the hand-built Data Frame to a Data Frame\n",
    "Pandas generates by importing data from a file.\n",
    "\n",
    "First, we make another Numpy array, containing the full name of each country."
   ]
  },
  {
   "cell_type": "code",
   "execution_count": null,
   "id": "c9c5efbf",
   "metadata": {},
   "outputs": [],
   "source": [
    "# making an array containing the name of each country\n",
    "country_name_array = np.array(['Australia', 'Brazil', 'Canada',\n",
    "                               'China', 'Germany', 'Spain',\n",
    "                               'France', 'United Kingdom', 'India',\n",
    "                               'Italy', 'Japan', 'South Korea',\n",
    "                               'Mexico', 'Russia', 'United States'])\n",
    "country_name_array"
   ]
  },
  {
   "cell_type": "markdown",
   "id": "90d151e5",
   "metadata": {},
   "source": [
    "Now, we get the population of each country:"
   ]
  },
  {
   "cell_type": "code",
   "execution_count": null,
   "id": "09570c24",
   "metadata": {},
   "outputs": [],
   "source": [
    "# The population of each country in millions, in the year 2000.\n",
    "# (The numbers are in millions because that was easier to type and read).\n",
    "pop_in_millions = np.array([  19.132473, 174.018276,   30.8918,\n",
    "                            1269.58116,   81.797255,   41.019773,\n",
    "                              59.483716,  59.057336, 1057.92273,\n",
    "                              57.2722,   127.027796,   46.766659,\n",
    "                              98.625554, 146.717784,  281.484127])\n",
    "# Convert to population by multiplying by one million.\n",
    "population_array = pop_in_millions * 1_000_000\n",
    "population_array"
   ]
  },
  {
   "cell_type": "markdown",
   "id": "4b088db1",
   "metadata": {},
   "source": [
    "We can add a new column to the Data Frame by placing the `name` we want for\n",
    "the column inside square brackets, and assigning a numpy array to be the\n",
    "`.values` for that column:"
   ]
  },
  {
   "cell_type": "code",
   "execution_count": null,
   "id": "85c0f0eb",
   "metadata": {},
   "outputs": [],
   "source": [
    "# Add the array as a column in the DataFrame.\n",
    "df['Population'] = population_array\n",
    "df"
   ]
  },
  {
   "cell_type": "markdown",
   "id": "16cfc0c0",
   "metadata": {},
   "source": [
    "Remember the maxim that \"a Data Frame is just a dictionary-like collection of\n",
    "Series\"?\n",
    "\n",
    "Our new `Population` column has now become a Series inside the `df` Data\n",
    "Frame. We specified the `name` attribute in the left-hand-side (LHS) in our\n",
    "assignment above:`df['Population'] = population_array`.  This assignment says\n",
    "\"take these values and make a new column (Series) named `'Population'` in the\n",
    "Data Frame\"."
   ]
  },
  {
   "cell_type": "code",
   "execution_count": null,
   "id": "0b369217",
   "metadata": {},
   "outputs": [],
   "source": [
    "# Show the .name attribute\n",
    "df['Population'].name"
   ]
  },
  {
   "cell_type": "markdown",
   "id": "6a53f342",
   "metadata": {},
   "source": [
    "We also specified the `values`:"
   ]
  },
  {
   "cell_type": "code",
   "execution_count": null,
   "id": "10ebd40d",
   "metadata": {},
   "outputs": [],
   "source": [
    "# Show the array containing the data\n",
    "df['Population'].values"
   ]
  },
  {
   "cell_type": "markdown",
   "id": "b0a19b0d",
   "metadata": {},
   "source": [
    "<!---\n",
    "MB bookmark.\n",
    "-->\n",
    "\n",
    "We can view both of these attributes, together with the `index` using the\n",
    "following syntax.  We are here using *direct indexing* into the Data Frame,\n",
    "with the column name between the indexing brackets, to specify what we want to\n",
    "select from the Data Frame:"
   ]
  },
  {
   "cell_type": "code",
   "execution_count": null,
   "id": "fd101b6d",
   "metadata": {},
   "outputs": [],
   "source": [
    "# Fetch Series named 'Population' using direct indexing into the DataFrame.\n",
    "df['Population']"
   ]
  },
  {
   "cell_type": "markdown",
   "id": "f582bb87",
   "metadata": {},
   "source": [
    "Notice that the `'Population` Series has an Index, and the Index is the same\n",
    "as the Index of the Data Frame.  In other words, in extracting the\n",
    "`'Population'` Series, the Series has inherited the Index from the Data Frame.\n",
    "\n",
    "Each Data Frame column is a Series. In this case, we supplied a `name` and a numpy array for `values`. The `pd.DataFrame()` constructor automatically made these in to a Series.\n",
    "\n",
    "We can use the `pd.Series()` constructor manually to build the same Series:"
   ]
  },
  {
   "cell_type": "code",
   "execution_count": null,
   "id": "e43634a8",
   "metadata": {},
   "outputs": [],
   "source": [
    "# we can also do this \"manually\"\n",
    "population_series = pd.Series(population_array, \n",
    "                                name='Population', \n",
    "                                index=country_codes_array)\n",
    "\n",
    "population_series"
   ]
  },
  {
   "cell_type": "markdown",
   "id": "32217198",
   "metadata": {},
   "source": [
    "Let's use the same `df['Name'] = array` syntax to add a final column to our Data Frame, containing the full country names:"
   ]
  },
  {
   "cell_type": "code",
   "execution_count": null,
   "id": "4a9eefb0",
   "metadata": {},
   "outputs": [],
   "source": [
    "# adding in the country names\n",
    "df['Country Name'] = country_names_array"
   ]
  },
  {
   "cell_type": "markdown",
   "id": "e8fa0b16",
   "metadata": {},
   "source": [
    "Here is our full Data Frame - built \"by hand\" from raw ingredients - in it's resplendent glory:"
   ]
  },
  {
   "cell_type": "code",
   "execution_count": null,
   "id": "acab965e",
   "metadata": {},
   "outputs": [],
   "source": [
    "# view the full DataFrame\n",
    "df"
   ]
  },
  {
   "cell_type": "markdown",
   "id": "499e80b4",
   "metadata": {},
   "source": [
    "## Comparing our \"handmade\" Data Frame a Data Frame imported from a csv file\n",
    "\n",
    "Here we have built a Data Frame from scratch, to deepen our understanding of what a Data Frame is made from.\n",
    "\n",
    "The cell below shows the normal method of importing data into a Data Frame. We use the `pd.read_csv()` function to read in the data from a `.csv` file:"
   ]
  },
  {
   "cell_type": "code",
   "execution_count": null,
   "id": "0d85733b",
   "metadata": {},
   "outputs": [],
   "source": [
    "# import data from a csv file\n",
    "hdi_fert = pd.read_csv(\"data/year_2000_hdi_fert.csv\")\n",
    "hdi_fert"
   ]
  },
  {
   "cell_type": "markdown",
   "id": "a85a85fb",
   "metadata": {},
   "source": [
    "You'll notice that currently, the index of the Data Frame we just imported is a sequence of numbers. This is the default Pandas `index` (e.g. it is the `index` Pandas will create if it is not told to do anything different). We'll look more at this default `index` on the next page.\n",
    "\n",
    "We can use the `.set_index()` method to set the three-letter country codes to be the `index`. We will look more at Pandas methods in later pages.\n",
    "\n",
    "Here we just tell `.set_index()` what column name we want to use as the `index` - in this case we use the `'Code'` column, containing the country codes:"
   ]
  },
  {
   "cell_type": "code",
   "execution_count": null,
   "id": "8b4b32a8",
   "metadata": {},
   "outputs": [],
   "source": [
    "# we can make them identical by setting the \"Code\" column as the index, in the imported data\n",
    "hdi_fert = hdi_fert.set_index('Code')\n",
    "\n",
    "hdi_fert"
   ]
  },
  {
   "cell_type": "markdown",
   "id": "3984b7c7",
   "metadata": {},
   "source": [
    "Let's compare this to our \"hand-built\" Data Frame:"
   ]
  },
  {
   "cell_type": "code",
   "execution_count": null,
   "id": "9775751e",
   "metadata": {},
   "outputs": [],
   "source": [
    "# \"handmade\" DataFrame\n",
    "df"
   ]
  },
  {
   "cell_type": "markdown",
   "id": "12bb92c6",
   "metadata": {},
   "source": [
    "The `hdi_fert` Data Frame was automatically built by Pandas, when reading in a `.csv` file using `pd.read_csv()`.\n",
    "\n",
    "The `df` Data Frame was hand-built by use from numpy arrays and strings.\n",
    "\n",
    "They both contain the same data, and are both dictionary-like collections of Series.\n",
    "\n",
    "Each column in each Data Frame is a Series. Each Series has a `name`, and `index` and `values`.\n"
   ]
  },
  {
   "cell_type": "markdown",
   "id": "30afb665",
   "metadata": {},
   "source": [
    "## Convenient Plotting with Data Frames\n",
    "\n",
    "Remember earlier we imported some extra libraries to plot some of our data?\n",
    "\n",
    "Now we have a Data Frame, we can use the Data Frame's in-built plotting machinery, to make the same graph. To do this, we just use the `.plot()` method, specify a Data Frame column to plot on the `x` axis, and a column to plot on the `y` axis. We use the `kind=` argument to tell Pandas what type of plot we want (in this case a scatter plot):"
   ]
  },
  {
   "cell_type": "code",
   "execution_count": null,
   "id": "979de242",
   "metadata": {},
   "outputs": [],
   "source": [
    "# plotting with Pandas\n",
    "df.plot(x='Human Development Index',\n",
    "        y='Fertility Rate',\n",
    "        kind='scatter');"
   ]
  }
 ],
 "metadata": {
  "jupytext": {
   "formats": "ipynb,Rmd",
   "notebook_metadata_filter": "all,-language_info",
   "split_at_heading": true
  },
  "kernelspec": {
   "display_name": "Python (Pyodide)",
   "name": "python"
  }
 },
 "nbformat": 4,
 "nbformat_minor": 5
}
