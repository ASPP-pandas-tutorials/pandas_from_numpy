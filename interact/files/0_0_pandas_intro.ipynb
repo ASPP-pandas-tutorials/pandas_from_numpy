{
 "cells": [
  {
   "cell_type": "markdown",
   "id": "d5ed9ef7",
   "metadata": {},
   "source": [
    "# Pandas from Numpy\n",
    "\n",
    "\n",
    "By Matthew Brett and Peter Rush\n",
    "\n",
    "This tutorial will show the fundamental structure of pandas Data Frames. We will look at the components that constitute a Data Frame - for instance, numpy arrays - in order to gain a deeper understanding of the raw ingredients that more advanced pandas methods and functions operate on.\n",
    "\n",
    "## What is Pandas?\n",
    "\n",
    "Pandas is an open-source python library for data manipulation and analysis. \n",
    "\n",
    "```{note}\n",
    "Why is Pandas called Pandas?\n",
    "\n",
    "The “Pandas” name is short for “panel data”. The library was named after the type of econometrics panel data that it was designed to analyse. [Panel data](https://www.google.com/url?sa=t&rct=j&q=&esrc=s&source=web&cd=&cad=rja&uact=8&ved=2ahUKEwijqt63p9eMAxUExzgGHcYrLE8QFnoECCIQAw&url=https%3A%2F%2Fen.wikipedia.org%2Fwiki%2FPanel_data%23%3A~%3Atext%3DPanel%2520data%2520is%2520a%2520subset%2Ctime%2520point%2520for%2520the%2520latter.&usg=AOvVaw2LP6yj5mwB4_1164F8n-Bt&opi=89978449) is longitudinal data where the same observational units (e.g. countries) are observed over multiple instances across time. \n",
    "```\n",
    "\n",
    "The pandas Data Frame is the most important feature of the pandas library. Data Frames, as the name suggests, contain not only the data for an analysis, but a toolkit of methods for cleaning, plotting and interacting with the data in flexible ways. For more information about pandas see [this page](https://pandas.pydata.org/about/).\n",
    "\n",
    "Normally, we ask Pandas to create Data Frames by reading a data file (like a `.csv` file) Before we do that however, we will build our own Data Frame from scratch, beginning with the fundamental building block for Data Frames: Numpy arrays."
   ]
  },
  {
   "cell_type": "code",
   "execution_count": null,
   "id": "3963a616",
   "metadata": {},
   "outputs": [],
   "source": [
    "# import the libraries needed for this page\n",
    "import numpy as np\n",
    "import pandas as pd"
   ]
  },
  {
   "cell_type": "markdown",
   "id": "8066c69a",
   "metadata": {},
   "source": [
    "## Numpy arrays\n",
    "\n",
    "Let's say we have some data that applies to a set of countries, and we have some countries in mind:"
   ]
  },
  {
   "cell_type": "code",
   "execution_count": null,
   "id": "3c587a01",
   "metadata": {},
   "outputs": [],
   "source": [
    "country_names_array = np.array(['Australia', 'Brazil', 'Canada',\n",
    "                          'China', 'Germany', 'Spain',\n",
    "                          'France', 'United Kingdom', 'India',\n",
    "                          'Italy', 'Japan', 'South Korea',\n",
    "                          'Mexico', 'Russia', 'United States'])\n",
    "country_names_array"
   ]
  },
  {
   "cell_type": "markdown",
   "id": "d46f13fe",
   "metadata": {},
   "source": [
    "For compactness, we'll also want to use the corresponding [standard three-letter code](https://en.wikipedia.org/wiki/ISO_3166-1_alpha-3) for each country, like so:"
   ]
  },
  {
   "cell_type": "code",
   "execution_count": null,
   "id": "284a54ec",
   "metadata": {},
   "outputs": [],
   "source": [
    "country_codes_array = np.array(['AUS', 'BRA', 'CAN',\n",
    "                          'CHN', 'DEU', 'ESP',\n",
    "                          'FRA', 'GBR', 'IND',\n",
    "                          'ITA', 'JPN', 'KOR',\n",
    "                          'MEX', 'RUS', 'USA'])\n",
    "country_codes_array"
   ]
  },
  {
   "cell_type": "markdown",
   "id": "5fb71d93",
   "metadata": {},
   "source": [
    "For each of these countries, we have a Human Development Index (HDI) score. The HDI score for a country is a summary over multiple dimensions of human development: life expectancy, average years of schooling and Gross National Income per capita. \n",
    "\n",
    "![](images/hdiRoadMap.png)\n",
    "\n",
    "(Image from [here.](https://hdr.undp.org/data-center/human-development-index#/indices/HDI))"
   ]
  },
  {
   "cell_type": "code",
   "execution_count": null,
   "id": "403a491a",
   "metadata": {},
   "outputs": [],
   "source": [
    "# Human Development Index Scores for each country\n",
    "hdis_array = np.array([0.896, 0.668, 0.89 , 0.586, \n",
    "                 0.844, 0.89 , 0.49 , 0.842, \n",
    "                 0.883, 0.709, 0.733, 0.824,\n",
    "                 0.828, 0.863, 0.894])\n",
    "\n",
    "hdis_array"
   ]
  },
  {
   "cell_type": "markdown",
   "id": "4c65c3f4",
   "metadata": {},
   "source": [
    "By the way, these data are real; they come from statistics compiled by the United Nations. For simplicity, we are looking just at data from the year 2000.  Again, see the [Our World in Data page](https://ourworldindata.org/grapher/children-per-woman-vs-human-development-index) for more detail.\n",
    "\n",
    "Let's say we also have the amount that fertility rate - that is, the total number of children born to an average woman - for each country. In due course, we're interested to see whether HDI can predict the fertility rate values."
   ]
  },
  {
   "cell_type": "code",
   "execution_count": null,
   "id": "2933690e",
   "metadata": {},
   "outputs": [],
   "source": [
    "# fertility rate scores for each country\n",
    "fert_rates_array = np.array([1.764, 2.247, 1.51 , 1.628,\n",
    "                       1.876, 1.386, 3.35 , 1.249,\n",
    "                       1.346, 2.714, 1.19 , 1.467,\n",
    "                       1.21 , 1.641, 2.03 ])\n",
    "\n",
    "fert_rates_array"
   ]
  },
  {
   "cell_type": "markdown",
   "id": "47f6e968",
   "metadata": {},
   "source": [
    "We probably will want to inspect this relationship graphically,  which we can do easily using the [Matplotlib library](https://matplotlib.org). Later, we will see that pandas offers us some streamlined ways of plotting data, without importing other libraries."
   ]
  },
  {
   "cell_type": "code",
   "execution_count": null,
   "id": "a6208b26",
   "metadata": {},
   "outputs": [],
   "source": [
    "# some basic plotting with matplotlib\n",
    "import matplotlib.pyplot as plt\n",
    "\n",
    "# change to matplotlib\n",
    "plt.scatter(hdis_array, fert_rates_array)\n",
    "plt.xlabel('Human Development Index')\n",
    "plt.ylabel('Fertility Rate');"
   ]
  },
  {
   "cell_type": "markdown",
   "id": "fc368d39",
   "metadata": {},
   "source": [
    "## Pandas Series (aka an array + an index)\n",
    "\n",
    "We want a good way to keep it clear which value corresponds to each country. We're going to start with the HDI values.\n",
    "\n",
    "One way of doing that is to make a new data structure, that contains the HDI values, but also has *labels* for each value.  Pandas has an object for that, called a `Series`.  You can construct a series by passing the values and the labels:"
   ]
  },
  {
   "cell_type": "code",
   "execution_count": null,
   "id": "f1db7d91",
   "metadata": {},
   "outputs": [],
   "source": [
    "# make a series from the `hdis_array`\n",
    "hdi_series =  pd.Series(hdis_array, \n",
    "                        index=country_codes_array)\n",
    "\n",
    "hdi_series"
   ]
  },
  {
   "cell_type": "markdown",
   "id": "e0046858",
   "metadata": {},
   "source": [
    "Notice the `index=` named argument.  Pandas terms the collection of labels for\n",
    "each value - the *index*.  Think of the index as you would an index for a book\n",
    "— it's a way to get from — in our case — the country code, to the\n",
    "corresponding value.  We can get to the collection of labels with the `.index`\n",
    "attribute of the Series."
   ]
  },
  {
   "cell_type": "code",
   "execution_count": null,
   "id": "e8cc1a30",
   "metadata": {},
   "outputs": [],
   "source": [
    "# show the index of `hdi_series`\n",
    "hdi_series.index"
   ]
  },
  {
   "cell_type": "markdown",
   "id": "84e0f51e",
   "metadata": {},
   "source": [
    "Of course `hdi_series` also contains the HDI values, accessible with the `.values` attribute:"
   ]
  },
  {
   "cell_type": "code",
   "execution_count": null,
   "id": "5662f2d2",
   "metadata": {},
   "outputs": [],
   "source": [
    "# show the values (data) in `hdi_series`\n",
    "hdi_series.values"
   ]
  },
  {
   "cell_type": "markdown",
   "id": "be1d808b",
   "metadata": {},
   "source": [
    "Think then of the Series as an object that associates an array of values (`.values`) with the corresponding labels for each value (`.index`).\n",
    "\n",
    "We can access values from their corresponding label, by using the `.loc` accessor, an attribute of the Series object."
   ]
  },
  {
   "cell_type": "code",
   "execution_count": null,
   "id": "2da484f8",
   "metadata": {},
   "outputs": [],
   "source": [
    "# using label based indexing to view a specific datapoint\n",
    "hdi_series.loc['MEX']"
   ]
  },
  {
   "cell_type": "markdown",
   "id": "b425071a",
   "metadata": {},
   "source": [
    "`.loc` is an accessor that allows us to pass labels (that are present in the\n",
    "`.index`), and returns the corresponding values.  Here we ask for more than\n",
    "one value, by passing in a list of labels:"
   ]
  },
  {
   "cell_type": "code",
   "execution_count": null,
   "id": "5fcabbcb",
   "metadata": {},
   "outputs": [],
   "source": [
    "# using label based indexing to view two specific datapoints\n",
    "hdi_series.loc[['KOR', 'USA']]"
   ]
  },
  {
   "cell_type": "markdown",
   "id": "94bf7524",
   "metadata": {},
   "source": [
    "Notice above, that passing one label to `.loc` returns the value, but passing two or more labels to `.loc` returns a subset of the Series.   Put another way, one label gives a value, but more than one label gives a Series.\n",
    "\n",
    "Indexing with `.loc` is called *label-based indexing*.  You can also index by\n",
    "position, as you would with a Numpy array.  To remind ourselves of basic\n",
    "indexing in Numpy, to get the thirteenth value in the Numpy array of HDI\n",
    "values, one could run:"
   ]
  },
  {
   "cell_type": "code",
   "execution_count": null,
   "id": "e8d967ce",
   "metadata": {},
   "outputs": [],
   "source": [
    "# using integer-based indexing to retrieve a specific datapoint\n",
    "hdi_series[12]"
   ]
  },
  {
   "cell_type": "markdown",
   "id": "613f09d0",
   "metadata": {},
   "source": [
    "Numpy indexing with integers, like the above, is always indexing by position.\n",
    "We count from 0, so position 12 contains the thirteenth element.\n",
    "\n",
    "You can do the same type of indexing with a Pandas series, with the `.iloc` accessor.  Think of `.iloc` as *integer* indexing, or, if you like, `loc`ating with `i`ntegers."
   ]
  },
  {
   "cell_type": "code",
   "execution_count": null,
   "id": "530a7a01",
   "metadata": {},
   "outputs": [],
   "source": [
    "# using the `iloc` method of indexing\n",
    "hdi_series.iloc[12]"
   ]
  },
  {
   "cell_type": "code",
   "execution_count": null,
   "id": "7f1ee95a",
   "metadata": {},
   "outputs": [],
   "source": [
    "# using the `iloc` method of indexing\n",
    "hdi_series.iloc[[11, 14]]"
   ]
  },
  {
   "cell_type": "markdown",
   "id": "335eb4e6",
   "metadata": {},
   "source": [
    "Notice again that one integer to `.iloc` gives a value, but two or more\n",
    "integers gives a Series.\n",
    "\n",
    "You can already imagine that this kind of label-based indexing could be\n",
    "useful, because it is easier to avoid mistakes with:"
   ]
  },
  {
   "cell_type": "code",
   "execution_count": null,
   "id": "61068c8b",
   "metadata": {},
   "outputs": [],
   "source": [
    "hdi_series.loc['MEX']"
   ]
  },
  {
   "cell_type": "markdown",
   "id": "02d53226",
   "metadata": {},
   "source": [
    "— than it is to work out the position of Mexico in the array, and do:"
   ]
  },
  {
   "cell_type": "code",
   "execution_count": null,
   "id": "a9817ffc",
   "metadata": {},
   "outputs": [],
   "source": [
    "hdis_array[11]  # Was Mexico at position 11?"
   ]
  },
  {
   "cell_type": "markdown",
   "id": "1ee74e7b",
   "metadata": {},
   "source": [
    "— oh, whoops, we mean:"
   ]
  },
  {
   "cell_type": "code",
   "execution_count": null,
   "id": "1d9e719d",
   "metadata": {},
   "outputs": [],
   "source": [
    "hdis_array[12]  # Ouch, no, it was a position 12."
   ]
  },
  {
   "cell_type": "markdown",
   "id": "c2c80baa",
   "metadata": {},
   "source": [
    "As well as being harder to make mistakes, it makes the code easier to read, and therefore, easier to debug.\n",
    "\n",
    "But the real value from this idea comes when you have more than one Series with corresponding labels.\n",
    "\n",
    "For example, we can also make a Series with the fertility rate (`fert_rate`) data, like this:"
   ]
  },
  {
   "cell_type": "code",
   "execution_count": null,
   "id": "6ef9932b",
   "metadata": {},
   "outputs": [],
   "source": [
    "# make a series of the fertility rates\n",
    "fert_rate_series = pd.Series(fert_rates_array, \n",
    "                             index=country_codes_array)\n",
    "fert_rate_series"
   ]
  },
  {
   "cell_type": "markdown",
   "id": "ca263547",
   "metadata": {},
   "source": [
    "But now imagine we want to look at the corresponding HDI and fert_rate values.   we can so this separately, for each Series, like this:"
   ]
  },
  {
   "cell_type": "code",
   "execution_count": null,
   "id": "7bec5034",
   "metadata": {},
   "outputs": [],
   "source": [
    "# label-based indexing\n",
    "fert_rate_series.loc['MEX']"
   ]
  },
  {
   "cell_type": "code",
   "execution_count": null,
   "id": "6971718f",
   "metadata": {},
   "outputs": [],
   "source": [
    "# label-based indexing\n",
    "hdi_series.loc['MEX']"
   ]
  },
  {
   "cell_type": "markdown",
   "id": "6be2a669",
   "metadata": {},
   "source": [
    "## Pandas Data Frames (a dictionary-like collection of series)\n",
    "\n",
    "Imagine though, that we're going to be doing this for multiple countries, and that we have multiple (not just two) values per country.  We would like a way of putting these Series together into a table, where the rows have labels (just as the Series values do), and the columns have names.\n",
    "\n",
    "Each Series corresponds to one column in this table.  Pandas calls these tables *Data Frames*."
   ]
  },
  {
   "cell_type": "code",
   "execution_count": null,
   "id": "599ac8eb",
   "metadata": {},
   "outputs": [],
   "source": [
    "# creating a dataframe from a dictionary\n",
    "df = pd.DataFrame({'Human Development Index': hdi_series, \n",
    "                  'Fertility Rate': fert_rate_series})\n",
    "df"
   ]
  },
  {
   "cell_type": "markdown",
   "id": "4fd3f792",
   "metadata": {},
   "source": [
    "Think of this Data Frame as being like a dictionary of Series.\n",
    "\n",
    "The keys in this dictionary are the column names we provided: `hdi` and `fert_rate`; the values are the corresponding Series.\n",
    "\n",
    "We can get the `hdi` series by name, by indexing directly into the Data Frame,\n",
    "like this:"
   ]
  },
  {
   "cell_type": "code",
   "execution_count": null,
   "id": "4f8eff7d",
   "metadata": {},
   "outputs": [],
   "source": [
    "# getting the `hdi` series by name\n",
    "hdi_from_df = df['Human Development Index']\n",
    "hdi_from_df"
   ]
  },
  {
   "cell_type": "markdown",
   "id": "1a3f5333",
   "metadata": {},
   "source": [
    "Notice this returns a Series, extracted back from the Data Frame."
   ]
  },
  {
   "cell_type": "code",
   "execution_count": null,
   "id": "64a0adf5",
   "metadata": {},
   "outputs": [],
   "source": [
    "# show the type of `hdi_from_df`\n",
    "type(hdi_from_df)"
   ]
  },
  {
   "cell_type": "markdown",
   "id": "c4bc2040",
   "metadata": {},
   "source": [
    "Notice too, that the Series now has an extra attribute, which is the Name.\n",
    "\n",
    "We said above that Series are the association between an array of `.values`, and a corresponding collection of labels, in `.index`.  Now we see that the Series also has a `.name`, that we had not set in our original series:"
   ]
  },
  {
   "cell_type": "code",
   "execution_count": null,
   "id": "4d4e9c98",
   "metadata": {},
   "outputs": [],
   "source": [
    "# This is the `name` attribute of the Series we've extracted from the Data Frame.\n",
    "hdi_from_df.name"
   ]
  },
  {
   "cell_type": "markdown",
   "id": "ee3d740f",
   "metadata": {},
   "source": [
    "As you can see, we had not set the name of the Series we built above using `pd.Series`, so it gets the default `.name` of `None`."
   ]
  },
  {
   "cell_type": "code",
   "execution_count": null,
   "id": "8cec4985",
   "metadata": {},
   "outputs": [],
   "source": [
    "# This was the original series we built with pd.Series.\n",
    "hdi_series.name is None"
   ]
  },
  {
   "cell_type": "markdown",
   "id": "5a989fc0",
   "metadata": {},
   "source": [
    "We can also use `.loc` and `.iloc` accessors on the Data Frame, to get rows by label (index value) or by position:"
   ]
  },
  {
   "cell_type": "code",
   "execution_count": null,
   "id": "f09abf95",
   "metadata": {},
   "outputs": [],
   "source": [
    "# using `.loc` and the Series name\n",
    "df.loc['MEX']"
   ]
  },
  {
   "cell_type": "markdown",
   "id": "6d8584a5",
   "metadata": {},
   "source": [
    "Notice what Pandas did here.  As for indexing into Series, indexing into the Data Frame *with a single label* returns the *contents* of the row.   And Pandas, being a general thinker, sees that the contents of the row are values, that have labels, where the labels are the column names.  Thus it returns the row to you as a new Series, where the Series has values from the row values, and labels from the column names.\n",
    "\n",
    "Notice too that indexing with more than one value, returns a subset of the Data Frame.  In strict parallel to indexing into a Series, indexing with multiple values into a Data Frame, returns a subset of the Data Frame, which is itself, a Data Frame."
   ]
  },
  {
   "cell_type": "code",
   "execution_count": null,
   "id": "fad56334",
   "metadata": {},
   "outputs": [],
   "source": [
    "# using `.loc` with index labels\n",
    "df.loc[['KOR', 'USA']]"
   ]
  },
  {
   "cell_type": "markdown",
   "id": "6cbd2d00",
   "metadata": {},
   "source": [
    "## What is a Series?  What is a Data Frame?\n",
    "\n",
    "A Series is the association of:\n",
    "\n",
    "* An array of values (`.values`)\n",
    "* A sequence of labels for each value (`.index`)\n",
    "* A name (which can be `None`).\n",
    "\n",
    "A Data Frame is a dictionary-like collection of Series.\n"
   ]
  },
  {
   "cell_type": "markdown",
   "id": "7156cc52",
   "metadata": {},
   "source": [
    "## Adding additional data to our Data Frame\n",
    "\n",
    "The dataset we have used for our \"handmade\" Data Frame contains more than two columns. Let's use the same \"hand-building\" process to add in additional data to our Data Frame, in order to then compare it to a non-\"hand built\" Data Frame, imported via the normal method.\n",
    "\n",
    "First, we make another numpy array, containing the name of each country."
   ]
  },
  {
   "cell_type": "code",
   "execution_count": null,
   "id": "b1a91f0f",
   "metadata": {},
   "outputs": [],
   "source": [
    "# making an array containing the name of each country\n",
    "country_name_array = np.array(['Australia', 'Brazil', 'Canada', 'China', 'Germany', 'Spain',\n",
    "                           'France', 'United Kingdom', 'India', 'Italy', 'Japan',\n",
    "                           'South Korea', 'Mexico', 'Russia', 'United States'])\n",
    "country_name_array"
   ]
  },
  {
   "cell_type": "markdown",
   "id": "7149d8c2",
   "metadata": {},
   "source": [
    "Now, we get the population of each country:"
   ]
  },
  {
   "cell_type": "code",
   "execution_count": null,
   "id": "6b54a469",
   "metadata": {},
   "outputs": [],
   "source": [
    "# making an array containing the population of each country (in the year 2000)\n",
    "population_array = np.array([1.91324730e+07, 1.74018276e+08, 3.08918000e+07, 1.26958116e+09,\n",
    "                       8.17972550e+07, 4.10197730e+07, 5.94837160e+07, 5.90573360e+07,\n",
    "                       1.05792273e+09, 5.72722000e+07, 1.27027796e+08, 4.67666590e+07,\n",
    "                       9.86255540e+07, 1.46717784e+08, 2.81484127e+08])\n",
    "                      \n",
    "population_array"
   ]
  },
  {
   "cell_type": "markdown",
   "id": "7f148efd",
   "metadata": {},
   "source": [
    "We can add a new column to the Data Frame by placing the `name` we want for the column inside square brackets, and assigning a numpy array to be the `.values` for that column:"
   ]
  },
  {
   "cell_type": "code",
   "execution_count": null,
   "id": "b98d2040",
   "metadata": {},
   "outputs": [],
   "source": [
    "# add the array to the DataFrame\n",
    "df['Population'] = population_array\n",
    "\n",
    "df"
   ]
  },
  {
   "cell_type": "markdown",
   "id": "500caccc",
   "metadata": {},
   "source": [
    "Remember the maxim that \"a Data Frame is just a dictionary-like collection of Series\"?\n",
    "\n",
    "Our new `Population` column is therefore nothing but a Series. We specified the `name` attribute in our assignment above. The command we used was `df['Population'] = population`:"
   ]
  },
  {
   "cell_type": "code",
   "execution_count": null,
   "id": "ed72a42a",
   "metadata": {},
   "outputs": [],
   "source": [
    "# show the .name attribute\n",
    "df['Population'].name"
   ]
  },
  {
   "cell_type": "markdown",
   "id": "8f186356",
   "metadata": {},
   "source": [
    "We also specified the `values`:"
   ]
  },
  {
   "cell_type": "code",
   "execution_count": null,
   "id": "6dd6d68a",
   "metadata": {},
   "outputs": [],
   "source": [
    "# show the array containing the data\n",
    "df['Population'].values"
   ]
  },
  {
   "cell_type": "markdown",
   "id": "62f5a021",
   "metadata": {},
   "source": [
    "We can view both of these attributes, together with the `index` using the following syntax:"
   ]
  },
  {
   "cell_type": "code",
   "execution_count": null,
   "id": "2526f388",
   "metadata": {},
   "outputs": [],
   "source": [
    "# show the full Series (note the index)\n",
    "df['Population']"
   ]
  },
  {
   "cell_type": "markdown",
   "id": "4421bade",
   "metadata": {},
   "source": [
    "The `index` here (of three-letter country codes) was inherited from the `population` array.\n",
    "\n",
    "Each Data Frame column is a Series. In this case, we supplied a `name` and a numpy array for `values`. The `pd.DataFrame()` constructor automatically made these in to a Series.\n",
    "\n",
    "We can use the `pd.Series()` constructor manually to build the same Series:"
   ]
  },
  {
   "cell_type": "code",
   "execution_count": null,
   "id": "9ace57bb",
   "metadata": {},
   "outputs": [],
   "source": [
    "# we can also do this \"manually\"\n",
    "population_series = pd.Series(population_array, \n",
    "                                name='Population', \n",
    "                                index=country_codes_array)\n",
    "\n",
    "population_series"
   ]
  },
  {
   "cell_type": "markdown",
   "id": "ac263551",
   "metadata": {},
   "source": [
    "Let's use the same `df['Name'] = array` syntax to add a final column to our Data Frame, containing the full country names:"
   ]
  },
  {
   "cell_type": "code",
   "execution_count": null,
   "id": "0becf617",
   "metadata": {},
   "outputs": [],
   "source": [
    "# adding in the country names\n",
    "df['Country Name'] = country_names_array"
   ]
  },
  {
   "cell_type": "markdown",
   "id": "325b6516",
   "metadata": {},
   "source": [
    "Here is our full Data Frame - built \"by hand\" from raw ingredients - in it's resplendent glory:"
   ]
  },
  {
   "cell_type": "code",
   "execution_count": null,
   "id": "45411738",
   "metadata": {},
   "outputs": [],
   "source": [
    "# view the full DataFrame\n",
    "df"
   ]
  },
  {
   "cell_type": "markdown",
   "id": "e477e536",
   "metadata": {},
   "source": [
    "## Comparing our \"handmade\" Data Frame a Data Frame imported from a csv file\n",
    "\n",
    "Here we have built a Data Frame from scratch, to deepen our understanding of what a Data Frame is made from.\n",
    "\n",
    "The cell below shows the normal method of importing data into a Data Frame. We use the `pd.read_csv()` function to read in the data from a `.csv` file:"
   ]
  },
  {
   "cell_type": "code",
   "execution_count": null,
   "id": "fcf06c10",
   "metadata": {},
   "outputs": [],
   "source": [
    "# import data from a csv file\n",
    "hdi_fert = pd.read_csv(\"data/year_2000_hdi_fert.csv\")\n",
    "\n",
    "hdi_fert"
   ]
  },
  {
   "cell_type": "markdown",
   "id": "fe310691",
   "metadata": {},
   "source": [
    "You'll notice that currently, the index of the Data Frame we just imported is a sequence of numbers. This is the default Pandas `index` (e.g. it is the `index` Pandas will create if it is not told to do anything different). We'll look more at this default `index` on the next page.\n",
    "\n",
    "We can use the `.set_index()` method to set the three-letter country codes to be the `index`. We will look more at Pandas methods in later pages.\n",
    "\n",
    "Here we just tell `.set_index()` what column name we want to use as the `index` - in this case we use the `'Code'` column, containing the country codes:"
   ]
  },
  {
   "cell_type": "code",
   "execution_count": null,
   "id": "eeb1bbd3",
   "metadata": {},
   "outputs": [],
   "source": [
    "# we can make them identical by setting the \"Code\" column as the index, in the imported data\n",
    "hdi_fert = hdi_fert.set_index('Code')\n",
    "\n",
    "hdi_fert"
   ]
  },
  {
   "cell_type": "markdown",
   "id": "ad24d6fd",
   "metadata": {},
   "source": [
    "Let's compare this to our \"hand-built\" Data Frame:"
   ]
  },
  {
   "cell_type": "code",
   "execution_count": null,
   "id": "91e84688",
   "metadata": {},
   "outputs": [],
   "source": [
    "# \"handmade\" DataFrame\n",
    "df"
   ]
  },
  {
   "cell_type": "markdown",
   "id": "dff0eb04",
   "metadata": {},
   "source": [
    "The `hdi_fert` Data Frame was automatically built by Pandas, when reading in a `.csv` file using `pd.read_csv()`.\n",
    "\n",
    "The `df` Data Frame was hand-built by use from numpy arrays and strings.\n",
    "\n",
    "They both contain the same data, and are both dictionary-like collections of Series.\n",
    "\n",
    "Each column in each Data Frame is a Series. Each Series has a `name`, and `index` and `values`.\n"
   ]
  },
  {
   "cell_type": "markdown",
   "id": "a2da2a46",
   "metadata": {},
   "source": [
    "## Convenient Plotting with Data Frames\n",
    "\n",
    "Remember earlier we imported some extra libraries to plot some of our data?\n",
    "\n",
    "Now we have a Data Frame, we can use the Data Frame's in-built plotting machinery, to make the same graph. To do this, we just use the `.plot()` method, specify a Data Frame column to plot on the `x` axis, and a column to plot on the `y` axis. We use the `kind=` argument to tell Pandas what type of plot we want (in this case a scatter plot):"
   ]
  },
  {
   "cell_type": "code",
   "execution_count": null,
   "id": "a9f42ea2",
   "metadata": {},
   "outputs": [],
   "source": [
    "# plotting with pandas\n",
    "df.plot(x='Human Development Index',\n",
    "        y='Fertility Rate',\n",
    "        kind='scatter');"
   ]
  }
 ],
 "metadata": {
  "jupytext": {
   "formats": "ipynb,Rmd",
   "notebook_metadata_filter": "all,-language_info",
   "split_at_heading": true
  },
  "kernelspec": {
   "display_name": "Python (Pyodide)",
   "name": "python"
  }
 },
 "nbformat": 4,
 "nbformat_minor": 5
}
