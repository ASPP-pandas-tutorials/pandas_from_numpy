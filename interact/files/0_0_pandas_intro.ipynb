{
 "cells": [
  {
   "cell_type": "markdown",
   "id": "e10c7c1f",
   "metadata": {},
   "source": [
    "# Pandas from Numpy\n",
    "\n",
    "By Matthew Brett and Peter Rush\n",
    "\n",
    "This tutorial will show the fundamental structure of Pandas Data Frames. We will look at the components that constitute a Data Frame - for instance, numpy arrays - in order to gain a deeper understanding of the raw ingredients that more advanced Pandas methods and functions operate on."
   ]
  },
  {
   "cell_type": "markdown",
   "id": "787820e1",
   "metadata": {},
   "source": [
    "## What is Pandas?\n",
    "\n",
    "Pandas is an open-source python library for data manipulation and analysis.\n",
    "\n",
    "::: {note}\n",
    "\n",
    "**Why is Pandas called Pandas?**\n",
    "\n",
    "The “Pandas” name is short for “panel data”. The library was named after the\n",
    "type of econometrics panel data that it was designed to analyse. [Panel\n",
    "data](https://en.wikipedia.org/wiki/Panel_data) are longitudinal data where\n",
    "the same observational units (e.g. countries) are observed over multiple\n",
    "instances across time.\n",
    "\n",
    ":::\n",
    "\n",
    "The Pandas Data Frame is the most important feature of the Pandas library. Data Frames, as the name suggests, contain not only the data for an analysis, but a toolkit of methods for cleaning, plotting and interacting with the data in flexible ways. For more information about Pandas see [this page](https://Pandas.pydata.org/about/).\n",
    "\n",
    "The standard way to make a new Data Frame is to ask Pandas to read a data file\n",
    "(like a `.csv` file) into a Data Frame. Before we do that however, we will\n",
    "build our own Data Frame from scratch, beginning with the fundamental building\n",
    "block for Data Frames: Numpy arrays."
   ]
  },
  {
   "cell_type": "code",
   "execution_count": null,
   "id": "a3bd75c4",
   "metadata": {
    "lines_to_next_cell": 2
   },
   "outputs": [],
   "source": [
    "# import the libraries needed for this page\n",
    "import numpy as np\n",
    "import pandas as pd"
   ]
  },
  {
   "cell_type": "markdown",
   "id": "a1e8fb90",
   "metadata": {},
   "source": [
    "## Numpy arrays\n",
    "\n",
    "Let's say we have some data that applies to a set of countries, and we have some countries in mind:"
   ]
  },
  {
   "cell_type": "code",
   "execution_count": null,
   "id": "1c059369",
   "metadata": {},
   "outputs": [],
   "source": [
    "country_names_array = np.array(['Australia', 'Brazil', 'Canada',\n",
    "                                'China', 'Germany', 'Spain',\n",
    "                                'France', 'United Kingdom', 'India',\n",
    "                                'Italy', 'Japan', 'South Korea',\n",
    "                                'Mexico', 'Russia', 'United States'])\n",
    "country_names_array"
   ]
  },
  {
   "cell_type": "markdown",
   "id": "d834fe7e",
   "metadata": {},
   "source": [
    "For compactness, we'll also want to use the corresponding [standard\n",
    "three-letter code](https://en.wikipedia.org/wiki/ISO_3166-1_alpha-3) for each\n",
    "country, like so:"
   ]
  },
  {
   "cell_type": "code",
   "execution_count": null,
   "id": "a38fbedd",
   "metadata": {},
   "outputs": [],
   "source": [
    "country_codes_array = np.array(['AUS', 'BRA', 'CAN',\n",
    "                                'CHN', 'DEU', 'ESP',\n",
    "                                'FRA', 'GBR', 'IND',\n",
    "                                'ITA', 'JPN', 'KOR',\n",
    "                                'MEX', 'RUS', 'USA'])\n",
    "country_codes_array"
   ]
  },
  {
   "cell_type": "markdown",
   "id": "16b04441",
   "metadata": {},
   "source": [
    "For each of these countries, we have a Human Development Index (HDI) score. The\n",
    "HDI score for a country is a summary over multiple dimensions of human\n",
    "development: life expectancy, average years of schooling and Gross National\n",
    "Income per capita. \n",
    "\n",
    "![](images/hdiRoadMap.png)\n",
    "\n",
    "([Image credit](https://hdr.undp.org/data-center/human-development-index#/indices/HDI)))"
   ]
  },
  {
   "cell_type": "code",
   "execution_count": null,
   "id": "f678420e",
   "metadata": {},
   "outputs": [],
   "source": [
    "# Human Development Index Scores for each country\n",
    "hdis_array = np.array([0.896, 0.668, 0.89,\n",
    "                       0.586, 0.89,  0.828,\n",
    "                       0.844, 0.863, 0.49,\n",
    "                       0.842, 0.883, 0.824,\n",
    "                       0.709, 0.733, 0.894])\n",
    "hdis_array"
   ]
  },
  {
   "cell_type": "markdown",
   "id": "cd212b69",
   "metadata": {},
   "source": [
    "By the way, these data are real; they come from statistics compiled by the\n",
    "United Nations. For simplicity, we are only looking at data from the year\n",
    "2000.  See the [datasets and licenses page](data/data_notes) for more detail.\n",
    "\n",
    "Let's say we also have the fertility rate for each country.  The fertility\n",
    "rate is the average number of children born to to each woman. In due course,\n",
    "we're interested to see whether HDI can predict the fertility rate values."
   ]
  },
  {
   "cell_type": "code",
   "execution_count": null,
   "id": "ec492d3e",
   "metadata": {},
   "outputs": [],
   "source": [
    "# Fertility rate scores for each country\n",
    "fert_rates_array = np.array([1.764, 2.247, 1.51,\n",
    "                             1.628, 1.386, 1.21,\n",
    "                             1.876, 1.641, 3.35,\n",
    "                             1.249, 1.346, 1.467,\n",
    "                             2.714, 1.19 , 2.03 ])\n",
    "fert_rates_array"
   ]
  },
  {
   "cell_type": "markdown",
   "id": "e9d1e20a",
   "metadata": {},
   "source": [
    "As experienced data analysts, we first want to inspect this relationship\n",
    "graphically, for example with the [Matplotlib\n",
    "library](https://matplotlib.org). Later, we will see that Pandas offers us\n",
    "some streamlined ways of plotting data, without importing other libraries."
   ]
  },
  {
   "cell_type": "code",
   "execution_count": null,
   "id": "acaf6351",
   "metadata": {},
   "outputs": [],
   "source": [
    "# Some basic plotting with Matplotlib.\n",
    "import matplotlib.pyplot as plt\n",
    "\n",
    "plt.scatter(hdis_array, fert_rates_array)\n",
    "plt.xlabel('Human Development Index')\n",
    "plt.ylabel('Fertility Rate');"
   ]
  },
  {
   "cell_type": "markdown",
   "id": "bd4bdafa",
   "metadata": {},
   "source": [
    "## Pandas Series (aka an array + an index)\n",
    "\n",
    "(Aka is an [abbreviation for Also Known\n",
    "As](https://writingexplained.org/aka-or-aka).)\n",
    "\n",
    "We want a good way to keep it clear which value corresponds to each country.\n",
    "We're going to start with the HDI values.\n",
    "\n",
    "One way of doing that is to make a new data structure that contains the HDI values, but also has *labels* for each value.  Pandas has an object for that, called a `Series`.  You can construct a Series by passing the values and the labels:"
   ]
  },
  {
   "cell_type": "code",
   "execution_count": null,
   "id": "f1e016df",
   "metadata": {},
   "outputs": [],
   "source": [
    "# Make a Series from the `hdis_array`\n",
    "hdi_series =  pd.Series(hdis_array, index=country_codes_array)\n",
    "hdi_series"
   ]
  },
  {
   "cell_type": "markdown",
   "id": "f30b531d",
   "metadata": {},
   "source": [
    "Notice the `index=` named argument.  Pandas calls the collection of labels for\n",
    "each value - the *Index*.  Think of the Index as you would an index for\n",
    "a book.  As the index in a book gives you the page number corresponding to\n",
    "particular word, the Pandas Index of a Series is a way of finding the element\n",
    "(value) corresponding to a particular country code.\n",
    "\n",
    "We can get to the collection of labels with\n",
    "the `.index` attribute of the Series.\n"
   ]
  },
  {
   "cell_type": "code",
   "execution_count": null,
   "id": "46da008a",
   "metadata": {},
   "outputs": [],
   "source": [
    "# Show the index of `hdi_series`\n",
    "hdi_series.index"
   ]
  },
  {
   "cell_type": "markdown",
   "id": "6c3d1a51",
   "metadata": {},
   "source": [
    "`hdi_series` also contains the HDI values, accessible with the `.values`\n",
    "attribute:"
   ]
  },
  {
   "cell_type": "code",
   "execution_count": null,
   "id": "de2914dd",
   "metadata": {},
   "outputs": [],
   "source": [
    "# Show the values (data) in `hdi_series`\n",
    "hdi_series.values"
   ]
  },
  {
   "cell_type": "markdown",
   "id": "2ab8be6f",
   "metadata": {},
   "source": [
    "Think of the Series as an object that associates an array of values\n",
    "(`.values`) with the corresponding labels for each value (`.index`).\n",
    "\n",
    "We can access values from their corresponding label, by using the `.loc`\n",
    "accessor, an attribute of the Series object."
   ]
  },
  {
   "cell_type": "code",
   "execution_count": null,
   "id": "d6e73043",
   "metadata": {},
   "outputs": [],
   "source": [
    "# Using label based indexing to view a specific value.\n",
    "hdi_series.loc['MEX']"
   ]
  },
  {
   "cell_type": "markdown",
   "id": "a77f4a50",
   "metadata": {},
   "source": [
    "`.loc` is an accessor that allows us to pass labels (that are present in the\n",
    "`.index`), and that returns the corresponding value(s).  Here we ask for more\n",
    "than one value, by passing in a list of labels:"
   ]
  },
  {
   "cell_type": "code",
   "execution_count": null,
   "id": "a9ef0e2e",
   "metadata": {},
   "outputs": [],
   "source": [
    "# Using label based indexing to view two specific values.\n",
    "hdi_series.loc[['KOR', 'USA']]"
   ]
  },
  {
   "cell_type": "markdown",
   "id": "429fd315",
   "metadata": {},
   "source": [
    "Notice above, that passing one label to `.loc` returns the value, but passing\n",
    "two or more labels to `.loc` returns a subset of the Series.   Put another\n",
    "way, one label gives a value, but more than one label gives a Series.\n",
    "\n",
    "Indexing with `.loc` is called *label-based indexing*.  You can also index by\n",
    "position, as you would with a Numpy array.  Let's remind ourselves of basic\n",
    "indexing in Numpy; to get the thirteenth value in the *Numpy array* of HDI\n",
    "values, one could run:"
   ]
  },
  {
   "cell_type": "code",
   "execution_count": null,
   "id": "f14f3df2",
   "metadata": {},
   "outputs": [],
   "source": [
    "# Using integer-based indexing to retrieve a specific value from an *array*.\n",
    "hdis_array[12]"
   ]
  },
  {
   "cell_type": "markdown",
   "id": "aef22367",
   "metadata": {},
   "source": [
    "Numpy indexing with integers, like the above, is always indexing *by\n",
    "position*. We count from 0, so position 12 contains the thirteenth element.\n",
    "\n",
    "You can do the same type of indexing with a Pandas series, with the `.iloc`\n",
    "accessor.  Think of `.iloc` as *integer* indexing, or, if you like, `loc`ating\n",
    "with `i`ntegers."
   ]
  },
  {
   "cell_type": "code",
   "execution_count": null,
   "id": "d924fac8",
   "metadata": {},
   "outputs": [],
   "source": [
    "# Get the 13th element with `iloc` indexing.\n",
    "hdi_series.iloc[12]"
   ]
  },
  {
   "cell_type": "code",
   "execution_count": null,
   "id": "9211d430",
   "metadata": {},
   "outputs": [],
   "source": [
    "# Get the 12th and 15th element with `.iloc` indexing.\n",
    "hdi_series.iloc[[11, 14]]"
   ]
  },
  {
   "cell_type": "markdown",
   "id": "57186cc5",
   "metadata": {},
   "source": [
    "Notice again that one integer to `.iloc` gives a value, but two or more\n",
    "integers gives a Series.\n",
    "\n",
    "You can already imagine that this kind of label-based indexing could be\n",
    "useful, because it is easier to avoid mistakes with:"
   ]
  },
  {
   "cell_type": "code",
   "execution_count": null,
   "id": "9ffc3bcc",
   "metadata": {},
   "outputs": [],
   "source": [
    "hdi_series.loc['MEX']"
   ]
  },
  {
   "cell_type": "markdown",
   "id": "a62a992e",
   "metadata": {},
   "source": [
    "than it is to work out the position of Mexico in the array of values, and then\n",
    "do:"
   ]
  },
  {
   "cell_type": "code",
   "execution_count": null,
   "id": "b1f0e56d",
   "metadata": {},
   "outputs": [],
   "source": [
    "hdis_array[11]  # Was Mexico really at position 11?"
   ]
  },
  {
   "cell_type": "markdown",
   "id": "bc05ad79",
   "metadata": {},
   "source": [
    "— oh, whoops, we mean:"
   ]
  },
  {
   "cell_type": "code",
   "execution_count": null,
   "id": "71161bea",
   "metadata": {},
   "outputs": [],
   "source": [
    "hdis_array[12]  # Ouch, no, it was at position 12."
   ]
  },
  {
   "cell_type": "markdown",
   "id": "9c7f0ffd",
   "metadata": {},
   "source": [
    "As well as being harder to make mistakes, it makes the code easier to read,\n",
    "and therefore, easier to debug.\n",
    "\n",
    "But the real value from this idea comes when you have more than one Series\n",
    "with corresponding labels.\n",
    "\n",
    "For example, we can also make a Series with the fertility rate (`fert_rate`)\n",
    "data, like this:"
   ]
  },
  {
   "cell_type": "code",
   "execution_count": null,
   "id": "c1297ea3",
   "metadata": {},
   "outputs": [],
   "source": [
    "# make a series of the fertility rates\n",
    "fert_rate_series = pd.Series(fert_rates_array, index=country_codes_array)\n",
    "fert_rate_series"
   ]
  },
  {
   "cell_type": "markdown",
   "id": "3a4045ff",
   "metadata": {},
   "source": [
    "But now imagine we want to look at the corresponding `HDI` and `fert_rate`\n",
    "values.  We can do this separately, for each Series, like this:"
   ]
  },
  {
   "cell_type": "code",
   "execution_count": null,
   "id": "7b59a49a",
   "metadata": {},
   "outputs": [],
   "source": [
    "# Label-based indexing\n",
    "fert_rate_series.loc['MEX']"
   ]
  },
  {
   "cell_type": "code",
   "execution_count": null,
   "id": "cdd59634",
   "metadata": {},
   "outputs": [],
   "source": [
    "# Label-based indexing\n",
    "hdi_series.loc['MEX']"
   ]
  },
  {
   "cell_type": "markdown",
   "id": "cb30a489",
   "metadata": {},
   "source": [
    "## Pandas Data Frames (aka dictionary-like collection of series)\n",
    "\n",
    "Imagine though, that we're going to be doing this for multiple countries, and\n",
    "that we have multiple (not just two) values per country.  We would like a way\n",
    "of putting these Series together into something like a table, where the rows\n",
    "have labels (just as the Series values do), and the columns have names.\n",
    "\n",
    "Each Series corresponds to one column in this table.  Pandas calls these\n",
    "tables *Data Frames*."
   ]
  },
  {
   "cell_type": "code",
   "execution_count": null,
   "id": "1758a76a",
   "metadata": {},
   "outputs": [],
   "source": [
    "# Creating a DataFrame from a dictionary\n",
    "df = pd.DataFrame({'Human Development Index': hdi_series,\n",
    "                   'Fertility Rate': fert_rate_series})\n",
    "df"
   ]
  },
  {
   "cell_type": "markdown",
   "id": "1eaa4870",
   "metadata": {},
   "source": [
    "Think of the Data Frame as being like a dictionary of Series.\n",
    "\n",
    "* The keys in this dictionary are the column names we provided: `Human\n",
    "  Development Index` and `Fertility Rate`.\n",
    "* The values are the corresponding Series.\n",
    "\n",
    "Notice that the Data Frame, like the Series, has an Index:"
   ]
  },
  {
   "cell_type": "code",
   "execution_count": null,
   "id": "ed7ddeff",
   "metadata": {},
   "outputs": [],
   "source": [
    "# The Index of the Data Frame.\n",
    "df.index"
   ]
  },
  {
   "cell_type": "markdown",
   "id": "398b66b2",
   "metadata": {},
   "source": [
    "Pandas created the Data Frame Index by looking at the Index of each of the\n",
    "Series from which we built the Data Frame.\n",
    "\n",
    "In this case, the Series had the same values in their Indices, so the Index\n",
    "for the Data Frame is the same as the Index for the each and both Series:\n"
   ]
  },
  {
   "cell_type": "markdown",
   "id": "47c32661",
   "metadata": {},
   "source": [
    "```{exercise-start}\n",
    ":label: differing-indices\n",
    ":class: dropdown\n",
    "```"
   ]
  },
  {
   "cell_type": "markdown",
   "id": "0e63c9f3",
   "metadata": {},
   "source": [
    "Perhaps your agile mind is racing ahead, wondering what Pandas would do if the\n",
    "two Series had different Indices.\n",
    "\n",
    "As an experiment, imagine now we have another Series that has a slightly\n",
    "different Index.  Let's say for example, that we have taken the original\n",
    "`fert_rate_series`, and sorted it in reverse alphabetical order by Index\n",
    "value.  Here is the Pandas code to do that:"
   ]
  },
  {
   "cell_type": "code",
   "execution_count": null,
   "id": "ef1306de",
   "metadata": {},
   "outputs": [],
   "source": [
    "# Sort fert_rate_series in reverse alphabetical order by Code.\n",
    "fert_rate_reversed = fert_rate_series.sort_index(ascending=False)\n",
    "fert_rate_reversed"
   ]
  },
  {
   "cell_type": "markdown",
   "id": "037971a4",
   "metadata": {},
   "source": [
    "Now imagine we create a new Data Frame with the original `hdi` Series and `fert_rate_reversed`:"
   ]
  },
  {
   "cell_type": "code",
   "execution_count": null,
   "id": "d44e43d6",
   "metadata": {},
   "outputs": [],
   "source": [
    "# Creating a new DataFrame from a dictionary, with one Series reversed.\n",
    "df2 = pd.DataFrame({'Human Development Index': hdi_series,\n",
    "                    'Fertility Rate': fert_rate_reversed})"
   ]
  },
  {
   "cell_type": "markdown",
   "id": "d1f16f9d",
   "metadata": {},
   "source": [
    "What would you expect to see if you display `df2`?  Have a think, then uncomment the cell below to display the value of `df2`:"
   ]
  },
  {
   "cell_type": "code",
   "execution_count": null,
   "id": "51ce2843",
   "metadata": {},
   "outputs": [],
   "source": [
    "# df2"
   ]
  },
  {
   "cell_type": "markdown",
   "id": "262086e0",
   "metadata": {},
   "source": [
    "Why do you think you see this outcome?\n",
    "\n",
    "To test your theory, consider a new Data Frame where we specify the reversed\n",
    "Series first in the dictionary:"
   ]
  },
  {
   "cell_type": "code",
   "execution_count": null,
   "id": "97675ca0",
   "metadata": {},
   "outputs": [],
   "source": [
    "# New DataFrame from a dictionary, reversed Series first.\n",
    "df3 = pd.DataFrame({'Fertility Rate': fert_rate_reversed,\n",
    "                    'Human Development Index': hdi_series})"
   ]
  },
  {
   "cell_type": "markdown",
   "id": "e474e678",
   "metadata": {},
   "source": [
    "Yes, the columns will be in the opposite order, `Fertility Rate` first, then `Human Development Index` second.  But what order will the rows be in (what will the Index order be)?\n",
    "\n",
    "Reflect, then try running the cell below after removing the `# `:"
   ]
  },
  {
   "cell_type": "code",
   "execution_count": null,
   "id": "6e6dc926",
   "metadata": {},
   "outputs": [],
   "source": [
    "# df3"
   ]
  },
  {
   "cell_type": "markdown",
   "id": "48707745",
   "metadata": {},
   "source": [
    "Was your theory right?  If not, what is your new theory?\n",
    "\n",
    "Now consider this:"
   ]
  },
  {
   "cell_type": "code",
   "execution_count": null,
   "id": "a12c3ad9",
   "metadata": {},
   "outputs": [],
   "source": [
    "# New DataFrame from a dictionary, reversed Series first.\n",
    "hdi_reversed = hdi_series.sort_index(ascending=False)\n",
    "hdi_reversed"
   ]
  },
  {
   "cell_type": "code",
   "execution_count": null,
   "id": "71fd9c91",
   "metadata": {},
   "outputs": [],
   "source": [
    "df4 = pd.DataFrame({'Fertility Rate': fert_rate_reversed,\n",
    "                    'Human Development Index': hdi_reversed})"
   ]
  },
  {
   "cell_type": "markdown",
   "id": "07cabd12",
   "metadata": {},
   "source": [
    "What does your new theory predict about the new `df4`?  Consider, then have a look."
   ]
  },
  {
   "cell_type": "code",
   "execution_count": null,
   "id": "fe58586a",
   "metadata": {},
   "outputs": [],
   "source": [
    "# df4"
   ]
  },
  {
   "cell_type": "markdown",
   "id": "fb7826a0",
   "metadata": {},
   "source": [
    "Maybe your theory does fit, maybe it does not.  If it does not, what is your\n",
    "new theory?  To test further, consider what would happen here:"
   ]
  },
  {
   "cell_type": "code",
   "execution_count": null,
   "id": "8432582d",
   "metadata": {},
   "outputs": [],
   "source": [
    "# Scramble the row order a bit.\n",
    "row_order = [0, 1, 2] + [14, 13, 12, 11, 10, 9, 8, 7, 6, 5, 4, 3]\n",
    "fert_scrambled = fert_rate_series.iloc[row_order]\n",
    "fert_scrambled"
   ]
  },
  {
   "cell_type": "code",
   "execution_count": null,
   "id": "b920331b",
   "metadata": {},
   "outputs": [],
   "source": [
    "df5 = pd.DataFrame({'Fertility Rate': fert_scrambled,\n",
    "                    'Human Development Index': hdi_reversed})"
   ]
  },
  {
   "cell_type": "code",
   "execution_count": null,
   "id": "d89e717e",
   "metadata": {},
   "outputs": [],
   "source": [
    "# df5"
   ]
  },
  {
   "cell_type": "markdown",
   "id": "29f46b2e",
   "metadata": {},
   "source": [
    "After these examples, what is your final working theory about the algorithm\n",
    "Pandas uses to match the Indices of Series, when creating Data Frames?"
   ]
  },
  {
   "cell_type": "markdown",
   "id": "38c8c35f",
   "metadata": {},
   "source": [
    "```{exercise-end}\n",
    "```\n",
    "\n",
    "```{solution} differing-indices\n",
    ":class: dropdown\n",
    "\n",
    "Here's our hypothesis of the algorithm:\n",
    "\n",
    "* First check if the Series Indices are the same.  If so, use the Index of any\n",
    "  Series.\n",
    "* If they are not the same, first sort all Series by their Index values, and\n",
    "  use the resulting sorted Index.\n",
    "\n",
    "What was your hypothesis?  If it was different from ours, why do you think yours fits the results better?  What tests would you do to test your theory against our theory?\n",
    "```"
   ]
  },
  {
   "cell_type": "markdown",
   "id": "a4d9004e",
   "metadata": {},
   "source": [
    "## Selecting columns from a Data Frame\n",
    "\n",
    "We can get the `Human Development Index` (`hdi`) Series by name, by using *direct indexing* into the Data Frame, like this:"
   ]
  },
  {
   "cell_type": "code",
   "execution_count": null,
   "id": "b8318bd9",
   "metadata": {},
   "outputs": [],
   "source": [
    "# Getting the Human Development Index series by name\n",
    "hdi_from_df = df['Human Development Index']\n",
    "hdi_from_df"
   ]
  },
  {
   "cell_type": "markdown",
   "id": "a53957b9",
   "metadata": {},
   "source": [
    "::: {note}\n",
    "\n",
    "**Direct and indirect indexing**\n",
    "\n",
    "We use the term *direct indexing* to mean indexing without going through an\n",
    "accessor.  Direct indexing therefore, is where the opening square bracket\n",
    "follows the Data Frame or Series value, as in: `df['Human Development\n",
    "Index']`.  There is no accessor method between the Data Frame value `df` and\n",
    "the opening square bracket.  It is a detail for our purposes, but this means\n",
    "it is the `df.__getitem__` method that handles the indexing request.\n",
    "\n",
    "By contrast, *indirect indexing* is where we index into the Data Frame or\n",
    "Series object via an *accessor method* such as `loc` and `iloc`.  In this\n",
    "case, the square bracket follows the accessor method name, rather than the\n",
    "object itself.  Thus `df.iloc[0]` (see below) is indirect indexing, using the\n",
    "`iloc` accessor. Again, this is a detail, but indirect indexing with e.g.\n",
    "`iloc` means it is the (e.g.) `df.iloc.__getitem__` method that handles the\n",
    "indexing request.\n",
    "\n",
    "In general, in Pandas, the behavior of direct indexing can differ from that of\n",
    "indirect indexing with `.loc` or `.iloc`, particularly direct indexing of Data\n",
    "Frames.  As a general rule, it is wise to prefer indirect indexing with `.loc`\n",
    "and `.iloc` unless you are confident about the behavior of direct indexing.\n",
    "\n",
    "You'll notice that we restrict ourselves to using direct indexing on Data\n",
    "Frames (not Series), and when we do use direct indexing, we use it in two\n",
    "specific situations, for which is it very easy to reason about the results:\n",
    "\n",
    "* Selection of columns by column name;\n",
    "* Selection of rows with Boolean Series.\n",
    "\n",
    "More on this later.\n",
    "\n",
    ":::\n",
    "\n",
    "Remember that a Data Frame is a dictionary-like collection of Series.\n",
    "\n",
    "The `Human Development Index` column is now a Series contained inside the `df`\n",
    "Data Frame.\n",
    "\n",
    "We have fetched that embedded Series by using *direct indexing*.  We place the\n",
    "column name (`'Human Development Index'`) between square brackets following\n",
    "the data frame value, so `'Human Development Index'` specified what we want to\n",
    "select from the Data Frame.  We get back a new Series, extracted from the Data Frame:"
   ]
  },
  {
   "cell_type": "code",
   "execution_count": null,
   "id": "58fcd4af",
   "metadata": {},
   "outputs": [],
   "source": [
    "# Show the type of `hdi_from_df`\n",
    "type(hdi_from_df)"
   ]
  },
  {
   "cell_type": "markdown",
   "id": "88d660f9",
   "metadata": {},
   "source": [
    "## Series have an optional name\n",
    "\n",
    "You can see in the output display that the extracted Series now has an extra\n",
    "attribute, which is the `name`."
   ]
  },
  {
   "cell_type": "code",
   "execution_count": null,
   "id": "57c39af9",
   "metadata": {},
   "outputs": [],
   "source": [
    "# Show the extracted Series again.  Notice the Name.\n",
    "hdi_from_df"
   ]
  },
  {
   "cell_type": "markdown",
   "id": "15a2d110",
   "metadata": {},
   "source": [
    "We said above that Series are the association between an array of `.values`,\n",
    "and a corresponding collection of labels, in `.index`.  Now we see that the\n",
    "Series also has a `.name`, that we had not set in our original series:"
   ]
  },
  {
   "cell_type": "code",
   "execution_count": null,
   "id": "f5835bab",
   "metadata": {},
   "outputs": [],
   "source": [
    "# The `name` attribute of the Series we've extracted from the Data Frame.\n",
    "hdi_from_df.name"
   ]
  },
  {
   "cell_type": "markdown",
   "id": "bc47987c",
   "metadata": {},
   "source": [
    "Above, when we first built the series of HDI values and labels with\n",
    "`pd.Series`, we not set the name of the Series, so it got the default `.name`\n",
    "of `None`."
   ]
  },
  {
   "cell_type": "code",
   "execution_count": null,
   "id": "0c7a885b",
   "metadata": {},
   "outputs": [],
   "source": [
    "# This was the original series we built with pd.Series.\n",
    "hdi_series.name is None"
   ]
  },
  {
   "cell_type": "markdown",
   "id": "79f7a9ec",
   "metadata": {},
   "source": [
    "## Indirect indexing into Data Frames\n",
    "\n",
    "Indirect indexing occurs when we use the `.loc` and `.iloc` accessor methods\n",
    "on the Data Frame, to get rows by label (index value) or by position:"
   ]
  },
  {
   "cell_type": "code",
   "execution_count": null,
   "id": "af8c3624",
   "metadata": {},
   "outputs": [],
   "source": [
    "# Using `.loc` indirect indexing on the Data Frame.\n",
    "df.loc['MEX']"
   ]
  },
  {
   "cell_type": "markdown",
   "id": "5352beeb",
   "metadata": {},
   "source": [
    "Notice what Pandas did here.  As for `.loc` indexing into Series, `.loc`\n",
    "indexing into the Data Frame *with a single label* returns the *contents* of\n",
    "the row.   And Pandas, being a general thinker, sees that the contents of the\n",
    "row are values, that have labels, where the labels are the column names.  Thus\n",
    "it returns the row to you as a new Series, where the Series has values from\n",
    "the row values, and labels from the column names.\n",
    "\n",
    "Indexing with more than one value returns a subset of the Data Frame.  In\n",
    "strict parallel to indexing into a Series, indexing with multiple values into\n",
    "a Data Frame, returns a subset of the Data Frame, which is itself, a Data\n",
    "Frame."
   ]
  },
  {
   "cell_type": "code",
   "execution_count": null,
   "id": "0e9209b5",
   "metadata": {},
   "outputs": [],
   "source": [
    "# Using `.loc` with index labels\n",
    "df.loc[['KOR', 'USA']]"
   ]
  },
  {
   "cell_type": "markdown",
   "id": "c2489aa7",
   "metadata": {},
   "source": [
    "(what-is-a-series)=\n",
    "## What is a Series?  What is a Data Frame?\n",
    "\n",
    "A *Series* is the association of:\n",
    "\n",
    "* An array of values (`.values`)\n",
    "* A sequence of labels for each value (`.index`)\n",
    "* A name (which can be `None`).\n",
    "\n",
    "A *Data Frame* is a dictionary-like collection of Series.\n",
    "\n",
    "For a Series, the `.index` has labels corresponding to the *values*.\n",
    "\n",
    "For a Data Frame, the `.index` has labels corresponding the *rows*.\n"
   ]
  },
  {
   "cell_type": "markdown",
   "id": "ebdca9d4",
   "metadata": {},
   "source": [
    "## Adding more columns to the Data Frame\n",
    "\n",
    "We have more data to add to our Data Frame. Let's add those data as new\n",
    "columns, and then compare the result with the Data Frame we get from loading\n",
    "a data file containing the same data.\n",
    "\n",
    "First, we make another Numpy array, containing the full name of each country."
   ]
  },
  {
   "cell_type": "code",
   "execution_count": null,
   "id": "b25aded7",
   "metadata": {},
   "outputs": [],
   "source": [
    "# Making an array containing the name of each country\n",
    "country_names_array = np.array(['Australia', 'Brazil', 'Canada',\n",
    "                                'China', 'Germany', 'Spain',\n",
    "                                'France', 'United Kingdom', 'India',\n",
    "                                'Italy', 'Japan', 'South Korea',\n",
    "                                'Mexico', 'Russia', 'United States'])\n",
    "country_names_array"
   ]
  },
  {
   "cell_type": "markdown",
   "id": "185ef4c5",
   "metadata": {},
   "source": [
    "Now, we get the population of each country, in millions."
   ]
  },
  {
   "cell_type": "code",
   "execution_count": null,
   "id": "6373e9c0",
   "metadata": {},
   "outputs": [],
   "source": [
    "# The population of each country in millions, in the year 2000.\n",
    "population_array = np.array([  19.1324, 174.0182,   30.8918,\n",
    "                             1269.5811,  81.7972,   41.0197,\n",
    "                               59.4837,  59.0573, 1057.9227,\n",
    "                               57.2722, 127.0278,   46.7666,\n",
    "                               98.6255, 146.7177,  281.4841])\n",
    "population_array"
   ]
  },
  {
   "cell_type": "markdown",
   "id": "d2998c29",
   "metadata": {},
   "source": [
    "We are about to *put* a new Series into the Data Frame.\n",
    "\n",
    "Remember that we can fetch the Series corresponding to a particular column like this:"
   ]
  },
  {
   "cell_type": "code",
   "execution_count": null,
   "id": "b3bcf133",
   "metadata": {},
   "outputs": [],
   "source": [
    "# Getting the Human Development Index Series by name\n",
    "hdi_from_df = df['Human Development Index']\n",
    "hdi_from_df"
   ]
  },
  {
   "cell_type": "markdown",
   "id": "ba9f3fc4",
   "metadata": {},
   "source": [
    "Here we are *indexing* (in fact *direct indexing*) into the Data Frame `df`, on the right-hand-side (RHS) of the ` = ` to fetch the corresponding Series.\n",
    "\n",
    "We can *put* data in a new or existing column in the Data Frame by using\n",
    "direct indexing on the left-hand-side of the assignment, like this:"
   ]
  },
  {
   "cell_type": "code",
   "execution_count": null,
   "id": "7ae3e63a",
   "metadata": {},
   "outputs": [],
   "source": [
    "# Add the array as a column in the DataFrame.\n",
    "df['Population'] = population_array\n",
    "df"
   ]
  },
  {
   "cell_type": "markdown",
   "id": "fa4aab2f",
   "metadata": {},
   "source": [
    "This assignment says \"take the values in `population_array` and make a new\n",
    "column (Series) named `'Population'` in the Data Frame\".\n",
    "\n",
    "Remember the maxim that \"a Data Frame is just a dictionary-like collection of\n",
    "Series\"?\n",
    "\n",
    "Our new `Population` column has now become a Series inside the `df` Data\n",
    "Frame, where the `.values` of that Series are the values from `population_array`.\n",
    "\n",
    "We can fetch that new `'Population'` Series from the Data Frame by direct\n",
    "indexing, as we did above for the `'Human Development Index'` column / Series."
   ]
  },
  {
   "cell_type": "code",
   "execution_count": null,
   "id": "06b4e3ee",
   "metadata": {},
   "outputs": [],
   "source": [
    "# Fetch Series named 'Population' using direct indexing into the DataFrame.\n",
    "pop_from_df = df['Population']\n",
    "pop_from_df"
   ]
  },
  {
   "cell_type": "markdown",
   "id": "6e52487f",
   "metadata": {},
   "source": [
    "The `.name` of the Series is the name of the column from which it was fetched:"
   ]
  },
  {
   "cell_type": "code",
   "execution_count": null,
   "id": "8bb86045",
   "metadata": {},
   "outputs": [],
   "source": [
    "# Show the .name attribute of the new Series inside the Data Frame.\n",
    "pop_from_df.name"
   ]
  },
  {
   "cell_type": "markdown",
   "id": "01e9355e",
   "metadata": {},
   "source": [
    "The `values` of the new Series are the ones we put in in the assignment above:"
   ]
  },
  {
   "cell_type": "code",
   "execution_count": null,
   "id": "11e10daf",
   "metadata": {},
   "outputs": [],
   "source": [
    "# Show the array containing the data for the new Series.\n",
    "pop_from_df.values"
   ]
  },
  {
   "cell_type": "markdown",
   "id": "a42c12d2",
   "metadata": {},
   "source": [
    "Notice that the extracted `pop_from_df` Series has an Index, and the Index is\n",
    "the same as the Index of the Data Frame.  In other words, in extracting the\n",
    "`'Population'` Series, the Series has inherited the Index from the Data Frame.\n",
    "\n",
    "We could have used the `pd.Series()` constructor to build the same Series, built from its components:"
   ]
  },
  {
   "cell_type": "code",
   "execution_count": null,
   "id": "a7b99e8a",
   "metadata": {},
   "outputs": [],
   "source": [
    "# We can build a similar Series to the one we fetched like this.\n",
    "population_series = pd.Series(population_array,\n",
    "                              index=country_codes_array,\n",
    "                              name='Population')\n",
    "population_series"
   ]
  },
  {
   "cell_type": "markdown",
   "id": "e1bf669a",
   "metadata": {},
   "source": [
    "Let's use the same `df['Name'] = array` syntax to add a final column to our Data Frame, containing the full country names:"
   ]
  },
  {
   "cell_type": "code",
   "execution_count": null,
   "id": "6e6684db",
   "metadata": {},
   "outputs": [],
   "source": [
    "# Adding in the country names\n",
    "df['Country Name'] = country_names_array"
   ]
  },
  {
   "cell_type": "markdown",
   "id": "8ef824a8",
   "metadata": {},
   "source": [
    "Here is our full Data Frame - built from its component ingredients - in its\n",
    "resplendent glory:"
   ]
  },
  {
   "cell_type": "code",
   "execution_count": null,
   "id": "9b6be7d0",
   "metadata": {},
   "outputs": [],
   "source": [
    "# View the full DataFrame.\n",
    "df"
   ]
  },
  {
   "cell_type": "markdown",
   "id": "2c1e33b6",
   "metadata": {},
   "source": [
    "## Comparing the built and loaded Data Frames\n",
    "\n",
    "This page built a Data Frame from scratch from Numpy components, to deepen our\n",
    "understanding of what a Data Frame is made from.\n",
    "\n",
    "The cell below shows a more typical method of making a Data Frame, that is\n",
    "asking Pandas to create a new Data Frame by loading data from a file. We use\n",
    "the `pd.read_csv()` function to read some data from a `.csv` file:"
   ]
  },
  {
   "cell_type": "code",
   "execution_count": null,
   "id": "8dafe7f4",
   "metadata": {},
   "outputs": [],
   "source": [
    "# Import data from a csv file\n",
    "loaded_df = pd.read_csv(\"data/year_2000_hdi_fert.csv\")\n",
    "loaded_df"
   ]
  },
  {
   "cell_type": "markdown",
   "id": "f3d2aca4",
   "metadata": {},
   "source": [
    "You'll notice that currently, the index of the Data Frame we just loaded is\n",
    "a sequence of numbers. This is the Index that Pandas creates by default, unless\n",
    "you give it some other information on what the Index should be.  We'll look\n",
    "more at this default Index on the [next page](0_1_to_loc_or_iloc).\n",
    "\n",
    "We can use the `.set_index()` method of the Data Frame to take the column\n",
    "containing the three-letter country codes and set it to be the row labels of\n",
    "the Data Frame (the Index).  We will look more at Pandas methods in later\n",
    "pages.\n",
    "\n",
    "Here we tell `.set_index()` the column name to use as the `.index`\n",
    "- in this case we use the `'Code'` column, containing the country codes:"
   ]
  },
  {
   "cell_type": "code",
   "execution_count": null,
   "id": "d65098ac",
   "metadata": {},
   "outputs": [],
   "source": [
    "# Set the new Data Frame to have values from the \"Code\" column as labels.\n",
    "loaded_labeled_df = loaded_df.set_index('Code')\n",
    "loaded_labeled_df"
   ]
  },
  {
   "cell_type": "markdown",
   "id": "816d98b4",
   "metadata": {},
   "source": [
    "Let's compare this loaded Data Frame to the Data Frame we built from Numpy\n",
    "components."
   ]
  },
  {
   "cell_type": "code",
   "execution_count": null,
   "id": "7f943ec2",
   "metadata": {},
   "outputs": [],
   "source": [
    "# The Data Frame we built from its component parts.\n",
    "df"
   ]
  },
  {
   "cell_type": "markdown",
   "id": "524c9a5f",
   "metadata": {},
   "source": [
    "The `loaded_labeled_df` Data Frame was built automatically by Pandas, when\n",
    "loading in a `.csv` file using `pd.read_csv()`.\n",
    "\n",
    "We built the `df` Data Frame from Numpy arrays and strings.\n",
    "\n",
    "Both Data Frames contain the same data, and the same labels.  In fact, we can\n",
    "use the `.equals` method of Data Frames to ask Pandas whether it agrees the\n",
    "Data Frames are equivalent:"
   ]
  },
  {
   "cell_type": "code",
   "execution_count": null,
   "id": "c288aa6d",
   "metadata": {},
   "outputs": [],
   "source": [
    "df.equals(loaded_labeled_df)"
   ]
  },
  {
   "cell_type": "markdown",
   "id": "76bb5157",
   "metadata": {},
   "source": [
    "They are equivalent."
   ]
  },
  {
   "cell_type": "markdown",
   "id": "82ada18d",
   "metadata": {},
   "source": [
    "```{exercise-start}\n",
    ":label: index-in-display\n",
    ":class: dropdown\n",
    "```"
   ]
  },
  {
   "cell_type": "markdown",
   "id": "f06d8cb7",
   "metadata": {},
   "source": [
    "In fact the `df` and `loaded_labeled_df` data frames are not exactly the same.\n",
    "If you look very carefully at the notebook output for the two data frames, you\n",
    "may be able to spot the difference.  Pandas `.equals` does not care about this\n",
    "difference, but let's imagine we did.  Try to work out how to change the `df`\n",
    "Data Frame to give *exactly* the same display as we see for\n",
    "`loaded_labeled_df`."
   ]
  },
  {
   "cell_type": "markdown",
   "id": "6f48dc59",
   "metadata": {},
   "source": [
    "```{exercise-end}\n",
    "```"
   ]
  },
  {
   "cell_type": "markdown",
   "id": "b1c0a5f0",
   "metadata": {},
   "source": [
    "```{solution-start} index-in-display\n",
    ":class: dropdown\n",
    "```"
   ]
  },
  {
   "cell_type": "markdown",
   "id": "49969343",
   "metadata": {},
   "source": [
    "You probably spotted that the `loaded_labeled_df` displays a `name` for the Index.  You can also see this displaying the `.index` on its own:"
   ]
  },
  {
   "cell_type": "code",
   "execution_count": null,
   "id": "2432f35f",
   "metadata": {},
   "outputs": [],
   "source": [
    "loaded_labeled_df.index"
   ]
  },
  {
   "cell_type": "markdown",
   "id": "a71600ce",
   "metadata": {},
   "source": [
    "compared to:"
   ]
  },
  {
   "cell_type": "code",
   "execution_count": null,
   "id": "8cabcac5",
   "metadata": {},
   "outputs": [],
   "source": [
    "df.index"
   ]
  },
  {
   "cell_type": "markdown",
   "id": "40738f17",
   "metadata": {},
   "source": [
    "We see that the `.name` attribute differs for the two Indices; to make the Data Frame displays match, we should set the `.name` on the `df` Data Frame.\n",
    "\n",
    "The simplest way to do that is:"
   ]
  },
  {
   "cell_type": "code",
   "execution_count": null,
   "id": "4d264ace",
   "metadata": {},
   "outputs": [],
   "source": [
    "# Make a copy of the `df` Data Frame. This step is unnecessary to solving\n",
    "# the problem, it is just to be neat.\n",
    "df_copy = df.copy()"
   ]
  },
  {
   "cell_type": "code",
   "execution_count": null,
   "id": "b7881ee3",
   "metadata": {},
   "outputs": [],
   "source": [
    "# Set the Index name.\n",
    "df_copy.index.name = 'Code'\n",
    "df_copy"
   ]
  },
  {
   "cell_type": "markdown",
   "id": "673717f5",
   "metadata": {},
   "source": [
    "```{solution-end}\n",
    "```"
   ]
  },
  {
   "cell_type": "markdown",
   "id": "776092dc",
   "metadata": {},
   "source": [
    "## Convenient Plotting with Data Frames\n",
    "\n",
    "Remember earlier we imported Matplotlib to plot some of our data?\n",
    "\n",
    "Now we have a Data Frame, we can use the Data Frame's in-built plotting\n",
    "machinery, to make the same graph. To do this, we can use the `.plot()`\n",
    "method of the Data Frame, and specify the name of a column to plot on the `x`\n",
    "axis, and a name of a column to plot on the `y` axis. We use the `kind=`\n",
    "argument to tell Pandas what type of plot we want (in this case a scatter\n",
    "plot)."
   ]
  },
  {
   "cell_type": "code",
   "execution_count": null,
   "id": "5fd9cebd",
   "metadata": {},
   "outputs": [],
   "source": [
    "# Plotting with Pandas methods.\n",
    "df.plot(x='Human Development Index',\n",
    "        y='Fertility Rate',\n",
    "        kind='scatter');"
   ]
  },
  {
   "cell_type": "markdown",
   "id": "df52927e",
   "metadata": {},
   "source": [
    "In fact the Pandas `.plot` methods wrap Matplotlib, so the output from using\n",
    "Matplotlib directly (see towards the top of this page) will look very similar\n",
    "to the output from using Pandas `.plot`, but Pandas can, among other things, use column names to make better default axis labels."
   ]
  }
 ],
 "metadata": {
  "jupytext": {
   "formats": "ipynb,Rmd",
   "notebook_metadata_filter": "all,-language_info",
   "split_at_heading": true
  },
  "kernelspec": {
   "display_name": "Python (Pyodide)",
   "name": "python"
  }
 },
 "nbformat": 4,
 "nbformat_minor": 5
}
