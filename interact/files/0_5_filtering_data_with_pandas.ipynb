{
 "cells": [
  {
   "cell_type": "markdown",
   "id": "0d537803",
   "metadata": {},
   "source": [
    "# Filtering Data Frames with Boolean Series\n",
    "\n",
    "<!---\n",
    "📝 NOTE: from meeting with Matthew: Boolean series (and matching of row labels there) e.g. Boolean array will operate like iloc, Boolean Series will match row labels.\n",
    "\n",
    "Add a separate page for Boolean indexing in a sensible place (build with numpy first first then show with Series) - show that order doesn't matter e.g. Booleans are matched by label not by position. Show this error:\n",
    "\n",
    "```\n",
    "import pandas as pd\n",
    "df = pd.read_csv('birth_weights.csv')\n",
    "df.head()\n",
    "female_mf = df['sex'] == 2\n",
    "female_mf.head()\n",
    "df2 = df.sort_values('sex')\n",
    "df2\n",
    "df2[female_mf].describe()\n",
    "df[female_mf].describe()\n",
    "df.loc[female_mf]\n",
    "df.iloc[female_mf]\n",
    "```\n",
    "\n",
    "Covered on this page:\n",
    "\n",
    "* filtering (ex: df[df['age'] > 30])\n",
    "* Boolean indexing, with Boolean series (and matching of row labels there); range indexing on labels (inclusive of last element)\n",
    "\n",
    "Structure of this page:\n",
    "\n",
    "* show Boolean arrays and boolean filtering of arrays\n",
    "\n",
    "* build a Series, show Boolean series and filtering Series with Boolean arrays/series\n",
    "\n",
    "* show Boolean filtering with DataFrames\n",
    "-->\n",
    "\n",
    "Once we have got our data into a Pandas Data Frame, no doubt we will want to filter and select specific portions of it for visualisation and analysis. \n",
    "\n",
    "On this page we will look at different methods of filtering. As on previous pages, we will focus on how Pandas is built from Numpy, and assess the similarities and differences in how filtering works on objects from both libraries."
   ]
  },
  {
   "cell_type": "markdown",
   "id": "b5ed7e08",
   "metadata": {},
   "source": [
    "## Pandas from Numpy, once more\n",
    "\n",
    "To explore filtering, let's create some Numpy arrays, containing the [HDI data](https://ourworldindata.org/grapher/children-per-woman-vs-human-development-index):"
   ]
  },
  {
   "cell_type": "code",
   "execution_count": null,
   "id": "94e83737",
   "metadata": {},
   "outputs": [],
   "source": [
    "# Import libraries for this page\n",
    "import numpy as np\n",
    "import pandas as pd"
   ]
  },
  {
   "cell_type": "markdown",
   "id": "dfc30370",
   "metadata": {},
   "source": [
    "We build the constituent arrays:"
   ]
  },
  {
   "cell_type": "code",
   "execution_count": null,
   "id": "f0f19d3e",
   "metadata": {},
   "outputs": [],
   "source": [
    "# Standard three-letter code for each country\n",
    "country_codes_array = np.array(['AUS', 'BRA', 'CAN',\n",
    "                                'CHN', 'DEU', 'ESP',\n",
    "                                'FRA', 'GBR', 'IND',\n",
    "                                'ITA', 'JPN', 'KOR',\n",
    "                                'MEX', 'RUS', 'USA'])\n",
    "country_codes_array"
   ]
  },
  {
   "cell_type": "code",
   "execution_count": null,
   "id": "00171ae6",
   "metadata": {},
   "outputs": [],
   "source": [
    "# Human Development Index Scores for each country\n",
    "hdis_array = np.array([0.896, 0.668, 0.89,\n",
    "                       0.586, 0.89,  0.828,\n",
    "                       0.844, 0.863, 0.49,\n",
    "                       0.842, 0.883, 0.824,\n",
    "                       0.709, 0.733, 0.894])\n",
    "hdis_array"
   ]
  },
  {
   "cell_type": "markdown",
   "id": "72e3c91d",
   "metadata": {},
   "source": [
    "Let's say we want to view HDI values that are bigger than the median HDI\n",
    "value.\n",
    "\n",
    "First, we can calculate the median, using the `np.median()` function:"
   ]
  },
  {
   "cell_type": "code",
   "execution_count": null,
   "id": "34065a3a",
   "metadata": {},
   "outputs": [],
   "source": [
    "# get the median HDI\n",
    "np.median(hdis_array)"
   ]
  },
  {
   "cell_type": "markdown",
   "id": "31a5171d",
   "metadata": {},
   "source": [
    "Next, we can create a *Boolean array* by using a comparison operator.\n",
    "\n",
    "In this case `>` is the operator we want, with the `hdis_array` on the left hand side, and the median value of the array on the right hand side:"
   ]
  },
  {
   "cell_type": "code",
   "execution_count": null,
   "id": "bdb7ce03",
   "metadata": {},
   "outputs": [],
   "source": [
    "# create a Boolean array\n",
    "hdis_array_grtr_median_bool =  hdis_array > np.median(hdis_array)\n",
    "hdis_array_grtr_median_bool"
   ]
  },
  {
   "cell_type": "markdown",
   "id": "1b047df2",
   "metadata": {},
   "source": [
    "The array in the output of the cell above is the same length as the\n",
    "`hdis_array` and it contains `True` value where the element in `hdis_array` is\n",
    "larger than the median HDI score (and `False` values otherwise)."
   ]
  },
  {
   "cell_type": "markdown",
   "id": "d1edecb3",
   "metadata": {},
   "source": [
    "Our Boolean array can now be used to retrieve elements of the `hdis_array` that are greater than the median HDI value. We just place our filter in between square brackets used to index the array. The `True` values act as \"on switches\" (keeping that element in the output array) and the `False` values act as \"off switches\" (removing that element from the output array):"
   ]
  },
  {
   "cell_type": "code",
   "execution_count": null,
   "id": "ed263a89",
   "metadata": {},
   "outputs": [],
   "source": [
    "# filter the `hdis_array`\n",
    "hdis_array[hdis_array_grtr_median_bool]"
   ]
  },
  {
   "cell_type": "markdown",
   "id": "a2c116f5",
   "metadata": {},
   "source": [
    "If we're particularly neurotic, we can check using the [`all()`](https://docs.python.org/3/library/functions.html#all) function that this operation has, in fact, only returned elements greater than the median:"
   ]
  },
  {
   "cell_type": "code",
   "execution_count": null,
   "id": "24f3cb27",
   "metadata": {},
   "outputs": [],
   "source": [
    "# check we have what we want\n",
    "all(hdis_array[hdis_array_grtr_median_bool] > np.median(hdis_array))"
   ]
  },
  {
   "cell_type": "markdown",
   "id": "0820e1d1",
   "metadata": {},
   "source": [
    "Because Python treats `True` values as being equal to 1 and `False` values as being equal to 0, taking the mean of a Boolean array works out the same as calculating the proportion of `True` values. (*NB*: this is because when we do this operation, we are doing something like $\\frac{1+1+1...+0+0}{n}$. The `False` (aka `0`) values add nothing to the numerator of the mean calculation, leaving only the `True` (aka `1`) values. This effectively gives us a count of the `True` values, divided by the total number of values, which returns the proportion of `True`'s.\n",
    "\n",
    "Using `np.mean()` we can quickly count the proportion of `True` values, which as expected, because we are dealing with a median, is close to 0.5:"
   ]
  },
  {
   "cell_type": "code",
   "execution_count": null,
   "id": "4b72667b",
   "metadata": {},
   "outputs": [],
   "source": [
    "# count the proportion of `True` values\n",
    "np.mean(hdis_array_grtr_median_bool)"
   ]
  },
  {
   "cell_type": "markdown",
   "id": "78c30368",
   "metadata": {},
   "source": [
    "This can be very useful when counting the proportion of participants or observations with a particular categorical feature (proportion of males/females, proportion of democratic countries etc).\n",
    "\n",
    "We can also, if we wish, turn our Boolean array into a Boolean *Series* using the `pd.Series()` constructor.\n",
    "\n",
    "This has the benefit of the Series `index`. In the present context, when we put the three-letter country codes as the `index`, we can keep track of the country that each filtered value corresponds to.\n",
    "\n",
    "Let's create a Boolean Series:"
   ]
  },
  {
   "cell_type": "code",
   "execution_count": null,
   "id": "76ddd37b",
   "metadata": {},
   "outputs": [],
   "source": [
    "# make a pandas Series\n",
    "hdis_array_bool_series = pd.Series(hdis_array_grtr_median_bool, \n",
    "                                   index=country_codes_array)\n",
    "hdis_array_bool_series"
   ]
  },
  {
   "cell_type": "markdown",
   "id": "03942762",
   "metadata": {},
   "source": [
    "Even better, let's manually specify the `name` attribute - to make it clearer\n",
    "down the line what the `True` and `False` values mean e.g. whether each\n",
    "country has a higher-than-median HDI score:"
   ]
  },
  {
   "cell_type": "code",
   "execution_count": null,
   "id": "7a3fb202",
   "metadata": {},
   "outputs": [],
   "source": [
    "# set the `name` attribute\n",
    "hdis_array_bool_series.name = 'hdi_grtr_thn_median'\n",
    "\n",
    "hdis_array_bool_series"
   ]
  },
  {
   "cell_type": "markdown",
   "id": "f3448025",
   "metadata": {},
   "source": [
    "This has advantages over the Numpy Boolean array in terms of interpretability (it's less easy to forget the meaning of what is in the `values` component of the Series!).\n",
    "\n",
    "We also have access to all of the Pandas Series methods:"
   ]
  },
  {
   "cell_type": "code",
   "execution_count": null,
   "id": "c6c309d0",
   "metadata": {},
   "outputs": [],
   "source": [
    "# max\n",
    "hdis_array_bool_series.max()"
   ]
  },
  {
   "cell_type": "code",
   "execution_count": null,
   "id": "3fd014dc",
   "metadata": {},
   "outputs": [],
   "source": [
    "# min\n",
    "hdis_array_bool_series.min()"
   ]
  },
  {
   "cell_type": "code",
   "execution_count": null,
   "id": "0ee10c9f",
   "metadata": {},
   "outputs": [],
   "source": [
    "# mean (returns the proportion of `True` values)\n",
    "hdis_array_bool_series.mean()"
   ]
  },
  {
   "cell_type": "markdown",
   "id": "0ced4097",
   "metadata": {},
   "source": [
    "We can use the Boolean Series to filter, exactly as we would with a Numpy array:"
   ]
  },
  {
   "cell_type": "code",
   "execution_count": null,
   "id": "00828a00",
   "metadata": {},
   "outputs": [],
   "source": [
    "# same result when we filter with the Boolean series\n",
    "hdis_array[hdis_array_bool_series]"
   ]
  },
  {
   "cell_type": "markdown",
   "id": "6cc91aa2",
   "metadata": {},
   "source": [
    "However, we're not really getting the benefit of having an index, if we just use the Series to filter a Numpy array.\n",
    "\n",
    "The real benefit comes from using Boolean Series to filter values in a Data Frame. We will look at this in the next section."
   ]
  },
  {
   "cell_type": "markdown",
   "id": "2f0ba5f5",
   "metadata": {},
   "source": [
    "## Filtering in Pandas\n",
    "\n",
    "You know by now that *Data Frames are a dictionary-like collection of Series*.\n",
    "\n",
    "Because Series are built (in part) from Numpy arrays, filtering the Data Frame works very much like filtering with Boolean Numpy arrays and Pandas Series.\n",
    "\n",
    "As with Series, the real advantage comes in having a shared index, as it keeps the filtering process highly interpretable and non-error prone.\n",
    "\n",
    "To explore further, let's import the HDI data:"
   ]
  },
  {
   "cell_type": "code",
   "execution_count": null,
   "id": "2115d2f2",
   "metadata": {},
   "outputs": [],
   "source": [
    "# import our dataset\n",
    "df = pd.read_csv(\"data/year_2000_hdi_fert.csv\")\n",
    "# set the index\n",
    "df = df.set_index(\"Code\")\n",
    "df"
   ]
  },
  {
   "cell_type": "markdown",
   "id": "3f5ece97",
   "metadata": {},
   "source": [
    "Now, to view the median we can use the `.median()` Series method, rather than calling the `np.median()` function as we did earlier. (*NB*: we mentioned on a [previous page](0_2_pandas_dataframes_attributes_methods.Rmd) that Pandas Series *methods* are sometimes inherited from Numpy *functions*, but they generally give better efficiency and readability, as is the case here...):"
   ]
  },
  {
   "cell_type": "code",
   "execution_count": null,
   "id": "b4f41368",
   "metadata": {},
   "outputs": [],
   "source": [
    "# get the median HDI\n",
    "df['Human Development Index'].median()"
   ]
  },
  {
   "cell_type": "markdown",
   "id": "788ffc1f",
   "metadata": {},
   "source": [
    "Because Data Frames force all their constituent Series (columns) to share an `index`, creating a Boolean Series has the desirable characteristic of associating a row label with each Booelan.\n",
    "\n",
    "For instance, let's use direct indexing with a column name (`df['Human Development Index']`) to create a Boolean Series which is `True` where the country has a HDI score above the median HDI score: "
   ]
  },
  {
   "cell_type": "code",
   "execution_count": null,
   "id": "52b4153a",
   "metadata": {},
   "outputs": [],
   "source": [
    "# create a Boolean Series\n",
    "df['Human Development Index'] > df['Human Development Index'].median()"
   ]
  },
  {
   "cell_type": "markdown",
   "id": "7f4f0917",
   "metadata": {},
   "source": [
    "As mentioned above, this is more interpretable that a Numpy array just containing Booleans, with no `index`.\n",
    "\n",
    "Again, to increase interpretabiity, we can assign this Boolean Series a new `name` attribute:"
   ]
  },
  {
   "cell_type": "code",
   "execution_count": null,
   "id": "292e7448",
   "metadata": {},
   "outputs": [],
   "source": [
    "# create a Boolean Series by using a comparison operator on the DataFrame column\n",
    "boolean_series_from_df = df['Human Development Index'] > df['Human Development Index'].median()\n",
    "\n",
    "boolean_series_from_df.name = 'HDI_grtr_than_median'\n",
    "\n",
    "boolean_series_from_df"
   ]
  },
  {
   "cell_type": "markdown",
   "id": "3fb3e9b6",
   "metadata": {},
   "source": [
    "We can now use our Boolean Series to filter the whole Data Frame. This let's use view entire rows, but only for rows corresponding to countries with greater than median HDI scores:"
   ]
  },
  {
   "cell_type": "code",
   "execution_count": null,
   "id": "9ebf6a3c",
   "metadata": {},
   "outputs": [],
   "source": [
    "# filter the DataFrame using the Boolean Series we got from using a comparison operator on the DataFrame column\n",
    "df[boolean_series_from_df]"
   ]
  },
  {
   "cell_type": "markdown",
   "id": "0dadd01e",
   "metadata": {},
   "source": [
    "This filtering operation was done via a Boolean Series which was created using direct indexing on the Data Frame itself (`df['Human Development Index']`).\n",
    "\n",
    "Earlier, we \"hand built\" a Boolean Series from a Numpy array, another array for the index, and a manually specified `name` attribute. Here is that Series:"
   ]
  },
  {
   "cell_type": "code",
   "execution_count": null,
   "id": "8f5681a4",
   "metadata": {},
   "outputs": [],
   "source": [
    "# our \"handmade\" Boolean Series\n",
    "hdis_array_bool_series"
   ]
  },
  {
   "cell_type": "markdown",
   "id": "3453d023",
   "metadata": {},
   "source": [
    "This hand-built Series returns the same rows of the Data Frame as Series we got by using only Data Frame columns:"
   ]
  },
  {
   "cell_type": "code",
   "execution_count": null,
   "id": "7d7372b7",
   "metadata": {},
   "outputs": [],
   "source": [
    "# we can also filter with our \"handmade\" Series\n",
    "df[hdis_array_bool_series]"
   ]
  },
  {
   "cell_type": "markdown",
   "id": "d8141e40",
   "metadata": {},
   "source": [
    "We can use the Boolean Series to create a new Data Frame. This let's us use Pandas' statistical and plotting methods on subsets of the data.\n",
    "\n",
    "For instance, we may want to look for differences between countries *above* the median HDI, and countries *below* the median HDI.\n",
    "\n",
    "We can use our Boolean filter as follows:"
   ]
  },
  {
   "cell_type": "code",
   "execution_count": null,
   "id": "9599dcfd",
   "metadata": {},
   "outputs": [],
   "source": [
    "# show countries with greater than median HDI\n",
    "above_median_HDI = df[boolean_series_from_df]\n",
    "\n",
    "above_median_HDI"
   ]
  },
  {
   "cell_type": "markdown",
   "id": "47ee44a4",
   "metadata": {},
   "source": [
    "We can \"flip\" the `True` and `False` values in the Boolean using the `~` operator (which we can read as \"NOT\").\n",
    "\n",
    "So, here is our Boolean Series:"
   ]
  },
  {
   "cell_type": "code",
   "execution_count": null,
   "id": "4931135a",
   "metadata": {},
   "outputs": [],
   "source": [
    "# show the Boolean Series\n",
    "boolean_series_from_df"
   ]
  },
  {
   "cell_type": "markdown",
   "id": "725c447d",
   "metadata": {},
   "source": [
    "We can reverse each `True` to a `False` and vice versa by placing the `~` symbol in front of the Boolean Series, like this:"
   ]
  },
  {
   "cell_type": "code",
   "execution_count": null,
   "id": "811726de",
   "metadata": {},
   "outputs": [],
   "source": [
    "# \"flip\" the Boolean Series with the \"~\" operator\n",
    "~boolean_series_from_df"
   ]
  },
  {
   "cell_type": "markdown",
   "id": "2e887c73",
   "metadata": {},
   "source": [
    "Let's use this operation (with `~`) to make a new Data Frame containing only the countries scoring below the median HDI:"
   ]
  },
  {
   "cell_type": "code",
   "execution_count": null,
   "id": "18cf50c3",
   "metadata": {},
   "outputs": [],
   "source": [
    "# use the `~` operator to show countries with BELOW median HDI\n",
    "below_median_HDI = df[~boolean_series_from_df]\n",
    "\n",
    "below_median_HDI "
   ]
  },
  {
   "cell_type": "markdown",
   "id": "498f73e0",
   "metadata": {},
   "source": [
    "Now, on each Data Frame, we can call the `.describe()` method separately, to inspect the differences:"
   ]
  },
  {
   "cell_type": "code",
   "execution_count": null,
   "id": "3b9e133c",
   "metadata": {},
   "outputs": [],
   "source": [
    "# use the `.describe()` method with countries with above the median HDI\n",
    "above_median_HDI['Fertility Rate'].describe()"
   ]
  },
  {
   "cell_type": "code",
   "execution_count": null,
   "id": "ff1fbd26",
   "metadata": {},
   "outputs": [],
   "source": [
    "# use the `.describe()` method with countries with below the median HDI\n",
    "below_median_HDI['Fertility Rate'].describe()"
   ]
  },
  {
   "cell_type": "markdown",
   "id": "55ba6ccf",
   "metadata": {},
   "source": [
    "## Cleaning, summarizing and plotting data with Boolean Indexing\n",
    "\n",
    "Remember, the data we have looked at on this page so far is just a fraction of the countries in the full HDI dataset. Let's import the full dataset, so we can use Boolean filtering to graphically inspect trends for countries above and below the median HDI. We will look at the data from all of the countries, but just for the year 2000, to keep the plot interpretable. \n",
    "\n",
    "We'll also use multiple methods from the [Pandas methods](0_2_pandas_dataframes_attributes_methods.Rmd) page, to get the full data ready to generate these plots.\n",
    "\n",
    "First, let's import the data:"
   ]
  },
  {
   "cell_type": "code",
   "execution_count": null,
   "id": "ec5195dc",
   "metadata": {},
   "outputs": [],
   "source": [
    "# import the full dataset\n",
    "full_df = pd.read_csv('data/children-per-woman-vs-human-development-index.csv')\n",
    "\n",
    "full_df"
   ]
  },
  {
   "cell_type": "markdown",
   "id": "6caf68dc",
   "metadata": {},
   "source": [
    "This data is in *long format* - each row is an observation of one country, but each country appears in multiple rows. E.g. there are repeated observations from the same countries. If you look at the last few rows, you'll see repeated observations on Zimbabwe, over multiple years.\n",
    "\n",
    "You'll also notice (an unfortunate commonality of many datasets) that the full data contains many NaN values (we'll deal with some of these shortly).\n",
    "\n",
    "As mentioned above, we will look at data from the year 2000, but using the full complement of countries. This will keep the plots interpretable. \n",
    "\n",
    "We can use Boolean filtering to strip the Data Frame down to just observations from the year 2000:"
   ]
  },
  {
   "cell_type": "code",
   "execution_count": null,
   "id": "065c7910",
   "metadata": {},
   "outputs": [],
   "source": [
    "# filter out all years apart from the year 2000\n",
    "full_df_2000 = full_df[full_df['Year'] == 2000]\n",
    "\n",
    "full_df_2000"
   ]
  },
  {
   "cell_type": "markdown",
   "id": "b8d8daa3",
   "metadata": {},
   "source": [
    "You can see that after this operation, the index labels (numbers from th default `RangeIndex`) no longer line up from 0 to the maximum value.\n",
    "\n",
    "Let's make a more usable index, but setting the `index` to be the three-letter country codes in the `Code` column:"
   ]
  },
  {
   "cell_type": "code",
   "execution_count": null,
   "id": "90652511",
   "metadata": {},
   "outputs": [],
   "source": [
    "# set the index\n",
    "full_df_2000.index = full_df_2000['Code']\n",
    "\n",
    "full_df_2000"
   ]
  },
  {
   "cell_type": "markdown",
   "id": "bfb9e121",
   "metadata": {},
   "source": [
    "You might notice that now we have `NaN` values in the index. We don't want this, so let's remove those observations.\n",
    "\n",
    "We can again do this via Boolean filtering:\n",
    "\n",
    "*NB:* the `~` operator, we are asking for rows with index labels that are NOT NaN..."
   ]
  },
  {
   "cell_type": "code",
   "execution_count": null,
   "id": "1d6d59ee",
   "metadata": {},
   "outputs": [],
   "source": [
    "# remove NaN data \n",
    "full_df_2000 = full_df_2000[~full_df_2000['Code'].isna()]\n",
    "\n",
    "full_df_2000"
   ]
  },
  {
   "cell_type": "markdown",
   "id": "3709802c",
   "metadata": {},
   "source": [
    "Let's inspect the index, to see what countries are left after removing the NaN values:"
   ]
  },
  {
   "cell_type": "code",
   "execution_count": null,
   "id": "3facc457",
   "metadata": {},
   "outputs": [],
   "source": [
    "# inspect the index\n",
    "list(full_df_2000.index)"
   ]
  },
  {
   "cell_type": "markdown",
   "id": "9eebc2ae",
   "metadata": {},
   "source": [
    "If you scroll down this list, you can see that we have some rows that *maybe* do not correspond to countries (`OWID_WRL`, `OWID_KOS`, `OWID_SRM`).\n",
    "\n",
    "Let's inspect these rows:"
   ]
  },
  {
   "cell_type": "code",
   "execution_count": null,
   "id": "a87123be",
   "metadata": {},
   "outputs": [],
   "source": [
    "# inspect rows with non-standard codes\n",
    "full_df_2000.loc[['OWID_WRL', 'OWID_KOS', 'OWID_SRM']]"
   ]
  },
  {
   "cell_type": "markdown",
   "id": "8b876b08",
   "metadata": {},
   "source": [
    "Ok, so we probably want to keep `Kosovo` and `Serbia and Montenegro`, but will drop the row with the data for the whole world.\n",
    "\n",
    "We can use the `.drop()` method, with the `labels=` argument to tell Pandas to drop the row with the `'OWID_WRL'` label:"
   ]
  },
  {
   "cell_type": "code",
   "execution_count": null,
   "id": "efe17fc6",
   "metadata": {},
   "outputs": [],
   "source": [
    "# remove junk rows with the `.drop()` method\n",
    "full_df_2000 = full_df_2000.drop(labels=['OWID_WRL'])\n",
    "\n",
    "full_df_2000"
   ]
  },
  {
   "cell_type": "markdown",
   "id": "300103fc",
   "metadata": {},
   "source": [
    "We now have a clean Data Frame. Let's plot HDI against fertility rate, to graphically inspect the trend:"
   ]
  },
  {
   "cell_type": "code",
   "execution_count": null,
   "id": "43874263",
   "metadata": {},
   "outputs": [],
   "source": [
    "# plot the data\n",
    "full_df_2000.plot(x='Human Development Index',\n",
    "                  y='Fertility Rate',\n",
    "                  kind='scatter')"
   ]
  },
  {
   "cell_type": "markdown",
   "id": "af9ab63d",
   "metadata": {},
   "source": [
    "To plot the trend either side of the HDI median, let's create a Boolean Series based on the median HDI value.\n",
    "\n",
    "This Series is `True` where the country has a greater than median HDI score, and `False` otherwise:"
   ]
  },
  {
   "cell_type": "code",
   "execution_count": null,
   "id": "d0191c48",
   "metadata": {},
   "outputs": [],
   "source": [
    "# make a Boolean Series based on the median HDI\n",
    "full_df_2000_gtr_than_median_HDI_bool = full_df_2000['Human Development Index'] > full_df_2000['Human Development Index'].median()\n",
    "\n",
    "full_df_2000_gtr_than_median_HDI_bool"
   ]
  },
  {
   "cell_type": "markdown",
   "id": "e7ada7e5",
   "metadata": {},
   "source": [
    "We can use this filter, and the `.plot()` method, to inspect the trend either side of the median HDI - (again, to get the values from the *opposite* side of the median, we can use the `~` operator):"
   ]
  },
  {
   "cell_type": "code",
   "execution_count": null,
   "id": "2b9bcf85",
   "metadata": {},
   "outputs": [],
   "source": [
    "# plot countries with above median HDI\n",
    "full_df_2000[full_df_2000_gtr_than_median_HDI_bool].plot(x='Human Development Index',\n",
    "                                                          y='Fertility Rate',\n",
    "                                                          kind='scatter');"
   ]
  },
  {
   "cell_type": "code",
   "execution_count": null,
   "id": "778f7f2f",
   "metadata": {},
   "outputs": [],
   "source": [
    "# plot countries with below median HDI\n",
    "full_df_2000[~full_df_2000_gtr_than_median_HDI_bool].plot(x='Human Development Index',\n",
    "                                                          y='Fertility Rate',\n",
    "                                                          kind='scatter');"
   ]
  },
  {
   "cell_type": "markdown",
   "id": "ac279294",
   "metadata": {},
   "source": [
    "We can see graphically that the trends differ either side of the median, in a way that is clearer than looking at the full data on one plot. \n",
    "\n",
    "We can also use the same filtering procedure to view statistics on the subsets of countries either side of the median HDI:"
   ]
  },
  {
   "cell_type": "code",
   "execution_count": null,
   "id": "1f3f85b9",
   "metadata": {},
   "outputs": [],
   "source": [
    "# `.describe()` stats for `Fertility Rate` from countries above the median HDI\n",
    "full_df_2000[full_df_2000_gtr_than_median_HDI_bool]['Fertility Rate'].describe()"
   ]
  },
  {
   "cell_type": "code",
   "execution_count": null,
   "id": "ff170bb8",
   "metadata": {},
   "outputs": [],
   "source": [
    "# `.describe()` stats for `Fertility Rate` from countries below the median HDI (again, note the `~` operator)\n",
    "full_df_2000[~full_df_2000_gtr_than_median_HDI_bool]['Fertility Rate'].describe()"
   ]
  },
  {
   "cell_type": "markdown",
   "id": "c143eb34",
   "metadata": {},
   "source": [
    "## Summary\n",
    "\n",
    "This page has looked at the similarities/differences in filtering data with collections of Booleans in Numpy and Pandas."
   ]
  }
 ],
 "metadata": {
  "jupytext": {
   "formats": "ipynb,Rmd"
  },
  "kernelspec": {
   "display_name": "Python (Pyodide)",
   "name": "python"
  }
 },
 "nbformat": 4,
 "nbformat_minor": 5
}
