{
 "cells": [
  {
   "cell_type": "markdown",
   "id": "ab96cd38",
   "metadata": {},
   "source": [
    "# Filtering Data Frames with Boolean Series\n",
    "\n",
    "<!---\n",
    "📝 NOTE: from meeting with Matthew: Boolean series (and matching of row labels there) e.g. Boolean array will operate like iloc, Boolean Series will match row labels.\n",
    "\n",
    "Add a separate page for Boolean indexing in a sensible place (build with numpy first first then show with Series) - show that order doesn't matter e.g. Booleans are matched by label not by position. Show this error:\n",
    "\n",
    "```\n",
    "import pandas as pd\n",
    "df = pd.read_csv('birth_weights.csv')\n",
    "df.head()\n",
    "female_mf = df['sex'] == 2\n",
    "female_mf.head()\n",
    "df2 = df.sort_values('sex')\n",
    "df2\n",
    "df2[female_mf].describe()\n",
    "df[female_mf].describe()\n",
    "df.loc[female_mf]\n",
    "df.iloc[female_mf]\n",
    "```\n",
    "\n",
    "Covered on this page:\n",
    "\n",
    "* filtering (ex: df[df['age'] > 30])\n",
    "* Boolean indexing, with Boolean series (and matching of row labels there); range indexing on labels (inclusive of last element)\n",
    "\n",
    "Structure of this page:\n",
    "\n",
    "* show Boolean arrays and boolean filtering of arrays\n",
    "\n",
    "* build a Series, show Boolean series and filtering Series with Boolean arrays/series\n",
    "\n",
    "* show Boolean filtering with DataFrames\n",
    "-->\n",
    "\n",
    "Once we have got our data into a Pandas Data Frame, no doubt we will want to filter and select specific portions of it for visualisation and analysis. \n",
    "\n",
    "On this page we will look at different methods of filtering. Again, we will focus on how Pandas is built from Numpy, and assess the similarities and differences in how filtering works on objects from both libraries."
   ]
  },
  {
   "cell_type": "markdown",
   "id": "b189bc60",
   "metadata": {},
   "source": [
    "## Pandas from Numpy, once more\n",
    "\n",
    "To explore filtering, let's create some Numpy arrays, containing the [HDI data](https://ourworldindata.org/grapher/children-per-woman-vs-human-development-index):"
   ]
  },
  {
   "cell_type": "code",
   "execution_count": null,
   "id": "f47587e6",
   "metadata": {},
   "outputs": [],
   "source": [
    "# Import libraries for this page\n",
    "import numpy as np\n",
    "import pandas as pd"
   ]
  },
  {
   "cell_type": "markdown",
   "id": "9f7780ea",
   "metadata": {},
   "source": [
    "We build the constituent arrays:"
   ]
  },
  {
   "cell_type": "code",
   "execution_count": null,
   "id": "c97af712",
   "metadata": {},
   "outputs": [],
   "source": [
    "# Standard three-letter code for each country\n",
    "country_codes_array = np.array(['AUS', 'BRA', 'CAN',\n",
    "                                'CHN', 'DEU', 'ESP',\n",
    "                                'FRA', 'GBR', 'IND',\n",
    "                                'ITA', 'JPN', 'KOR',\n",
    "                                'MEX', 'RUS', 'USA'])\n",
    "country_codes_array"
   ]
  },
  {
   "cell_type": "code",
   "execution_count": null,
   "id": "2fdc155e",
   "metadata": {},
   "outputs": [],
   "source": [
    "# Human Development Index Scores for each country\n",
    "hdis_array = np.array([0.896, 0.668, 0.89,\n",
    "                       0.586, 0.89,  0.828,\n",
    "                       0.844, 0.863, 0.49,\n",
    "                       0.842, 0.883, 0.824,\n",
    "                       0.709, 0.733, 0.894])\n",
    "hdis_array"
   ]
  },
  {
   "cell_type": "markdown",
   "id": "1dc0d766",
   "metadata": {},
   "source": [
    "Let's say we want to view HDI values that are bigger than the median HDI\n",
    "value.\n",
    "\n",
    "First, we can calculate the median, using the `np.median()` function:"
   ]
  },
  {
   "cell_type": "code",
   "execution_count": null,
   "id": "541b955f",
   "metadata": {},
   "outputs": [],
   "source": [
    "# get the median HDI\n",
    "np.median(hdis_array)"
   ]
  },
  {
   "cell_type": "markdown",
   "id": "77f74a1c",
   "metadata": {},
   "source": [
    "Next, we can create a *Boolean array* by using a comparison operator.\n",
    "\n",
    "In this case `>` is the operator we want, with the `hdis_array` on the left hand side, and the median value of the array on the right hand side:"
   ]
  },
  {
   "cell_type": "code",
   "execution_count": null,
   "id": "bfe85954",
   "metadata": {},
   "outputs": [],
   "source": [
    "# create a Boolean array\n",
    "hdis_array_grtr_median_bool =  hdis_array > np.median(hdis_array)\n",
    "hdis_array_grtr_median_bool"
   ]
  },
  {
   "cell_type": "markdown",
   "id": "536578be",
   "metadata": {},
   "source": [
    "The array in the output of the cell above is the same length as the\n",
    "`hdis_array` and it contains `True` value where the element in `hdis_array` is\n",
    "larger than the median HDI score (and `False` values otherwise)."
   ]
  },
  {
   "cell_type": "markdown",
   "id": "cf30743b",
   "metadata": {},
   "source": [
    "Our Boolean array can now be used to retrieve elements of the `hdis_array` that are greater than the median HDI value. We just place our filter in between square brackets used to index the array. The `True` values act as \"on switches\" (keeping that element in the output array) and the `False` values act as \"off switches\" (removing that element from the output array):"
   ]
  },
  {
   "cell_type": "code",
   "execution_count": null,
   "id": "5047dca0",
   "metadata": {},
   "outputs": [],
   "source": [
    "# filter the `hdis_array`\n",
    "hdis_array[hdis_array_grtr_median_bool]"
   ]
  },
  {
   "cell_type": "code",
   "execution_count": null,
   "id": "ca679e16",
   "metadata": {},
   "outputs": [],
   "source": [
    "# check we have what we want\n",
    "all(hdis_array[hdis_array_grtr_median_bool] > np.median(hdis_array))"
   ]
  },
  {
   "cell_type": "markdown",
   "id": "0f314da5",
   "metadata": {},
   "source": [
    "Because Python treats `True` values as being equal to 1 and `False` values as being equal to 0, taking the mean of a Boolean array works out the same as calculating the proportion of `True` values.\n",
    "\n",
    "Using `np.mean()` we can quickly count the proportion of `True` values, which as expected, because we are dealing with a median, is close to 0.5:"
   ]
  },
  {
   "cell_type": "code",
   "execution_count": null,
   "id": "0fede504",
   "metadata": {},
   "outputs": [],
   "source": [
    "# count the proportion of `True` values\n",
    "np.mean(hdis_array_grtr_median_bool)"
   ]
  },
  {
   "cell_type": "markdown",
   "id": "b325dd3b",
   "metadata": {},
   "source": [
    "This can be very useful when counting the proportion of participants or observations with a particular categorical feature (proportion of males/females, proportion of democratic countries etc).\n",
    "\n",
    "We can also, if we wish, turn our Boolean array into a Boolean *Series* using the `pd.Series()` constructor.\n",
    "\n",
    "This has the benefit of the Series `index`. In the present context, when we put the three-letter country codes as the `index`, we can keep track of the country that each filtered value corresponds to.\n",
    "\n",
    "Let's create a Boolean Series:"
   ]
  },
  {
   "cell_type": "code",
   "execution_count": null,
   "id": "008fe75d",
   "metadata": {},
   "outputs": [],
   "source": [
    "# make a pandas Series\n",
    "hdis_array_bool_series = pd.Series(hdis_array_grtr_median_bool, \n",
    "                                   index=country_codes_array)\n",
    "hdis_array_bool_series"
   ]
  },
  {
   "cell_type": "markdown",
   "id": "9f2d6229",
   "metadata": {},
   "source": [
    "Even better, let's manually specify the `name` attribute - to make it clearer\n",
    "down the line what the `True` and `False` values mean e.g. whether each\n",
    "country has a higher-than-median HDI score:"
   ]
  },
  {
   "cell_type": "code",
   "execution_count": null,
   "id": "973ea57c",
   "metadata": {},
   "outputs": [],
   "source": [
    "# set the `name` attribute\n",
    "hdis_array_bool_series.name = 'hdi_grtr_thn_median'\n",
    "\n",
    "hdis_array_bool_series"
   ]
  },
  {
   "cell_type": "markdown",
   "id": "3609e48a",
   "metadata": {},
   "source": [
    "This has advantages over the Numpy Boolean array in terms of interpretability (it's less easy to forget the meaning of what is in the `values` component of the Series!).\n",
    "\n",
    "We also have access to all of the Pandas Series methods:"
   ]
  },
  {
   "cell_type": "code",
   "execution_count": null,
   "id": "7aaecde0",
   "metadata": {},
   "outputs": [],
   "source": [
    "# max\n",
    "hdis_array_bool_series.max()"
   ]
  },
  {
   "cell_type": "code",
   "execution_count": null,
   "id": "1c91175b",
   "metadata": {},
   "outputs": [],
   "source": [
    "# min\n",
    "hdis_array_bool_series.min()"
   ]
  },
  {
   "cell_type": "code",
   "execution_count": null,
   "id": "144ccb67",
   "metadata": {},
   "outputs": [],
   "source": [
    "# mean (returns the proportion of `True` values)\n",
    "hdis_array_bool_series.mean()"
   ]
  },
  {
   "cell_type": "markdown",
   "id": "5f95fd7e",
   "metadata": {},
   "source": [
    "We can use the Boolean Series to filter, exactly as we would with a Numpy array:"
   ]
  },
  {
   "cell_type": "code",
   "execution_count": null,
   "id": "985be849",
   "metadata": {},
   "outputs": [],
   "source": [
    "# same result when we filter with the Boolean series\n",
    "hdis_array[hdis_array_bool_series]"
   ]
  },
  {
   "cell_type": "markdown",
   "id": "f8bd32c8",
   "metadata": {},
   "source": [
    "However, we're not really getting the benefit of having an index, if we just use the Series to filter a Numpy array.\n",
    "\n",
    "The real benefit comes from using Boolean Series to filter values in a Data Frame. We will look at this in the next section."
   ]
  },
  {
   "cell_type": "markdown",
   "id": "df18e53d",
   "metadata": {},
   "source": [
    "## Filtering in Pandas\n",
    "\n",
    "You know by now that *Data Frames are a dictionary-like collection of Series*.\n",
    "\n",
    "Because Series are built (in part) from Numpy arrays, filtering the Data Frame works very much like filtering with Boolean Numpy arrays and Pandas Series.\n",
    "\n",
    "As with Series, the real advantage comes in having a shared index, as it keeps the filtering process highly interpretable and non-error prone.\n",
    "\n",
    "To explore further, let's import the HDI data:"
   ]
  },
  {
   "cell_type": "code",
   "execution_count": null,
   "id": "3d71c035",
   "metadata": {},
   "outputs": [],
   "source": [
    "# import our dataset\n",
    "df = pd.read_csv(\"data/year_2000_hdi_fert.csv\")\n",
    "# set the index\n",
    "df = df.set_index(\"Code\")\n",
    "df"
   ]
  },
  {
   "cell_type": "markdown",
   "id": "ecaf52d7",
   "metadata": {},
   "source": [
    "Now, to view the median we can use the `.median()` Series method, rather than calling the `np.median()` function as we did earlier:"
   ]
  },
  {
   "cell_type": "code",
   "execution_count": null,
   "id": "0cf4d786",
   "metadata": {},
   "outputs": [],
   "source": [
    "# get the median HDI\n",
    "df['Human Development Index'].median()"
   ]
  },
  {
   "cell_type": "markdown",
   "id": "848fe96e",
   "metadata": {},
   "source": [
    "Because Data Frames force all their constituent Series (columns) to share an `index`, creating a Boolean Series has the desirable characteristic of associating a row label with each Booelan.\n",
    "\n",
    "For instance, let's use direct indexing with a column name (`df['Human Development Index']`) to create a Boolean Series which is `True` where the country has a HDI score above the median HDI score: "
   ]
  },
  {
   "cell_type": "code",
   "execution_count": null,
   "id": "70842570",
   "metadata": {},
   "outputs": [],
   "source": [
    "# create a Boolean Series\n",
    "df['Human Development Index'] > df['Human Development Index'].median()"
   ]
  },
  {
   "cell_type": "markdown",
   "id": "2c756b3d",
   "metadata": {},
   "source": [
    "As mentioned above, this is more interpretable that a Numpy array just containing Booleans, with no `index`.\n",
    "\n",
    "Again, to increase interpretabiity, we can assign this Boolean Series a new `name` attribute:"
   ]
  },
  {
   "cell_type": "code",
   "execution_count": null,
   "id": "4941f279",
   "metadata": {},
   "outputs": [],
   "source": [
    "# create a Boolean Series by using a comparison operator on the DataFrame column\n",
    "boolean_series_from_df = df['Human Development Index'] > df['Human Development Index'].median()\n",
    "\n",
    "boolean_series_from_df.name = 'HDI_grtr_than_median'\n",
    "\n",
    "boolean_series_from_df"
   ]
  },
  {
   "cell_type": "markdown",
   "id": "d522cb1c",
   "metadata": {},
   "source": [
    "We can now use our Boolean Series to filter the whole Data Frame. This let's use view entire rows, but only for rows corresponding to countries with greater than median HDI scores:"
   ]
  },
  {
   "cell_type": "code",
   "execution_count": null,
   "id": "9b190f28",
   "metadata": {},
   "outputs": [],
   "source": [
    "# filter the DataFrame using the Boolean Series we got from using a comparison operator on the DataFrame column\n",
    "df[boolean_series_from_df]"
   ]
  },
  {
   "cell_type": "markdown",
   "id": "6950e200",
   "metadata": {},
   "source": [
    "This filtering operation was done via a Boolean Series which was created using direct indexing on the Data Frame itself (`df['Human Development Index']`).\n",
    "\n",
    "Earlier, we \"hand built\" a Boolean Series from a Numpy array, another array for the index, and a manually specified `name` attribute. Here is that Series:"
   ]
  },
  {
   "cell_type": "code",
   "execution_count": null,
   "id": "9b1c5220",
   "metadata": {},
   "outputs": [],
   "source": [
    "# our \"handmade\" Boolean Series\n",
    "hdis_array_bool_series"
   ]
  },
  {
   "cell_type": "markdown",
   "id": "6b0a8415",
   "metadata": {},
   "source": [
    "This hand-built Series returns the same rows of the Data Frame as Series we got by using only Data Frame columns:"
   ]
  },
  {
   "cell_type": "code",
   "execution_count": null,
   "id": "af30444e",
   "metadata": {},
   "outputs": [],
   "source": [
    "# we can also filter with our \"handmade\" Series\n",
    "df[hdis_array_bool_series]"
   ]
  },
  {
   "cell_type": "markdown",
   "id": "68d28058",
   "metadata": {},
   "source": [
    "We can use the Boolean Series to create a new Data Frame. This let's us use statistical and plotting methods on subset of the data.\n",
    "\n",
    "For instance, we may want to look for differences between countries *above* the median HDI, and countries *below* the median HDI.\n",
    "\n",
    "We can use our Boolean filter as follows:"
   ]
  },
  {
   "cell_type": "code",
   "execution_count": null,
   "id": "5ef9ffec",
   "metadata": {},
   "outputs": [],
   "source": [
    "# show countries with greater than median HDI\n",
    "above_median_HDI = df[boolean_series_from_df]\n",
    "\n",
    "above_median_HDI"
   ]
  },
  {
   "cell_type": "markdown",
   "id": "99e9dfee",
   "metadata": {},
   "source": [
    "We can \"flip\" the `True` and `False` values in the Boolean using the `~` operator (which we can read as \"NOT\").\n",
    "\n",
    "So, here is our Boolean Series:"
   ]
  },
  {
   "cell_type": "code",
   "execution_count": null,
   "id": "07aa8903",
   "metadata": {},
   "outputs": [],
   "source": [
    "# show the Boolean Series\n",
    "boolean_series_from_df"
   ]
  },
  {
   "cell_type": "markdown",
   "id": "fe0cb0ee",
   "metadata": {},
   "source": [
    "We can reverse each `True` to a `False` and vice versa by placing the `~` symbol in front of the Boolean Series, like this:"
   ]
  },
  {
   "cell_type": "code",
   "execution_count": null,
   "id": "5be5d7cd",
   "metadata": {},
   "outputs": [],
   "source": [
    "# \"flip\" the Boolean Series with the \"~\" operator\n",
    "~boolean_series_from_df"
   ]
  },
  {
   "cell_type": "markdown",
   "id": "6dca67ef",
   "metadata": {},
   "source": [
    "Let's use this operation (with `~`) to make a new Data Frame containing only the countries scoring below the median HDI:"
   ]
  },
  {
   "cell_type": "code",
   "execution_count": null,
   "id": "fce46548",
   "metadata": {},
   "outputs": [],
   "source": [
    "# use the `~` operator to show countries with BELOW median HDI\n",
    "below_median_HDI = df[~boolean_series_from_df]\n",
    "\n",
    "below_median_HDI "
   ]
  },
  {
   "cell_type": "markdown",
   "id": "1610cf15",
   "metadata": {},
   "source": [
    "Now, on each Data Frame, we can call the `.describe()` method separately, to inspect the differences:"
   ]
  },
  {
   "cell_type": "code",
   "execution_count": null,
   "id": "da4e6eee",
   "metadata": {},
   "outputs": [],
   "source": [
    "# use the `.describe()` method with countries with above the median HDI\n",
    "above_median_HDI['Fertility Rate'].describe()"
   ]
  },
  {
   "cell_type": "code",
   "execution_count": null,
   "id": "669c8b33",
   "metadata": {},
   "outputs": [],
   "source": [
    "# use the `.describe()` method with countries with below the median HDI\n",
    "below_median_HDI['Fertility Rate'].describe()"
   ]
  },
  {
   "cell_type": "markdown",
   "id": "ee145612",
   "metadata": {},
   "source": [
    "## Cleaning, summarizing and plotting data with Boolean Indexing\n",
    "\n",
    "Remember, the data we have looked at on this page so far is just a fraction of the countries in the full HDI dataset. Let's import the full dataset, so we can use Boolean filtering to graphically inspect trends for countries above and below the median HDI. We will look at the data from all of the countries, but just for the year 2000, to keep the plot interpretable. \n",
    "\n",
    "We'll also use multiple methods from the [Pandas methods](0_2_pandas_dataframes_attributes_methods.Rmd) page, to get the full data ready to generate these plots.\n",
    "\n",
    "First, let's import the data:"
   ]
  },
  {
   "cell_type": "code",
   "execution_count": null,
   "id": "0d0d9acc",
   "metadata": {},
   "outputs": [],
   "source": [
    "# import the full dataset\n",
    "full_df = pd.read_csv('data/children-per-woman-vs-human-development-index.csv')\n",
    "\n",
    "full_df"
   ]
  },
  {
   "cell_type": "markdown",
   "id": "2833a685",
   "metadata": {},
   "source": [
    "This data is in *long format* - each row is an observation of one country, but each country appears in multiple rows. E.g. there are repeated observations from the same countries. If you look at the last few rows, you'll see repeated observations on Zimbabwe, over multiple years.\n",
    "\n",
    "You'll also notice (an unfortunate commonality of many datasets) that the full data contains many `NaN` values (we'll deal with some of these shortly).\n",
    "\n",
    "As mentioned above, we will look at data from the year 2000, but using the full complement of countries. This will keep the plots interpretable. \n",
    "\n",
    "We can use Boolean filtering to strip the Data Frame down to just observations from the year 2000:"
   ]
  },
  {
   "cell_type": "code",
   "execution_count": null,
   "id": "f0659b8b",
   "metadata": {},
   "outputs": [],
   "source": [
    "# filter out all years apart from the year 2000\n",
    "full_df_2000 = full_df[full_df['Year'] == 2000]\n",
    "\n",
    "full_df_2000"
   ]
  },
  {
   "cell_type": "markdown",
   "id": "2e60b3d5",
   "metadata": {},
   "source": [
    "You can see that after this operation, the index labels (numbers from th default `RangeIndex`) no longer line up from 0 to the maximum value.\n",
    "\n",
    "Let's make a more usable index, but setting the `index` to be the three-letter country codes in the `Code` column:"
   ]
  },
  {
   "cell_type": "code",
   "execution_count": null,
   "id": "2a329e3f",
   "metadata": {},
   "outputs": [],
   "source": [
    "# set the index\n",
    "full_df_2000.index = full_df_2000['Code']\n",
    "\n",
    "full_df_2000"
   ]
  },
  {
   "cell_type": "markdown",
   "id": "0474bf70",
   "metadata": {},
   "source": [
    "You might notice that now we have `NaN` values in the index. We don't want this, so let's remove those observations.\n",
    "\n",
    "We can again do this via Boolean filtering:\n",
    "\n",
    "*NOTE:* the `~` operator, we are asking for rows with index labels that are NOT `NaN`"
   ]
  },
  {
   "cell_type": "code",
   "execution_count": null,
   "id": "2fd28ebe",
   "metadata": {},
   "outputs": [],
   "source": [
    "# remove NaN data \n",
    "full_df_2000 = full_df_2000[~full_df_2000['Code'].isna()]\n",
    "\n",
    "full_df_2000"
   ]
  },
  {
   "cell_type": "markdown",
   "id": "4bf4d07c",
   "metadata": {},
   "source": [
    "Let's inspect the index, to see what countries are left after removing the NaN values:"
   ]
  },
  {
   "cell_type": "code",
   "execution_count": null,
   "id": "005cab43",
   "metadata": {},
   "outputs": [],
   "source": [
    "# inspect the index\n",
    "list(full_df_2000.index)"
   ]
  },
  {
   "cell_type": "markdown",
   "id": "284c7c72",
   "metadata": {},
   "source": [
    "If you scroll down this list, you can see that we have some rows that *maybe* do not correspond to countries (`OWID_WRL`, `OWID_KOS`, `OWID_SRM`).\n",
    "\n",
    "Let's inspect these rows:"
   ]
  },
  {
   "cell_type": "code",
   "execution_count": null,
   "id": "c0874fbb",
   "metadata": {},
   "outputs": [],
   "source": [
    "# inspect rows with non-standard codes\n",
    "full_df_2000.loc[['OWID_WRL', 'OWID_KOS', 'OWID_SRM']]"
   ]
  },
  {
   "cell_type": "markdown",
   "id": "f9c69017",
   "metadata": {},
   "source": [
    "Ok, so we probably want to keep `Kosovo` and `Serbia and Montenegro`, but will drop the row with the data for the whole world.\n",
    "\n",
    "We can use the `.drop()` method, with the `labels=` argument to tell Pandas to drop the row with the `'OWID_WRL'` label:"
   ]
  },
  {
   "cell_type": "code",
   "execution_count": null,
   "id": "d60c14e2",
   "metadata": {},
   "outputs": [],
   "source": [
    "# remove junk rows with the `.drop()` method\n",
    "full_df_2000 = full_df_2000.drop(labels=['OWID_WRL'])\n",
    "\n",
    "full_df_2000"
   ]
  },
  {
   "cell_type": "markdown",
   "id": "d6c59112",
   "metadata": {},
   "source": [
    "We now have a clean Data Frame. Let's plot HDI against fertility rate, to graphically inspect the trend:"
   ]
  },
  {
   "cell_type": "code",
   "execution_count": null,
   "id": "6d15eb68",
   "metadata": {},
   "outputs": [],
   "source": [
    "# plot the data\n",
    "full_df_2000.plot(x='Human Development Index',\n",
    "                  y='Fertility Rate',\n",
    "                  kind='scatter')"
   ]
  },
  {
   "cell_type": "markdown",
   "id": "22c9f9bc",
   "metadata": {},
   "source": [
    "To plot the trend either side of the HDI median, let's create a Boolean Series based on the median HDI value.\n",
    "\n",
    "This Series is `True` where the country has a greater than median HDI score, and `False` otherwise:"
   ]
  },
  {
   "cell_type": "code",
   "execution_count": null,
   "id": "950a57ab",
   "metadata": {},
   "outputs": [],
   "source": [
    "# make a Boolean Series based on the median HDI\n",
    "full_df_2000_gtr_than_median_HDI_bool = full_df_2000['Human Development Index'] > full_df_2000['Human Development Index'].median()\n",
    "\n",
    "full_df_2000_gtr_than_median_HDI_bool"
   ]
  },
  {
   "cell_type": "markdown",
   "id": "f60ce088",
   "metadata": {},
   "source": [
    "We can use this filter, and the `.plot()` method, to inspect the trend either side of the median HDI:"
   ]
  },
  {
   "cell_type": "code",
   "execution_count": null,
   "id": "5e430df6",
   "metadata": {},
   "outputs": [],
   "source": [
    "# plot countries with above median HDI\n",
    "full_df_2000[full_df_2000_gtr_than_median_HDI_bool].plot(x='Human Development Index',\n",
    "                                                          y='Fertility Rate',\n",
    "                                                          kind='scatter')"
   ]
  },
  {
   "cell_type": "code",
   "execution_count": null,
   "id": "9e4ccbe3",
   "metadata": {},
   "outputs": [],
   "source": [
    "# plot countries with below median HDI\n",
    "full_df_2000[~full_df_2000_gtr_than_median_HDI_bool].plot(x='Human Development Index',\n",
    "                                                          y='Fertility Rate',\n",
    "                                                          kind='scatter')"
   ]
  },
  {
   "cell_type": "markdown",
   "id": "c3e2909f",
   "metadata": {},
   "source": [
    "We can see graphically that the trends differ either side of the median, in a way that is clearer than looking at the full data on one plot. \n",
    "\n",
    "We can also use the same filtering procedure to view statistics on the subsets of countries either side of the median HDI:"
   ]
  },
  {
   "cell_type": "code",
   "execution_count": null,
   "id": "32adf0b5",
   "metadata": {},
   "outputs": [],
   "source": [
    "# `.describe()` stats for `Fertility Rate` from countries above the median HDI\n",
    "full_df_2000[full_df_2000_gtr_than_median_HDI_bool]['Fertility Rate'].describe()"
   ]
  },
  {
   "cell_type": "code",
   "execution_count": null,
   "id": "d0df6253",
   "metadata": {},
   "outputs": [],
   "source": [
    "# `.describe()` stats for `Fertility Rate` from countries below the median HDI (again, note the `~` operator)\n",
    "full_df_2000[~full_df_2000_gtr_than_median_HDI_bool]['Fertility Rate'].describe()"
   ]
  },
  {
   "cell_type": "markdown",
   "id": "79aa5256",
   "metadata": {},
   "source": [
    "## Summary\n",
    "\n",
    "This page has looked at the similarities/differences in filtering data with collections of Booleans in Numpy and Pandas."
   ]
  }
 ],
 "metadata": {
  "jupytext": {
   "formats": "ipynb,Rmd"
  },
  "kernelspec": {
   "display_name": "Python (Pyodide)",
   "name": "python"
  }
 },
 "nbformat": 4,
 "nbformat_minor": 5
}
