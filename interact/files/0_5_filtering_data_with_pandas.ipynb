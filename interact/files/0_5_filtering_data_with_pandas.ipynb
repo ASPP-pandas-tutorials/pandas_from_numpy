{
 "cells": [
  {
   "cell_type": "markdown",
   "id": "876fda77",
   "metadata": {},
   "source": [
    "# Filtering Data Frames with Boolean Series\n",
    "\n",
    "<!---\n",
    "📝 NOTE: from meeting with Matthew: Boolean series (and matching of row labels there) e.g. Boolean array will operate like iloc, Boolean Series will match row labels.\n",
    "\n",
    "Add a separate page for Boolean indexing in a sensible place (build with numpy first first then show with Series) - show that order doesn't matter e.g. Booleans are matched by label not by position. Show this error:\n",
    "\n",
    "```\n",
    "import pandas as pd\n",
    "df = pd.read_csv('birth_weights.csv')\n",
    "df.head()\n",
    "female_mf = df['sex'] == 2\n",
    "female_mf.head()\n",
    "df2 = df.sort_values('sex')\n",
    "df2\n",
    "df2[female_mf].describe()\n",
    "df[female_mf].describe()\n",
    "df.loc[female_mf]\n",
    "df.iloc[female_mf]\n",
    "```\n",
    "\n",
    "Covered on this page:\n",
    "\n",
    "* filtering (ex: df[df['age'] > 30])\n",
    "* Boolean indexing, with Boolean series (and matching of row labels there); range indexing on labels (inclusive of last element)\n",
    "\n",
    "Structure of this page:\n",
    "\n",
    "* show Boolean arrays and boolean filtering of arrays\n",
    "\n",
    "* build a Series, show Boolean series and filtering Series with Boolean arrays/series\n",
    "\n",
    "* show Boolean filtering with DataFrames\n",
    "-->\n",
    "\n",
    "Once we have got our data into a Pandas Data Frame, no doubt we will want to filter and select specific portions of it for visualisation and analysis. \n",
    "\n",
    "On this page we will look at different methods of filtering. As on previous pages, we will focus on how Pandas is built from Numpy, and assess the similarities and differences in how filtering works on objects from both libraries."
   ]
  },
  {
   "cell_type": "markdown",
   "id": "07f9f008",
   "metadata": {},
   "source": [
    "## Pandas from Numpy, once more\n",
    "\n",
    "To explore filtering, let's create some Numpy arrays, containing the [HDI data](https://ourworldindata.org/grapher/children-per-woman-vs-human-development-index):"
   ]
  },
  {
   "cell_type": "code",
   "execution_count": null,
   "id": "aa755da1",
   "metadata": {},
   "outputs": [],
   "source": [
    "# Import libraries for this page\n",
    "import numpy as np\n",
    "import pandas as pd"
   ]
  },
  {
   "cell_type": "markdown",
   "id": "86d1dd0a",
   "metadata": {},
   "source": [
    "We build the constituent arrays:"
   ]
  },
  {
   "cell_type": "code",
   "execution_count": null,
   "id": "4a8279e6",
   "metadata": {},
   "outputs": [],
   "source": [
    "# Standard three-letter code for each country\n",
    "country_codes_array = np.array(['AUS', 'BRA', 'CAN',\n",
    "                                'CHN', 'DEU', 'ESP',\n",
    "                                'FRA', 'GBR', 'IND',\n",
    "                                'ITA', 'JPN', 'KOR',\n",
    "                                'MEX', 'RUS', 'USA'])\n",
    "country_codes_array"
   ]
  },
  {
   "cell_type": "code",
   "execution_count": null,
   "id": "c65ff13e",
   "metadata": {},
   "outputs": [],
   "source": [
    "# Human Development Index Scores for each country\n",
    "hdis_array = np.array([0.896, 0.668, 0.89,\n",
    "                       0.586, 0.89,  0.828,\n",
    "                       0.844, 0.863, 0.49,\n",
    "                       0.842, 0.883, 0.824,\n",
    "                       0.709, 0.733, 0.894])\n",
    "hdis_array"
   ]
  },
  {
   "cell_type": "markdown",
   "id": "8f598621",
   "metadata": {},
   "source": [
    "Let's say we want to view HDI values that are bigger than the median HDI\n",
    "value.\n",
    "\n",
    "First, we can calculate the median, using the `np.median()` function:"
   ]
  },
  {
   "cell_type": "code",
   "execution_count": null,
   "id": "fdcd3aca",
   "metadata": {},
   "outputs": [],
   "source": [
    "# Get the median HDI\n",
    "np.median(hdis_array)"
   ]
  },
  {
   "cell_type": "markdown",
   "id": "4b424414",
   "metadata": {},
   "source": [
    "Next, we can create a *Boolean array* by using a comparison operator.\n",
    "\n",
    "In this case `>` is the operator we want, with the `hdis_array` on the left hand side, and the median value of the array on the right hand side:"
   ]
  },
  {
   "cell_type": "code",
   "execution_count": null,
   "id": "e7522be3",
   "metadata": {},
   "outputs": [],
   "source": [
    "# Create a Boolean array\n",
    "hdis_array_grtr_median_bool = hdis_array > np.median(hdis_array)\n",
    "hdis_array_grtr_median_bool"
   ]
  },
  {
   "cell_type": "markdown",
   "id": "4d649166",
   "metadata": {},
   "source": [
    "The array in the output of the cell above is the same length as the\n",
    "`hdis_array` and it contains `True` value where the element in `hdis_array` is\n",
    "larger than the median HDI score (and `False` values otherwise)."
   ]
  },
  {
   "cell_type": "markdown",
   "id": "6f744022",
   "metadata": {},
   "source": [
    "Our Boolean array can now be used to retrieve elements of the `hdis_array` that are greater than the median HDI value. We just place our filter in between square brackets used to index the array. The `True` values act as \"on switches\" (keeping that element in the output array) and the `False` values act as \"off switches\" (removing that element from the output array):"
   ]
  },
  {
   "cell_type": "code",
   "execution_count": null,
   "id": "0baf1c00",
   "metadata": {},
   "outputs": [],
   "source": [
    "# Filter the `hdis_array`\n",
    "# Notice that this is direct indexing.\n",
    "hdis_array[hdis_array_grtr_median_bool]"
   ]
  },
  {
   "cell_type": "markdown",
   "id": "6a246186",
   "metadata": {},
   "source": [
    "If we're particularly neurotic, we can use the `np.all` function that this operation has, in fact, only returned elements greater than the median:"
   ]
  },
  {
   "cell_type": "code",
   "execution_count": null,
   "id": "5ace895d",
   "metadata": {},
   "outputs": [],
   "source": [
    "# Check that all remaining values are in fact above the median.\n",
    "np.all(hdis_array[hdis_array_grtr_median_bool] > np.median(hdis_array))"
   ]
  },
  {
   "cell_type": "markdown",
   "id": "fa653fc1",
   "metadata": {},
   "source": [
    "Because Python and Numpy treat `True` values as being equal to 1 and `False` values as being equal to 0, taking the sum of a Boolean array calculates the number of True values in the array:"
   ]
  },
  {
   "cell_type": "code",
   "execution_count": null,
   "id": "4cb7b81c",
   "metadata": {},
   "outputs": [],
   "source": [
    "n_trues = np.sum(hdis_array_grtr_median_bool)\n",
    "n_trues"
   ]
  },
  {
   "cell_type": "markdown",
   "id": "a31afbbb",
   "metadata": {},
   "source": [
    "If we divide by the number of elements in the Boolean array, we have proportion of elements that are True:"
   ]
  },
  {
   "cell_type": "code",
   "execution_count": null,
   "id": "b92834c0",
   "metadata": {},
   "outputs": [],
   "source": [
    "n_trues / len(hdis_array_grtr_median_bool)"
   ]
  },
  {
   "cell_type": "markdown",
   "id": "1a8594e5",
   "metadata": {},
   "source": [
    "We do the same calculation with `np.mean()`.  `np.mean` on a Boolean array is a good way to count the proportion of `True` values. In our case it is fairly close to 0.5, as we might expect, because we are compared to the median"
   ]
  },
  {
   "cell_type": "code",
   "execution_count": null,
   "id": "26e127e7",
   "metadata": {},
   "outputs": [],
   "source": [
    "# Count the proportion of `True` values\n",
    "np.mean(hdis_array_grtr_median_bool)"
   ]
  },
  {
   "cell_type": "markdown",
   "id": "618ce48b",
   "metadata": {},
   "source": [
    "This can be very useful when counting the proportion of participants or observations with a particular categorical feature (proportion of males/females, proportion of democratic countries etc).\n",
    "\n",
    "We can also, if we wish, turn our Boolean array into a Boolean *Series* using the `pd.Series()` constructor.\n",
    "\n",
    "The Series can benefit from an `.index`. In the present context, when we put the three-letter country codes as the `index`, we can keep track of the country that each filtered value corresponds to.\n",
    "\n",
    "Let's create a Boolean Series:"
   ]
  },
  {
   "cell_type": "code",
   "execution_count": null,
   "id": "8c2df8c3",
   "metadata": {},
   "outputs": [],
   "source": [
    "# Make a Boolean Series from the Boolean array.\n",
    "hdis_array_bool_series = pd.Series(hdis_array_grtr_median_bool, \n",
    "                                   index=country_codes_array)\n",
    "hdis_array_bool_series"
   ]
  },
  {
   "cell_type": "markdown",
   "id": "ea28da0b",
   "metadata": {},
   "source": [
    "Even better, let's manually specify the `.name` attribute - to make it clearer\n",
    "down the line what the `True` and `False` values mean — i.e. whether each\n",
    "country has a higher-than-median HDI score:"
   ]
  },
  {
   "cell_type": "code",
   "execution_count": null,
   "id": "0a8f33fb",
   "metadata": {},
   "outputs": [],
   "source": [
    "# Set the `.name` attribute.\n",
    "hdis_array_bool_series.name = 'hdi_grtr_thn_median'\n",
    "hdis_array_bool_series"
   ]
  },
  {
   "cell_type": "markdown",
   "id": "487ec8e4",
   "metadata": {},
   "source": [
    "This has advantages over the Numpy Boolean array in terms of interpretability: it is less easy to forget the meaning of what is in the `values` component of the Series!\n",
    "\n",
    "We also have access to all of the Pandas Series methods:"
   ]
  },
  {
   "cell_type": "code",
   "execution_count": null,
   "id": "711c5e19",
   "metadata": {},
   "outputs": [],
   "source": [
    "# Max (True counts as 1).\n",
    "hdis_array_bool_series.max()"
   ]
  },
  {
   "cell_type": "code",
   "execution_count": null,
   "id": "267e771e",
   "metadata": {},
   "outputs": [],
   "source": [
    "# Min (False counts as 1).\n",
    "hdis_array_bool_series.min()"
   ]
  },
  {
   "cell_type": "code",
   "execution_count": null,
   "id": "61acac8e",
   "metadata": {},
   "outputs": [],
   "source": [
    "# Number of True values.\n",
    "hdis_array_bool_series.sum()"
   ]
  },
  {
   "cell_type": "code",
   "execution_count": null,
   "id": "b13f9044",
   "metadata": {},
   "outputs": [],
   "source": [
    "# Mean (returns the proportion of `True` values)\n",
    "hdis_array_bool_series.mean()"
   ]
  },
  {
   "cell_type": "markdown",
   "id": "e4e59e4b",
   "metadata": {},
   "source": [
    "Boolean Series are particularly useful for filtering Series and Data Frames."
   ]
  },
  {
   "cell_type": "markdown",
   "id": "5f9b7bc2",
   "metadata": {},
   "source": [
    "## Filtering in Pandas\n",
    "\n",
    "You know by now that *Data Frames are a dictionary-like collection of Series*.\n",
    "\n",
    "Because Series are built (in part) from Numpy arrays, filtering the Data Frame works very much like filtering with Boolean Numpy arrays and Pandas Series.\n",
    "\n",
    "As with Series, the real advantage comes in having a shared index, as it keeps the filtering process highly interpretable and makes it less prone to error.\n",
    "\n",
    "To explore further, let's import the HDI data:"
   ]
  },
  {
   "cell_type": "code",
   "execution_count": null,
   "id": "def75887",
   "metadata": {},
   "outputs": [],
   "source": [
    "# Import our dataset\n",
    "df = pd.read_csv(\"data/year_2000_hdi_fert.csv\")\n",
    "# Set the index\n",
    "df = df.set_index(\"Code\")\n",
    "df"
   ]
  },
  {
   "cell_type": "markdown",
   "id": "ff290112",
   "metadata": {},
   "source": [
    "Now, to view the median we can use the `.median()` Series method, rather than calling the `np.median()` function as we did earlier.\n",
    "\n",
    "*NB*: we mentioned on a [previous page](0_2_pandas_dataframes_attributes_methods) that Pandas Series *methods* have parallel behavior to Numpy *functions*, but they generally give better efficiency and readability, as is the case here.  Remember too that they treat NaN values as *missing* rather than *numerically invalid*, so Pandas calculations, unlike Numpy's default calculations, typically drop NaN values."
   ]
  },
  {
   "cell_type": "code",
   "execution_count": null,
   "id": "56520a71",
   "metadata": {},
   "outputs": [],
   "source": [
    "# Get the median HDI\n",
    "df['Human Development Index'].median()"
   ]
  },
  {
   "cell_type": "markdown",
   "id": "6ea641dc",
   "metadata": {},
   "source": [
    "Because Data Frames force all their constituent Series (columns) to share an `index`, creating a Boolean Series has the desirable characteristic of associating a row label with each Boolean.\n",
    "\n",
    "For instance, let's use direct indexing with a column name (`df['Human Development Index']`) to create a Boolean Series which is `True` where the country has a HDI score above the median HDI score: "
   ]
  },
  {
   "cell_type": "code",
   "execution_count": null,
   "id": "875ec6de",
   "metadata": {},
   "outputs": [],
   "source": [
    "# Create a Boolean Series\n",
    "hdi_gt_median = df['Human Development Index'] > df['Human Development Index'].median()\n",
    "hdi_gt_median"
   ]
  },
  {
   "cell_type": "markdown",
   "id": "1dc69fa1",
   "metadata": {},
   "source": [
    "As mentioned above, this is more interpretable that a Numpy array just containing Booleans, with no `index`, because the `index` provides readable labels for the values.\n",
    "\n",
    "Again, to increase interpretabiity, we can assign this Boolean Series a new `name` attribute:"
   ]
  },
  {
   "cell_type": "code",
   "execution_count": null,
   "id": "b4d81e50",
   "metadata": {},
   "outputs": [],
   "source": [
    "# Create a Boolean Series by using a comparison operator on the DataFrame column\n",
    "hdi_gt_median.name = 'HDI_grtr_than_median'\n",
    "hdi_gt_median"
   ]
  },
  {
   "cell_type": "markdown",
   "id": "36928321",
   "metadata": {},
   "source": [
    "We can now use our Boolean Series to filter the whole Data Frame. This let's use this filtering to select those rows corresponding to countries with greater than median HDI scores:"
   ]
  },
  {
   "cell_type": "code",
   "execution_count": null,
   "id": "365c3ebb",
   "metadata": {},
   "outputs": [],
   "source": [
    "# Filter the DataFrame using the Boolean Series we got from using a comparison operator\n",
    "# on the DataFrame column.\n",
    "df[hdi_gt_median]"
   ]
  },
  {
   "cell_type": "markdown",
   "id": "1c6cabdc",
   "metadata": {},
   "source": [
    "This filtering operation was done via a Boolean Series which was created using direct indexing on the Data Frame itself (`df['Human Development Index']`).\n",
    "\n",
    "Earlier, we \"hand built\" a Boolean Series from a Numpy array, another array for the index, and a manually specified `name` attribute. Here is that Series:"
   ]
  },
  {
   "cell_type": "code",
   "execution_count": null,
   "id": "7e13dea0",
   "metadata": {},
   "outputs": [],
   "source": [
    "# Our \"handmade\" Boolean Series.\n",
    "hdis_array_bool_series"
   ]
  },
  {
   "cell_type": "markdown",
   "id": "db54fd0c",
   "metadata": {},
   "source": [
    "This hand-built Series returns the same rows of the Data Frame as Series we got by using only Data Frame columns:"
   ]
  },
  {
   "cell_type": "code",
   "execution_count": null,
   "id": "8e6f7f32",
   "metadata": {},
   "outputs": [],
   "source": [
    "# We can also filter with our \"handmade\" Series.\n",
    "df[hdis_array_bool_series]"
   ]
  },
  {
   "cell_type": "markdown",
   "id": "fc8c57c8",
   "metadata": {},
   "source": [
    "We can use the Boolean Series to create a new Data Frame. This lets us use Pandas' statistical and plotting methods on subsets of the data.\n",
    "\n",
    "For instance, we may want to look for differences between countries *above* the median HDI, and countries *below* the median HDI.\n",
    "\n",
    "We can use our Boolean filter as follows:"
   ]
  },
  {
   "cell_type": "code",
   "execution_count": null,
   "id": "c5245969",
   "metadata": {},
   "outputs": [],
   "source": [
    "# Show countries with greater than median HDI.\n",
    "above_median_HDI = df[hdi_gt_median]\n",
    "above_median_HDI"
   ]
  },
  {
   "cell_type": "markdown",
   "id": "a78542c9",
   "metadata": {},
   "source": [
    "We can \"flip\" the `True` and `False` values in the Boolean using the `~` operator (which we can read as \"NOT\").\n",
    "\n",
    "This is the original Boolean Series:"
   ]
  },
  {
   "cell_type": "code",
   "execution_count": null,
   "id": "acb4c6d2",
   "metadata": {},
   "outputs": [],
   "source": [
    "# Show the Boolean Series\n",
    "hdi_gt_median"
   ]
  },
  {
   "cell_type": "markdown",
   "id": "451a715a",
   "metadata": {},
   "source": [
    "We can reverse each `True` to a `False` and vice versa by placing the `~` symbol in front of the Boolean Series, like this:"
   ]
  },
  {
   "cell_type": "code",
   "execution_count": null,
   "id": "69c1e099",
   "metadata": {},
   "outputs": [],
   "source": [
    "# \"Flip\" the Boolean Series with the \"~\" operator\n",
    "~hdi_gt_median"
   ]
  },
  {
   "cell_type": "markdown",
   "id": "4ab7f484",
   "metadata": {},
   "source": [
    "Let's use this operation (with `~`) to make a new Data Frame containing only the countries scoring *at or below* the median HDI:"
   ]
  },
  {
   "cell_type": "code",
   "execution_count": null,
   "id": "915fb2a5",
   "metadata": {},
   "outputs": [],
   "source": [
    "# Use the `~` operator to show countries at or below median HDI\n",
    "below_median_HDI = df[~hdi_gt_median]\n",
    "below_median_HDI "
   ]
  },
  {
   "cell_type": "markdown",
   "id": "30fa2bd9",
   "metadata": {},
   "source": [
    "Now, on each Data Frame, we can call the `.describe()` method separately, to inspect the differences:"
   ]
  },
  {
   "cell_type": "code",
   "execution_count": null,
   "id": "3030a244",
   "metadata": {},
   "outputs": [],
   "source": [
    "# Use the `.describe()` method with countries above the median HDI.\n",
    "above_median_HDI['Fertility Rate'].describe()"
   ]
  },
  {
   "cell_type": "code",
   "execution_count": null,
   "id": "dc246004",
   "metadata": {},
   "outputs": [],
   "source": [
    "# Use the `.describe()` method with countries at or below the median HDI.\n",
    "below_median_HDI['Fertility Rate'].describe()"
   ]
  },
  {
   "cell_type": "markdown",
   "id": "23effd33",
   "metadata": {},
   "source": [
    "**Start of exercise**\n",
    "\n",
    "For a country to be at \"replacement rate\" - e.g. the rate at which the population will remain constant, rather than increase or decrease - the `Fertility Rate` must be above [2.1](https://ourworldindata.org/data-insights/which-countries-have-fertility-rates-above-or-below-the-replacement-level). \n",
    "\n",
    "Your task is to use a Boolean Series to calculate the proportion of countries in `df` which are below the 2.1 replacement rate.\n",
    "\n",
    "Try to do this in as few lines as code as possible, using Pandas methods rather than functions from other libraries..."
   ]
  },
  {
   "cell_type": "code",
   "execution_count": null,
   "id": "d915e877",
   "metadata": {},
   "outputs": [],
   "source": [
    "# Your code here"
   ]
  },
  {
   "cell_type": "markdown",
   "id": "720a3203",
   "metadata": {},
   "source": [
    "**End of exercise**"
   ]
  },
  {
   "cell_type": "markdown",
   "id": "795b7a32",
   "metadata": {},
   "source": [
    "**See the [corresponding page](/pandas_from_numpy/0_5_filtering_data_with_pandas.html) for solution**\n",
    "\n",
    "## Cleaning, summarizing and plotting data with Boolean Indexing\n",
    "\n",
    "Remember, the data we have looked at on this page so far is just a fraction of the countries in the full HDI dataset. Let's import the full dataset, so we can use Boolean filtering to graphically inspect trends for countries above and below the median HDI. We will look at the data from all of the countries, but just for the year 2000, to keep the plot interpretable. \n",
    "\n",
    "We'll also use multiple methods from the [Pandas methods](0_2_pandas_dataframes_attributes_methods.Rmd) page, to get the full data ready to generate these plots.\n",
    "\n",
    "First, let's import the data:"
   ]
  },
  {
   "cell_type": "code",
   "execution_count": null,
   "id": "2b6e9b55",
   "metadata": {},
   "outputs": [],
   "source": [
    "# Import the full dataset.\n",
    "full_df = pd.read_csv('data/children-per-woman-vs-human-development-index.csv')\n",
    "full_df"
   ]
  },
  {
   "cell_type": "markdown",
   "id": "6e5de80f",
   "metadata": {},
   "source": [
    "This data is in *long format* - each row is an observation of one country, but each country appears in multiple rows. So, there are repeated observations from the same countries. If you look at the last few rows, you'll see repeated observations on Zimbabwe, over multiple years.\n",
    "\n",
    "You'll also notice (an unfortunate commonality of many real datasets) that the full data contains many NaN values (we'll deal with some of these shortly).\n",
    "\n",
    "As mentioned above, we will look at data from the year 2000, but using the full complement of countries. This will keep the plots interpretable. \n",
    "\n",
    "We can use Boolean filtering to strip the Data Frame down to just observations from the year 2000:"
   ]
  },
  {
   "cell_type": "code",
   "execution_count": null,
   "id": "1b6bbfca",
   "metadata": {},
   "outputs": [],
   "source": [
    "# Filter out all years apart from the year 2000\n",
    "is_yr_2000 = full_df['Year'] == 2000  # Boolean Series.\n",
    "full_df_2000 = full_df[is_yr_2000]  # Filter by indexing with Series.\n",
    "full_df_2000"
   ]
  },
  {
   "cell_type": "markdown",
   "id": "69c3cfb7",
   "metadata": {},
   "source": [
    "You can see that after this operation, the index labels (integer derived from the default `RangeIndex`) no longer correspond to row positions; there are 277 rows, but the largest row label is 59700.\n",
    "\n",
    "Let's make a more usable index, but setting the `index` to be the three-letter country codes in the `Code` column:"
   ]
  },
  {
   "cell_type": "code",
   "execution_count": null,
   "id": "2f9d0e84",
   "metadata": {},
   "outputs": [],
   "source": [
    "# Set the index\n",
    "full_df_2000 = full_df_2000.set_index('Code')\n",
    "full_df_2000"
   ]
  },
  {
   "cell_type": "markdown",
   "id": "184185f9",
   "metadata": {},
   "source": [
    "You might notice that now we have `NaN` values in the index. We don't want this, so let's remove those observations.\n",
    "\n",
    "We can again do this via Boolean filtering:\n",
    "\n",
    "*NB:* the `~` operator, we are asking for rows with index labels that are NOT NaN..."
   ]
  },
  {
   "cell_type": "code",
   "execution_count": null,
   "id": "007016d6",
   "metadata": {},
   "outputs": [],
   "source": [
    "# Create a Boolean Series from the Index using the `.isna()` method.\n",
    "rows_are_na = full_df_2000.index.isna()\n",
    "rows_are_na"
   ]
  },
  {
   "cell_type": "code",
   "execution_count": null,
   "id": "7556d1ea",
   "metadata": {},
   "outputs": [],
   "source": [
    "# Remove NaN labeled rows by indexing with Boolean series.\n",
    "full_df_2000 = full_df_2000[~rows_are_na]\n",
    "full_df_2000"
   ]
  },
  {
   "cell_type": "markdown",
   "id": "aa8e1198",
   "metadata": {},
   "source": [
    "Let's inspect the index, to see what countries are left after removing the NaN values:"
   ]
  },
  {
   "cell_type": "code",
   "execution_count": null,
   "id": "f7459cbd",
   "metadata": {},
   "outputs": [],
   "source": [
    "# Inspect the remaining values in the Index\n",
    "list(full_df_2000.index)"
   ]
  },
  {
   "cell_type": "markdown",
   "id": "76b47122",
   "metadata": {},
   "source": [
    "If you scroll down this list, you can see that we have some rows that *maybe* do not correspond to countries (`OWID_WRL`, `OWID_KOS`, `OWID_SRM`).\n",
    "\n",
    "Let's inspect these rows:"
   ]
  },
  {
   "cell_type": "code",
   "execution_count": null,
   "id": "5803ea57",
   "metadata": {},
   "outputs": [],
   "source": [
    "# Inspect rows with non-standard codes.\n",
    "# Use direct indexing with list of column names to select columns.\n",
    "full_df_2000.loc[['OWID_WRL', 'OWID_KOS', 'OWID_SRM']]"
   ]
  },
  {
   "cell_type": "markdown",
   "id": "67141d84",
   "metadata": {},
   "source": [
    "Ok, so we probably want to keep `Kosovo` and `Serbia and Montenegro`, but will drop the row with the data for the whole world.\n",
    "\n",
    "We can use the `.drop()` method, with the `labels=` argument to tell Pandas to drop the row with the `'OWID_WRL'` label:"
   ]
  },
  {
   "cell_type": "code",
   "execution_count": null,
   "id": "d992ecf4",
   "metadata": {},
   "outputs": [],
   "source": [
    "# Remove junk row with the `.drop()` method.\n",
    "full_df_2000 = full_df_2000.drop(labels=['OWID_WRL'])\n",
    "full_df_2000"
   ]
  },
  {
   "cell_type": "markdown",
   "id": "a28eacdc",
   "metadata": {},
   "source": [
    "We now have a clean Data Frame. Let's plot HDI against fertility rate, to graphically inspect the trend:"
   ]
  },
  {
   "cell_type": "code",
   "execution_count": null,
   "id": "9ab37fa7",
   "metadata": {},
   "outputs": [],
   "source": [
    "# Plot the data\n",
    "full_df_2000.plot(x='Human Development Index',\n",
    "                  y='Fertility Rate',\n",
    "                  kind='scatter')"
   ]
  },
  {
   "cell_type": "markdown",
   "id": "8024e236",
   "metadata": {},
   "source": [
    "To plot the trend either side of the HDI median, let's create a Boolean Series based on the median HDI value.\n",
    "\n",
    "This Series is `True` where the country has a greater than median HDI score, and `False` otherwise:"
   ]
  },
  {
   "cell_type": "code",
   "execution_count": null,
   "id": "905478c4",
   "metadata": {},
   "outputs": [],
   "source": [
    "# Make a Boolean Series based on the median HDI\n",
    "hdi_median = full_df_2000['Human Development Index'].median()\n",
    "full_df_2000_gtr_than_median_HDI = full_df_2000['Human Development Index'] > hdi_median\n",
    "full_df_2000_gtr_than_median_HDI"
   ]
  },
  {
   "cell_type": "markdown",
   "id": "caa8661c",
   "metadata": {},
   "source": [
    "We can use this filter, and the `.plot()` method, to inspect the trend either side of the median HDI - (again, to get the values from the *opposite* side of the median, we can use the `~` operator):"
   ]
  },
  {
   "cell_type": "code",
   "execution_count": null,
   "id": "baa6a061",
   "metadata": {},
   "outputs": [],
   "source": [
    "# Plot countries above median HDI.\n",
    "full_df_2000[full_df_2000_gtr_than_median_HDI].plot(x='Human Development Index',\n",
    "                                                    y='Fertility Rate',\n",
    "                                                    kind='scatter');"
   ]
  },
  {
   "cell_type": "code",
   "execution_count": null,
   "id": "7dad1925",
   "metadata": {},
   "outputs": [],
   "source": [
    "# Plot countries at or below median HDI.\n",
    "full_df_2000[~full_df_2000_gtr_than_median_HDI].plot(x='Human Development Index',\n",
    "                                                     y='Fertility Rate',\n",
    "                                                     kind='scatter');"
   ]
  },
  {
   "cell_type": "markdown",
   "id": "97fd87ac",
   "metadata": {},
   "source": [
    "We can see graphically that the trends differ either side of the median, in a way that is clearer than looking at the full data on one plot. \n",
    "\n",
    "We can also use the same filtering procedure to view statistics on the subsets of countries either side of the median HDI:"
   ]
  },
  {
   "cell_type": "code",
   "execution_count": null,
   "id": "14ca6bc6",
   "metadata": {},
   "outputs": [],
   "source": [
    "# Getting `.describe()` stats for `Fertility Rate` from countries above the median HDI.\n",
    "full_df_2000[full_df_2000_gtr_than_median_HDI]['Fertility Rate'].describe()"
   ]
  },
  {
   "cell_type": "code",
   "execution_count": null,
   "id": "0e1b03b8",
   "metadata": {},
   "outputs": [],
   "source": [
    "# Getting `.describe()` stats for `Fertility Rate` from countries below the median HDI (again, note the `~` operator)\n",
    "full_df_2000[~full_df_2000_gtr_than_median_HDI]['Fertility Rate'].describe()"
   ]
  },
  {
   "cell_type": "markdown",
   "id": "d56b4344",
   "metadata": {},
   "source": [
    "**Start of exercise**\n",
    "\n",
    "Let's say we are interested in whether `Population` is associated with `Human Development Index`. We might inspect a scatter plot of the two variables, to visually inspect for a trend. However, there may be a problem:\n",
    "\n",
    "![](images/big_pop_plot.png)"
   ]
  },
  {
   "cell_type": "markdown",
   "id": "416727b9",
   "metadata": {},
   "source": [
    "The countries with huge populations are outliers which extend the x-axis far to the right, whilst most countries remain compressed near the far left of the x-axis. The pattern looks consistent with a random association, but perhaps there is a trend that is hard to see, in the presence of these extreme outliers?\n",
    "\n",
    "Your task is to use Boolean filtering to \"trim\" out observations *above* the [25% percentile](https://en.wikipedia.org/wiki/Percentile) of the `Population` scores. You should then create a scatter plot with `Population` on the x-axis, and `Human Development Index` on the y-axis, from the trimmed data. This will allow you to inspect the trend of the cluster of countries with smaller populations.\n",
    "\n",
    "You should try to do this in one or two lines of code, and using Pandas methods only."
   ]
  },
  {
   "cell_type": "code",
   "execution_count": null,
   "id": "9d938a87",
   "metadata": {},
   "outputs": [],
   "source": [
    "# Your code here"
   ]
  },
  {
   "cell_type": "markdown",
   "id": "3b3087e8",
   "metadata": {},
   "source": [
    "**End of exercise**"
   ]
  },
  {
   "cell_type": "markdown",
   "id": "d609eebc",
   "metadata": {},
   "source": [
    "**See the [corresponding page](/pandas_from_numpy/0_5_filtering_data_with_pandas.html) for solution**\n",
    "\n",
    "For this exercise, we want you to make the stuff of a data analyst's nightmares: the result of a filtering operation which contains only NaN values, and dashes (`'-'`) elsewhere. \n",
    "\n",
    "Do you remember the `full_df` Dataframe, from before we filtered it down to just rows corresponding to the year 2000?  Here it is:"
   ]
  },
  {
   "cell_type": "code",
   "execution_count": null,
   "id": "5c85fef6",
   "metadata": {},
   "outputs": [],
   "source": [
    "# Show the full Dataframe.\n",
    "full_df"
   ]
  },
  {
   "cell_type": "markdown",
   "id": "32928e9c",
   "metadata": {},
   "source": [
    "This data contains many NaN values. Your task is to use Boolean filtering on this Dataframe, to return a Dataframe that contains:\n",
    "\n",
    "* *only rows where `Fertility Rate` has NaN values...*\n",
    "* ...and contains a dash character (`'-'`) for all other values *that are not NaN* (this should apply across all of the columns). \n",
    "\n",
    "The end product should look like this (and have the same dimensionality as the pictured Dataframe):\n",
    "\n",
    "![](images/nan_army.jpg)\n",
    "\n",
    "You can do this in one line of code, but it may be more readable to use several lines."
   ]
  },
  {
   "cell_type": "code",
   "execution_count": null,
   "id": "783e98e6",
   "metadata": {},
   "outputs": [],
   "source": [
    "# Your code here"
   ]
  },
  {
   "cell_type": "markdown",
   "id": "204a04c6",
   "metadata": {},
   "source": [
    "**End of exercise**"
   ]
  },
  {
   "cell_type": "markdown",
   "id": "520bde87",
   "metadata": {},
   "source": [
    "**See the [corresponding page](/pandas_from_numpy/0_5_filtering_data_with_pandas.html) for solution**\n",
    "\n",
    "## Summary\n",
    "\n",
    "This page has looked at the similarities/differences in filtering data with collections of Booleans in Numpy and Pandas."
   ]
  }
 ],
 "metadata": {
  "jupytext": {
   "formats": "ipynb,Rmd"
  },
  "kernelspec": {
   "display_name": "Python (Pyodide)",
   "name": "python"
  }
 },
 "nbformat": 4,
 "nbformat_minor": 5
}
